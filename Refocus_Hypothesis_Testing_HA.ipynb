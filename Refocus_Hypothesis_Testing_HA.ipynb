{
  "cells": [
    {
      "cell_type": "markdown",
      "metadata": {
        "id": "view-in-github",
        "colab_type": "text"
      },
      "source": [
        "<a href=\"https://colab.research.google.com/github/ChardyBalla/Chardy/blob/main/Refocus_Hypothesis_Testing_HA.ipynb\" target=\"_parent\"><img src=\"https://colab.research.google.com/assets/colab-badge.svg\" alt=\"Open In Colab\"/></a>"
      ]
    },
    {
      "cell_type": "code",
      "execution_count": 1,
      "metadata": {
        "id": "caXlIQy_OVfg",
        "outputId": "a760e283-c1f3-428d-c138-77f96b3c3f3c",
        "colab": {
          "base_uri": "https://localhost:8080/"
        }
      },
      "outputs": [
        {
          "output_type": "stream",
          "name": "stdout",
          "text": [
            "Mounted at /content/drive\n"
          ]
        }
      ],
      "source": [
        "from google.colab import drive\n",
        "drive.mount('/content/drive')"
      ]
    },
    {
      "cell_type": "code",
      "execution_count": 2,
      "metadata": {
        "id": "mkJ6Ae39OZhU"
      },
      "outputs": [],
      "source": [
        "import pandas as pd\n",
        "from scipy.stats import ttest_ind, chisquare\n",
        "from statsmodels.stats.proportion import proportions_ztest"
      ]
    },
    {
      "cell_type": "markdown",
      "metadata": {
        "id": "gd1NRgLEOaxt"
      },
      "source": [
        "## US Health Insurance Dataset [(source)](https://www.kaggle.com/datasets/teertha/ushealthinsurancedataset)\n",
        "\n",
        "This dataset contains 1338 rows of insured data, where the Insurance charges are given against the following attributes of the insured: Age, Sex, BMI, Number of Children, Smoker and Region. There are no missing or undefined values in the dataset.\n",
        "\n",
        "For the following exercises, assume that the data was taken from a random sample of users."
      ]
    },
    {
      "cell_type": "code",
      "execution_count": 3,
      "metadata": {
        "id": "95bJHuBFl2BM",
        "outputId": "7e1af07e-59fa-4b84-da51-0facb826ee16",
        "colab": {
          "base_uri": "https://localhost:8080/",
          "height": 206
        }
      },
      "outputs": [
        {
          "output_type": "execute_result",
          "data": {
            "text/plain": [
              "   age     sex     bmi  children smoker     region      charges\n",
              "0   19  female  27.900         0    yes  southwest  16884.92400\n",
              "1   18    male  33.770         1     no  southeast   1725.55230\n",
              "2   28    male  33.000         3     no  southeast   4449.46200\n",
              "3   33    male  22.705         0     no  northwest  21984.47061\n",
              "4   32    male  28.880         0     no  northwest   3866.85520"
            ],
            "text/html": [
              "\n",
              "  <div id=\"df-79f9737e-ae4d-4182-968d-537c3f19a138\">\n",
              "    <div class=\"colab-df-container\">\n",
              "      <div>\n",
              "<style scoped>\n",
              "    .dataframe tbody tr th:only-of-type {\n",
              "        vertical-align: middle;\n",
              "    }\n",
              "\n",
              "    .dataframe tbody tr th {\n",
              "        vertical-align: top;\n",
              "    }\n",
              "\n",
              "    .dataframe thead th {\n",
              "        text-align: right;\n",
              "    }\n",
              "</style>\n",
              "<table border=\"1\" class=\"dataframe\">\n",
              "  <thead>\n",
              "    <tr style=\"text-align: right;\">\n",
              "      <th></th>\n",
              "      <th>age</th>\n",
              "      <th>sex</th>\n",
              "      <th>bmi</th>\n",
              "      <th>children</th>\n",
              "      <th>smoker</th>\n",
              "      <th>region</th>\n",
              "      <th>charges</th>\n",
              "    </tr>\n",
              "  </thead>\n",
              "  <tbody>\n",
              "    <tr>\n",
              "      <th>0</th>\n",
              "      <td>19</td>\n",
              "      <td>female</td>\n",
              "      <td>27.900</td>\n",
              "      <td>0</td>\n",
              "      <td>yes</td>\n",
              "      <td>southwest</td>\n",
              "      <td>16884.92400</td>\n",
              "    </tr>\n",
              "    <tr>\n",
              "      <th>1</th>\n",
              "      <td>18</td>\n",
              "      <td>male</td>\n",
              "      <td>33.770</td>\n",
              "      <td>1</td>\n",
              "      <td>no</td>\n",
              "      <td>southeast</td>\n",
              "      <td>1725.55230</td>\n",
              "    </tr>\n",
              "    <tr>\n",
              "      <th>2</th>\n",
              "      <td>28</td>\n",
              "      <td>male</td>\n",
              "      <td>33.000</td>\n",
              "      <td>3</td>\n",
              "      <td>no</td>\n",
              "      <td>southeast</td>\n",
              "      <td>4449.46200</td>\n",
              "    </tr>\n",
              "    <tr>\n",
              "      <th>3</th>\n",
              "      <td>33</td>\n",
              "      <td>male</td>\n",
              "      <td>22.705</td>\n",
              "      <td>0</td>\n",
              "      <td>no</td>\n",
              "      <td>northwest</td>\n",
              "      <td>21984.47061</td>\n",
              "    </tr>\n",
              "    <tr>\n",
              "      <th>4</th>\n",
              "      <td>32</td>\n",
              "      <td>male</td>\n",
              "      <td>28.880</td>\n",
              "      <td>0</td>\n",
              "      <td>no</td>\n",
              "      <td>northwest</td>\n",
              "      <td>3866.85520</td>\n",
              "    </tr>\n",
              "  </tbody>\n",
              "</table>\n",
              "</div>\n",
              "      <button class=\"colab-df-convert\" onclick=\"convertToInteractive('df-79f9737e-ae4d-4182-968d-537c3f19a138')\"\n",
              "              title=\"Convert this dataframe to an interactive table.\"\n",
              "              style=\"display:none;\">\n",
              "        \n",
              "  <svg xmlns=\"http://www.w3.org/2000/svg\" height=\"24px\"viewBox=\"0 0 24 24\"\n",
              "       width=\"24px\">\n",
              "    <path d=\"M0 0h24v24H0V0z\" fill=\"none\"/>\n",
              "    <path d=\"M18.56 5.44l.94 2.06.94-2.06 2.06-.94-2.06-.94-.94-2.06-.94 2.06-2.06.94zm-11 1L8.5 8.5l.94-2.06 2.06-.94-2.06-.94L8.5 2.5l-.94 2.06-2.06.94zm10 10l.94 2.06.94-2.06 2.06-.94-2.06-.94-.94-2.06-.94 2.06-2.06.94z\"/><path d=\"M17.41 7.96l-1.37-1.37c-.4-.4-.92-.59-1.43-.59-.52 0-1.04.2-1.43.59L10.3 9.45l-7.72 7.72c-.78.78-.78 2.05 0 2.83L4 21.41c.39.39.9.59 1.41.59.51 0 1.02-.2 1.41-.59l7.78-7.78 2.81-2.81c.8-.78.8-2.07 0-2.86zM5.41 20L4 18.59l7.72-7.72 1.47 1.35L5.41 20z\"/>\n",
              "  </svg>\n",
              "      </button>\n",
              "      \n",
              "  <style>\n",
              "    .colab-df-container {\n",
              "      display:flex;\n",
              "      flex-wrap:wrap;\n",
              "      gap: 12px;\n",
              "    }\n",
              "\n",
              "    .colab-df-convert {\n",
              "      background-color: #E8F0FE;\n",
              "      border: none;\n",
              "      border-radius: 50%;\n",
              "      cursor: pointer;\n",
              "      display: none;\n",
              "      fill: #1967D2;\n",
              "      height: 32px;\n",
              "      padding: 0 0 0 0;\n",
              "      width: 32px;\n",
              "    }\n",
              "\n",
              "    .colab-df-convert:hover {\n",
              "      background-color: #E2EBFA;\n",
              "      box-shadow: 0px 1px 2px rgba(60, 64, 67, 0.3), 0px 1px 3px 1px rgba(60, 64, 67, 0.15);\n",
              "      fill: #174EA6;\n",
              "    }\n",
              "\n",
              "    [theme=dark] .colab-df-convert {\n",
              "      background-color: #3B4455;\n",
              "      fill: #D2E3FC;\n",
              "    }\n",
              "\n",
              "    [theme=dark] .colab-df-convert:hover {\n",
              "      background-color: #434B5C;\n",
              "      box-shadow: 0px 1px 3px 1px rgba(0, 0, 0, 0.15);\n",
              "      filter: drop-shadow(0px 1px 2px rgba(0, 0, 0, 0.3));\n",
              "      fill: #FFFFFF;\n",
              "    }\n",
              "  </style>\n",
              "\n",
              "      <script>\n",
              "        const buttonEl =\n",
              "          document.querySelector('#df-79f9737e-ae4d-4182-968d-537c3f19a138 button.colab-df-convert');\n",
              "        buttonEl.style.display =\n",
              "          google.colab.kernel.accessAllowed ? 'block' : 'none';\n",
              "\n",
              "        async function convertToInteractive(key) {\n",
              "          const element = document.querySelector('#df-79f9737e-ae4d-4182-968d-537c3f19a138');\n",
              "          const dataTable =\n",
              "            await google.colab.kernel.invokeFunction('convertToInteractive',\n",
              "                                                     [key], {});\n",
              "          if (!dataTable) return;\n",
              "\n",
              "          const docLinkHtml = 'Like what you see? Visit the ' +\n",
              "            '<a target=\"_blank\" href=https://colab.research.google.com/notebooks/data_table.ipynb>data table notebook</a>'\n",
              "            + ' to learn more about interactive tables.';\n",
              "          element.innerHTML = '';\n",
              "          dataTable['output_type'] = 'display_data';\n",
              "          await google.colab.output.renderOutput(dataTable, element);\n",
              "          const docLink = document.createElement('div');\n",
              "          docLink.innerHTML = docLinkHtml;\n",
              "          element.appendChild(docLink);\n",
              "        }\n",
              "      </script>\n",
              "    </div>\n",
              "  </div>\n",
              "  "
            ]
          },
          "metadata": {},
          "execution_count": 3
        }
      ],
      "source": [
        "df = pd.read_csv('/content/drive/MyDrive/Refocus Module/Jupyter Notebook-20230501T012835Z-001/Jupyter Notebook/datasets/insurance.csv')\n",
        "df.head()"
      ]
    },
    {
      "cell_type": "markdown",
      "metadata": {
        "id": "x6jd3DnEoon3"
      },
      "source": [
        "### The solutions for the following problems have already been laid out for you. Fill in the missing values to produce the correct answer, or if you prefer, write your own code from scratch."
      ]
    },
    {
      "cell_type": "markdown",
      "metadata": {
        "id": "0MUe1U6mDH9V"
      },
      "source": [
        "## Problem 1: Using the US Health Insurance Dataset, Test if the insurance charges are different for males vs. females.\n",
        "\n",
        "1. Define the Null and Alternative Hypothesis\n",
        "1. Implement the applicable hypothesis test and calculate the p-values\n",
        "1. What is the conclusion at an alpha of 0.05?\n"
      ]
    },
    {
      "cell_type": "code",
      "execution_count": null,
      "metadata": {
        "id": "5_yUeLaWHDbV"
      },
      "outputs": [],
      "source": [
        "\"\"\"\n",
        "Null Hypothesis: _________________________________________________\n",
        "Alternative Hypothesis: __________________________________________________\n",
        "\"\"\"\n",
        "\n",
        "male_charges = df.loc[df._______==________, 'charges']\n",
        "female_charges = df.loc[df._______==_________, 'charges']\n",
        "\n",
        "alpha = ____________\n",
        "\n",
        "t_stat, p_val = __________(male_charges, female_charges, alternative=_________)    # test statistics and p_value\n",
        "print ('Test statistic: ', t_stat)\n",
        "print ('p-value: ', p_val)\n",
        "\n",
        "if p_val ____ alpha:    # greater than, less than, etc.?\n",
        "    print (f'Reject the Null Hypothesis (alpha = {alpha}).')\n",
        "else:\n",
        "    print (f'Fail to Reject the Null Hypothesis (alpha = {alpha}).')"
      ]
    },
    {
      "cell_type": "markdown",
      "source": [
        "$H_0$: The mean charges for males and females are = Equal\n",
        "\n",
        "$H_A$: The mean charges for males and females are = not Equal"
      ],
      "metadata": {
        "id": "f0tdB1jefAjQ"
      }
    },
    {
      "cell_type": "code",
      "source": [
        "\"\"\"\n",
        "Null Hypothesis: The mean charges for males and females are equal.\n",
        "Alternative Hypothesis: The mean charges for males and females are not equal.\n",
        "\"\"\"\n",
        "male_charges = df.loc[df['sex'] == 'male', 'charges']\n",
        "female_charges = df.loc[df['sex'] == 'female', 'charges']\n",
        "\n",
        "alpha = 0.05\n",
        "\n",
        "t_stat, p_val = ttest_ind(male_charges, female_charges, alternative='two-sided')\n",
        "\n",
        "print('Test statistic:', t_stat)\n",
        "print('p-value:', p_val)\n",
        "\n",
        "if p_val < alpha:\n",
        "    print(f'Reject the Null Hypothesis (alpha = {alpha}).')\n",
        "else:\n",
        "    print(f'Fail to Reject the Null Hypothesis (alpha = {alpha}).')\n"
      ],
      "metadata": {
        "id": "SjGFesedS31y",
        "outputId": "e08c6717-0789-41cf-9dd0-d0352a822e58",
        "colab": {
          "base_uri": "https://localhost:8080/"
        }
      },
      "execution_count": 21,
      "outputs": [
        {
          "output_type": "stream",
          "name": "stdout",
          "text": [
            "Test statistic: 2.097546590051688\n",
            "p-value: 0.03613272100592976\n",
            "Reject the Null Hypothesis (alpha = 0.05).\n"
          ]
        }
      ]
    },
    {
      "cell_type": "markdown",
      "metadata": {
        "id": "nHxssXZULEh5"
      },
      "source": [
        "## Problem 2: Test if the insurance charges are higher for those with children.\n",
        "\n",
        "1. Define the Null and Alternative Hypothesis\n",
        "1. Implement the applicable hypothesis test and calculate the p-values\n",
        "1. What is the conclusion at an alpha of 0.05?\n"
      ]
    },
    {
      "cell_type": "code",
      "execution_count": null,
      "metadata": {
        "id": "I4Bh31h3LjxD"
      },
      "outputs": [],
      "source": [
        "\"\"\"\n",
        "Null Hypothesis: ______________________________________________\n",
        "Alternative Hypothesis: ______________________________________________\n",
        "\"\"\"\n",
        "\n",
        "no_child = df.loc[___________________________, 'charges']\n",
        "with_child = df.loc[_____________________________, 'charges']\n",
        "\n",
        "alpha = __________\n",
        "\n",
        "t_stat, p_val = ________(no_child, with_child, alternative=________)    # get t-stat and p-value\n",
        "print ('Test statistic: ', t_stat)\n",
        "print ('p-value: ', p_val)\n",
        "\n",
        "if p_val ___ alpha:\n",
        "    print (f'Reject the Null Hypothesis (alpha = {alpha}).')\n",
        "else:\n",
        "    print (f'Fail to Reject the Null Hypothesis (alpha = {alpha}).')"
      ]
    },
    {
      "cell_type": "markdown",
      "source": [
        "$H_0$: There is no difference in insurance charges between individuals with and without \"0\" children.\n",
        "\n",
        "$H_A$: Insurance charges are higher \">\" for individuals with children compared to those without \"0\" children."
      ],
      "metadata": {
        "id": "9oGvkEmtgGQo"
      }
    },
    {
      "cell_type": "code",
      "source": [
        "\"\"\"\n",
        "Null Hypothesis: There is no difference in insurance charges between individuals with and without children.\n",
        "Alternative Hypothesis: Insurance charges are higher for individuals with children compared to those without children.\n",
        "\"\"\"\n",
        "\n",
        "no_child = df.loc[df['children'] == 0, 'charges']\n",
        "with_child = df.loc[df['children'] > 0, 'charges']\n",
        "\n",
        "alpha = 0.05\n",
        "\n",
        "t_stat, p_val = ttest_ind(no_child, with_child, alternative='greater')\n",
        "\n",
        "print('Test statistic:', t_stat)\n",
        "print('p-value:', p_val)\n",
        "\n",
        "if p_val < alpha:\n",
        "    print(f'Reject the Null Hypothesis (alpha = {alpha}).')\n",
        "else:\n",
        "    print(f'Fail to Reject the Null Hypothesis (alpha = {alpha}).')\n"
      ],
      "metadata": {
        "id": "Lk6c_0PYTnUY",
        "outputId": "59d466b8-cfb9-4bc3-b839-c2dfd27d5b1a",
        "colab": {
          "base_uri": "https://localhost:8080/"
        }
      },
      "execution_count": 22,
      "outputs": [
        {
          "output_type": "stream",
          "name": "stdout",
          "text": [
            "Test statistic: -2.3720611301669337\n",
            "p-value: 0.9910849126582172\n",
            "Fail to Reject the Null Hypothesis (alpha = 0.05).\n"
          ]
        }
      ]
    },
    {
      "cell_type": "markdown",
      "metadata": {
        "id": "jX2HzXg_IP5h"
      },
      "source": [
        "## Problem 3: Test if the proportion of smokers is more than 20%\n",
        "\n",
        "1. Define the Null and Alternative Hypothesis\n",
        "1. Implement the applicable hypothesis test and calculate the p-values\n",
        "1. What is the conclusion at an alpha of 0.05?"
      ]
    },
    {
      "cell_type": "code",
      "execution_count": null,
      "metadata": {
        "id": "mSGuRA3iJLLN"
      },
      "outputs": [],
      "source": [
        "\"\"\"\n",
        "Null Hypothesis: ______________________________________________\n",
        "Alternative Hypothesis: ______________________________________________\n",
        "\"\"\"\n",
        "\n",
        "smokers = df[_____________________]\n",
        "non_smokers = df[_______________________]\n",
        "\n",
        "alpha = _________\n",
        "\n",
        "# compute for the p-value\n",
        "z_stat, p_val = _________________(count=len(________),\n",
        "                                  nobs=len(_________)+len(___________),\n",
        "                                  value=0.2,\n",
        "                                  alternative=____________)\n",
        "print('p-value:', p_val)\n",
        "\n",
        "if p_val ____ alpha:\n",
        "    print (f'Reject the Null Hypothesis (alpha = {alpha}).')\n",
        "else:\n",
        "    print (f'Fail to Reject the Null Hypothesis (alpha = {alpha}).')"
      ]
    },
    {
      "cell_type": "markdown",
      "source": [
        "$H_0$: The proportion of smokers is = or <  20%\n",
        "\n",
        "$H_A$: The proportion of smokers is > 20%"
      ],
      "metadata": {
        "id": "EhZ5PczYeMIA"
      }
    },
    {
      "cell_type": "code",
      "source": [
        "\"\"\"\n",
        "Null Hypothesis: The proportion of smokers is equal to or less than 20%.\n",
        "Alternative Hypothesis:  The proportion of smokers is greater than 20%.\n",
        "\"\"\"\n",
        "\n",
        "import pandas as pd\n",
        "from statsmodels.stats.proportion import proportions_ztest\n",
        "\n",
        "# Assuming you have already loaded the dataset into the 'df' dataframe\n",
        "\n",
        "smokers = df[df['smoker'] == 'yes']\n",
        "non_smokers = df[df['smoker'] == 'no']\n",
        "\n",
        "alpha = 0.05\n",
        "\n",
        "# Compute the p-value\n",
        "z_stat, p_val = proportions_ztest(count=len(smokers),\n",
        "                                  nobs=len(smokers) + len(non_smokers),\n",
        "                                  value=0.2,\n",
        "                                  alternative='larger')\n",
        "\n",
        "print('p-value:', p_val)\n",
        "\n",
        "if p_val < alpha:\n",
        "    print(f'Reject the Null Hypothesis (alpha = {alpha}).')\n",
        "else:\n",
        "    print(f'Fail to Reject the Null Hypothesis (alpha = {alpha}).')\n"
      ],
      "metadata": {
        "id": "XQPQI6iBanM-",
        "outputId": "9b1c6347-a2c1-464d-e14d-2ce7eda28dcf",
        "colab": {
          "base_uri": "https://localhost:8080/"
        }
      },
      "execution_count": 18,
      "outputs": [
        {
          "output_type": "stream",
          "name": "stdout",
          "text": [
            "p-value: 0.33229937909683\n",
            "Fail to Reject the Null Hypothesis (alpha = 0.05).\n"
          ]
        }
      ]
    },
    {
      "cell_type": "markdown",
      "metadata": {
        "id": "ENOrmUwDLw_8"
      },
      "source": [
        "## Problem 4: Test if the proportion of smokers from each region follows the table below:\n",
        "\n",
        "|           | Non-Smoker | Smoker |\n",
        "|-----------|------------|-----------|\n",
        "| northeast     | 20%        | 5%        |\n",
        "| northwest | 20%        | 5%       |\n",
        "| southeast | 20%        | 5%       |\n",
        "| southwest | 20%        | 5%       |\n",
        "\n",
        "1. Define the Null and Alternative Hypothesis\n",
        "1. Implement the applicable hypothesis test and calculate the p-values\n",
        "1. What is the conclusion at an alpha of 0.05?"
      ]
    },
    {
      "cell_type": "code",
      "execution_count": null,
      "metadata": {
        "id": "tNvblKdqMCDW"
      },
      "outputs": [],
      "source": [
        " \"\"\"\n",
        "Null Hypothesis: __________________________________________________________________\n",
        "Alternative Hypothesis: __________________________________________________________________\n",
        "\"\"\"\n",
        "\n",
        "obs = df.groupby([________, __________]).charges.count()    # smokers per region\n",
        "n_obs = _______(df)    # number of observations\n",
        "\n",
        "f_obs = obs.values\n",
        "f_exp = []    # expected frequencies\n",
        "for exp in [0.2, 0.2, 0.2, 0.2, 0.05, 0.05, 0.05, 0.05]:\n",
        "  f_exp.append(exp*n_obs)\n",
        "\n",
        "alpha = _______\n",
        "\n",
        "chi_sq, p_val = _________(f_obs=f_obs, f_exp=f_exp)\n",
        "print('p-value:', p_val)\n",
        "\n",
        "if p_val _____ alpha:\n",
        "    print (f'Reject the Null Hypothesis (alpha = {alpha}).')\n",
        "else:\n",
        "    print (f'Fail to Reject the Null Hypothesis (alpha = {alpha}).')"
      ]
    },
    {
      "cell_type": "markdown",
      "source": [
        "$H_0$: The proportion of smokers from each region follows the table provided.\n",
        "\n",
        "$H_A$: The proportion of smokers from at least one region does not follow the table provided."
      ],
      "metadata": {
        "id": "VD_RcvIfg5RQ"
      }
    },
    {
      "cell_type": "code",
      "source": [
        " \"\"\"\n",
        "Null Hypothesis: The proportion of smokers from each region follows the table provided.\n",
        "Alternative Hypothesis: The proportion of smokers from at least one region does not follow the table provided.\n",
        "\"\"\"\n",
        "\n",
        "\n",
        "obs = df.groupby(['region', 'smoker']).charges.count()\n",
        "n_obs = len(df)\n",
        "\n",
        "f_obs = obs.values\n",
        "f_exp = []\n",
        "for exp in [0.2, 0.2, 0.2, 0.2, 0.05, 0.05, 0.05, 0.05]:\n",
        "  f_exp.append(exp*n_obs)\n",
        "\n",
        "chi_sq, p_val = chisquare(f_obs=obs, f_exp=f_exp)\n",
        "\n",
        "# Set the significance level (alpha)\n",
        "alpha = 0.05\n",
        "\n",
        "print('p-value:', p_val)\n",
        "\n",
        "if p_val < alpha:\n",
        "    print(f'Reject the Null Hypothesis (alpha = {alpha}).')\n",
        "else:\n",
        "    print(f'Fail to Reject the Null Hypothesis (alpha = {alpha}).')\n"
      ],
      "metadata": {
        "id": "HE2XrFviajBF",
        "outputId": "afbf982c-b924-432f-a1ad-8693d849b26e",
        "colab": {
          "base_uri": "https://localhost:8080/"
        }
      },
      "execution_count": 20,
      "outputs": [
        {
          "output_type": "stream",
          "name": "stdout",
          "text": [
            "p-value: 0.0\n",
            "Reject the Null Hypothesis (alpha = 0.05).\n"
          ]
        }
      ]
    }
  ],
  "metadata": {
    "colab": {
      "provenance": [],
      "include_colab_link": true
    },
    "kernelspec": {
      "display_name": "Python 3 (ipykernel)",
      "language": "python",
      "name": "python3"
    },
    "language_info": {
      "codemirror_mode": {
        "name": "ipython",
        "version": 3
      },
      "file_extension": ".py",
      "mimetype": "text/x-python",
      "name": "python",
      "nbconvert_exporter": "python",
      "pygments_lexer": "ipython3",
      "version": "3.8.10"
    }
  },
  "nbformat": 4,
  "nbformat_minor": 0
}