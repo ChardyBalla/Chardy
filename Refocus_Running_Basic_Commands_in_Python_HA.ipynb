{
  "nbformat": 4,
  "nbformat_minor": 0,
  "metadata": {
    "colab": {
      "provenance": [],
      "include_colab_link": true
    },
    "kernelspec": {
      "name": "python3",
      "display_name": "Python 3"
    },
    "language_info": {
      "name": "python"
    }
  },
  "cells": [
    {
      "cell_type": "markdown",
      "metadata": {
        "id": "view-in-github",
        "colab_type": "text"
      },
      "source": [
        "<a href=\"https://colab.research.google.com/github/ChardyBalla/Chardy/blob/main/Refocus_Running_Basic_Commands_in_Python_HA.ipynb\" target=\"_parent\"><img src=\"https://colab.research.google.com/assets/colab-badge.svg\" alt=\"Open In Colab\"/></a>"
      ]
    },
    {
      "cell_type": "markdown",
      "source": [
        "# **Home task 1**\n",
        "\n",
        "###The maximum score for this assignment is 5.\n",
        "### To pass the assignment you are to get at least 4/5 points. Each problem has its weight indicated in its description. The problem is considered solved if your code met the problem requirements and you managed to pass the assertion tests."
      ],
      "metadata": {
        "id": "p1VGvpRSa_9i"
      }
    },
    {
      "cell_type": "code",
      "source": [
        "# Run this cell to import some useful functions for testing your answers\n",
        "from numpy.testing import (assert_,\n",
        "                           assert_equal,\n",
        "                           assert_array_equal, \n",
        "                           assert_allclose)"
      ],
      "metadata": {
        "id": "l6uu1_BSlJlV"
      },
      "execution_count": null,
      "outputs": []
    },
    {
      "cell_type": "markdown",
      "source": [
        "# **EXERCISES**"
      ],
      "metadata": {
        "id": "6gJaYiWisUBj"
      }
    },
    {
      "cell_type": "markdown",
      "source": [
        "####**Problem 1:** Hello, Refocus student!\n",
        "\n",
        "\n",
        "####**Weight:** 1 point\n",
        "\n",
        "#### **Task:** Assign your name and cohort number to corresponding variables and run the cell to print them using different string formatting approaches.\n"
      ],
      "metadata": {
        "id": "Lt3e_NcIbgi_"
      }
    },
    {
      "cell_type": "code",
      "source": [
        "name =  # Your code here, write your name as string\n",
        "cohort_number =  # Your code here, write your cohort number as integer\n",
        "\n",
        "print(f\"Hi, {name} from cohort {cohort_number}! I am an f-string, a common string formatting notation!\\n\")\n",
        "print(\"Hi, {} from cohort {}! I am a string with .format() method, another common string formatting notation!\\n\".format(name, cohort_number))\n",
        "print(name + \", You can also sum strings to concatenate them.\\n\")\n",
        "print(\"Or use ',' in your print() which adds blank space between values. Look:\", name, cohort_number)"
      ],
      "metadata": {
        "colab": {
          "base_uri": "https://localhost:8080/"
        },
        "id": "NPrCLUnZbezp",
        "outputId": "a1aa17d7-d171-4210-d046-0e82c0ee80b2"
      },
      "execution_count": null,
      "outputs": [
        {
          "output_type": "stream",
          "name": "stdout",
          "text": [
            "Hi, Ivan from cohort 42! I am an f-string, a common string formatting notation!\n",
            "\n",
            "Hi, Ivan from cohort 42! I am a string with .format() method, another common string formatting notation!\n",
            "\n",
            "Ivan, You can also sum strings to concatenate them.\n",
            "\n",
            "Or use ',' in your print() which adds blank space between values. Look: Ivan 42\n"
          ]
        }
      ]
    },
    {
      "cell_type": "markdown",
      "source": [
        "##### FUNCTION TEST: This are _assert_ functions, we use them to test the answers. Run the cell below to check if your code is correct. If it runs without any error message, then your code is correct. Otherwise, review your code.  "
      ],
      "metadata": {
        "id": "8VDecEAifcnI"
      }
    },
    {
      "cell_type": "code",
      "source": [
        "assert(type(name)==str)\n",
        "assert(type(cohort_number)==int)\n",
        "print(\"Correct! You got 1 point.\")"
      ],
      "metadata": {
        "id": "xTdy7sAveuWh",
        "outputId": "53011131-eb07-4057-b60e-ed7bf071a046",
        "colab": {
          "base_uri": "https://localhost:8080/"
        }
      },
      "execution_count": 10,
      "outputs": [
        {
          "output_type": "stream",
          "name": "stdout",
          "text": [
            "Correct! You got 1 point.\n"
          ]
        }
      ]
    },
    {
      "cell_type": "code",
      "source": [
        "name = \"Richard Balla\"\n",
        "cohort_number = 51\n",
        "\n",
        "print(f\"Hi, {name} from cohort {cohort_number}! I am an f-string, a common string formatting notation!\\n\")\n",
        "print(\"Hi, {} from cohort {}! I am a string with .format() method, another common string formatting notation!\\n\".format(name, cohort_number))\n",
        "print(name + \", You can also sum strings to concatenate them.\\n\")\n",
        "print(\"Or use ',' in your print() which adds blank space between values. Look:\", name, cohort_number)\n",
        "\n"
      ],
      "metadata": {
        "id": "wlqtE_cpNsE9",
        "outputId": "3bc3a8b9-6e5a-4959-ba09-f063761bfd1d",
        "colab": {
          "base_uri": "https://localhost:8080/"
        }
      },
      "execution_count": 9,
      "outputs": [
        {
          "output_type": "stream",
          "name": "stdout",
          "text": [
            "Hi, Richard Balla from cohort 51! I am an f-string, a common string formatting notation!\n",
            "\n",
            "Hi, Richard Balla from cohort 51! I am a string with .format() method, another common string formatting notation!\n",
            "\n",
            "Richard Balla, You can also sum strings to concatenate them.\n",
            "\n",
            "Or use ',' in your print() which adds blank space between values. Look: Richard Balla 51\n"
          ]
        }
      ]
    },
    {
      "cell_type": "markdown",
      "source": [
        "---"
      ],
      "metadata": {
        "id": "VETXfan0ubEp"
      }
    },
    {
      "cell_type": "markdown",
      "source": [
        "####**Problem 2:** Turn negative numbers to zero 0\n",
        "\n",
        "####**Weight:** 1 point\n",
        "\n",
        "#### **Task:** Write a function named `make_negative_zero` that takes any real number $num$. If it is positive or 0, let the function print \"Positive\" and return the same number. Otherwise, print \"Negative\" and return 0."
      ],
      "metadata": {
        "id": "uLAU4-QKfHfu"
      }
    },
    {
      "cell_type": "markdown",
      "source": [
        "**Note**: For this problem only we have already defined the function using python keyword `def` :)\n",
        "\n",
        "Further you will have to define functions yourself. Ensure that the name of your function matches the name of the function in the assertion tests. Here it is \"make_negative_zero\"."
      ],
      "metadata": {
        "id": "k4lsxsvQigM7"
      }
    },
    {
      "cell_type": "code",
      "source": [
        "def make_negative_zero(num):\n",
        "    if num >= 0:\n",
        "        print(\"Positive\")\n",
        "        return num\n",
        "    else:\n",
        "        print(\"Negative\")\n",
        "        return 0\n"
      ],
      "metadata": {
        "id": "Ba3r4pnxu0tX"
      },
      "execution_count": 13,
      "outputs": []
    },
    {
      "cell_type": "code",
      "source": [
        "assert make_negative_zero(5) == 5\n",
        "assert make_negative_zero(-5) == 0\n",
        "assert make_negative_zero(0) == 0\n"
      ],
      "metadata": {
        "id": "k2ybiNMRQjL9",
        "outputId": "3e0f6516-1cdc-429b-d06e-3fcaa67bf1d5",
        "colab": {
          "base_uri": "https://localhost:8080/"
        }
      },
      "execution_count": 15,
      "outputs": [
        {
          "output_type": "stream",
          "name": "stdout",
          "text": [
            "Positive\n",
            "Negative\n",
            "Positive\n"
          ]
        }
      ]
    },
    {
      "cell_type": "code",
      "source": [
        "assert_equal(make_negative_zero(-5), 0)\n",
        "assert_equal(make_negative_zero(0), 0)\n",
        "assert_equal(make_negative_zero(0.5), 0.5)\n",
        "assert_equal(make_negative_zero(20), 20)\n",
        "print(\"\\nCorrect! You got 1 point\")"
      ],
      "metadata": {
        "id": "Qy70USkeiqXu",
        "outputId": "d9b3e364-2578-4f73-c296-e2952f79c224",
        "colab": {
          "base_uri": "https://localhost:8080/"
        }
      },
      "execution_count": 14,
      "outputs": [
        {
          "output_type": "stream",
          "name": "stdout",
          "text": [
            "Negative\n",
            "Positive\n",
            "Positive\n",
            "Positive\n",
            "\n",
            "Correct! You got 1 point\n"
          ]
        }
      ]
    },
    {
      "cell_type": "markdown",
      "source": [
        "If you feel like revising some of the concepts to complete this assignments, here are some of our materials that should suffice:\n",
        "\n",
        "**Helpful materials**\n",
        "\n",
        "Mathematical operations and relations: https://colab.research.google.com/drive/1vf8D4Oj_MH2Vg-LJKooHFjJnwNxCVn9d\n",
        "\n",
        "Conditional statements: https://colab.research.google.com/drive/1sTRYMtesh4vl3dq81AJvEvsgJFld2QzR\n",
        "\n",
        "Functions: https://colab.research.google.com/drive/1m603448Oll6QjhXCSsXGfOlUCKKWFHLj"
      ],
      "metadata": {
        "id": "BizofPEti8Fj"
      }
    },
    {
      "cell_type": "markdown",
      "source": [
        "---"
      ],
      "metadata": {
        "id": "4ZRUrKkfuY4f"
      }
    },
    {
      "cell_type": "markdown",
      "source": [
        "####**Problem 3:** Type casting\n",
        "\n",
        "####**Weight:** 1 point\n",
        "\n",
        "#### **Task**: Create a function named `convert` which takes one argument (an integer or a string). If it is a `str`, the function should return the same value, but of type `int`, and if the function got integer as an argument, it should return it as a string."
      ],
      "metadata": {
        "id": "u5IT3ZRUshsC"
      }
    },
    {
      "cell_type": "code",
      "execution_count": 16,
      "metadata": {
        "id": "X5aiP2drsCtb"
      },
      "outputs": [],
      "source": [
        "# Write your code here\n",
        "def convert(value):\n",
        "    if isinstance(value, str):\n",
        "        return int(value)\n",
        "    elif isinstance(value, int):\n",
        "        return str(value)\n",
        "    else:\n",
        "        raise ValueError(\"Value must be an integer or a string.\")\n"
      ]
    },
    {
      "cell_type": "markdown",
      "source": [
        "##### FUNCTION TEST: Run the cell below to check if your code is correct. If it runs without any error message, then your code is correct. Otherwise, review your code. "
      ],
      "metadata": {
        "id": "5dU0ESNnq4Fm"
      }
    },
    {
      "cell_type": "code",
      "source": [
        "assert_equal(convert(123), \"123\")\n",
        "assert_equal(convert(-100), '-100')\n",
        "assert_equal(convert(42), \"42\")\n",
        "assert_equal(convert(0), '0')\n",
        "print(\"\\nCorrect! You got 1 point\")"
      ],
      "metadata": {
        "id": "Pe_RrtuAscEO",
        "outputId": "25c48c64-e44d-40be-97e3-46b7caf37d12",
        "colab": {
          "base_uri": "https://localhost:8080/"
        }
      },
      "execution_count": 21,
      "outputs": [
        {
          "output_type": "stream",
          "name": "stdout",
          "text": [
            "\n",
            "Correct! You got 1 point\n"
          ]
        }
      ]
    },
    {
      "cell_type": "code",
      "source": [
        "assert convert(123) == \"123\"\n",
        "assert convert(-100) == \"-100\"\n",
        "assert convert(42) == \"42\"\n",
        "assert convert(0) == \"0\"\n",
        "print(\"Correct! You got 1 point.\")"
      ],
      "metadata": {
        "id": "0RiSjS1NSGMx",
        "outputId": "adc9fd64-7170-4c55-f8cd-9e15bc15ff90",
        "colab": {
          "base_uri": "https://localhost:8080/"
        }
      },
      "execution_count": 22,
      "outputs": [
        {
          "output_type": "stream",
          "name": "stdout",
          "text": [
            "Correct! You got 1 point.\n"
          ]
        }
      ]
    },
    {
      "cell_type": "markdown",
      "source": [
        "**Helpful materials**\n",
        "\n",
        "Understading data types 1: https://colab.research.google.com/drive/1Mpt1CnJkyrHtSt-ZXvFW4l-RelpqgKbV\n",
        "\n",
        "Understanding data types 2: https://colab.research.google.com/drive/19Tz78IkqLC3M6zMh0uXVzpt8UoKFc9uS\n",
        "\n",
        "Conditional statements: https://colab.research.google.com/drive/1sTRYMtesh4vl3dq81AJvEvsgJFld2QzR"
      ],
      "metadata": {
        "id": "srzqCmCQsIBu"
      }
    },
    {
      "cell_type": "markdown",
      "source": [
        "---"
      ],
      "metadata": {
        "id": "d8CKRU5etnpM"
      }
    },
    {
      "cell_type": "markdown",
      "source": [
        "####**Problem 4:** Pythagorean triples\n",
        "\n",
        "####**Weight:** 1 point\n",
        "\n",
        "#### **Task**: Any positive integers $a$, $b$, and $c$ that satisfies the relationship $a^2 + b^2 = c^2 $ are called Pythagorean triples.\n",
        "\n",
        "####Write a function that checks if three input positive integers `a`, `b`, and `c` are Pythagorean triples. If true, the function should return the boolean value `True`. Otherwise, the function should return `False`.\n",
        "\n",
        "**Note:** To raise a number to a power of `x` \"**\" operator is used.\n",
        "\n",
        "Example:\n",
        "\n",
        "$3**2 == 9$"
      ],
      "metadata": {
        "id": "TyR3gx5ytmUu"
      }
    },
    {
      "cell_type": "code",
      "source": [
        "# Write your code here\n",
        "def is_pythagorean_triple(a, b, c):\n",
        "    if a > 0 and b > 0 and c > 0:\n",
        "        return a**2 + b**2 == c**2\n",
        "    else:\n",
        "        return False\n"
      ],
      "metadata": {
        "id": "Fa0cpRWHtm5J"
      },
      "execution_count": 23,
      "outputs": []
    },
    {
      "cell_type": "markdown",
      "source": [
        "##### FUNCTION TEST: Run the cell below to check if your code is correct. If it runs without any error message, then your code is correct. Otherwise, review your code. "
      ],
      "metadata": {
        "id": "TrIV9DaFtxrl"
      }
    },
    {
      "cell_type": "code",
      "source": [
        "assert_equal(check_pythagorean(3, 4, 5), True)\n",
        "assert_equal(check_pythagorean(15, 8, 17), True)\n",
        "assert_equal(check_pythagorean(8, 15, 17), True)\n",
        "assert_equal(check_pythagorean(3, 2, 5), False)\n",
        "print(\"\\nCorrect! You got 1 point\")"
      ],
      "metadata": {
        "id": "wQfkWweAtvvZ"
      },
      "execution_count": null,
      "outputs": []
    },
    {
      "cell_type": "code",
      "source": [
        "assert_equal(is_pythagorean_triple(3, 4, 5), True)\n",
        "assert_equal(is_pythagorean_triple(15, 8, 17), True)\n",
        "assert_equal(is_pythagorean_triple(8, 15, 17), True)\n",
        "assert_equal(is_pythagorean_triple(3, 2, 5), False)\n",
        "print(\"\\nCorrect! You got 1 point\")\n"
      ],
      "metadata": {
        "id": "rV_pm1FZSlJe",
        "outputId": "f1ce4719-fad2-4dfa-e485-7277e3c4bc95",
        "colab": {
          "base_uri": "https://localhost:8080/"
        }
      },
      "execution_count": 31,
      "outputs": [
        {
          "output_type": "stream",
          "name": "stdout",
          "text": [
            "\n",
            "Correct! You got 1 point\n"
          ]
        }
      ]
    },
    {
      "cell_type": "markdown",
      "source": [
        "**Helpful materials**\n",
        "\n",
        "\n",
        "Conditional statements: https://colab.research.google.com/drive/1sTRYMtesh4vl3dq81AJvEvsgJFld2QzR\n",
        "\n",
        "Mathematical operations and relations: https://colab.research.google.com/drive/1vf8D4Oj_MH2Vg-LJKooHFjJnwNxCVn9d"
      ],
      "metadata": {
        "id": "BhqndWzqdXRV"
      }
    },
    {
      "cell_type": "markdown",
      "source": [
        "---"
      ],
      "metadata": {
        "id": "yTB_uUQpt67F"
      }
    },
    {
      "cell_type": "markdown",
      "source": [
        "####**Problem 5:** Add value to a list if it's not there yet. \n",
        "\n",
        "####**Weight:** 1 point\n",
        "\n",
        "#### **Task**: Write a function that takes two arguemnts: a list and a value, and checks wether the value is already in the list. If the value is already in the list, return the same list without modifications, if not, add the value to the end of the list.\n"
      ],
      "metadata": {
        "id": "QAugwKXBt9SA"
      }
    },
    {
      "cell_type": "code",
      "source": [
        "# Write your code here\n",
        "def add_value_to_list(lst, value):\n",
        "    if value in lst:\n",
        "        return lst\n",
        "    else:\n",
        "        lst.append(value)\n",
        "        return lst\n"
      ],
      "metadata": {
        "id": "24SOLLkmt7RM"
      },
      "execution_count": 27,
      "outputs": []
    },
    {
      "cell_type": "markdown",
      "source": [
        "##### FUNCTION TEST: Run the cell below to check if your code is correct. If it runs without any error message, then your code is correct. Otherwise, review your code. "
      ],
      "metadata": {
        "id": "txbW0qiLuFFJ"
      }
    },
    {
      "cell_type": "code",
      "source": [
        "assert_array_equal(append_if_not_exist([0, 1, 2], 3), [0, 1, 2, 3])\n",
        "assert_array_equal(append_if_not_exist([], 42), [42])\n",
        "assert_array_equal(append_if_not_exist([1, 3, 3, 7], 7), [1, 3, 3, 7])\n",
        "assert_array_equal(append_if_not_exist([1, 0, 1], 0), [1, 0, 1])\n",
        "print(\"\\nCorrect! You got 1 point\")"
      ],
      "metadata": {
        "id": "wRUNQhX9uCE-"
      },
      "execution_count": null,
      "outputs": []
    },
    {
      "cell_type": "code",
      "source": [],
      "metadata": {
        "id": "mkUB5oNfTnEb"
      },
      "execution_count": null,
      "outputs": []
    },
    {
      "cell_type": "code",
      "source": [
        "assert add_value_to_list([0, 1, 2], 3) == [0, 1, 2, 3]\n",
        "assert add_value_to_list([], 42) == [42]\n",
        "assert add_value_to_list([1, 3, 3, 7], 7) == [1, 3, 3, 7]\n",
        "assert add_value_to_list([1, 0, 1], 0) == [1, 0, 1]\n",
        "print(\"\\nCorrect! You got 1 point\")\n"
      ],
      "metadata": {
        "id": "wt9fEA_CTRpa",
        "outputId": "48417aa7-3a5c-4ca4-8e41-6a496e1e5aa3",
        "colab": {
          "base_uri": "https://localhost:8080/"
        }
      },
      "execution_count": 30,
      "outputs": [
        {
          "output_type": "stream",
          "name": "stdout",
          "text": [
            "\n",
            "Correct! You got 1 point\n"
          ]
        }
      ]
    },
    {
      "cell_type": "markdown",
      "source": [
        "**Helpful materials**\n",
        "\n",
        "\n",
        "Conditional statements and loops: https://colab.research.google.com/drive/1sTRYMtesh4vl3dq81AJvEvsgJFld2QzR\n",
        "\n",
        "Understanding data types 1: https://colab.research.google.com/drive/1Mpt1CnJkyrHtSt-ZXvFW4l-RelpqgKbV#scrollTo=eSPbf7FmfGiH"
      ],
      "metadata": {
        "id": "wDDCUkSld2FY"
      }
    },
    {
      "cell_type": "markdown",
      "source": [
        "---"
      ],
      "metadata": {
        "id": "ZdLyTEYGuYp1"
      }
    },
    {
      "cell_type": "markdown",
      "source": [
        "# Answer Key"
      ],
      "metadata": {
        "id": "GcCRwNvoBjva"
      }
    },
    {
      "cell_type": "markdown",
      "source": [
        "### Problem 1"
      ],
      "metadata": {
        "id": "FF1iOw-sBrvL"
      }
    },
    {
      "cell_type": "code",
      "source": [
        "name =  \"Name\" # Your code here, write your name as string\n",
        "cohort_number = 42 # Your code here, write your cohort number as integer\n",
        "\n",
        "print(f\"Hi, {name} from cohort {cohort_number}! I am an f-string, a common string formatting notation!\\n\")\n",
        "print(\"Hi, {} from cohort {}! I am a string with .format() method, another common string formatting notation!\\n\".format(name, cohort_number))\n",
        "print(name + \", You can also sum strings to concatenate them.\\n\")\n",
        "print(\"Or use ',' in your print() which adds blank space between values. Look:\", name, cohort_number)"
      ],
      "metadata": {
        "id": "x2T6viRTB6YT",
        "outputId": "19fa25dd-75a0-43df-f503-8f314b180f0e",
        "colab": {
          "base_uri": "https://localhost:8080/"
        }
      },
      "execution_count": 32,
      "outputs": [
        {
          "output_type": "stream",
          "name": "stdout",
          "text": [
            "Hi, Name from cohort 42! I am an f-string, a common string formatting notation!\n",
            "\n",
            "Hi, Name from cohort 42! I am a string with .format() method, another common string formatting notation!\n",
            "\n",
            "Name, You can also sum strings to concatenate them.\n",
            "\n",
            "Or use ',' in your print() which adds blank space between values. Look: Name 42\n"
          ]
        }
      ]
    },
    {
      "cell_type": "code",
      "source": [
        "name = \"Richard Balla\"\n",
        "cohort_number = 51\n",
        "\n",
        "print(f\"Hi, {name} from cohort {cohort_number}! I am an f-string, a common string formatting notation!\\n\")\n",
        "print(\"Hi, {} from cohort {}! I am a string with .format() method, another common string formatting notation!\\n\".format(name, cohort_number))\n",
        "print(name + \", You can also sum strings to concatenate them.\\n\")\n",
        "print(\"Or use ',' in your print() which adds blank space between values. Look:\", name, cohort_number)"
      ],
      "metadata": {
        "id": "bPUM-comUyWc",
        "outputId": "522b561d-bfbf-45e3-f28a-e5e451db011c",
        "colab": {
          "base_uri": "https://localhost:8080/"
        }
      },
      "execution_count": 36,
      "outputs": [
        {
          "output_type": "stream",
          "name": "stdout",
          "text": [
            "Hi, Richard Balla from cohort 51! I am an f-string, a common string formatting notation!\n",
            "\n",
            "Hi, Richard Balla from cohort 51! I am a string with .format() method, another common string formatting notation!\n",
            "\n",
            "Richard Balla, You can also sum strings to concatenate them.\n",
            "\n",
            "Or use ',' in your print() which adds blank space between values. Look: Richard Balla 51\n"
          ]
        }
      ]
    },
    {
      "cell_type": "markdown",
      "source": [
        "### Problem 2\n",
        "\n",
        "In this function, we first check whether the given number num is greater than or equal to zero using the if statement. If num is greater than or equal to zero, we print \"Positive\" using the print() function and return num. Otherwise, if num is negative, we print \"Negative\" using the print() function and return 0."
      ],
      "metadata": {
        "id": "pQLihXDmCDQO"
      }
    },
    {
      "cell_type": "code",
      "source": [
        "def make_negative_zero(num):\n",
        "  # Your code here\n",
        "  if num >=0:\n",
        "    print(\"Positive\")\n",
        "    return num\n",
        "  else:\n",
        "    print(\"Negative\")\n",
        "    return 0"
      ],
      "metadata": {
        "id": "FLuazfSvCgik"
      },
      "execution_count": 37,
      "outputs": []
    },
    {
      "cell_type": "markdown",
      "source": [
        "### Problem 3\n",
        "\n",
        "To create the convert function in Python, you would need to do the following:\n",
        "* Use an if statement to check if the argument passed  to the function is a string. You can check this using the `type` function.\n",
        "* If the argument is a string, convert it to an integer using the `int` function and return it.\n",
        "* If the argument is an integer, convert it to a string using the `str` function and return it.\n",
        "\n",
        "Note that we are using the type function to check whether the argument passed to the function is a string or an integer. We are also using the int and str functions to convert the argument to the required type."
      ],
      "metadata": {
        "id": "v4qJ90JpCiva"
      }
    },
    {
      "cell_type": "code",
      "source": [
        "# Write your code here\n",
        "def convert(data):\n",
        "  if type(data)==int:\n",
        "    return str(data)\n",
        "  elif type(data)==str:\n",
        "    return int(data)"
      ],
      "metadata": {
        "id": "cLZDEZPMDC6j"
      },
      "execution_count": 38,
      "outputs": []
    },
    {
      "cell_type": "markdown",
      "source": [
        "### Problem 4\n",
        "\n",
        "To write the function that checks if three input positive integers a, b, and c are Pythagorean triples, you can Check if a^2 + b^2 = c^2. If this is true, return True, else return False."
      ],
      "metadata": {
        "id": "-caEUNSQDFvC"
      }
    },
    {
      "cell_type": "code",
      "source": [
        "# Write your code here\n",
        "def check_pythagorean(a, b, c):\n",
        "  if a**2 + b**2 == c**2:\n",
        "    return True\n",
        "  else:\n",
        "    return False"
      ],
      "metadata": {
        "id": "VvYOg9hhDiKg"
      },
      "execution_count": 39,
      "outputs": []
    },
    {
      "cell_type": "markdown",
      "source": [
        "### Problem 5\n",
        "\n",
        "To write a function that takes two arguments: a list and a value, and checks whether the value is already in the list or not and returns the modified list, you can follow these steps:\n",
        "\n",
        "* Check whether the value is already in the list using an if statement with the `in` keyword.\n",
        "* If the value is already in the list, return the same list without modifications.\n",
        "* If the value is not in the list, append the value to the end of the list using the `append()` method and return the modified list.\n",
        "\n",
        "Note that we are using the `in` keyword to check if the value is already in the list and the `append()` method to add the value to the end of the list."
      ],
      "metadata": {
        "id": "EQEoPaiaDkTi"
      }
    },
    {
      "cell_type": "code",
      "source": [
        "# Write your code here\n",
        "def append_if_not_exist(my_list, value):\n",
        "  if value in my_list:\n",
        "    return my_list\n",
        "  else:\n",
        "    my_list.append(value)\n",
        "    return my_list"
      ],
      "metadata": {
        "id": "xsEFATKKECmF"
      },
      "execution_count": 40,
      "outputs": []
    },
    {
      "cell_type": "markdown",
      "source": [
        "\n",
        "\n",
        "---\n",
        "\n"
      ],
      "metadata": {
        "id": "HWPE1-qsEKqT"
      }
    },
    {
      "cell_type": "markdown",
      "source": [
        "# **END OF FILE**"
      ],
      "metadata": {
        "id": "M3t11rWWEjno"
      }
    }
  ]
}