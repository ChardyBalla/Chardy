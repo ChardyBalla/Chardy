{
  "nbformat": 4,
  "nbformat_minor": 0,
  "metadata": {
    "colab": {
      "provenance": [],
      "include_colab_link": true
    },
    "kernelspec": {
      "name": "python3",
      "display_name": "Python 3"
    },
    "language_info": {
      "name": "python"
    }
  },
  "cells": [
    {
      "cell_type": "markdown",
      "metadata": {
        "id": "view-in-github",
        "colab_type": "text"
      },
      "source": [
        "<a href=\"https://colab.research.google.com/github/ChardyBalla/Chardy/blob/main/07_UnderstandingDataTypes_Part2.ipynb\" target=\"_parent\"><img src=\"https://colab.research.google.com/assets/colab-badge.svg\" alt=\"Open In Colab\"/></a>"
      ]
    },
    {
      "cell_type": "markdown",
      "source": [
        "# Introduction to Python\n",
        "\n",
        "**Outline**:\n",
        "- How to use Google Colaboratory (aka Google Colab) to run Jupyter Notebooks\n",
        "- Basics of Python Programming\n",
        "- Understanding Python Data Types\n",
        "\n",
        "**The following references were used to build this notebook's content:**\n",
        "- *Lutz, M. (2013). Learning python: Powerful object-oriented programming. \" O'Reilly Media, Inc.\".*\n",
        "- *Zelle, J. M. (2004). Python programming: an introduction to computer science. Franklin, Beedle & Associates, Inc..*"
      ],
      "metadata": {
        "id": "3OpepD22jRWe"
      }
    },
    {
      "cell_type": "markdown",
      "source": [
        "---"
      ],
      "metadata": {
        "id": "FKLzh3KulrGS"
      }
    },
    {
      "cell_type": "markdown",
      "source": [
        "# Set\n",
        "\n",
        "A **set** is a collection of *distinct* values."
      ],
      "metadata": {
        "id": "2yHo0EIzyBF4"
      }
    },
    {
      "cell_type": "code",
      "source": [
        "set_sample = {1, 2, 3, 4, 5, 2}\n",
        "set_sample"
      ],
      "metadata": {
        "id": "DlvFDeyQyJXe",
        "colab": {
          "base_uri": "https://localhost:8080/"
        },
        "outputId": "3fddd1ba-7518-45dd-adc9-6183b3e7e090"
      },
      "execution_count": 1,
      "outputs": [
        {
          "output_type": "execute_result",
          "data": {
            "text/plain": [
              "{1, 2, 3, 4, 5}"
            ]
          },
          "metadata": {},
          "execution_count": 1
        }
      ]
    },
    {
      "cell_type": "markdown",
      "source": [
        "As you can see in the example, the duplicate `2` is removed from the set `set_sample` because, by definition, the elements in a set must be distinct or non-repeating."
      ],
      "metadata": {
        "id": "G4xb63TOhmxB"
      }
    },
    {
      "cell_type": "markdown",
      "source": [
        "---"
      ],
      "metadata": {
        "id": "Odc_2q83uwh6"
      }
    },
    {
      "cell_type": "markdown",
      "metadata": {
        "id": "tFe-OK7rC4Lz"
      },
      "source": [
        "# Dictionary"
      ]
    },
    {
      "cell_type": "markdown",
      "metadata": {
        "ExecuteTime": {
          "end_time": "2021-08-06T12:21:32.666833Z",
          "start_time": "2021-08-06T12:21:32.655003Z"
        },
        "id": "BLObIJr2C4Lz"
      },
      "source": [
        "A **dictionary** can be seen as *mappings* where each *key* is mapped to a *value*, referred to as a **key-value pair**."
      ]
    },
    {
      "cell_type": "code",
      "metadata": {
        "ExecuteTime": {
          "end_time": "2021-08-06T12:24:08.475831Z",
          "start_time": "2021-08-06T12:24:08.458359Z"
        },
        "id": "fRkdz-plC4Lz",
        "outputId": "f7a07afc-67c1-42dd-e69b-cc1009b45d63",
        "colab": {
          "base_uri": "https://localhost:8080/"
        }
      },
      "source": [
        "dict1 = {\"name\" : \"John\",\n",
        "         \"contact\" : \"8700-8700\",\n",
        "         \"address\" : \"Manila\"}\n",
        "dict1"
      ],
      "execution_count": 2,
      "outputs": [
        {
          "output_type": "execute_result",
          "data": {
            "text/plain": [
              "{'name': 'John', 'contact': '8700-8700', 'address': 'Manila'}"
            ]
          },
          "metadata": {},
          "execution_count": 2
        }
      ]
    },
    {
      "cell_type": "markdown",
      "metadata": {
        "id": "B1pdf3oPC4Lz"
      },
      "source": [
        "*In the example, `name`, `contact` and `address` are keys while `John`, `8700-8700` and `Manila` are values.*"
      ]
    },
    {
      "cell_type": "markdown",
      "source": [
        "#### Accessing a value associated to a key."
      ],
      "metadata": {
        "id": "YK3QuN-DLWdw"
      }
    },
    {
      "cell_type": "code",
      "source": [
        "dict1[\"name\"]"
      ],
      "metadata": {
        "colab": {
          "base_uri": "https://localhost:8080/",
          "height": 35
        },
        "id": "MeZskDV8K-GZ",
        "outputId": "5a466c25-69ae-47a5-a7ee-7d4c195b4758"
      },
      "execution_count": 3,
      "outputs": [
        {
          "output_type": "execute_result",
          "data": {
            "text/plain": [
              "'John'"
            ],
            "application/vnd.google.colaboratory.intrinsic+json": {
              "type": "string"
            }
          },
          "metadata": {},
          "execution_count": 3
        }
      ]
    },
    {
      "cell_type": "markdown",
      "metadata": {
        "id": "1qXxgpbTC4Lz"
      },
      "source": [
        "#### The value where a certain key is mapped to can be modified."
      ]
    },
    {
      "cell_type": "code",
      "metadata": {
        "ExecuteTime": {
          "end_time": "2021-08-06T16:01:43.477772Z",
          "start_time": "2021-08-06T16:01:43.464844Z"
        },
        "id": "q-G0WDHpC4Lz",
        "outputId": "e8b97a8f-3805-4ea1-bf7b-248d3705f1f4",
        "colab": {
          "base_uri": "https://localhost:8080/"
        }
      },
      "source": [
        "dict1[\"name\"] = \"Brian\"\n",
        "dict1"
      ],
      "execution_count": 4,
      "outputs": [
        {
          "output_type": "execute_result",
          "data": {
            "text/plain": [
              "{'name': 'Brian', 'contact': '8700-8700', 'address': 'Manila'}"
            ]
          },
          "metadata": {},
          "execution_count": 4
        }
      ]
    },
    {
      "cell_type": "markdown",
      "metadata": {
        "ExecuteTime": {
          "end_time": "2021-08-06T16:03:50.735059Z",
          "start_time": "2021-08-06T16:03:50.729066Z"
        },
        "id": "m6P7f6owC4L0"
      },
      "source": [
        "#### The keys in a dictionary should be unique."
      ]
    },
    {
      "cell_type": "code",
      "metadata": {
        "ExecuteTime": {
          "end_time": "2021-08-06T16:04:35.392406Z",
          "start_time": "2021-08-06T16:04:35.377446Z"
        },
        "id": "vRlAiNlWC4L0",
        "outputId": "0008091f-ffb3-46ba-b85a-bddfa2c2acfc",
        "colab": {
          "base_uri": "https://localhost:8080/"
        }
      },
      "source": [
        "dict2 = {\"pet\" : \"dog\", \"pet\" : \"cat\"} # In this case, the last value assigned to \"pet\" shall be the current value\n",
        "dict2"
      ],
      "execution_count": 5,
      "outputs": [
        {
          "output_type": "execute_result",
          "data": {
            "text/plain": [
              "{'pet': 'cat'}"
            ]
          },
          "metadata": {},
          "execution_count": 5
        }
      ]
    },
    {
      "cell_type": "markdown",
      "metadata": {
        "ExecuteTime": {
          "end_time": "2021-08-06T16:07:29.052639Z",
          "start_time": "2021-08-06T16:07:29.035687Z"
        },
        "id": "s_Vu7ZCDC4L0"
      },
      "source": [
        "#### Keys must be of [immutable data types](https://towardsdatascience.com/https-towardsdatascience-com-python-basics-mutable-vs-immutable-objects-829a0cb1530a), such as integers, strings, float, or tuples."
      ]
    },
    {
      "cell_type": "code",
      "metadata": {
        "ExecuteTime": {
          "end_time": "2021-08-06T16:09:46.761075Z",
          "start_time": "2021-08-06T16:09:46.746116Z"
        },
        "id": "7iLW5Yk3C4L0",
        "outputId": "c4f76edb-5b15-4886-f256-b32c830878ee",
        "colab": {
          "base_uri": "https://localhost:8080/",
          "height": 165
        }
      },
      "source": [
        "dict3 = {{1,2} : \"value1\"} # This will result to an error because a set is not immutable."
      ],
      "execution_count": 6,
      "outputs": [
        {
          "output_type": "error",
          "ename": "TypeError",
          "evalue": "ignored",
          "traceback": [
            "\u001b[0;31m---------------------------------------------------------------------------\u001b[0m",
            "\u001b[0;31mTypeError\u001b[0m                                 Traceback (most recent call last)",
            "\u001b[0;32m<ipython-input-6-ec7354bc3475>\u001b[0m in \u001b[0;36m<cell line: 1>\u001b[0;34m()\u001b[0m\n\u001b[0;32m----> 1\u001b[0;31m \u001b[0mdict3\u001b[0m \u001b[0;34m=\u001b[0m \u001b[0;34m{\u001b[0m\u001b[0;34m{\u001b[0m\u001b[0;36m1\u001b[0m\u001b[0;34m,\u001b[0m\u001b[0;36m2\u001b[0m\u001b[0;34m}\u001b[0m \u001b[0;34m:\u001b[0m \u001b[0;34m\"value1\"\u001b[0m\u001b[0;34m}\u001b[0m \u001b[0;31m# This will result to an error because a set is not immutable.\u001b[0m\u001b[0;34m\u001b[0m\u001b[0;34m\u001b[0m\u001b[0m\n\u001b[0m",
            "\u001b[0;31mTypeError\u001b[0m: unhashable type: 'set'"
          ]
        }
      ]
    },
    {
      "cell_type": "markdown",
      "source": [
        "---"
      ],
      "metadata": {
        "id": "9h6UgY5bu7LD"
      }
    },
    {
      "cell_type": "markdown",
      "source": [
        "# Tuple\n",
        "\n",
        "**Tuples** are like lists except that tuples are [immutable](https://towardsdatascience.com/https-towardsdatascience-com-python-basics-mutable-vs-immutable-objects-829a0cb1530a)."
      ],
      "metadata": {
        "id": "XaYDXbONlpaj"
      }
    },
    {
      "cell_type": "code",
      "metadata": {
        "ExecuteTime": {
          "end_time": "2021-08-06T17:07:52.454874Z",
          "start_time": "2021-08-06T17:07:52.448887Z"
        },
        "id": "BXiG48rtC4L1",
        "outputId": "72147924-75de-4c76-f1e0-f95aeec319bc",
        "colab": {
          "base_uri": "https://localhost:8080/"
        }
      },
      "source": [
        "tup1 = (1, 2, 3, 4, 5)\n",
        "tup1[2]"
      ],
      "execution_count": 7,
      "outputs": [
        {
          "output_type": "execute_result",
          "data": {
            "text/plain": [
              "3"
            ]
          },
          "metadata": {},
          "execution_count": 7
        }
      ]
    },
    {
      "cell_type": "code",
      "metadata": {
        "ExecuteTime": {
          "end_time": "2021-08-06T17:08:50.228718Z",
          "start_time": "2021-08-06T17:08:50.223734Z"
        },
        "id": "CHJrpfCSC4L1",
        "outputId": "51357962-41d5-4eda-d8e9-9c46ac28469b",
        "colab": {
          "base_uri": "https://localhost:8080/"
        }
      },
      "source": [
        "tup1[:2]"
      ],
      "execution_count": 8,
      "outputs": [
        {
          "output_type": "execute_result",
          "data": {
            "text/plain": [
              "(1, 2)"
            ]
          },
          "metadata": {},
          "execution_count": 8
        }
      ]
    },
    {
      "cell_type": "code",
      "metadata": {
        "ExecuteTime": {
          "end_time": "2021-08-06T17:09:00.588133Z",
          "start_time": "2021-08-06T17:09:00.583173Z"
        },
        "id": "K_D4Umy8C4L1",
        "outputId": "e4eb8035-905f-4eb7-f16a-eb5253425cda",
        "colab": {
          "base_uri": "https://localhost:8080/"
        }
      },
      "source": [
        "tup1[-1]"
      ],
      "execution_count": 9,
      "outputs": [
        {
          "output_type": "execute_result",
          "data": {
            "text/plain": [
              "5"
            ]
          },
          "metadata": {},
          "execution_count": 9
        }
      ]
    },
    {
      "cell_type": "code",
      "metadata": {
        "ExecuteTime": {
          "end_time": "2021-08-06T17:09:22.094682Z",
          "start_time": "2021-08-06T17:09:22.090693Z"
        },
        "id": "WTk3koeGC4L1",
        "outputId": "2e3a6249-90bc-4f84-b778-1e173aa5e5ef",
        "colab": {
          "base_uri": "https://localhost:8080/"
        }
      },
      "source": [
        "tup1 + (6, 7, 8)"
      ],
      "execution_count": 10,
      "outputs": [
        {
          "output_type": "execute_result",
          "data": {
            "text/plain": [
              "(1, 2, 3, 4, 5, 6, 7, 8)"
            ]
          },
          "metadata": {},
          "execution_count": 10
        }
      ]
    },
    {
      "cell_type": "code",
      "metadata": {
        "ExecuteTime": {
          "end_time": "2021-08-06T17:08:34.368599Z",
          "start_time": "2021-08-06T17:08:34.357593Z"
        },
        "id": "jPSJvBEUC4L1",
        "outputId": "6f0a4390-a43f-418c-abde-7734ec9de4d2",
        "colab": {
          "base_uri": "https://localhost:8080/",
          "height": 165
        }
      },
      "source": [
        "tup1[0] = 1 # This will show an error since a tuple is immutable."
      ],
      "execution_count": 11,
      "outputs": [
        {
          "output_type": "error",
          "ename": "TypeError",
          "evalue": "ignored",
          "traceback": [
            "\u001b[0;31m---------------------------------------------------------------------------\u001b[0m",
            "\u001b[0;31mTypeError\u001b[0m                                 Traceback (most recent call last)",
            "\u001b[0;32m<ipython-input-11-4d596a352a64>\u001b[0m in \u001b[0;36m<cell line: 1>\u001b[0;34m()\u001b[0m\n\u001b[0;32m----> 1\u001b[0;31m \u001b[0mtup1\u001b[0m\u001b[0;34m[\u001b[0m\u001b[0;36m0\u001b[0m\u001b[0;34m]\u001b[0m \u001b[0;34m=\u001b[0m \u001b[0;36m1\u001b[0m \u001b[0;31m# This will show an error since a tuple is immutable.\u001b[0m\u001b[0;34m\u001b[0m\u001b[0;34m\u001b[0m\u001b[0m\n\u001b[0m",
            "\u001b[0;31mTypeError\u001b[0m: 'tuple' object does not support item assignment"
          ]
        }
      ]
    },
    {
      "cell_type": "markdown",
      "metadata": {
        "id": "Po-D6pMuC4L1"
      },
      "source": [
        "*For instances where you do not want your list of objects to be modified, you can use tuple instead of list*"
      ]
    },
    {
      "cell_type": "markdown",
      "source": [
        "---"
      ],
      "metadata": {
        "id": "3xKCd_eDu8sl"
      }
    },
    {
      "cell_type": "markdown",
      "source": [
        "# Type casting\n",
        "\n",
        "**Type casting** is the process of changing one data type to another, such as converting an integer into a float value."
      ],
      "metadata": {
        "id": "8pUmnjpff9cf"
      }
    },
    {
      "cell_type": "markdown",
      "source": [
        "#### EXAMPLES:"
      ],
      "metadata": {
        "id": "PU6r9HCpgj9F"
      }
    },
    {
      "cell_type": "markdown",
      "source": [
        "**String to Integer**"
      ],
      "metadata": {
        "id": "R3wmegxLgtkZ"
      }
    },
    {
      "cell_type": "code",
      "source": [
        "int('125')"
      ],
      "metadata": {
        "colab": {
          "base_uri": "https://localhost:8080/"
        },
        "id": "LWM4pwrWgtUl",
        "outputId": "a7906840-f6c3-4fa3-a069-7a49375c1686"
      },
      "execution_count": 12,
      "outputs": [
        {
          "output_type": "execute_result",
          "data": {
            "text/plain": [
              "125"
            ]
          },
          "metadata": {},
          "execution_count": 12
        }
      ]
    },
    {
      "cell_type": "markdown",
      "source": [
        "**Integer to Float**"
      ],
      "metadata": {
        "id": "I62nAZITgl_V"
      }
    },
    {
      "cell_type": "code",
      "source": [
        "float(1)"
      ],
      "metadata": {
        "colab": {
          "base_uri": "https://localhost:8080/"
        },
        "id": "puueDVJDgf1z",
        "outputId": "b311a654-1646-4dfd-d82f-6801bd5ebbb0"
      },
      "execution_count": 13,
      "outputs": [
        {
          "output_type": "execute_result",
          "data": {
            "text/plain": [
              "1.0"
            ]
          },
          "metadata": {},
          "execution_count": 13
        }
      ]
    },
    {
      "cell_type": "markdown",
      "source": [
        "**List to Set**"
      ],
      "metadata": {
        "id": "8ODRKHGtg11u"
      }
    },
    {
      "cell_type": "code",
      "source": [
        "set([1, 2, 3, 4, 1])"
      ],
      "metadata": {
        "colab": {
          "base_uri": "https://localhost:8080/"
        },
        "id": "gM1LnMLxgsEj",
        "outputId": "869cef0f-af5e-45dc-8a5a-162163d4a623"
      },
      "execution_count": 14,
      "outputs": [
        {
          "output_type": "execute_result",
          "data": {
            "text/plain": [
              "{1, 2, 3, 4}"
            ]
          },
          "metadata": {},
          "execution_count": 14
        }
      ]
    },
    {
      "cell_type": "markdown",
      "source": [
        "**Set to List**"
      ],
      "metadata": {
        "id": "7sklI9wgOCnD"
      }
    },
    {
      "cell_type": "code",
      "source": [
        "list({'dog', 'cat', 'fish', 'tiger'})"
      ],
      "metadata": {
        "colab": {
          "base_uri": "https://localhost:8080/"
        },
        "id": "Pu8SlRNON-zE",
        "outputId": "a76da6d9-27d8-46d8-de54-ce38e32de2b3"
      },
      "execution_count": 15,
      "outputs": [
        {
          "output_type": "execute_result",
          "data": {
            "text/plain": [
              "['fish', 'tiger', 'dog', 'cat']"
            ]
          },
          "metadata": {},
          "execution_count": 15
        }
      ]
    },
    {
      "cell_type": "markdown",
      "source": [
        "---"
      ],
      "metadata": {
        "id": "2sloWS-CGEmT"
      }
    },
    {
      "cell_type": "markdown",
      "source": [
        "END OF FILE"
      ],
      "metadata": {
        "id": "gI-6zbJ0GHlj"
      }
    }
  ]
}