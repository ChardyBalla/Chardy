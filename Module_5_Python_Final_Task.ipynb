{
  "nbformat": 4,
  "nbformat_minor": 0,
  "metadata": {
    "colab": {
      "provenance": [],
      "include_colab_link": true
    },
    "kernelspec": {
      "name": "python3",
      "display_name": "Python 3"
    },
    "language_info": {
      "name": "python"
    }
  },
  "cells": [
    {
      "cell_type": "markdown",
      "metadata": {
        "id": "view-in-github",
        "colab_type": "text"
      },
      "source": [
        "<a href=\"https://colab.research.google.com/github/ChardyBalla/Chardy/blob/main/Module_5_Python_Final_Task.ipynb\" target=\"_parent\"><img src=\"https://colab.research.google.com/assets/colab-badge.svg\" alt=\"Open In Colab\"/></a>"
      ]
    },
    {
      "cell_type": "markdown",
      "source": [
        "# Analyzing Hotel Booking Cancellations\n",
        "## Module 5 Python Final Task"
      ],
      "metadata": {
        "id": "NDHFF-V21ihu"
      }
    },
    {
      "cell_type": "markdown",
      "source": [
        "Welcome to the Module 5 Final Task in Python. For this notebook, we will be applying all the concepts that we have previously learned in order to solve a business-related problem.\n",
        "\n",
        "In order to finish the task, we will have to supply the necessary python codes in order to achieve the expected output. Some of the tasks given contain hints and guides to achieve the expected output"
      ],
      "metadata": {
        "id": "rHzVMWox2b7W"
      }
    },
    {
      "cell_type": "markdown",
      "source": [
        "## Guides on Answering the task\n",
        "\n",
        "For this Final Task, there are cells needed to be run, edited, or filled-out, and it would be categorized in three (3) categories:\n",
        "\n",
        "1. Cells that only needs to run: These types of cells **don't need changes or additions to the code** and you would **just have to run them**. If this cell returns an error, the problem would be on the previous cell(s) that come before it.\n",
        "```python\n",
        "# Run the given cell\n",
        "variable = function(arg1,arg2)\n",
        "```\n",
        "\n",
        "2. Cells that are fill-in-the-blanks: These types of cells are commented and would have to edit the cell by uncommenting the code and fill in the missing parts in order to achieve a particular objective.\n",
        "```python\n",
        "# Fill in the blanks\n",
        "# ________ = __._______(________)\n",
        "```\n",
        "When filled-out, this would turn into:\n",
        "```python\n",
        "# Fill in the blanks\n",
        "variable = pd.function('value')\n",
        "```\n",
        "\n",
        "3. Cells that are completely blank: These cells do need to provide the code from scratch to achieve a particular objective.\n",
        "```python\n",
        "# Enter your code here\n",
        "```\n",
        "```python\n",
        "# Enter your code here\n",
        "my_data.method(arg='value', arg2='value2')\n",
        "```"
      ],
      "metadata": {
        "id": "maakGmIuKa8Q"
      }
    },
    {
      "cell_type": "markdown",
      "source": [
        "Although, there would be times that a \"Hint\" option would be given alongside the given objective. We can click them to show a hint in order to achieve a particular task."
      ],
      "metadata": {
        "id": "Xh9s4eVQNVQa"
      }
    },
    {
      "cell_type": "markdown",
      "source": [
        "**Press \"Hint\" below to show a hint.**\n",
        "\n",
        "<details>\n",
        "<summary>Hint</summary>\n",
        "\n",
        "You will be able to see a hint inside this area, something to keep in mind.\n",
        "\n",
        "```python\n",
        "# Some example codes would be given here as well\n",
        "```\n",
        "\n",
        "</details>"
      ],
      "metadata": {
        "id": "Ml8RYWG1G2aa"
      }
    },
    {
      "cell_type": "markdown",
      "source": [
        "## Business Context\n",
        "\n",
        "As a Data Analyst of a company owning a city hotel in a metropolitan area and a resort hotel located near a coastline both within the United States, you've been assigned by your manager to provide insights on the recent rise of hotel booking cancellations in both hotels for the past few months. These events causes the management to suffer financial losses and they would like to know some leads on reasons why customers cancel their room reservations."
      ],
      "metadata": {
        "id": "4AOYM2Qp3nmF"
      }
    },
    {
      "cell_type": "markdown",
      "source": [
        "## Dataset\n",
        "\n",
        "You've been given a dataset containing a list of bookings recorded in the booking system. Each row consist a booking made for a particular date and it also contains details containing the following:\n",
        "\n",
        "| Column Name                    | Description                                                                 |\n",
        "|--------------------------------|-----------------------------------------------------------------------------|\n",
        "| hotel                          | The type of hotel the booking was made                                      |\n",
        "| lead_time                      | The time (in hours) between the booking date and the expected arrival date  |\n",
        "| arrival_date_year              | The year of guest's expected arrival                                        |\n",
        "| arrival_date_month             | The month of guest's expected arrival                                       |\n",
        "| arrival_date_day_of_month      | The day of the month of guests's expected arrival                           |\n",
        "| adults                         | Describes how many guests in the booking are adults                         |\n",
        "| children                       | Describes how many guests in the booking are children                       |\n",
        "| babies                         | Describes how many guests in the booking are babies                         |\n",
        "| meal                           | A category that describes what type of meal ordered by the guest |\n",
        "| country                        | Country of Origin (in ISO 3166 Alpha-3 code format)                         |\n",
        "| is_repeated_guest              | Describes whether or not the guest have booked before                       |\n",
        "| previous_cancellations         | Describes the number of previous cancellations by the guest                 |\n",
        "| previous_bookings_not_canceled | Describes the number of previous non-canceled bookings by the guest         |\n",
        "| reserved_room_type             | A category that describes what room type the guest reserved                 |\n",
        "| assigned_room_type             | A category that describes what room type the guest received                 |\n",
        "| booking_changes                | The number of changes the customer did on the booking                       |\n",
        "| deposit_type                   | The type of payment deposit used by the guest                               |\n",
        "| days_in_waiting_list           | Describes the number of days the guest was in the waiting list              |\n",
        "| customer_type                  | Describes the type of guest in the booking                                  |\n",
        "| adr                            | The potential \"Average Daily Revenue\" of the booking                        |\n",
        "| car_parking_spaces             | The number of car parking spaces requested by the guest                     |\n",
        "| special_requests               | The number of special requests given by the guest                           |\n",
        "| status                         | The updated status of the booking                                           |\n",
        "| status_last_update             | The date of the status registered to the booking system                     |"
      ],
      "metadata": {
        "id": "uJzBxe7r4tjh"
      }
    },
    {
      "cell_type": "markdown",
      "source": [
        "## Importing Python Libraries\n",
        "\n",
        "For us to analyze the given data, we first have to import the necessary Python libraries."
      ],
      "metadata": {
        "id": "45PJd-Tb26Uv"
      }
    },
    {
      "cell_type": "markdown",
      "source": [
        "### Task 1: Import the following python libraries to be used for this task\n",
        "\n",
        "- `pandas` with alias `pd`\n",
        "- `matplotlib.pyplot` with alias `plt`\n",
        "- `seaborn` with alias `sns`"
      ],
      "metadata": {
        "id": "FBxWNX4nGZEJ"
      }
    },
    {
      "cell_type": "code",
      "source": [
        "# Enter your code here\n",
        "import pandas as pd\n",
        "import matplotlib.pyplot as plt\n",
        "import seaborn as sns"
      ],
      "metadata": {
        "id": "RuYFhW8K3m6T"
      },
      "execution_count": 4,
      "outputs": []
    },
    {
      "cell_type": "markdown",
      "source": [
        "## Dataset Loading\n",
        "\n",
        "Now that we've imported the libaries, it's time to load up the dataset.\n",
        "\n",
        "For this task, we're going to load up the `.csv` file named `hotel_bookings_data.csv`."
      ],
      "metadata": {
        "id": "SDKekccL2NHR"
      }
    },
    {
      "cell_type": "markdown",
      "source": [
        "### Task 2: Load the `.csv` file into a pandas dataframe and store it in a variable named `data`.\n",
        "\n",
        "Note: For us to find the dataset stored in our drive, you may want to first mount the drive by clicking on the mount button, or by running the given code below"
      ],
      "metadata": {
        "id": "Sfzm_FbxIf06"
      }
    },
    {
      "cell_type": "code",
      "source": [
        "from google.colab import drive\n",
        "df = pd.read_csv('/content/drive/MyDrive/Refocus Module/Jupyter Notebook-20230501T012835Z-001/Jupyter Notebook/datasets/hotel_bookings_data.csv')\n",
        "df.head()"
      ],
      "metadata": {
        "id": "5dTZ2IYfIQ73",
        "colab": {
          "base_uri": "https://localhost:8080/",
          "height": 332
        },
        "outputId": "6a15e79f-9129-4f17-c6e7-bf82598142c4"
      },
      "execution_count": 9,
      "outputs": [
        {
          "output_type": "execute_result",
          "data": {
            "text/plain": [
              "          hotel  lead_time  ...     status status_last_update\n",
              "0  Resort Hotel        342  ...  Check-Out           7/1/2015\n",
              "1  Resort Hotel        737  ...  Check-Out           7/1/2015\n",
              "2  Resort Hotel          7  ...  Check-Out           7/2/2015\n",
              "3  Resort Hotel         13  ...  Check-Out           7/2/2015\n",
              "4  Resort Hotel         14  ...  Check-Out           7/3/2015\n",
              "\n",
              "[5 rows x 24 columns]"
            ],
            "text/html": [
              "\n",
              "  <div id=\"df-33bc7a06-e27a-4791-9a87-c302496e696b\">\n",
              "    <div class=\"colab-df-container\">\n",
              "      <div>\n",
              "<style scoped>\n",
              "    .dataframe tbody tr th:only-of-type {\n",
              "        vertical-align: middle;\n",
              "    }\n",
              "\n",
              "    .dataframe tbody tr th {\n",
              "        vertical-align: top;\n",
              "    }\n",
              "\n",
              "    .dataframe thead th {\n",
              "        text-align: right;\n",
              "    }\n",
              "</style>\n",
              "<table border=\"1\" class=\"dataframe\">\n",
              "  <thead>\n",
              "    <tr style=\"text-align: right;\">\n",
              "      <th></th>\n",
              "      <th>hotel</th>\n",
              "      <th>lead_time</th>\n",
              "      <th>arrival_date_year</th>\n",
              "      <th>arrival_date_month</th>\n",
              "      <th>arrival_date_day_of_month</th>\n",
              "      <th>adults</th>\n",
              "      <th>children</th>\n",
              "      <th>babies</th>\n",
              "      <th>meal</th>\n",
              "      <th>country</th>\n",
              "      <th>is_repeated_guest</th>\n",
              "      <th>previous_cancellations</th>\n",
              "      <th>previous_bookings_not_canceled</th>\n",
              "      <th>reserved_room_type</th>\n",
              "      <th>assigned_room_type</th>\n",
              "      <th>booking_changes</th>\n",
              "      <th>deposit_type</th>\n",
              "      <th>days_in_waiting_list</th>\n",
              "      <th>customer_type</th>\n",
              "      <th>adr</th>\n",
              "      <th>car_parking_spaces</th>\n",
              "      <th>special_requests</th>\n",
              "      <th>status</th>\n",
              "      <th>status_last_update</th>\n",
              "    </tr>\n",
              "  </thead>\n",
              "  <tbody>\n",
              "    <tr>\n",
              "      <th>0</th>\n",
              "      <td>Resort Hotel</td>\n",
              "      <td>342</td>\n",
              "      <td>2015</td>\n",
              "      <td>July</td>\n",
              "      <td>1</td>\n",
              "      <td>2</td>\n",
              "      <td>0.0</td>\n",
              "      <td>0</td>\n",
              "      <td>BB</td>\n",
              "      <td>PRT</td>\n",
              "      <td>0</td>\n",
              "      <td>0</td>\n",
              "      <td>0</td>\n",
              "      <td>C</td>\n",
              "      <td>C</td>\n",
              "      <td>3</td>\n",
              "      <td>No Deposit</td>\n",
              "      <td>0</td>\n",
              "      <td>Transient</td>\n",
              "      <td>0.0</td>\n",
              "      <td>0</td>\n",
              "      <td>0</td>\n",
              "      <td>Check-Out</td>\n",
              "      <td>7/1/2015</td>\n",
              "    </tr>\n",
              "    <tr>\n",
              "      <th>1</th>\n",
              "      <td>Resort Hotel</td>\n",
              "      <td>737</td>\n",
              "      <td>2015</td>\n",
              "      <td>July</td>\n",
              "      <td>1</td>\n",
              "      <td>2</td>\n",
              "      <td>0.0</td>\n",
              "      <td>0</td>\n",
              "      <td>BB</td>\n",
              "      <td>PRT</td>\n",
              "      <td>0</td>\n",
              "      <td>0</td>\n",
              "      <td>0</td>\n",
              "      <td>C</td>\n",
              "      <td>C</td>\n",
              "      <td>4</td>\n",
              "      <td>No Deposit</td>\n",
              "      <td>0</td>\n",
              "      <td>Transient</td>\n",
              "      <td>0.0</td>\n",
              "      <td>0</td>\n",
              "      <td>0</td>\n",
              "      <td>Check-Out</td>\n",
              "      <td>7/1/2015</td>\n",
              "    </tr>\n",
              "    <tr>\n",
              "      <th>2</th>\n",
              "      <td>Resort Hotel</td>\n",
              "      <td>7</td>\n",
              "      <td>2015</td>\n",
              "      <td>July</td>\n",
              "      <td>1</td>\n",
              "      <td>1</td>\n",
              "      <td>0.0</td>\n",
              "      <td>0</td>\n",
              "      <td>BB</td>\n",
              "      <td>GBR</td>\n",
              "      <td>0</td>\n",
              "      <td>0</td>\n",
              "      <td>0</td>\n",
              "      <td>A</td>\n",
              "      <td>C</td>\n",
              "      <td>0</td>\n",
              "      <td>No Deposit</td>\n",
              "      <td>0</td>\n",
              "      <td>Transient</td>\n",
              "      <td>75.0</td>\n",
              "      <td>0</td>\n",
              "      <td>0</td>\n",
              "      <td>Check-Out</td>\n",
              "      <td>7/2/2015</td>\n",
              "    </tr>\n",
              "    <tr>\n",
              "      <th>3</th>\n",
              "      <td>Resort Hotel</td>\n",
              "      <td>13</td>\n",
              "      <td>2015</td>\n",
              "      <td>July</td>\n",
              "      <td>1</td>\n",
              "      <td>1</td>\n",
              "      <td>0.0</td>\n",
              "      <td>0</td>\n",
              "      <td>BB</td>\n",
              "      <td>GBR</td>\n",
              "      <td>0</td>\n",
              "      <td>0</td>\n",
              "      <td>0</td>\n",
              "      <td>A</td>\n",
              "      <td>A</td>\n",
              "      <td>0</td>\n",
              "      <td>No Deposit</td>\n",
              "      <td>0</td>\n",
              "      <td>Transient</td>\n",
              "      <td>75.0</td>\n",
              "      <td>0</td>\n",
              "      <td>0</td>\n",
              "      <td>Check-Out</td>\n",
              "      <td>7/2/2015</td>\n",
              "    </tr>\n",
              "    <tr>\n",
              "      <th>4</th>\n",
              "      <td>Resort Hotel</td>\n",
              "      <td>14</td>\n",
              "      <td>2015</td>\n",
              "      <td>July</td>\n",
              "      <td>1</td>\n",
              "      <td>2</td>\n",
              "      <td>0.0</td>\n",
              "      <td>0</td>\n",
              "      <td>BB</td>\n",
              "      <td>GBR</td>\n",
              "      <td>0</td>\n",
              "      <td>0</td>\n",
              "      <td>0</td>\n",
              "      <td>A</td>\n",
              "      <td>A</td>\n",
              "      <td>0</td>\n",
              "      <td>No Deposit</td>\n",
              "      <td>0</td>\n",
              "      <td>Transient</td>\n",
              "      <td>98.0</td>\n",
              "      <td>0</td>\n",
              "      <td>1</td>\n",
              "      <td>Check-Out</td>\n",
              "      <td>7/3/2015</td>\n",
              "    </tr>\n",
              "  </tbody>\n",
              "</table>\n",
              "</div>\n",
              "      <button class=\"colab-df-convert\" onclick=\"convertToInteractive('df-33bc7a06-e27a-4791-9a87-c302496e696b')\"\n",
              "              title=\"Convert this dataframe to an interactive table.\"\n",
              "              style=\"display:none;\">\n",
              "        \n",
              "  <svg xmlns=\"http://www.w3.org/2000/svg\" height=\"24px\"viewBox=\"0 0 24 24\"\n",
              "       width=\"24px\">\n",
              "    <path d=\"M0 0h24v24H0V0z\" fill=\"none\"/>\n",
              "    <path d=\"M18.56 5.44l.94 2.06.94-2.06 2.06-.94-2.06-.94-.94-2.06-.94 2.06-2.06.94zm-11 1L8.5 8.5l.94-2.06 2.06-.94-2.06-.94L8.5 2.5l-.94 2.06-2.06.94zm10 10l.94 2.06.94-2.06 2.06-.94-2.06-.94-.94-2.06-.94 2.06-2.06.94z\"/><path d=\"M17.41 7.96l-1.37-1.37c-.4-.4-.92-.59-1.43-.59-.52 0-1.04.2-1.43.59L10.3 9.45l-7.72 7.72c-.78.78-.78 2.05 0 2.83L4 21.41c.39.39.9.59 1.41.59.51 0 1.02-.2 1.41-.59l7.78-7.78 2.81-2.81c.8-.78.8-2.07 0-2.86zM5.41 20L4 18.59l7.72-7.72 1.47 1.35L5.41 20z\"/>\n",
              "  </svg>\n",
              "      </button>\n",
              "      \n",
              "  <style>\n",
              "    .colab-df-container {\n",
              "      display:flex;\n",
              "      flex-wrap:wrap;\n",
              "      gap: 12px;\n",
              "    }\n",
              "\n",
              "    .colab-df-convert {\n",
              "      background-color: #E8F0FE;\n",
              "      border: none;\n",
              "      border-radius: 50%;\n",
              "      cursor: pointer;\n",
              "      display: none;\n",
              "      fill: #1967D2;\n",
              "      height: 32px;\n",
              "      padding: 0 0 0 0;\n",
              "      width: 32px;\n",
              "    }\n",
              "\n",
              "    .colab-df-convert:hover {\n",
              "      background-color: #E2EBFA;\n",
              "      box-shadow: 0px 1px 2px rgba(60, 64, 67, 0.3), 0px 1px 3px 1px rgba(60, 64, 67, 0.15);\n",
              "      fill: #174EA6;\n",
              "    }\n",
              "\n",
              "    [theme=dark] .colab-df-convert {\n",
              "      background-color: #3B4455;\n",
              "      fill: #D2E3FC;\n",
              "    }\n",
              "\n",
              "    [theme=dark] .colab-df-convert:hover {\n",
              "      background-color: #434B5C;\n",
              "      box-shadow: 0px 1px 3px 1px rgba(0, 0, 0, 0.15);\n",
              "      filter: drop-shadow(0px 1px 2px rgba(0, 0, 0, 0.3));\n",
              "      fill: #FFFFFF;\n",
              "    }\n",
              "  </style>\n",
              "\n",
              "      <script>\n",
              "        const buttonEl =\n",
              "          document.querySelector('#df-33bc7a06-e27a-4791-9a87-c302496e696b button.colab-df-convert');\n",
              "        buttonEl.style.display =\n",
              "          google.colab.kernel.accessAllowed ? 'block' : 'none';\n",
              "\n",
              "        async function convertToInteractive(key) {\n",
              "          const element = document.querySelector('#df-33bc7a06-e27a-4791-9a87-c302496e696b');\n",
              "          const dataTable =\n",
              "            await google.colab.kernel.invokeFunction('convertToInteractive',\n",
              "                                                     [key], {});\n",
              "          if (!dataTable) return;\n",
              "\n",
              "          const docLinkHtml = 'Like what you see? Visit the ' +\n",
              "            '<a target=\"_blank\" href=https://colab.research.google.com/notebooks/data_table.ipynb>data table notebook</a>'\n",
              "            + ' to learn more about interactive tables.';\n",
              "          element.innerHTML = '';\n",
              "          dataTable['output_type'] = 'display_data';\n",
              "          await google.colab.output.renderOutput(dataTable, element);\n",
              "          const docLink = document.createElement('div');\n",
              "          docLink.innerHTML = docLinkHtml;\n",
              "          element.appendChild(docLink);\n",
              "        }\n",
              "      </script>\n",
              "    </div>\n",
              "  </div>\n",
              "  "
            ]
          },
          "metadata": {},
          "execution_count": 9
        },
        {
          "output_type": "stream",
          "name": "stdout",
          "text": [
            "Warning: Total number of columns (24) exceeds max_columns (20) limiting to first (20) columns.\n"
          ]
        }
      ]
    },
    {
      "cell_type": "markdown",
      "source": [
        "Another thing is that we make sure to download the given dataset and upload it to your Drive. You may use the given link for download:\n",
        "```\n",
        "https://drive.google.com/uc?export=download&id=1sd_kQmPppftKdSIeSL2MXXc7bwQoveTr\n",
        "```"
      ],
      "metadata": {
        "id": "K4EC9vnPNl70"
      }
    },
    {
      "cell_type": "markdown",
      "source": [
        "After mounting the drive and uploading the dataset on it, we can import the given dataset."
      ],
      "metadata": {
        "id": "nyejReARJ08e"
      }
    },
    {
      "cell_type": "code",
      "execution_count": null,
      "metadata": {
        "id": "wWPm56ydvjYh"
      },
      "outputs": [],
      "source": [
        "# Fill in the blanks\n",
        "\n",
        "# data = ____._______(__________)"
      ]
    },
    {
      "cell_type": "code",
      "source": [
        "data = pd.read_csv('/content/drive/MyDrive/Refocus Module/Jupyter Notebook-20230501T012835Z-001/Jupyter Notebook/datasets/hotel_bookings_data.csv')"
      ],
      "metadata": {
        "id": "zO8Pro5VlmKq"
      },
      "execution_count": 11,
      "outputs": []
    },
    {
      "cell_type": "markdown",
      "source": [
        "<details>\n",
        "<summary>Hint</summary>\n",
        "\n",
        "You can use pandas `read_csv()` function in order to load up a `.csv` file.\n",
        "```python\n",
        "my_variable = pd.read_csv('file/to/path.csv', ...)\n",
        "```\n",
        "\n",
        "</details>"
      ],
      "metadata": {
        "id": "VJdBdzZSKH3U"
      }
    },
    {
      "cell_type": "markdown",
      "source": [
        "To check if the loading was successful, we can use the `.head()` method to show the top 5 rows in the data"
      ],
      "metadata": {
        "id": "C5lHdIhyLm2I"
      }
    },
    {
      "cell_type": "code",
      "source": [
        "# Run the given cell\n",
        "data.head()"
      ],
      "metadata": {
        "id": "6olzBC9mLlvk",
        "colab": {
          "base_uri": "https://localhost:8080/",
          "height": 357
        },
        "outputId": "82e3b35b-eabe-4881-c650-f9622756e1c2"
      },
      "execution_count": 12,
      "outputs": [
        {
          "output_type": "execute_result",
          "data": {
            "text/plain": [
              "          hotel  lead_time  ...     status status_last_update\n",
              "0  Resort Hotel        342  ...  Check-Out           7/1/2015\n",
              "1  Resort Hotel        737  ...  Check-Out           7/1/2015\n",
              "2  Resort Hotel          7  ...  Check-Out           7/2/2015\n",
              "3  Resort Hotel         13  ...  Check-Out           7/2/2015\n",
              "4  Resort Hotel         14  ...  Check-Out           7/3/2015\n",
              "\n",
              "[5 rows x 24 columns]"
            ],
            "text/html": [
              "\n",
              "  <div id=\"df-8bc5ea3f-3b13-4a08-8084-d9688f504baf\">\n",
              "    <div class=\"colab-df-container\">\n",
              "      <div>\n",
              "<style scoped>\n",
              "    .dataframe tbody tr th:only-of-type {\n",
              "        vertical-align: middle;\n",
              "    }\n",
              "\n",
              "    .dataframe tbody tr th {\n",
              "        vertical-align: top;\n",
              "    }\n",
              "\n",
              "    .dataframe thead th {\n",
              "        text-align: right;\n",
              "    }\n",
              "</style>\n",
              "<table border=\"1\" class=\"dataframe\">\n",
              "  <thead>\n",
              "    <tr style=\"text-align: right;\">\n",
              "      <th></th>\n",
              "      <th>hotel</th>\n",
              "      <th>lead_time</th>\n",
              "      <th>arrival_date_year</th>\n",
              "      <th>arrival_date_month</th>\n",
              "      <th>arrival_date_day_of_month</th>\n",
              "      <th>adults</th>\n",
              "      <th>children</th>\n",
              "      <th>babies</th>\n",
              "      <th>meal</th>\n",
              "      <th>country</th>\n",
              "      <th>is_repeated_guest</th>\n",
              "      <th>previous_cancellations</th>\n",
              "      <th>previous_bookings_not_canceled</th>\n",
              "      <th>reserved_room_type</th>\n",
              "      <th>assigned_room_type</th>\n",
              "      <th>booking_changes</th>\n",
              "      <th>deposit_type</th>\n",
              "      <th>days_in_waiting_list</th>\n",
              "      <th>customer_type</th>\n",
              "      <th>adr</th>\n",
              "      <th>car_parking_spaces</th>\n",
              "      <th>special_requests</th>\n",
              "      <th>status</th>\n",
              "      <th>status_last_update</th>\n",
              "    </tr>\n",
              "  </thead>\n",
              "  <tbody>\n",
              "    <tr>\n",
              "      <th>0</th>\n",
              "      <td>Resort Hotel</td>\n",
              "      <td>342</td>\n",
              "      <td>2015</td>\n",
              "      <td>July</td>\n",
              "      <td>1</td>\n",
              "      <td>2</td>\n",
              "      <td>0.0</td>\n",
              "      <td>0</td>\n",
              "      <td>BB</td>\n",
              "      <td>PRT</td>\n",
              "      <td>0</td>\n",
              "      <td>0</td>\n",
              "      <td>0</td>\n",
              "      <td>C</td>\n",
              "      <td>C</td>\n",
              "      <td>3</td>\n",
              "      <td>No Deposit</td>\n",
              "      <td>0</td>\n",
              "      <td>Transient</td>\n",
              "      <td>0.0</td>\n",
              "      <td>0</td>\n",
              "      <td>0</td>\n",
              "      <td>Check-Out</td>\n",
              "      <td>7/1/2015</td>\n",
              "    </tr>\n",
              "    <tr>\n",
              "      <th>1</th>\n",
              "      <td>Resort Hotel</td>\n",
              "      <td>737</td>\n",
              "      <td>2015</td>\n",
              "      <td>July</td>\n",
              "      <td>1</td>\n",
              "      <td>2</td>\n",
              "      <td>0.0</td>\n",
              "      <td>0</td>\n",
              "      <td>BB</td>\n",
              "      <td>PRT</td>\n",
              "      <td>0</td>\n",
              "      <td>0</td>\n",
              "      <td>0</td>\n",
              "      <td>C</td>\n",
              "      <td>C</td>\n",
              "      <td>4</td>\n",
              "      <td>No Deposit</td>\n",
              "      <td>0</td>\n",
              "      <td>Transient</td>\n",
              "      <td>0.0</td>\n",
              "      <td>0</td>\n",
              "      <td>0</td>\n",
              "      <td>Check-Out</td>\n",
              "      <td>7/1/2015</td>\n",
              "    </tr>\n",
              "    <tr>\n",
              "      <th>2</th>\n",
              "      <td>Resort Hotel</td>\n",
              "      <td>7</td>\n",
              "      <td>2015</td>\n",
              "      <td>July</td>\n",
              "      <td>1</td>\n",
              "      <td>1</td>\n",
              "      <td>0.0</td>\n",
              "      <td>0</td>\n",
              "      <td>BB</td>\n",
              "      <td>GBR</td>\n",
              "      <td>0</td>\n",
              "      <td>0</td>\n",
              "      <td>0</td>\n",
              "      <td>A</td>\n",
              "      <td>C</td>\n",
              "      <td>0</td>\n",
              "      <td>No Deposit</td>\n",
              "      <td>0</td>\n",
              "      <td>Transient</td>\n",
              "      <td>75.0</td>\n",
              "      <td>0</td>\n",
              "      <td>0</td>\n",
              "      <td>Check-Out</td>\n",
              "      <td>7/2/2015</td>\n",
              "    </tr>\n",
              "    <tr>\n",
              "      <th>3</th>\n",
              "      <td>Resort Hotel</td>\n",
              "      <td>13</td>\n",
              "      <td>2015</td>\n",
              "      <td>July</td>\n",
              "      <td>1</td>\n",
              "      <td>1</td>\n",
              "      <td>0.0</td>\n",
              "      <td>0</td>\n",
              "      <td>BB</td>\n",
              "      <td>GBR</td>\n",
              "      <td>0</td>\n",
              "      <td>0</td>\n",
              "      <td>0</td>\n",
              "      <td>A</td>\n",
              "      <td>A</td>\n",
              "      <td>0</td>\n",
              "      <td>No Deposit</td>\n",
              "      <td>0</td>\n",
              "      <td>Transient</td>\n",
              "      <td>75.0</td>\n",
              "      <td>0</td>\n",
              "      <td>0</td>\n",
              "      <td>Check-Out</td>\n",
              "      <td>7/2/2015</td>\n",
              "    </tr>\n",
              "    <tr>\n",
              "      <th>4</th>\n",
              "      <td>Resort Hotel</td>\n",
              "      <td>14</td>\n",
              "      <td>2015</td>\n",
              "      <td>July</td>\n",
              "      <td>1</td>\n",
              "      <td>2</td>\n",
              "      <td>0.0</td>\n",
              "      <td>0</td>\n",
              "      <td>BB</td>\n",
              "      <td>GBR</td>\n",
              "      <td>0</td>\n",
              "      <td>0</td>\n",
              "      <td>0</td>\n",
              "      <td>A</td>\n",
              "      <td>A</td>\n",
              "      <td>0</td>\n",
              "      <td>No Deposit</td>\n",
              "      <td>0</td>\n",
              "      <td>Transient</td>\n",
              "      <td>98.0</td>\n",
              "      <td>0</td>\n",
              "      <td>1</td>\n",
              "      <td>Check-Out</td>\n",
              "      <td>7/3/2015</td>\n",
              "    </tr>\n",
              "  </tbody>\n",
              "</table>\n",
              "</div>\n",
              "      <button class=\"colab-df-convert\" onclick=\"convertToInteractive('df-8bc5ea3f-3b13-4a08-8084-d9688f504baf')\"\n",
              "              title=\"Convert this dataframe to an interactive table.\"\n",
              "              style=\"display:none;\">\n",
              "        \n",
              "  <svg xmlns=\"http://www.w3.org/2000/svg\" height=\"24px\"viewBox=\"0 0 24 24\"\n",
              "       width=\"24px\">\n",
              "    <path d=\"M0 0h24v24H0V0z\" fill=\"none\"/>\n",
              "    <path d=\"M18.56 5.44l.94 2.06.94-2.06 2.06-.94-2.06-.94-.94-2.06-.94 2.06-2.06.94zm-11 1L8.5 8.5l.94-2.06 2.06-.94-2.06-.94L8.5 2.5l-.94 2.06-2.06.94zm10 10l.94 2.06.94-2.06 2.06-.94-2.06-.94-.94-2.06-.94 2.06-2.06.94z\"/><path d=\"M17.41 7.96l-1.37-1.37c-.4-.4-.92-.59-1.43-.59-.52 0-1.04.2-1.43.59L10.3 9.45l-7.72 7.72c-.78.78-.78 2.05 0 2.83L4 21.41c.39.39.9.59 1.41.59.51 0 1.02-.2 1.41-.59l7.78-7.78 2.81-2.81c.8-.78.8-2.07 0-2.86zM5.41 20L4 18.59l7.72-7.72 1.47 1.35L5.41 20z\"/>\n",
              "  </svg>\n",
              "      </button>\n",
              "      \n",
              "  <style>\n",
              "    .colab-df-container {\n",
              "      display:flex;\n",
              "      flex-wrap:wrap;\n",
              "      gap: 12px;\n",
              "    }\n",
              "\n",
              "    .colab-df-convert {\n",
              "      background-color: #E8F0FE;\n",
              "      border: none;\n",
              "      border-radius: 50%;\n",
              "      cursor: pointer;\n",
              "      display: none;\n",
              "      fill: #1967D2;\n",
              "      height: 32px;\n",
              "      padding: 0 0 0 0;\n",
              "      width: 32px;\n",
              "    }\n",
              "\n",
              "    .colab-df-convert:hover {\n",
              "      background-color: #E2EBFA;\n",
              "      box-shadow: 0px 1px 2px rgba(60, 64, 67, 0.3), 0px 1px 3px 1px rgba(60, 64, 67, 0.15);\n",
              "      fill: #174EA6;\n",
              "    }\n",
              "\n",
              "    [theme=dark] .colab-df-convert {\n",
              "      background-color: #3B4455;\n",
              "      fill: #D2E3FC;\n",
              "    }\n",
              "\n",
              "    [theme=dark] .colab-df-convert:hover {\n",
              "      background-color: #434B5C;\n",
              "      box-shadow: 0px 1px 3px 1px rgba(0, 0, 0, 0.15);\n",
              "      filter: drop-shadow(0px 1px 2px rgba(0, 0, 0, 0.3));\n",
              "      fill: #FFFFFF;\n",
              "    }\n",
              "  </style>\n",
              "\n",
              "      <script>\n",
              "        const buttonEl =\n",
              "          document.querySelector('#df-8bc5ea3f-3b13-4a08-8084-d9688f504baf button.colab-df-convert');\n",
              "        buttonEl.style.display =\n",
              "          google.colab.kernel.accessAllowed ? 'block' : 'none';\n",
              "\n",
              "        async function convertToInteractive(key) {\n",
              "          const element = document.querySelector('#df-8bc5ea3f-3b13-4a08-8084-d9688f504baf');\n",
              "          const dataTable =\n",
              "            await google.colab.kernel.invokeFunction('convertToInteractive',\n",
              "                                                     [key], {});\n",
              "          if (!dataTable) return;\n",
              "\n",
              "          const docLinkHtml = 'Like what you see? Visit the ' +\n",
              "            '<a target=\"_blank\" href=https://colab.research.google.com/notebooks/data_table.ipynb>data table notebook</a>'\n",
              "            + ' to learn more about interactive tables.';\n",
              "          element.innerHTML = '';\n",
              "          dataTable['output_type'] = 'display_data';\n",
              "          await google.colab.output.renderOutput(dataTable, element);\n",
              "          const docLink = document.createElement('div');\n",
              "          docLink.innerHTML = docLinkHtml;\n",
              "          element.appendChild(docLink);\n",
              "        }\n",
              "      </script>\n",
              "    </div>\n",
              "  </div>\n",
              "  "
            ]
          },
          "metadata": {},
          "execution_count": 12
        }
      ]
    },
    {
      "cell_type": "markdown",
      "source": [
        "We can also check the dataframe details as well using `.info()` method"
      ],
      "metadata": {
        "id": "107KVL5QMRQJ"
      }
    },
    {
      "cell_type": "code",
      "source": [
        "# Run the given cell\n",
        "data.info()"
      ],
      "metadata": {
        "id": "-TDk4BsIMaFN",
        "colab": {
          "base_uri": "https://localhost:8080/"
        },
        "outputId": "70b9ac85-6138-46e8-a3fe-bd5d47efbe1d"
      },
      "execution_count": 13,
      "outputs": [
        {
          "output_type": "stream",
          "name": "stdout",
          "text": [
            "<class 'pandas.core.frame.DataFrame'>\n",
            "RangeIndex: 119390 entries, 0 to 119389\n",
            "Data columns (total 24 columns):\n",
            " #   Column                          Non-Null Count   Dtype  \n",
            "---  ------                          --------------   -----  \n",
            " 0   hotel                           119390 non-null  object \n",
            " 1   lead_time                       119390 non-null  int64  \n",
            " 2   arrival_date_year               119390 non-null  int64  \n",
            " 3   arrival_date_month              119390 non-null  object \n",
            " 4   arrival_date_day_of_month       119390 non-null  int64  \n",
            " 5   adults                          119390 non-null  int64  \n",
            " 6   children                        119386 non-null  float64\n",
            " 7   babies                          119390 non-null  int64  \n",
            " 8   meal                            119390 non-null  object \n",
            " 9   country                         118902 non-null  object \n",
            " 10  is_repeated_guest               119390 non-null  int64  \n",
            " 11  previous_cancellations          119390 non-null  int64  \n",
            " 12  previous_bookings_not_canceled  119390 non-null  int64  \n",
            " 13  reserved_room_type              119390 non-null  object \n",
            " 14  assigned_room_type              119390 non-null  object \n",
            " 15  booking_changes                 119390 non-null  int64  \n",
            " 16  deposit_type                    119390 non-null  object \n",
            " 17  days_in_waiting_list            119390 non-null  int64  \n",
            " 18  customer_type                   119390 non-null  object \n",
            " 19  adr                             119390 non-null  float64\n",
            " 20  car_parking_spaces              119390 non-null  int64  \n",
            " 21  special_requests                119390 non-null  int64  \n",
            " 22  status                          119390 non-null  object \n",
            " 23  status_last_update              119390 non-null  object \n",
            "dtypes: float64(2), int64(12), object(10)\n",
            "memory usage: 21.9+ MB\n"
          ]
        }
      ]
    },
    {
      "cell_type": "markdown",
      "source": [
        "## Data Cleaning\n",
        "\n",
        "Before proceeding to the analysis, we would have to clean up the data first.\n",
        "\n",
        "Keep in mind that before analyzing any form of data, we have to make sure that the data we have on hand is clean and free of irregularities."
      ],
      "metadata": {
        "id": "AsQHN9Hi2PIT"
      }
    },
    {
      "cell_type": "markdown",
      "source": [
        "### Task 3: Remove all completely duplicated rows in the dataframe `data`\n",
        "\n"
      ],
      "metadata": {
        "id": "qOwWY8MSNDi3"
      }
    },
    {
      "cell_type": "markdown",
      "source": [
        "To start off, we can first check if there are any duplicates found in the dataset.\n"
      ],
      "metadata": {
        "id": "hs_ytDksPNyn"
      }
    },
    {
      "cell_type": "code",
      "source": [
        "# Run the given cell\n",
        "data[data.duplicated()]"
      ],
      "metadata": {
        "id": "XP5xLdy5Ou0G",
        "colab": {
          "base_uri": "https://localhost:8080/",
          "height": 661
        },
        "outputId": "754a52a3-2e44-4eee-ad3d-7d1f984b0a95"
      },
      "execution_count": 14,
      "outputs": [
        {
          "output_type": "execute_result",
          "data": {
            "text/plain": [
              "               hotel  lead_time  ...     status status_last_update\n",
              "5       Resort Hotel         14  ...  Check-Out           7/3/2015\n",
              "22      Resort Hotel         72  ...  Check-Out           7/7/2015\n",
              "43      Resort Hotel         70  ...  Check-Out           7/7/2015\n",
              "138     Resort Hotel          5  ...   Canceled           7/1/2015\n",
              "200     Resort Hotel          0  ...  Check-Out           7/8/2015\n",
              "...              ...        ...  ...        ...                ...\n",
              "119349    City Hotel        186  ...  Check-Out           9/3/2017\n",
              "119352    City Hotel         63  ...  Check-Out           9/3/2017\n",
              "119353    City Hotel         63  ...  Check-Out           9/3/2017\n",
              "119354    City Hotel         63  ...  Check-Out           9/3/2017\n",
              "119373    City Hotel        175  ...  Check-Out           9/4/2017\n",
              "\n",
              "[32090 rows x 24 columns]"
            ],
            "text/html": [
              "\n",
              "  <div id=\"df-720d63e8-da96-4eaa-ae91-11b610faf723\">\n",
              "    <div class=\"colab-df-container\">\n",
              "      <div>\n",
              "<style scoped>\n",
              "    .dataframe tbody tr th:only-of-type {\n",
              "        vertical-align: middle;\n",
              "    }\n",
              "\n",
              "    .dataframe tbody tr th {\n",
              "        vertical-align: top;\n",
              "    }\n",
              "\n",
              "    .dataframe thead th {\n",
              "        text-align: right;\n",
              "    }\n",
              "</style>\n",
              "<table border=\"1\" class=\"dataframe\">\n",
              "  <thead>\n",
              "    <tr style=\"text-align: right;\">\n",
              "      <th></th>\n",
              "      <th>hotel</th>\n",
              "      <th>lead_time</th>\n",
              "      <th>arrival_date_year</th>\n",
              "      <th>arrival_date_month</th>\n",
              "      <th>arrival_date_day_of_month</th>\n",
              "      <th>adults</th>\n",
              "      <th>children</th>\n",
              "      <th>babies</th>\n",
              "      <th>meal</th>\n",
              "      <th>country</th>\n",
              "      <th>is_repeated_guest</th>\n",
              "      <th>previous_cancellations</th>\n",
              "      <th>previous_bookings_not_canceled</th>\n",
              "      <th>reserved_room_type</th>\n",
              "      <th>assigned_room_type</th>\n",
              "      <th>booking_changes</th>\n",
              "      <th>deposit_type</th>\n",
              "      <th>days_in_waiting_list</th>\n",
              "      <th>customer_type</th>\n",
              "      <th>adr</th>\n",
              "      <th>car_parking_spaces</th>\n",
              "      <th>special_requests</th>\n",
              "      <th>status</th>\n",
              "      <th>status_last_update</th>\n",
              "    </tr>\n",
              "  </thead>\n",
              "  <tbody>\n",
              "    <tr>\n",
              "      <th>5</th>\n",
              "      <td>Resort Hotel</td>\n",
              "      <td>14</td>\n",
              "      <td>2015</td>\n",
              "      <td>July</td>\n",
              "      <td>1</td>\n",
              "      <td>2</td>\n",
              "      <td>0.0</td>\n",
              "      <td>0</td>\n",
              "      <td>BB</td>\n",
              "      <td>GBR</td>\n",
              "      <td>0</td>\n",
              "      <td>0</td>\n",
              "      <td>0</td>\n",
              "      <td>A</td>\n",
              "      <td>A</td>\n",
              "      <td>0</td>\n",
              "      <td>No Deposit</td>\n",
              "      <td>0</td>\n",
              "      <td>Transient</td>\n",
              "      <td>98.00</td>\n",
              "      <td>0</td>\n",
              "      <td>1</td>\n",
              "      <td>Check-Out</td>\n",
              "      <td>7/3/2015</td>\n",
              "    </tr>\n",
              "    <tr>\n",
              "      <th>22</th>\n",
              "      <td>Resort Hotel</td>\n",
              "      <td>72</td>\n",
              "      <td>2015</td>\n",
              "      <td>July</td>\n",
              "      <td>1</td>\n",
              "      <td>2</td>\n",
              "      <td>0.0</td>\n",
              "      <td>0</td>\n",
              "      <td>BB</td>\n",
              "      <td>PRT</td>\n",
              "      <td>0</td>\n",
              "      <td>0</td>\n",
              "      <td>0</td>\n",
              "      <td>A</td>\n",
              "      <td>A</td>\n",
              "      <td>1</td>\n",
              "      <td>No Deposit</td>\n",
              "      <td>0</td>\n",
              "      <td>Transient</td>\n",
              "      <td>84.67</td>\n",
              "      <td>0</td>\n",
              "      <td>1</td>\n",
              "      <td>Check-Out</td>\n",
              "      <td>7/7/2015</td>\n",
              "    </tr>\n",
              "    <tr>\n",
              "      <th>43</th>\n",
              "      <td>Resort Hotel</td>\n",
              "      <td>70</td>\n",
              "      <td>2015</td>\n",
              "      <td>July</td>\n",
              "      <td>2</td>\n",
              "      <td>2</td>\n",
              "      <td>0.0</td>\n",
              "      <td>0</td>\n",
              "      <td>HB</td>\n",
              "      <td>ROU</td>\n",
              "      <td>0</td>\n",
              "      <td>0</td>\n",
              "      <td>0</td>\n",
              "      <td>E</td>\n",
              "      <td>E</td>\n",
              "      <td>0</td>\n",
              "      <td>No Deposit</td>\n",
              "      <td>0</td>\n",
              "      <td>Transient</td>\n",
              "      <td>137.00</td>\n",
              "      <td>0</td>\n",
              "      <td>1</td>\n",
              "      <td>Check-Out</td>\n",
              "      <td>7/7/2015</td>\n",
              "    </tr>\n",
              "    <tr>\n",
              "      <th>138</th>\n",
              "      <td>Resort Hotel</td>\n",
              "      <td>5</td>\n",
              "      <td>2015</td>\n",
              "      <td>July</td>\n",
              "      <td>5</td>\n",
              "      <td>2</td>\n",
              "      <td>0.0</td>\n",
              "      <td>0</td>\n",
              "      <td>BB</td>\n",
              "      <td>PRT</td>\n",
              "      <td>0</td>\n",
              "      <td>0</td>\n",
              "      <td>0</td>\n",
              "      <td>D</td>\n",
              "      <td>D</td>\n",
              "      <td>0</td>\n",
              "      <td>No Deposit</td>\n",
              "      <td>0</td>\n",
              "      <td>Transient</td>\n",
              "      <td>97.00</td>\n",
              "      <td>0</td>\n",
              "      <td>0</td>\n",
              "      <td>Canceled</td>\n",
              "      <td>7/1/2015</td>\n",
              "    </tr>\n",
              "    <tr>\n",
              "      <th>200</th>\n",
              "      <td>Resort Hotel</td>\n",
              "      <td>0</td>\n",
              "      <td>2015</td>\n",
              "      <td>July</td>\n",
              "      <td>7</td>\n",
              "      <td>1</td>\n",
              "      <td>0.0</td>\n",
              "      <td>0</td>\n",
              "      <td>BB</td>\n",
              "      <td>GBR</td>\n",
              "      <td>0</td>\n",
              "      <td>0</td>\n",
              "      <td>0</td>\n",
              "      <td>A</td>\n",
              "      <td>A</td>\n",
              "      <td>0</td>\n",
              "      <td>No Deposit</td>\n",
              "      <td>0</td>\n",
              "      <td>Transient</td>\n",
              "      <td>109.80</td>\n",
              "      <td>0</td>\n",
              "      <td>3</td>\n",
              "      <td>Check-Out</td>\n",
              "      <td>7/8/2015</td>\n",
              "    </tr>\n",
              "    <tr>\n",
              "      <th>...</th>\n",
              "      <td>...</td>\n",
              "      <td>...</td>\n",
              "      <td>...</td>\n",
              "      <td>...</td>\n",
              "      <td>...</td>\n",
              "      <td>...</td>\n",
              "      <td>...</td>\n",
              "      <td>...</td>\n",
              "      <td>...</td>\n",
              "      <td>...</td>\n",
              "      <td>...</td>\n",
              "      <td>...</td>\n",
              "      <td>...</td>\n",
              "      <td>...</td>\n",
              "      <td>...</td>\n",
              "      <td>...</td>\n",
              "      <td>...</td>\n",
              "      <td>...</td>\n",
              "      <td>...</td>\n",
              "      <td>...</td>\n",
              "      <td>...</td>\n",
              "      <td>...</td>\n",
              "      <td>...</td>\n",
              "      <td>...</td>\n",
              "    </tr>\n",
              "    <tr>\n",
              "      <th>119349</th>\n",
              "      <td>City Hotel</td>\n",
              "      <td>186</td>\n",
              "      <td>2017</td>\n",
              "      <td>August</td>\n",
              "      <td>31</td>\n",
              "      <td>2</td>\n",
              "      <td>0.0</td>\n",
              "      <td>0</td>\n",
              "      <td>BB</td>\n",
              "      <td>DEU</td>\n",
              "      <td>0</td>\n",
              "      <td>0</td>\n",
              "      <td>0</td>\n",
              "      <td>D</td>\n",
              "      <td>D</td>\n",
              "      <td>0</td>\n",
              "      <td>No Deposit</td>\n",
              "      <td>0</td>\n",
              "      <td>Transient</td>\n",
              "      <td>126.00</td>\n",
              "      <td>0</td>\n",
              "      <td>2</td>\n",
              "      <td>Check-Out</td>\n",
              "      <td>9/3/2017</td>\n",
              "    </tr>\n",
              "    <tr>\n",
              "      <th>119352</th>\n",
              "      <td>City Hotel</td>\n",
              "      <td>63</td>\n",
              "      <td>2017</td>\n",
              "      <td>August</td>\n",
              "      <td>31</td>\n",
              "      <td>3</td>\n",
              "      <td>0.0</td>\n",
              "      <td>0</td>\n",
              "      <td>BB</td>\n",
              "      <td>SWE</td>\n",
              "      <td>0</td>\n",
              "      <td>0</td>\n",
              "      <td>0</td>\n",
              "      <td>D</td>\n",
              "      <td>D</td>\n",
              "      <td>0</td>\n",
              "      <td>No Deposit</td>\n",
              "      <td>0</td>\n",
              "      <td>Transient-Party</td>\n",
              "      <td>195.33</td>\n",
              "      <td>0</td>\n",
              "      <td>2</td>\n",
              "      <td>Check-Out</td>\n",
              "      <td>9/3/2017</td>\n",
              "    </tr>\n",
              "    <tr>\n",
              "      <th>119353</th>\n",
              "      <td>City Hotel</td>\n",
              "      <td>63</td>\n",
              "      <td>2017</td>\n",
              "      <td>August</td>\n",
              "      <td>31</td>\n",
              "      <td>3</td>\n",
              "      <td>0.0</td>\n",
              "      <td>0</td>\n",
              "      <td>BB</td>\n",
              "      <td>SWE</td>\n",
              "      <td>0</td>\n",
              "      <td>0</td>\n",
              "      <td>0</td>\n",
              "      <td>D</td>\n",
              "      <td>D</td>\n",
              "      <td>0</td>\n",
              "      <td>No Deposit</td>\n",
              "      <td>0</td>\n",
              "      <td>Transient-Party</td>\n",
              "      <td>195.33</td>\n",
              "      <td>0</td>\n",
              "      <td>2</td>\n",
              "      <td>Check-Out</td>\n",
              "      <td>9/3/2017</td>\n",
              "    </tr>\n",
              "    <tr>\n",
              "      <th>119354</th>\n",
              "      <td>City Hotel</td>\n",
              "      <td>63</td>\n",
              "      <td>2017</td>\n",
              "      <td>August</td>\n",
              "      <td>31</td>\n",
              "      <td>3</td>\n",
              "      <td>0.0</td>\n",
              "      <td>0</td>\n",
              "      <td>BB</td>\n",
              "      <td>SWE</td>\n",
              "      <td>0</td>\n",
              "      <td>0</td>\n",
              "      <td>0</td>\n",
              "      <td>D</td>\n",
              "      <td>D</td>\n",
              "      <td>0</td>\n",
              "      <td>No Deposit</td>\n",
              "      <td>0</td>\n",
              "      <td>Transient-Party</td>\n",
              "      <td>195.33</td>\n",
              "      <td>0</td>\n",
              "      <td>2</td>\n",
              "      <td>Check-Out</td>\n",
              "      <td>9/3/2017</td>\n",
              "    </tr>\n",
              "    <tr>\n",
              "      <th>119373</th>\n",
              "      <td>City Hotel</td>\n",
              "      <td>175</td>\n",
              "      <td>2017</td>\n",
              "      <td>August</td>\n",
              "      <td>31</td>\n",
              "      <td>1</td>\n",
              "      <td>0.0</td>\n",
              "      <td>0</td>\n",
              "      <td>BB</td>\n",
              "      <td>NLD</td>\n",
              "      <td>0</td>\n",
              "      <td>0</td>\n",
              "      <td>0</td>\n",
              "      <td>A</td>\n",
              "      <td>A</td>\n",
              "      <td>0</td>\n",
              "      <td>No Deposit</td>\n",
              "      <td>0</td>\n",
              "      <td>Transient</td>\n",
              "      <td>82.35</td>\n",
              "      <td>0</td>\n",
              "      <td>1</td>\n",
              "      <td>Check-Out</td>\n",
              "      <td>9/4/2017</td>\n",
              "    </tr>\n",
              "  </tbody>\n",
              "</table>\n",
              "<p>32090 rows × 24 columns</p>\n",
              "</div>\n",
              "      <button class=\"colab-df-convert\" onclick=\"convertToInteractive('df-720d63e8-da96-4eaa-ae91-11b610faf723')\"\n",
              "              title=\"Convert this dataframe to an interactive table.\"\n",
              "              style=\"display:none;\">\n",
              "        \n",
              "  <svg xmlns=\"http://www.w3.org/2000/svg\" height=\"24px\"viewBox=\"0 0 24 24\"\n",
              "       width=\"24px\">\n",
              "    <path d=\"M0 0h24v24H0V0z\" fill=\"none\"/>\n",
              "    <path d=\"M18.56 5.44l.94 2.06.94-2.06 2.06-.94-2.06-.94-.94-2.06-.94 2.06-2.06.94zm-11 1L8.5 8.5l.94-2.06 2.06-.94-2.06-.94L8.5 2.5l-.94 2.06-2.06.94zm10 10l.94 2.06.94-2.06 2.06-.94-2.06-.94-.94-2.06-.94 2.06-2.06.94z\"/><path d=\"M17.41 7.96l-1.37-1.37c-.4-.4-.92-.59-1.43-.59-.52 0-1.04.2-1.43.59L10.3 9.45l-7.72 7.72c-.78.78-.78 2.05 0 2.83L4 21.41c.39.39.9.59 1.41.59.51 0 1.02-.2 1.41-.59l7.78-7.78 2.81-2.81c.8-.78.8-2.07 0-2.86zM5.41 20L4 18.59l7.72-7.72 1.47 1.35L5.41 20z\"/>\n",
              "  </svg>\n",
              "      </button>\n",
              "      \n",
              "  <style>\n",
              "    .colab-df-container {\n",
              "      display:flex;\n",
              "      flex-wrap:wrap;\n",
              "      gap: 12px;\n",
              "    }\n",
              "\n",
              "    .colab-df-convert {\n",
              "      background-color: #E8F0FE;\n",
              "      border: none;\n",
              "      border-radius: 50%;\n",
              "      cursor: pointer;\n",
              "      display: none;\n",
              "      fill: #1967D2;\n",
              "      height: 32px;\n",
              "      padding: 0 0 0 0;\n",
              "      width: 32px;\n",
              "    }\n",
              "\n",
              "    .colab-df-convert:hover {\n",
              "      background-color: #E2EBFA;\n",
              "      box-shadow: 0px 1px 2px rgba(60, 64, 67, 0.3), 0px 1px 3px 1px rgba(60, 64, 67, 0.15);\n",
              "      fill: #174EA6;\n",
              "    }\n",
              "\n",
              "    [theme=dark] .colab-df-convert {\n",
              "      background-color: #3B4455;\n",
              "      fill: #D2E3FC;\n",
              "    }\n",
              "\n",
              "    [theme=dark] .colab-df-convert:hover {\n",
              "      background-color: #434B5C;\n",
              "      box-shadow: 0px 1px 3px 1px rgba(0, 0, 0, 0.15);\n",
              "      filter: drop-shadow(0px 1px 2px rgba(0, 0, 0, 0.3));\n",
              "      fill: #FFFFFF;\n",
              "    }\n",
              "  </style>\n",
              "\n",
              "      <script>\n",
              "        const buttonEl =\n",
              "          document.querySelector('#df-720d63e8-da96-4eaa-ae91-11b610faf723 button.colab-df-convert');\n",
              "        buttonEl.style.display =\n",
              "          google.colab.kernel.accessAllowed ? 'block' : 'none';\n",
              "\n",
              "        async function convertToInteractive(key) {\n",
              "          const element = document.querySelector('#df-720d63e8-da96-4eaa-ae91-11b610faf723');\n",
              "          const dataTable =\n",
              "            await google.colab.kernel.invokeFunction('convertToInteractive',\n",
              "                                                     [key], {});\n",
              "          if (!dataTable) return;\n",
              "\n",
              "          const docLinkHtml = 'Like what you see? Visit the ' +\n",
              "            '<a target=\"_blank\" href=https://colab.research.google.com/notebooks/data_table.ipynb>data table notebook</a>'\n",
              "            + ' to learn more about interactive tables.';\n",
              "          element.innerHTML = '';\n",
              "          dataTable['output_type'] = 'display_data';\n",
              "          await google.colab.output.renderOutput(dataTable, element);\n",
              "          const docLink = document.createElement('div');\n",
              "          docLink.innerHTML = docLinkHtml;\n",
              "          element.appendChild(docLink);\n",
              "        }\n",
              "      </script>\n",
              "    </div>\n",
              "  </div>\n",
              "  "
            ]
          },
          "metadata": {},
          "execution_count": 14
        }
      ]
    },
    {
      "cell_type": "markdown",
      "source": [
        "We found that there are around 32 thousand rows that are considered as complete duplicates. We have to first remove them in our `data` dataframe\n",
        "\n",
        "Provide the code where the expected output is that our dataframe `data` no longer have duplicate values"
      ],
      "metadata": {
        "id": "i7UBgEODPQb5"
      }
    },
    {
      "cell_type": "code",
      "source": [
        "# Enter your code here\n",
        "# Remove complete duplicates from the DataFrame\n",
        "data = data.drop_duplicates()\n",
        "\n",
        "# Verify the updated DataFrame\n",
        "print(data)\n"
      ],
      "metadata": {
        "id": "5p5Xp7Ax2Z56",
        "colab": {
          "base_uri": "https://localhost:8080/"
        },
        "outputId": "fb64dd8f-3c68-494a-ab4a-952d5cd0a27a"
      },
      "execution_count": 16,
      "outputs": [
        {
          "output_type": "stream",
          "name": "stdout",
          "text": [
            "               hotel  lead_time  ...     status status_last_update\n",
            "0       Resort Hotel        342  ...  Check-Out           7/1/2015\n",
            "1       Resort Hotel        737  ...  Check-Out           7/1/2015\n",
            "2       Resort Hotel          7  ...  Check-Out           7/2/2015\n",
            "3       Resort Hotel         13  ...  Check-Out           7/2/2015\n",
            "4       Resort Hotel         14  ...  Check-Out           7/3/2015\n",
            "...              ...        ...  ...        ...                ...\n",
            "119385    City Hotel         23  ...  Check-Out           9/6/2017\n",
            "119386    City Hotel        102  ...  Check-Out           9/7/2017\n",
            "119387    City Hotel         34  ...  Check-Out           9/7/2017\n",
            "119388    City Hotel        109  ...  Check-Out           9/7/2017\n",
            "119389    City Hotel        205  ...  Check-Out           9/7/2017\n",
            "\n",
            "[87300 rows x 24 columns]\n"
          ]
        }
      ]
    },
    {
      "cell_type": "markdown",
      "source": [
        "<details>\n",
        "<summary>Hint</summary>\n",
        "\n",
        "There are many possible ways to remove the shown duplicates.\n",
        "\n",
        "You can use the `drop_duplicates()` method to remove the complete duplicates in the given dataframe e.g. `my_dataframe.drop_duplicates()`\n",
        "\n",
        "Another method is to get the indexes of the duplicates, and filter out using `~`\n",
        "```python\n",
        "index_duplicates = my_dataframe.duplicated().index\n",
        "```\n",
        "```python\n",
        "my_dataframe[~index_duplicates]\n",
        "```\n",
        "\n",
        "</details>"
      ],
      "metadata": {
        "id": "fpaMg8tFP4Lc"
      }
    },
    {
      "cell_type": "markdown",
      "source": [
        "To check, we can verify that there would only be 87300 rows left in our dataframe `data`. Running the `assert` cell should not return an error.\n",
        "\n",
        "If there was an error, we have to check whether we correctly remove the duplicates in the data."
      ],
      "metadata": {
        "id": "48uXGsf-Rw2R"
      }
    },
    {
      "cell_type": "code",
      "source": [
        "# Run the given cell\n",
        "\n",
        "print(data.shape)"
      ],
      "metadata": {
        "id": "KbuQBmFnR8JQ",
        "colab": {
          "base_uri": "https://localhost:8080/"
        },
        "outputId": "024d8d7d-d79d-4f3e-fde7-59fc82a5402e"
      },
      "execution_count": 17,
      "outputs": [
        {
          "output_type": "stream",
          "name": "stdout",
          "text": [
            "(87300, 24)\n"
          ]
        }
      ]
    },
    {
      "cell_type": "code",
      "source": [
        "# Run the given cell\n",
        "\n",
        "assert(data.shape == (87300, 24))"
      ],
      "metadata": {
        "id": "rDfiVLpGSBiu"
      },
      "execution_count": 18,
      "outputs": []
    },
    {
      "cell_type": "markdown",
      "source": [
        "### Task 4: Check the Columns containing Missing Values"
      ],
      "metadata": {
        "id": "fzoaiYEGS0_t"
      }
    },
    {
      "cell_type": "markdown",
      "source": [
        "Now that we finished on cleaning the duplicates, it's time to clean-up the missing values in our dataset.\n",
        "\n",
        "For us to check which columns have missing values, we have to create a pandas series named `num_missing_cols` that shows a list of columns along with the number of missing values indicated as `NaN`, and sort based on their values in descending order."
      ],
      "metadata": {
        "id": "5TtYuj1LT8H1"
      }
    },
    {
      "cell_type": "code",
      "source": [
        "# Fill in the blanks\n",
        "\n",
        "# ____________ = data.____().____().______(ascending=______)"
      ],
      "metadata": {
        "id": "V-AsJMCDS5bk"
      },
      "execution_count": null,
      "outputs": []
    },
    {
      "cell_type": "code",
      "source": [
        "num_missing_cols = data.isnull().sum().sort_values(ascending=False)\n"
      ],
      "metadata": {
        "id": "tWMFuR7ToIkV"
      },
      "execution_count": 19,
      "outputs": []
    },
    {
      "cell_type": "markdown",
      "source": [
        "<details>\n",
        "<summary>Hint</summary>\n",
        "\n",
        "We can use `.isna()` to tell whether a given data is `NaN` or not, then use `.sum()` to sum these number of `NaN` by column, and use `.sort_values()` to sort their counts.\n",
        "\n",
        "We can implement the idea using method chaining.\n",
        "\n",
        "Example:\n",
        "```python\n",
        "my_dataframe.method_1().method_2().method_3(argument='value')\n",
        "```\n",
        "\n",
        "</details>"
      ],
      "metadata": {
        "id": "dWer5l-26bun"
      }
    },
    {
      "cell_type": "code",
      "source": [
        "# Run the given cell\n",
        "\n",
        "print(num_missing_cols)"
      ],
      "metadata": {
        "id": "Q3Vf5gtnup8o"
      },
      "execution_count": null,
      "outputs": []
    },
    {
      "cell_type": "markdown",
      "source": [
        "For us to verify our progress, we would be running some `assert` statements and see if it results to an error.\n",
        "\n",
        "If it shows an error, it means that we have to modify our code to the correct one."
      ],
      "metadata": {
        "id": "RscrWu5ouMX-"
      }
    },
    {
      "cell_type": "code",
      "source": [
        "# Run the given cell\n",
        "\n",
        "assert(type(num_missing_cols) == pd.Series)\n",
        "assert(num_missing_cols.shape == (24,))\n",
        "assert(all(num_missing_cols[:3] == [451,4,0]))"
      ],
      "metadata": {
        "id": "NtJr5Wr5ukXb"
      },
      "execution_count": 20,
      "outputs": []
    },
    {
      "cell_type": "markdown",
      "source": [
        "We can see in our counts that both columns `country` and `children` have missing values. We would be cleaning them in the next task."
      ],
      "metadata": {
        "id": "flUqiDiV9hqf"
      }
    },
    {
      "cell_type": "markdown",
      "source": [
        "### Task 5: Clean the `country` and `children` column by providing a default value\n",
        "\n",
        "When we look at the `country` and `children` columns further:"
      ],
      "metadata": {
        "id": "h5ZeEA4gws0C"
      }
    },
    {
      "cell_type": "code",
      "source": [
        "# Run the given cell\n",
        "\n",
        "data[data['country'].isna()].head()"
      ],
      "metadata": {
        "id": "kF3uFaIfyOsj",
        "colab": {
          "base_uri": "https://localhost:8080/",
          "height": 332
        },
        "outputId": "bc7042e8-9f64-4499-9dd2-b4bf5566c2a3"
      },
      "execution_count": 21,
      "outputs": [
        {
          "output_type": "execute_result",
          "data": {
            "text/plain": [
              "             hotel  lead_time  ...     status status_last_update\n",
              "30    Resort Hotel        118  ...  Check-Out          7/15/2015\n",
              "4127  Resort Hotel          0  ...   Canceled          2/15/2016\n",
              "7092  Resort Hotel          8  ...   Canceled          7/20/2016\n",
              "7860  Resort Hotel         39  ...   Canceled          7/22/2016\n",
              "8779  Resort Hotel          0  ...   Canceled         10/13/2016\n",
              "\n",
              "[5 rows x 24 columns]"
            ],
            "text/html": [
              "\n",
              "  <div id=\"df-ed1d5d64-9566-4e61-96e4-872d59a18221\">\n",
              "    <div class=\"colab-df-container\">\n",
              "      <div>\n",
              "<style scoped>\n",
              "    .dataframe tbody tr th:only-of-type {\n",
              "        vertical-align: middle;\n",
              "    }\n",
              "\n",
              "    .dataframe tbody tr th {\n",
              "        vertical-align: top;\n",
              "    }\n",
              "\n",
              "    .dataframe thead th {\n",
              "        text-align: right;\n",
              "    }\n",
              "</style>\n",
              "<table border=\"1\" class=\"dataframe\">\n",
              "  <thead>\n",
              "    <tr style=\"text-align: right;\">\n",
              "      <th></th>\n",
              "      <th>hotel</th>\n",
              "      <th>lead_time</th>\n",
              "      <th>arrival_date_year</th>\n",
              "      <th>arrival_date_month</th>\n",
              "      <th>arrival_date_day_of_month</th>\n",
              "      <th>adults</th>\n",
              "      <th>children</th>\n",
              "      <th>babies</th>\n",
              "      <th>meal</th>\n",
              "      <th>country</th>\n",
              "      <th>is_repeated_guest</th>\n",
              "      <th>previous_cancellations</th>\n",
              "      <th>previous_bookings_not_canceled</th>\n",
              "      <th>reserved_room_type</th>\n",
              "      <th>assigned_room_type</th>\n",
              "      <th>booking_changes</th>\n",
              "      <th>deposit_type</th>\n",
              "      <th>days_in_waiting_list</th>\n",
              "      <th>customer_type</th>\n",
              "      <th>adr</th>\n",
              "      <th>car_parking_spaces</th>\n",
              "      <th>special_requests</th>\n",
              "      <th>status</th>\n",
              "      <th>status_last_update</th>\n",
              "    </tr>\n",
              "  </thead>\n",
              "  <tbody>\n",
              "    <tr>\n",
              "      <th>30</th>\n",
              "      <td>Resort Hotel</td>\n",
              "      <td>118</td>\n",
              "      <td>2015</td>\n",
              "      <td>July</td>\n",
              "      <td>1</td>\n",
              "      <td>1</td>\n",
              "      <td>0.0</td>\n",
              "      <td>0</td>\n",
              "      <td>BB</td>\n",
              "      <td>NaN</td>\n",
              "      <td>0</td>\n",
              "      <td>0</td>\n",
              "      <td>0</td>\n",
              "      <td>A</td>\n",
              "      <td>A</td>\n",
              "      <td>2</td>\n",
              "      <td>No Deposit</td>\n",
              "      <td>0</td>\n",
              "      <td>Transient</td>\n",
              "      <td>62.0</td>\n",
              "      <td>0</td>\n",
              "      <td>2</td>\n",
              "      <td>Check-Out</td>\n",
              "      <td>7/15/2015</td>\n",
              "    </tr>\n",
              "    <tr>\n",
              "      <th>4127</th>\n",
              "      <td>Resort Hotel</td>\n",
              "      <td>0</td>\n",
              "      <td>2016</td>\n",
              "      <td>February</td>\n",
              "      <td>15</td>\n",
              "      <td>0</td>\n",
              "      <td>0.0</td>\n",
              "      <td>0</td>\n",
              "      <td>SC</td>\n",
              "      <td>NaN</td>\n",
              "      <td>0</td>\n",
              "      <td>0</td>\n",
              "      <td>0</td>\n",
              "      <td>P</td>\n",
              "      <td>P</td>\n",
              "      <td>0</td>\n",
              "      <td>No Deposit</td>\n",
              "      <td>0</td>\n",
              "      <td>Transient</td>\n",
              "      <td>0.0</td>\n",
              "      <td>0</td>\n",
              "      <td>0</td>\n",
              "      <td>Canceled</td>\n",
              "      <td>2/15/2016</td>\n",
              "    </tr>\n",
              "    <tr>\n",
              "      <th>7092</th>\n",
              "      <td>Resort Hotel</td>\n",
              "      <td>8</td>\n",
              "      <td>2016</td>\n",
              "      <td>July</td>\n",
              "      <td>21</td>\n",
              "      <td>1</td>\n",
              "      <td>0.0</td>\n",
              "      <td>0</td>\n",
              "      <td>BB</td>\n",
              "      <td>NaN</td>\n",
              "      <td>0</td>\n",
              "      <td>0</td>\n",
              "      <td>0</td>\n",
              "      <td>A</td>\n",
              "      <td>A</td>\n",
              "      <td>0</td>\n",
              "      <td>No Deposit</td>\n",
              "      <td>0</td>\n",
              "      <td>Transient</td>\n",
              "      <td>73.0</td>\n",
              "      <td>0</td>\n",
              "      <td>2</td>\n",
              "      <td>Canceled</td>\n",
              "      <td>7/20/2016</td>\n",
              "    </tr>\n",
              "    <tr>\n",
              "      <th>7860</th>\n",
              "      <td>Resort Hotel</td>\n",
              "      <td>39</td>\n",
              "      <td>2016</td>\n",
              "      <td>August</td>\n",
              "      <td>30</td>\n",
              "      <td>2</td>\n",
              "      <td>0.0</td>\n",
              "      <td>0</td>\n",
              "      <td>HB</td>\n",
              "      <td>NaN</td>\n",
              "      <td>0</td>\n",
              "      <td>0</td>\n",
              "      <td>0</td>\n",
              "      <td>A</td>\n",
              "      <td>A</td>\n",
              "      <td>0</td>\n",
              "      <td>No Deposit</td>\n",
              "      <td>0</td>\n",
              "      <td>Transient</td>\n",
              "      <td>159.0</td>\n",
              "      <td>0</td>\n",
              "      <td>5</td>\n",
              "      <td>Canceled</td>\n",
              "      <td>7/22/2016</td>\n",
              "    </tr>\n",
              "    <tr>\n",
              "      <th>8779</th>\n",
              "      <td>Resort Hotel</td>\n",
              "      <td>0</td>\n",
              "      <td>2016</td>\n",
              "      <td>October</td>\n",
              "      <td>13</td>\n",
              "      <td>1</td>\n",
              "      <td>0.0</td>\n",
              "      <td>0</td>\n",
              "      <td>BB</td>\n",
              "      <td>NaN</td>\n",
              "      <td>0</td>\n",
              "      <td>0</td>\n",
              "      <td>0</td>\n",
              "      <td>A</td>\n",
              "      <td>A</td>\n",
              "      <td>0</td>\n",
              "      <td>No Deposit</td>\n",
              "      <td>0</td>\n",
              "      <td>Transient</td>\n",
              "      <td>50.0</td>\n",
              "      <td>0</td>\n",
              "      <td>0</td>\n",
              "      <td>Canceled</td>\n",
              "      <td>10/13/2016</td>\n",
              "    </tr>\n",
              "  </tbody>\n",
              "</table>\n",
              "</div>\n",
              "      <button class=\"colab-df-convert\" onclick=\"convertToInteractive('df-ed1d5d64-9566-4e61-96e4-872d59a18221')\"\n",
              "              title=\"Convert this dataframe to an interactive table.\"\n",
              "              style=\"display:none;\">\n",
              "        \n",
              "  <svg xmlns=\"http://www.w3.org/2000/svg\" height=\"24px\"viewBox=\"0 0 24 24\"\n",
              "       width=\"24px\">\n",
              "    <path d=\"M0 0h24v24H0V0z\" fill=\"none\"/>\n",
              "    <path d=\"M18.56 5.44l.94 2.06.94-2.06 2.06-.94-2.06-.94-.94-2.06-.94 2.06-2.06.94zm-11 1L8.5 8.5l.94-2.06 2.06-.94-2.06-.94L8.5 2.5l-.94 2.06-2.06.94zm10 10l.94 2.06.94-2.06 2.06-.94-2.06-.94-.94-2.06-.94 2.06-2.06.94z\"/><path d=\"M17.41 7.96l-1.37-1.37c-.4-.4-.92-.59-1.43-.59-.52 0-1.04.2-1.43.59L10.3 9.45l-7.72 7.72c-.78.78-.78 2.05 0 2.83L4 21.41c.39.39.9.59 1.41.59.51 0 1.02-.2 1.41-.59l7.78-7.78 2.81-2.81c.8-.78.8-2.07 0-2.86zM5.41 20L4 18.59l7.72-7.72 1.47 1.35L5.41 20z\"/>\n",
              "  </svg>\n",
              "      </button>\n",
              "      \n",
              "  <style>\n",
              "    .colab-df-container {\n",
              "      display:flex;\n",
              "      flex-wrap:wrap;\n",
              "      gap: 12px;\n",
              "    }\n",
              "\n",
              "    .colab-df-convert {\n",
              "      background-color: #E8F0FE;\n",
              "      border: none;\n",
              "      border-radius: 50%;\n",
              "      cursor: pointer;\n",
              "      display: none;\n",
              "      fill: #1967D2;\n",
              "      height: 32px;\n",
              "      padding: 0 0 0 0;\n",
              "      width: 32px;\n",
              "    }\n",
              "\n",
              "    .colab-df-convert:hover {\n",
              "      background-color: #E2EBFA;\n",
              "      box-shadow: 0px 1px 2px rgba(60, 64, 67, 0.3), 0px 1px 3px 1px rgba(60, 64, 67, 0.15);\n",
              "      fill: #174EA6;\n",
              "    }\n",
              "\n",
              "    [theme=dark] .colab-df-convert {\n",
              "      background-color: #3B4455;\n",
              "      fill: #D2E3FC;\n",
              "    }\n",
              "\n",
              "    [theme=dark] .colab-df-convert:hover {\n",
              "      background-color: #434B5C;\n",
              "      box-shadow: 0px 1px 3px 1px rgba(0, 0, 0, 0.15);\n",
              "      filter: drop-shadow(0px 1px 2px rgba(0, 0, 0, 0.3));\n",
              "      fill: #FFFFFF;\n",
              "    }\n",
              "  </style>\n",
              "\n",
              "      <script>\n",
              "        const buttonEl =\n",
              "          document.querySelector('#df-ed1d5d64-9566-4e61-96e4-872d59a18221 button.colab-df-convert');\n",
              "        buttonEl.style.display =\n",
              "          google.colab.kernel.accessAllowed ? 'block' : 'none';\n",
              "\n",
              "        async function convertToInteractive(key) {\n",
              "          const element = document.querySelector('#df-ed1d5d64-9566-4e61-96e4-872d59a18221');\n",
              "          const dataTable =\n",
              "            await google.colab.kernel.invokeFunction('convertToInteractive',\n",
              "                                                     [key], {});\n",
              "          if (!dataTable) return;\n",
              "\n",
              "          const docLinkHtml = 'Like what you see? Visit the ' +\n",
              "            '<a target=\"_blank\" href=https://colab.research.google.com/notebooks/data_table.ipynb>data table notebook</a>'\n",
              "            + ' to learn more about interactive tables.';\n",
              "          element.innerHTML = '';\n",
              "          dataTable['output_type'] = 'display_data';\n",
              "          await google.colab.output.renderOutput(dataTable, element);\n",
              "          const docLink = document.createElement('div');\n",
              "          docLink.innerHTML = docLinkHtml;\n",
              "          element.appendChild(docLink);\n",
              "        }\n",
              "      </script>\n",
              "    </div>\n",
              "  </div>\n",
              "  "
            ]
          },
          "metadata": {},
          "execution_count": 21
        },
        {
          "output_type": "stream",
          "name": "stdout",
          "text": [
            "Warning: Total number of columns (24) exceeds max_columns (20) limiting to first (20) columns.\n"
          ]
        }
      ]
    },
    {
      "cell_type": "code",
      "source": [
        "# Run the given cell\n",
        "\n",
        "data[data['children'].isna()].head()"
      ],
      "metadata": {
        "id": "siuflgcY89LS",
        "colab": {
          "base_uri": "https://localhost:8080/",
          "height": 294
        },
        "outputId": "cb1b97c3-681d-460b-d6a7-ffe7372c89b3"
      },
      "execution_count": 22,
      "outputs": [
        {
          "output_type": "execute_result",
          "data": {
            "text/plain": [
              "            hotel  lead_time  ...    status status_last_update\n",
              "40600  City Hotel          2  ...  Canceled           8/1/2015\n",
              "40667  City Hotel          1  ...  Canceled           8/4/2015\n",
              "40679  City Hotel          1  ...  Canceled           8/4/2015\n",
              "41160  City Hotel          8  ...  Canceled           8/9/2015\n",
              "\n",
              "[4 rows x 24 columns]"
            ],
            "text/html": [
              "\n",
              "  <div id=\"df-20974fff-3b9b-4341-97b9-ba4ff2d75267\">\n",
              "    <div class=\"colab-df-container\">\n",
              "      <div>\n",
              "<style scoped>\n",
              "    .dataframe tbody tr th:only-of-type {\n",
              "        vertical-align: middle;\n",
              "    }\n",
              "\n",
              "    .dataframe tbody tr th {\n",
              "        vertical-align: top;\n",
              "    }\n",
              "\n",
              "    .dataframe thead th {\n",
              "        text-align: right;\n",
              "    }\n",
              "</style>\n",
              "<table border=\"1\" class=\"dataframe\">\n",
              "  <thead>\n",
              "    <tr style=\"text-align: right;\">\n",
              "      <th></th>\n",
              "      <th>hotel</th>\n",
              "      <th>lead_time</th>\n",
              "      <th>arrival_date_year</th>\n",
              "      <th>arrival_date_month</th>\n",
              "      <th>arrival_date_day_of_month</th>\n",
              "      <th>adults</th>\n",
              "      <th>children</th>\n",
              "      <th>babies</th>\n",
              "      <th>meal</th>\n",
              "      <th>country</th>\n",
              "      <th>is_repeated_guest</th>\n",
              "      <th>previous_cancellations</th>\n",
              "      <th>previous_bookings_not_canceled</th>\n",
              "      <th>reserved_room_type</th>\n",
              "      <th>assigned_room_type</th>\n",
              "      <th>booking_changes</th>\n",
              "      <th>deposit_type</th>\n",
              "      <th>days_in_waiting_list</th>\n",
              "      <th>customer_type</th>\n",
              "      <th>adr</th>\n",
              "      <th>car_parking_spaces</th>\n",
              "      <th>special_requests</th>\n",
              "      <th>status</th>\n",
              "      <th>status_last_update</th>\n",
              "    </tr>\n",
              "  </thead>\n",
              "  <tbody>\n",
              "    <tr>\n",
              "      <th>40600</th>\n",
              "      <td>City Hotel</td>\n",
              "      <td>2</td>\n",
              "      <td>2015</td>\n",
              "      <td>August</td>\n",
              "      <td>3</td>\n",
              "      <td>2</td>\n",
              "      <td>NaN</td>\n",
              "      <td>0</td>\n",
              "      <td>BB</td>\n",
              "      <td>PRT</td>\n",
              "      <td>0</td>\n",
              "      <td>0</td>\n",
              "      <td>0</td>\n",
              "      <td>B</td>\n",
              "      <td>B</td>\n",
              "      <td>0</td>\n",
              "      <td>No Deposit</td>\n",
              "      <td>0</td>\n",
              "      <td>Transient-Party</td>\n",
              "      <td>12.0</td>\n",
              "      <td>0</td>\n",
              "      <td>1</td>\n",
              "      <td>Canceled</td>\n",
              "      <td>8/1/2015</td>\n",
              "    </tr>\n",
              "    <tr>\n",
              "      <th>40667</th>\n",
              "      <td>City Hotel</td>\n",
              "      <td>1</td>\n",
              "      <td>2015</td>\n",
              "      <td>August</td>\n",
              "      <td>5</td>\n",
              "      <td>2</td>\n",
              "      <td>NaN</td>\n",
              "      <td>0</td>\n",
              "      <td>BB</td>\n",
              "      <td>PRT</td>\n",
              "      <td>0</td>\n",
              "      <td>0</td>\n",
              "      <td>0</td>\n",
              "      <td>B</td>\n",
              "      <td>B</td>\n",
              "      <td>0</td>\n",
              "      <td>No Deposit</td>\n",
              "      <td>0</td>\n",
              "      <td>Transient-Party</td>\n",
              "      <td>12.0</td>\n",
              "      <td>0</td>\n",
              "      <td>1</td>\n",
              "      <td>Canceled</td>\n",
              "      <td>8/4/2015</td>\n",
              "    </tr>\n",
              "    <tr>\n",
              "      <th>40679</th>\n",
              "      <td>City Hotel</td>\n",
              "      <td>1</td>\n",
              "      <td>2015</td>\n",
              "      <td>August</td>\n",
              "      <td>5</td>\n",
              "      <td>3</td>\n",
              "      <td>NaN</td>\n",
              "      <td>0</td>\n",
              "      <td>BB</td>\n",
              "      <td>PRT</td>\n",
              "      <td>0</td>\n",
              "      <td>0</td>\n",
              "      <td>0</td>\n",
              "      <td>B</td>\n",
              "      <td>B</td>\n",
              "      <td>0</td>\n",
              "      <td>No Deposit</td>\n",
              "      <td>0</td>\n",
              "      <td>Transient-Party</td>\n",
              "      <td>18.0</td>\n",
              "      <td>0</td>\n",
              "      <td>2</td>\n",
              "      <td>Canceled</td>\n",
              "      <td>8/4/2015</td>\n",
              "    </tr>\n",
              "    <tr>\n",
              "      <th>41160</th>\n",
              "      <td>City Hotel</td>\n",
              "      <td>8</td>\n",
              "      <td>2015</td>\n",
              "      <td>August</td>\n",
              "      <td>13</td>\n",
              "      <td>2</td>\n",
              "      <td>NaN</td>\n",
              "      <td>0</td>\n",
              "      <td>BB</td>\n",
              "      <td>PRT</td>\n",
              "      <td>0</td>\n",
              "      <td>0</td>\n",
              "      <td>0</td>\n",
              "      <td>B</td>\n",
              "      <td>B</td>\n",
              "      <td>0</td>\n",
              "      <td>No Deposit</td>\n",
              "      <td>0</td>\n",
              "      <td>Transient-Party</td>\n",
              "      <td>76.5</td>\n",
              "      <td>0</td>\n",
              "      <td>1</td>\n",
              "      <td>Canceled</td>\n",
              "      <td>8/9/2015</td>\n",
              "    </tr>\n",
              "  </tbody>\n",
              "</table>\n",
              "</div>\n",
              "      <button class=\"colab-df-convert\" onclick=\"convertToInteractive('df-20974fff-3b9b-4341-97b9-ba4ff2d75267')\"\n",
              "              title=\"Convert this dataframe to an interactive table.\"\n",
              "              style=\"display:none;\">\n",
              "        \n",
              "  <svg xmlns=\"http://www.w3.org/2000/svg\" height=\"24px\"viewBox=\"0 0 24 24\"\n",
              "       width=\"24px\">\n",
              "    <path d=\"M0 0h24v24H0V0z\" fill=\"none\"/>\n",
              "    <path d=\"M18.56 5.44l.94 2.06.94-2.06 2.06-.94-2.06-.94-.94-2.06-.94 2.06-2.06.94zm-11 1L8.5 8.5l.94-2.06 2.06-.94-2.06-.94L8.5 2.5l-.94 2.06-2.06.94zm10 10l.94 2.06.94-2.06 2.06-.94-2.06-.94-.94-2.06-.94 2.06-2.06.94z\"/><path d=\"M17.41 7.96l-1.37-1.37c-.4-.4-.92-.59-1.43-.59-.52 0-1.04.2-1.43.59L10.3 9.45l-7.72 7.72c-.78.78-.78 2.05 0 2.83L4 21.41c.39.39.9.59 1.41.59.51 0 1.02-.2 1.41-.59l7.78-7.78 2.81-2.81c.8-.78.8-2.07 0-2.86zM5.41 20L4 18.59l7.72-7.72 1.47 1.35L5.41 20z\"/>\n",
              "  </svg>\n",
              "      </button>\n",
              "      \n",
              "  <style>\n",
              "    .colab-df-container {\n",
              "      display:flex;\n",
              "      flex-wrap:wrap;\n",
              "      gap: 12px;\n",
              "    }\n",
              "\n",
              "    .colab-df-convert {\n",
              "      background-color: #E8F0FE;\n",
              "      border: none;\n",
              "      border-radius: 50%;\n",
              "      cursor: pointer;\n",
              "      display: none;\n",
              "      fill: #1967D2;\n",
              "      height: 32px;\n",
              "      padding: 0 0 0 0;\n",
              "      width: 32px;\n",
              "    }\n",
              "\n",
              "    .colab-df-convert:hover {\n",
              "      background-color: #E2EBFA;\n",
              "      box-shadow: 0px 1px 2px rgba(60, 64, 67, 0.3), 0px 1px 3px 1px rgba(60, 64, 67, 0.15);\n",
              "      fill: #174EA6;\n",
              "    }\n",
              "\n",
              "    [theme=dark] .colab-df-convert {\n",
              "      background-color: #3B4455;\n",
              "      fill: #D2E3FC;\n",
              "    }\n",
              "\n",
              "    [theme=dark] .colab-df-convert:hover {\n",
              "      background-color: #434B5C;\n",
              "      box-shadow: 0px 1px 3px 1px rgba(0, 0, 0, 0.15);\n",
              "      filter: drop-shadow(0px 1px 2px rgba(0, 0, 0, 0.3));\n",
              "      fill: #FFFFFF;\n",
              "    }\n",
              "  </style>\n",
              "\n",
              "      <script>\n",
              "        const buttonEl =\n",
              "          document.querySelector('#df-20974fff-3b9b-4341-97b9-ba4ff2d75267 button.colab-df-convert');\n",
              "        buttonEl.style.display =\n",
              "          google.colab.kernel.accessAllowed ? 'block' : 'none';\n",
              "\n",
              "        async function convertToInteractive(key) {\n",
              "          const element = document.querySelector('#df-20974fff-3b9b-4341-97b9-ba4ff2d75267');\n",
              "          const dataTable =\n",
              "            await google.colab.kernel.invokeFunction('convertToInteractive',\n",
              "                                                     [key], {});\n",
              "          if (!dataTable) return;\n",
              "\n",
              "          const docLinkHtml = 'Like what you see? Visit the ' +\n",
              "            '<a target=\"_blank\" href=https://colab.research.google.com/notebooks/data_table.ipynb>data table notebook</a>'\n",
              "            + ' to learn more about interactive tables.';\n",
              "          element.innerHTML = '';\n",
              "          dataTable['output_type'] = 'display_data';\n",
              "          await google.colab.output.renderOutput(dataTable, element);\n",
              "          const docLink = document.createElement('div');\n",
              "          docLink.innerHTML = docLinkHtml;\n",
              "          element.appendChild(docLink);\n",
              "        }\n",
              "      </script>\n",
              "    </div>\n",
              "  </div>\n",
              "  "
            ]
          },
          "metadata": {},
          "execution_count": 22
        },
        {
          "output_type": "stream",
          "name": "stdout",
          "text": [
            "Warning: Total number of columns (24) exceeds max_columns (20) limiting to first (20) columns.\n"
          ]
        }
      ]
    },
    {
      "cell_type": "markdown",
      "source": [
        "We can see that there are some rows have missing values indicated as `NaN`.\n",
        "\n",
        "There are several methods in order for our data to be cleaned. One of the methods is called \"imputation\" which is providing the best guess of what data can be applied to the missing values.\n",
        "\n",
        "In the `country` column, there might be some guests that do not have a particular country of origin, or if the guest has a particular country of countries to choose from when applying for a hotel booking.\n",
        "\n",
        "<br>\n",
        "\n",
        "**With that kind of scenario, it would be best to keep these rows and provide a value labeled `Other` to the missing values in the `country` column.**"
      ],
      "metadata": {
        "id": "jTOIcYS49T3b"
      }
    },
    {
      "cell_type": "code",
      "source": [
        "# Write your code here\n",
        "data[\"country\"] = data[\"country\"].fillna(\"Other\")\n"
      ],
      "metadata": {
        "id": "pHnC-03Ex4WY"
      },
      "execution_count": 24,
      "outputs": []
    },
    {
      "cell_type": "markdown",
      "source": [
        "<details>\n",
        "<summary>Hint</summary>\n",
        "\n",
        "We can use `.fillna()` in order to fill out the missing values in the column:\n",
        "\n",
        "Examples:\n",
        "```python\n",
        "my_dataframe['col_name'] = my_dataframe['col_name'].fillna('default value')\n",
        "```\n",
        "\n",
        "```python\n",
        "my_dataframe['col_name'].fillna('default value', inplace=True)\n",
        "```\n",
        "\n",
        "Both of these examples would yield the same result. It's only in the matter of preference.\n",
        "\n",
        "</details>"
      ],
      "metadata": {
        "id": "-FwYuOaI_wEG"
      }
    },
    {
      "cell_type": "markdown",
      "source": [
        "On the other hand, there are missing values in the `children` column. There are a variety of reasons why there are missing values in this column. In this case, you've learned from the company's previous analysis that it's most likely the guests have no children but forgot to fill the data in the column.\n",
        "\n",
        "<br>\n",
        "\n",
        "**In this case, we can impute the missing data by filling out with `0` on the `children` column.**"
      ],
      "metadata": {
        "id": "1rOtE4TU-5VH"
      }
    },
    {
      "cell_type": "code",
      "source": [
        "# Write your code here\n",
        "# Impute missing values in the \"children\" column with 0\n",
        "data[\"children\"] = data[\"children\"].fillna(0)\n"
      ],
      "metadata": {
        "id": "2A4XYS91-4_q"
      },
      "execution_count": 25,
      "outputs": []
    },
    {
      "cell_type": "markdown",
      "source": [
        "<details>\n",
        "<summary>Hint</summary>\n",
        "\n",
        "Same as the previous one, we can still use `.fillna()` in order to fill out the missing values in the column:\n",
        "\n",
        "Examples:\n",
        "```python\n",
        "my_dataframe['col_name'] = my_dataframe['col_name'].fillna('default value')\n",
        "```\n",
        "\n",
        "```python\n",
        "my_dataframe['col_name'].fillna('default value', inplace=True)\n",
        "```\n",
        "\n",
        "Both of these examples would yield the same result. It's only in the matter of preference.\n",
        "\n",
        "</details>"
      ],
      "metadata": {
        "id": "xZ1LRMD1AIac"
      }
    },
    {
      "cell_type": "markdown",
      "source": [
        "For us to verify our progress, we'll going to initially check them using `assert` statement. If the following cell yields an error, we might have to check our code again to have the correct answer. Otherwise, our code would be correct"
      ],
      "metadata": {
        "id": "eOUOmleeAOd4"
      }
    },
    {
      "cell_type": "code",
      "source": [
        "# Run the given cell\n",
        "\n",
        "assert(all(data[['country','children']].isna().sum() == 0))"
      ],
      "metadata": {
        "id": "VqesR0rtyzgV"
      },
      "execution_count": 26,
      "outputs": []
    },
    {
      "cell_type": "markdown",
      "source": [
        "### Task 6: Clean the date-related columns by creating a column with datetime data type."
      ],
      "metadata": {
        "id": "k9J7rKfZxFFb"
      }
    },
    {
      "cell_type": "markdown",
      "source": [
        "Lastly, we would be cleaning up the date columns by converting them into a `datetime` data type.\n",
        "\n",
        "The process of cleaning up date columns may vary, and this is one way that you can use in order to clean up the date columns."
      ],
      "metadata": {
        "id": "nQvCIGEsBGpS"
      }
    },
    {
      "cell_type": "markdown",
      "source": [
        "When we observe our arrival date at hand:"
      ],
      "metadata": {
        "id": "viwqeEVgB2_9"
      }
    },
    {
      "cell_type": "code",
      "source": [
        "# Run the given cell\n",
        "\n",
        "cols_to_use = ['arrival_date_year','arrival_date_month','arrival_date_day_of_month', 'status_last_update']\n",
        "\n",
        "data[cols_to_use].head()"
      ],
      "metadata": {
        "id": "t0JEi72WB3Va",
        "colab": {
          "base_uri": "https://localhost:8080/",
          "height": 206
        },
        "outputId": "e7dd3d2c-b3a7-41f4-f563-d02675d2d54c"
      },
      "execution_count": 27,
      "outputs": [
        {
          "output_type": "execute_result",
          "data": {
            "text/plain": [
              "   arrival_date_year  ... status_last_update\n",
              "0               2015  ...           7/1/2015\n",
              "1               2015  ...           7/1/2015\n",
              "2               2015  ...           7/2/2015\n",
              "3               2015  ...           7/2/2015\n",
              "4               2015  ...           7/3/2015\n",
              "\n",
              "[5 rows x 4 columns]"
            ],
            "text/html": [
              "\n",
              "  <div id=\"df-3ae59358-da15-4680-aad4-8de321faed7f\">\n",
              "    <div class=\"colab-df-container\">\n",
              "      <div>\n",
              "<style scoped>\n",
              "    .dataframe tbody tr th:only-of-type {\n",
              "        vertical-align: middle;\n",
              "    }\n",
              "\n",
              "    .dataframe tbody tr th {\n",
              "        vertical-align: top;\n",
              "    }\n",
              "\n",
              "    .dataframe thead th {\n",
              "        text-align: right;\n",
              "    }\n",
              "</style>\n",
              "<table border=\"1\" class=\"dataframe\">\n",
              "  <thead>\n",
              "    <tr style=\"text-align: right;\">\n",
              "      <th></th>\n",
              "      <th>arrival_date_year</th>\n",
              "      <th>arrival_date_month</th>\n",
              "      <th>arrival_date_day_of_month</th>\n",
              "      <th>status_last_update</th>\n",
              "    </tr>\n",
              "  </thead>\n",
              "  <tbody>\n",
              "    <tr>\n",
              "      <th>0</th>\n",
              "      <td>2015</td>\n",
              "      <td>July</td>\n",
              "      <td>1</td>\n",
              "      <td>7/1/2015</td>\n",
              "    </tr>\n",
              "    <tr>\n",
              "      <th>1</th>\n",
              "      <td>2015</td>\n",
              "      <td>July</td>\n",
              "      <td>1</td>\n",
              "      <td>7/1/2015</td>\n",
              "    </tr>\n",
              "    <tr>\n",
              "      <th>2</th>\n",
              "      <td>2015</td>\n",
              "      <td>July</td>\n",
              "      <td>1</td>\n",
              "      <td>7/2/2015</td>\n",
              "    </tr>\n",
              "    <tr>\n",
              "      <th>3</th>\n",
              "      <td>2015</td>\n",
              "      <td>July</td>\n",
              "      <td>1</td>\n",
              "      <td>7/2/2015</td>\n",
              "    </tr>\n",
              "    <tr>\n",
              "      <th>4</th>\n",
              "      <td>2015</td>\n",
              "      <td>July</td>\n",
              "      <td>1</td>\n",
              "      <td>7/3/2015</td>\n",
              "    </tr>\n",
              "  </tbody>\n",
              "</table>\n",
              "</div>\n",
              "      <button class=\"colab-df-convert\" onclick=\"convertToInteractive('df-3ae59358-da15-4680-aad4-8de321faed7f')\"\n",
              "              title=\"Convert this dataframe to an interactive table.\"\n",
              "              style=\"display:none;\">\n",
              "        \n",
              "  <svg xmlns=\"http://www.w3.org/2000/svg\" height=\"24px\"viewBox=\"0 0 24 24\"\n",
              "       width=\"24px\">\n",
              "    <path d=\"M0 0h24v24H0V0z\" fill=\"none\"/>\n",
              "    <path d=\"M18.56 5.44l.94 2.06.94-2.06 2.06-.94-2.06-.94-.94-2.06-.94 2.06-2.06.94zm-11 1L8.5 8.5l.94-2.06 2.06-.94-2.06-.94L8.5 2.5l-.94 2.06-2.06.94zm10 10l.94 2.06.94-2.06 2.06-.94-2.06-.94-.94-2.06-.94 2.06-2.06.94z\"/><path d=\"M17.41 7.96l-1.37-1.37c-.4-.4-.92-.59-1.43-.59-.52 0-1.04.2-1.43.59L10.3 9.45l-7.72 7.72c-.78.78-.78 2.05 0 2.83L4 21.41c.39.39.9.59 1.41.59.51 0 1.02-.2 1.41-.59l7.78-7.78 2.81-2.81c.8-.78.8-2.07 0-2.86zM5.41 20L4 18.59l7.72-7.72 1.47 1.35L5.41 20z\"/>\n",
              "  </svg>\n",
              "      </button>\n",
              "      \n",
              "  <style>\n",
              "    .colab-df-container {\n",
              "      display:flex;\n",
              "      flex-wrap:wrap;\n",
              "      gap: 12px;\n",
              "    }\n",
              "\n",
              "    .colab-df-convert {\n",
              "      background-color: #E8F0FE;\n",
              "      border: none;\n",
              "      border-radius: 50%;\n",
              "      cursor: pointer;\n",
              "      display: none;\n",
              "      fill: #1967D2;\n",
              "      height: 32px;\n",
              "      padding: 0 0 0 0;\n",
              "      width: 32px;\n",
              "    }\n",
              "\n",
              "    .colab-df-convert:hover {\n",
              "      background-color: #E2EBFA;\n",
              "      box-shadow: 0px 1px 2px rgba(60, 64, 67, 0.3), 0px 1px 3px 1px rgba(60, 64, 67, 0.15);\n",
              "      fill: #174EA6;\n",
              "    }\n",
              "\n",
              "    [theme=dark] .colab-df-convert {\n",
              "      background-color: #3B4455;\n",
              "      fill: #D2E3FC;\n",
              "    }\n",
              "\n",
              "    [theme=dark] .colab-df-convert:hover {\n",
              "      background-color: #434B5C;\n",
              "      box-shadow: 0px 1px 3px 1px rgba(0, 0, 0, 0.15);\n",
              "      filter: drop-shadow(0px 1px 2px rgba(0, 0, 0, 0.3));\n",
              "      fill: #FFFFFF;\n",
              "    }\n",
              "  </style>\n",
              "\n",
              "      <script>\n",
              "        const buttonEl =\n",
              "          document.querySelector('#df-3ae59358-da15-4680-aad4-8de321faed7f button.colab-df-convert');\n",
              "        buttonEl.style.display =\n",
              "          google.colab.kernel.accessAllowed ? 'block' : 'none';\n",
              "\n",
              "        async function convertToInteractive(key) {\n",
              "          const element = document.querySelector('#df-3ae59358-da15-4680-aad4-8de321faed7f');\n",
              "          const dataTable =\n",
              "            await google.colab.kernel.invokeFunction('convertToInteractive',\n",
              "                                                     [key], {});\n",
              "          if (!dataTable) return;\n",
              "\n",
              "          const docLinkHtml = 'Like what you see? Visit the ' +\n",
              "            '<a target=\"_blank\" href=https://colab.research.google.com/notebooks/data_table.ipynb>data table notebook</a>'\n",
              "            + ' to learn more about interactive tables.';\n",
              "          element.innerHTML = '';\n",
              "          dataTable['output_type'] = 'display_data';\n",
              "          await google.colab.output.renderOutput(dataTable, element);\n",
              "          const docLink = document.createElement('div');\n",
              "          docLink.innerHTML = docLinkHtml;\n",
              "          element.appendChild(docLink);\n",
              "        }\n",
              "      </script>\n",
              "    </div>\n",
              "  </div>\n",
              "  "
            ]
          },
          "metadata": {},
          "execution_count": 27
        }
      ]
    },
    {
      "cell_type": "code",
      "source": [
        "# Run the given cell\n",
        "\n",
        "data[cols_to_use].info()"
      ],
      "metadata": {
        "id": "wwB8DHzYCF1j",
        "colab": {
          "base_uri": "https://localhost:8080/"
        },
        "outputId": "833687e1-f9da-44a6-b6eb-5e3d20d6f846"
      },
      "execution_count": 28,
      "outputs": [
        {
          "output_type": "stream",
          "name": "stdout",
          "text": [
            "<class 'pandas.core.frame.DataFrame'>\n",
            "Int64Index: 87300 entries, 0 to 119389\n",
            "Data columns (total 4 columns):\n",
            " #   Column                     Non-Null Count  Dtype \n",
            "---  ------                     --------------  ----- \n",
            " 0   arrival_date_year          87300 non-null  int64 \n",
            " 1   arrival_date_month         87300 non-null  object\n",
            " 2   arrival_date_day_of_month  87300 non-null  int64 \n",
            " 3   status_last_update         87300 non-null  object\n",
            "dtypes: int64(2), object(2)\n",
            "memory usage: 3.3+ MB\n"
          ]
        }
      ]
    },
    {
      "cell_type": "markdown",
      "source": [
        "We can observe that are three columns that defines the arrival date of a particular guest. On the other hand, we have `status_last_update` which contains all the date data in a column.\n",
        "\n",
        "Our objective here is to first convert these columns arrival date columns to a string, and concatenate them. Afterwards, convert this concatenated column along with `status_last_update` to a `datetime` data type."
      ],
      "metadata": {
        "id": "nZHKSoABCI8y"
      }
    },
    {
      "cell_type": "markdown",
      "source": [
        "**First, convert the year and the day columns indicated as `arrival_date_year` and `arrival_date_day_of_month` respectively to a string column `str`.**"
      ],
      "metadata": {
        "id": "rxsgII_L143H"
      }
    },
    {
      "cell_type": "code",
      "source": [
        "# Write your code here\n",
        "# Convert \"arrival_date_year\" and \"arrival_date_day_of_month\" to string columns\n",
        "data[\"arrival_date_year\"] = data[\"arrival_date_year\"].astype(str)\n",
        "data[\"arrival_date_day_of_month\"] = data[\"arrival_date_day_of_month\"].astype(str)\n"
      ],
      "metadata": {
        "id": "x8VDc_OO1z2m"
      },
      "execution_count": 29,
      "outputs": []
    },
    {
      "cell_type": "markdown",
      "source": [
        "<details>\n",
        "<summary>Hint</summary>\n",
        "\n",
        "We can use `.astype('type')` in order to fill out the missing values in the column. Alternatively, we can use a `lambda` function to convert them as well.\n",
        "\n",
        "Examples:\n",
        "```python\n",
        "my_dataframe['col_name'] = my_dataframe['col_name'].astype('int')\n",
        "```\n",
        "\n",
        "```python\n",
        "my_dataframe['col_name'] = my_dataframe['col_name'].apply(lambda x: int(x))\n",
        "```\n",
        "\n",
        "Both of these examples would yield the same result. It's only in the matter of preference.\n",
        "\n",
        "</details>"
      ],
      "metadata": {
        "id": "v-_sisAfC7iQ"
      }
    },
    {
      "cell_type": "markdown",
      "source": [
        "**After converting them to `str`, we merge the three columns into a single column named `arrival_date` following the format `YYYY-Month-DD`**\n",
        "\n",
        "Examples: `2015-July-1`, `2017-August-30`"
      ],
      "metadata": {
        "id": "WNNKgR8c2eqV"
      }
    },
    {
      "cell_type": "code",
      "source": [
        "# Fill in the blanks\n",
        "\n",
        "col_arrival_dates = ['arrival_date_year','arrival_date_month','arrival_date_day_of_month']\n",
        "data['arrival_date'] = data[col_arrival_dates].apply(lambda x: '-'.join(x), axis=1)"
      ],
      "metadata": {
        "id": "uHgdA4jpzUWV"
      },
      "execution_count": 30,
      "outputs": []
    },
    {
      "cell_type": "markdown",
      "source": [
        "<details>\n",
        "<summary>Hint</summary>\n",
        "\n",
        "Inside `.apply()`, we can use a `lambda` function where it uses a string operator `.join()` to merge the three columns.\n",
        "\n",
        "Example:\n",
        "```python\n",
        "ex_cols = ['year_col', 'month_col','day_col']\n",
        "\n",
        "my_dataframe['col_name'] = my_dataframe[ex_cols].apply(lambda x: '/'.join(x), axis=1)\n",
        "```\n",
        "```python\n",
        "my_dataframe['col_name'].head()\n",
        "```\n",
        "```\n",
        "1972/04/23\n",
        "2020/01/17\n",
        "1998/09/30\n",
        "1989/12/9\n",
        "2000/02/6\n",
        "```\n",
        "\n",
        "</details>"
      ],
      "metadata": {
        "id": "8K3W4_ZbEQKa"
      }
    },
    {
      "cell_type": "markdown",
      "source": [
        "To show our results:"
      ],
      "metadata": {
        "id": "Aq9e3xDJKBoY"
      }
    },
    {
      "cell_type": "code",
      "source": [
        "# Run the given cell\n",
        "\n",
        "print(data['arrival_date'])"
      ],
      "metadata": {
        "id": "uaXJPZszIceu",
        "colab": {
          "base_uri": "https://localhost:8080/"
        },
        "outputId": "6ec69953-ddff-488f-b99a-50b8ceadd868"
      },
      "execution_count": 31,
      "outputs": [
        {
          "output_type": "stream",
          "name": "stdout",
          "text": [
            "0            2015-July-1\n",
            "1            2015-July-1\n",
            "2            2015-July-1\n",
            "3            2015-July-1\n",
            "4            2015-July-1\n",
            "               ...      \n",
            "119385    2017-August-30\n",
            "119386    2017-August-31\n",
            "119387    2017-August-31\n",
            "119388    2017-August-31\n",
            "119389    2017-August-29\n",
            "Name: arrival_date, Length: 87300, dtype: object\n"
          ]
        }
      ]
    },
    {
      "cell_type": "markdown",
      "source": [
        "For us to check our progress, we would be running some `assert` statements and see if it results to an error.\n",
        "\n",
        "If it shows an error, it means that we have to modify our code to the correct one."
      ],
      "metadata": {
        "id": "uLH8XCYGHQ6o"
      }
    },
    {
      "cell_type": "code",
      "source": [
        "# Run the given cell\n",
        "\n",
        "assert(pd.api.types.is_string_dtype(data['arrival_date']))\n",
        "assert(all(data['arrival_date'].apply(lambda x: x.count('-')) == 2))\n",
        "assert(data['arrival_date'].isna().sum() == 0)\n",
        "assert(data['arrival_date'].shape == (87300,))"
      ],
      "metadata": {
        "id": "A9hHmshbGUx7"
      },
      "execution_count": 32,
      "outputs": []
    },
    {
      "cell_type": "markdown",
      "source": [
        "**Next, convert the `arrival_date` and `status_last_update` column into a datetime data type using `pd.to_datetime`**"
      ],
      "metadata": {
        "id": "klRKSrxz391W"
      }
    },
    {
      "cell_type": "code",
      "source": [
        "# Write your code here\n",
        "# Concatenate arrival_date_year, arrival_date_month, and arrival_date_day_of_month columns\n",
        "data['arrival_date'] = data['arrival_date_year'] + '-' + data['arrival_date_month'] + '-' + data['arrival_date_day_of_month']\n",
        "\n",
        "# Convert arrival_date and status_last_update columns to datetime data type\n",
        "data[\"arrival_date\"] = pd.to_datetime(data[\"arrival_date\"])\n",
        "data[\"status_last_update\"] = pd.to_datetime(data[\"status_last_update\"])\n"
      ],
      "metadata": {
        "id": "1hBDVWjI2h0D"
      },
      "execution_count": 33,
      "outputs": []
    },
    {
      "cell_type": "markdown",
      "source": [
        "<details>\n",
        "<summary>Hint</summary>\n",
        "\n",
        "We can use `pd.to_datetime()` like in the given example:\n",
        "```python\n",
        "my_dataframe['col_name'] = pd.to_datetime(my_dataframe['col_name'])\n",
        "```\n",
        "\n",
        "</details>"
      ],
      "metadata": {
        "id": "4XCn_h3yJbhu"
      }
    },
    {
      "cell_type": "markdown",
      "source": [
        "**Finally, remove the columns listed in `col_arrival_dates` in the dataframe `data`.**"
      ],
      "metadata": {
        "id": "Myvx_V8W_OEf"
      }
    },
    {
      "cell_type": "code",
      "source": [
        "# Write your code here\n",
        "# List of columns to be removed\n",
        "col_arrival_dates = [\"arrival_date_year\", \"arrival_date_month\", \"arrival_date_day_of_month\"]\n",
        "\n",
        "# Remove the columns from the DataFrame\n",
        "data = data.drop(col_arrival_dates, axis=1)\n"
      ],
      "metadata": {
        "id": "lCola6fv-6h_"
      },
      "execution_count": 34,
      "outputs": []
    },
    {
      "cell_type": "markdown",
      "source": [
        "<details>\n",
        "<summary>Hint</summary>\n",
        "\n",
        "We can use `.drop()` method to remove the columns like in the given examples:\n",
        "```python\n",
        "col_list = ['col1', 'col2', 'col3']\n",
        "my_dataframe = my_dataframe.drop(col_list, axis=1)\n",
        "```\n",
        "```python\n",
        "col_list = ['col1', 'col2', 'col3']\n",
        "my_dataframe.drop(col_list, axis=1, inplace=True)\n",
        "```\n",
        "\n",
        "Both codes yield the same results. It's only in the matter of preference.\n",
        "\n",
        "</details>"
      ],
      "metadata": {
        "id": "fUYyPY3LSYYH"
      }
    },
    {
      "cell_type": "markdown",
      "source": [
        "To check our data cleaning process, we would be running some `assert` cells. If the cell below produces an error, we would have to check our codes above and revise it accordingly."
      ],
      "metadata": {
        "id": "8DF19GivUrq0"
      }
    },
    {
      "cell_type": "code",
      "source": [
        "assert(data.shape == (87300, 22))\n",
        "assert(pd.api.types.is_datetime64_dtype(data['arrival_date']))\n",
        "assert(pd.api.types.is_datetime64_dtype(data['status_last_update']))"
      ],
      "metadata": {
        "id": "EelmUjkuU4Iy"
      },
      "execution_count": 35,
      "outputs": []
    },
    {
      "cell_type": "markdown",
      "source": [
        "### Task 7: Checking for Outliers\n",
        "\n",
        "To avoid producing skewed results, we would be checking on the validity of our data inputs by removing outliers in the data.\n",
        "\n",
        "Outliers can take up different forms and meanings depending on the type of data at hand, but the common thing about them is that these are the data that are \"almost impossible\" to happen in the real world and these data can affect our results and summary statistics when left unnoticed."
      ],
      "metadata": {
        "id": "il0fS8EGiDAa"
      }
    },
    {
      "cell_type": "markdown",
      "source": [
        "**Show the summary statistics of the column `adr` in the dataframe `data`, and store the results into a variable `adr_summary`.**"
      ],
      "metadata": {
        "id": "Ftcjb7Pbnbg9"
      }
    },
    {
      "cell_type": "code",
      "source": [
        "# Write your code here\n",
        "# Calculate the summary statistics of the \"adr\" column\n",
        "adr_summary = data['adr'].describe()"
      ],
      "metadata": {
        "id": "hpWtFhsZnYcR"
      },
      "execution_count": 38,
      "outputs": []
    },
    {
      "cell_type": "markdown",
      "source": [
        "<details>\n",
        "<summary>Hint</summary>\n",
        "\n",
        "We can use `.describe()` method to show the summary statistics of a column:\n",
        "```python\n",
        "my_dataframe['col_name'].describe()\n",
        "```\n",
        "\n",
        "</details>"
      ],
      "metadata": {
        "id": "BpN8pjDj1JIV"
      }
    },
    {
      "cell_type": "code",
      "source": [
        "# Run the given cell\n",
        "\n",
        "print(adr_summary)"
      ],
      "metadata": {
        "id": "uVvRSZ_bogqu",
        "colab": {
          "base_uri": "https://localhost:8080/"
        },
        "outputId": "89d7bd79-5de8-44f0-90b5-57a56ef5a48b"
      },
      "execution_count": 37,
      "outputs": [
        {
          "output_type": "stream",
          "name": "stdout",
          "text": [
            "count    87300.000000\n",
            "mean       106.366698\n",
            "std         55.023163\n",
            "min         -6.380000\n",
            "25%         72.000000\n",
            "50%         98.100000\n",
            "75%        134.000000\n",
            "max       5400.000000\n",
            "Name: adr, dtype: float64\n"
          ]
        }
      ]
    },
    {
      "cell_type": "markdown",
      "source": [
        "We'll check if we got it correctly using `assert`"
      ],
      "metadata": {
        "id": "cWgszUAbp2M0"
      }
    },
    {
      "cell_type": "code",
      "source": [
        "# Run the given cell\n",
        "\n",
        "assert(all(adr_summary.index == pd.Index(['count', 'mean', 'std', 'min', '25%', '50%', '75%', 'max'])))\n",
        "assert(adr_summary.shape == (8,))"
      ],
      "metadata": {
        "id": "G2rs1dhqpHo5"
      },
      "execution_count": 39,
      "outputs": []
    },
    {
      "cell_type": "markdown",
      "source": [
        "Looking at the numbers, this wouldn't depict the outliers properly. What we can do here is to show a plot instead."
      ],
      "metadata": {
        "id": "r3Rv_1CFobP4"
      }
    },
    {
      "cell_type": "markdown",
      "source": [
        "**Show a plot describing the histogram of `adr` in the data. Set the y-axis scale to `log` and give it a title named \"Histogram of Hotel Guest ADR\"**"
      ],
      "metadata": {
        "id": "kgqRQbsNnhwG"
      }
    },
    {
      "cell_type": "code",
      "source": [
        "# Fill in the blanks\n",
        "\n",
        "# fig, ax = plt.subplots(figsize=(10,6))\n",
        "# ax = data['______'].plot(kind='_______', bins=30)\n",
        "\n",
        "# ax.set_title('Histogram of Hotel Guest ADR')\n",
        "# ax.set_yscale('log')"
      ],
      "metadata": {
        "id": "28uoBNoWh2Rl"
      },
      "execution_count": null,
      "outputs": []
    },
    {
      "cell_type": "code",
      "source": [
        "fig, ax = plt.subplots(figsize=(6,6))\n",
        "ax = data['adr'].plot(kind='hist', bins=30)\n",
        "\n",
        "ax.set_title('Histogram of Hotel Guest ADR')\n",
        "ax.set_yscale('log')\n"
      ],
      "metadata": {
        "colab": {
          "base_uri": "https://localhost:8080/",
          "height": 545
        },
        "id": "CQ8gj7_lqvcK",
        "outputId": "3f834ba6-61ba-47f5-aff9-d6a6bb871c70"
      },
      "execution_count": 42,
      "outputs": [
        {
          "output_type": "display_data",
          "data": {
            "text/plain": [
              "<Figure size 600x600 with 1 Axes>"
            ],
            "image/png": "[encoded data removed]"
          },
          "metadata": {}
        }
      ]
    },
    {
      "cell_type": "markdown",
      "source": [
        "Looking into our results, we can see that there's a lone data point in the 5000 range, and it wouldn't make sense to have an `adr` that high, so we check on the raw data by sorting the values in `adr`\n",
        "\n"
      ],
      "metadata": {
        "id": "_W8GkUFl0Q94"
      }
    },
    {
      "cell_type": "code",
      "source": [
        "# Run the given cell\n",
        "\n",
        "data['adr'].sort_values(ascending=False)"
      ],
      "metadata": {
        "id": "ISLoNqHA0mzc",
        "colab": {
          "base_uri": "https://localhost:8080/"
        },
        "outputId": "198ae15f-5c19-4bde-bb1d-19b286c2c626"
      },
      "execution_count": 43,
      "outputs": [
        {
          "output_type": "execute_result",
          "data": {
            "text/plain": [
              "48515     5400.00\n",
              "111403     510.00\n",
              "15083      508.00\n",
              "103912     451.50\n",
              "13142      450.00\n",
              "           ...   \n",
              "74720        0.00\n",
              "74721        0.00\n",
              "1230         0.00\n",
              "0            0.00\n",
              "14969       -6.38\n",
              "Name: adr, Length: 87300, dtype: float64"
            ]
          },
          "metadata": {},
          "execution_count": 43
        }
      ]
    },
    {
      "cell_type": "markdown",
      "source": [
        "We can observe that there's one data that is very high compared to the rest. Another thing is that our lowest value is a negative number, so we remove it as well in our dataset.\n",
        "\n",
        "Remove the rows that contains an `adr` of `5400` and `-6.38`"
      ],
      "metadata": {
        "id": "qVMKlI0I0tYU"
      }
    },
    {
      "cell_type": "code",
      "source": [
        "# Write your code here\n",
        "# Remove rows with adr value of 5400 and -6.38\n",
        "data = data[(data['adr'] != 5400) & (data['adr'] != -6.38)]\n"
      ],
      "metadata": {
        "id": "uXXXgE_f0sD1"
      },
      "execution_count": 44,
      "outputs": []
    },
    {
      "cell_type": "markdown",
      "source": [
        "<details>\n",
        "<summary>Hint</summary>\n",
        "\n",
        "There are many ways that we can do in order to remove the data in our dataframe.\n",
        "\n",
        "We can use a condition filter like this:\n",
        "```python\n",
        "condition_filter = my_dataframe['col'] != 0\n",
        "my_dataframe = my_dataframe[condition_filter]\n",
        "```\n",
        "\n",
        "We can get the index of the row and remove it using `.drop()`:\n",
        "```python\n",
        "index_row = 123\n",
        "my_dataframe = my_dataframe.drop(index_row)\n",
        "```\n",
        "\n",
        "We can use `.isin()` method and negate the result using `~`.\n",
        "```python\n",
        "my_dataframe = my_dataframe[~my_dataframe['col'].isin([0])]\n",
        "```\n",
        "\n",
        "All of these methods would yield the same output. It's only on the matter of preference\n",
        "\n",
        "\n",
        "</details>"
      ],
      "metadata": {
        "id": "Z-Bkimb58tVJ"
      }
    },
    {
      "cell_type": "code",
      "source": [
        "# Run the given cell\n",
        "\n",
        "data['adr'].sort_values(ascending=False)"
      ],
      "metadata": {
        "id": "GtLg33MO15gW",
        "colab": {
          "base_uri": "https://localhost:8080/"
        },
        "outputId": "efdc8900-e88a-4d74-c8a6-e5e404ba75e4"
      },
      "execution_count": 45,
      "outputs": [
        {
          "output_type": "execute_result",
          "data": {
            "text/plain": [
              "111403    510.0\n",
              "15083     508.0\n",
              "103912    451.5\n",
              "13142     450.0\n",
              "13391     437.0\n",
              "          ...  \n",
              "32633       0.0\n",
              "97751       0.0\n",
              "83900       0.0\n",
              "97752       0.0\n",
              "0           0.0\n",
              "Name: adr, Length: 87298, dtype: float64"
            ]
          },
          "metadata": {},
          "execution_count": 45
        }
      ]
    },
    {
      "cell_type": "markdown",
      "source": [
        "To verify our progress, we would be running some `assert` statements. If it yields an error, kindly revise our previous code and try again."
      ],
      "metadata": {
        "id": "uexCxU8R3n5r"
      }
    },
    {
      "cell_type": "code",
      "source": [
        "# Run the given cell\n",
        "\n",
        "assert(data[data['adr'].isin([5400, -6.38])].shape == (0,22))\n",
        "assert(data['adr'].min() == 0)\n",
        "assert(data['adr'].max() == 510)"
      ],
      "metadata": {
        "id": "4vjzdQBa2cLn"
      },
      "execution_count": 46,
      "outputs": []
    },
    {
      "cell_type": "markdown",
      "source": [
        "## Data Analysis and Insights"
      ],
      "metadata": {
        "id": "-u37L-y_2QQS"
      }
    },
    {
      "cell_type": "markdown",
      "source": [
        "Now that we have cleaned our data, it's time to start on our Data Analysis for this task. Keep in mind the business objective is to learn why guests cancel their hotel room reservations.\n",
        "\n",
        "For us to explore further, we can show the context of our data through Exploratory Data Analysis (EDA)"
      ],
      "metadata": {
        "id": "sD4hhYxYf7IL"
      }
    },
    {
      "cell_type": "markdown",
      "source": [
        "### Task 8: Show the amount lost from cancelled bookings\n",
        "\n",
        "To find out how much did the company loss from cancelled hotel bookings, we would look into the data by showing some summary statistics and a bar plot."
      ],
      "metadata": {
        "id": "_Pdg1aV6sx50"
      }
    },
    {
      "cell_type": "markdown",
      "source": [
        "**First, create a subset dataframe named `amount_plotdata` that excludes the rows where `status` is `No-Show`.**"
      ],
      "metadata": {
        "id": "0Fck1Yvq2w1r"
      }
    },
    {
      "cell_type": "code",
      "source": [
        "# Write your code here\n",
        "# Create the subset DataFrame excluding rows where status is No-Show\n",
        "amount_plotdata = data[data['status'] != 'No-Show']\n"
      ],
      "metadata": {
        "id": "PJYOyieCvO9p"
      },
      "execution_count": 47,
      "outputs": []
    },
    {
      "cell_type": "markdown",
      "source": [
        "<details>\n",
        "<summary>Hint</summary>\n",
        "\n",
        "We can create a condition to filter out data in the dataframe like in this example:\n",
        "```python\n",
        "my_dataframe = my_dataframe[my_dataframe['col1'] != 'value']\n",
        "```\n",
        "\n",
        "</details>"
      ],
      "metadata": {
        "id": "_7B5UMVX2_MT"
      }
    },
    {
      "cell_type": "markdown",
      "source": [
        "Next, create a seaborn barplot that uses the data `amount_plotdata`, `x` with `'status'`, `y` with `'adr'`, and `hue` with `'deposit_type'`.\n",
        "\n",
        "Label the chart title `Average Daily Rate of Hotel Bookings`, the x label with `Booking Status`, y label with `Average Daily Rate`, and the legend title with `Deposit Type`."
      ],
      "metadata": {
        "id": "kGcsE2xf3QAl"
      }
    },
    {
      "cell_type": "code",
      "source": [
        "# Fill in the blanks\n",
        "\n",
        "# fig, ax = plt.subplots(figsize=(10,5))\n",
        "# sns.barplot(data=__________, x='_______', y='_______',\n",
        "#             hue='_______',ax=ax)\n",
        "\n",
        "# ax.set_title('__________')\n",
        "# ax.set_xlabel('__________')\n",
        "# ax.set_ylabel('__________')\n",
        "# ax.legend(title='__________')"
      ],
      "metadata": {
        "id": "MLBz28GEvz6M"
      },
      "execution_count": null,
      "outputs": []
    },
    {
      "cell_type": "code",
      "source": [
        "fig, ax = plt.subplots(figsize=(10, 5))\n",
        "sns.barplot(data=amount_plotdata, x='status', y='adr', hue='deposit_type', ax=ax)\n",
        "\n",
        "ax.set_title('Average Daily Rate of Hotel Bookings')\n",
        "ax.set_xlabel('Booking Status')\n",
        "ax.set_ylabel('Average Daily Rate')\n",
        "ax.legend(title='Deposit Type')\n",
        "\n",
        "plt.show()\n"
      ],
      "metadata": {
        "colab": {
          "base_uri": "https://localhost:8080/",
          "height": 487
        },
        "id": "X8fpiR6BsW36",
        "outputId": "0f55df67-260e-42b8-a216-d9dccbd5cd96"
      },
      "execution_count": 49,
      "outputs": [
        {
          "output_type": "display_data",
          "data": {
            "text/plain": [
              "<Figure size 1000x500 with 1 Axes>"
            ],
            "image/png": "[encoded data removed]"
          },
          "metadata": {}
        }
      ]
    },
    {
      "cell_type": "markdown",
      "source": [
        "Lastly, we would show the summary statistics using the column `adr` grouped by `status` and `deposit_type`."
      ],
      "metadata": {
        "id": "qH3JrTIJ3xb9"
      }
    },
    {
      "cell_type": "code",
      "source": [
        "# Fill in the blanks\n",
        "\n",
        "# amount_plotdata.groupby(['________','________'])['________'].describe()"
      ],
      "metadata": {
        "id": "5fVCPA84wuIh"
      },
      "execution_count": null,
      "outputs": []
    },
    {
      "cell_type": "code",
      "source": [
        "amount_plotdata.groupby(['status', 'deposit_type'])['adr'].describe()\n"
      ],
      "metadata": {
        "colab": {
          "base_uri": "https://localhost:8080/",
          "height": 269
        },
        "id": "D18qzMzJsvjV",
        "outputId": "9a9c347e-076b-474a-d9a3-823f8ff79333"
      },
      "execution_count": 51,
      "outputs": [
        {
          "output_type": "execute_result",
          "data": {
            "text/plain": [
              "                          count        mean        std  ...     50%     75%    max\n",
              "status    deposit_type                                  ...                       \n",
              "Canceled  No Deposit    21970.0  119.770062  52.301414  ...  112.50  147.00  450.0\n",
              "          Non Refund      973.0   87.634111  33.255428  ...   85.00  106.00  330.0\n",
              "          Refundable       25.0  115.838000  60.326292  ...  108.36  158.33  230.0\n",
              "Check-Out No Deposit    63183.0  102.088206  51.415440  ...   94.80  129.49  510.0\n",
              "          Non Refund       55.0   80.687818  38.075381  ...   75.00  106.00  245.0\n",
              "          Refundable       81.0   69.239259  12.794604  ...   66.00   72.00  128.0\n",
              "\n",
              "[6 rows x 8 columns]"
            ],
            "text/html": [
              "\n",
              "  <div id=\"df-24bac65c-a2e9-466e-abde-5b09bbd46b62\">\n",
              "    <div class=\"colab-df-container\">\n",
              "      <div>\n",
              "<style scoped>\n",
              "    .dataframe tbody tr th:only-of-type {\n",
              "        vertical-align: middle;\n",
              "    }\n",
              "\n",
              "    .dataframe tbody tr th {\n",
              "        vertical-align: top;\n",
              "    }\n",
              "\n",
              "    .dataframe thead th {\n",
              "        text-align: right;\n",
              "    }\n",
              "</style>\n",
              "<table border=\"1\" class=\"dataframe\">\n",
              "  <thead>\n",
              "    <tr style=\"text-align: right;\">\n",
              "      <th></th>\n",
              "      <th></th>\n",
              "      <th>count</th>\n",
              "      <th>mean</th>\n",
              "      <th>std</th>\n",
              "      <th>min</th>\n",
              "      <th>25%</th>\n",
              "      <th>50%</th>\n",
              "      <th>75%</th>\n",
              "      <th>max</th>\n",
              "    </tr>\n",
              "    <tr>\n",
              "      <th>status</th>\n",
              "      <th>deposit_type</th>\n",
              "      <th></th>\n",
              "      <th></th>\n",
              "      <th></th>\n",
              "      <th></th>\n",
              "      <th></th>\n",
              "      <th></th>\n",
              "      <th></th>\n",
              "      <th></th>\n",
              "    </tr>\n",
              "  </thead>\n",
              "  <tbody>\n",
              "    <tr>\n",
              "      <th rowspan=\"3\" valign=\"top\">Canceled</th>\n",
              "      <th>No Deposit</th>\n",
              "      <td>21970.0</td>\n",
              "      <td>119.770062</td>\n",
              "      <td>52.301414</td>\n",
              "      <td>0.0</td>\n",
              "      <td>85.0</td>\n",
              "      <td>112.50</td>\n",
              "      <td>147.00</td>\n",
              "      <td>450.0</td>\n",
              "    </tr>\n",
              "    <tr>\n",
              "      <th>Non Refund</th>\n",
              "      <td>973.0</td>\n",
              "      <td>87.634111</td>\n",
              "      <td>33.255428</td>\n",
              "      <td>6.0</td>\n",
              "      <td>62.0</td>\n",
              "      <td>85.00</td>\n",
              "      <td>106.00</td>\n",
              "      <td>330.0</td>\n",
              "    </tr>\n",
              "    <tr>\n",
              "      <th>Refundable</th>\n",
              "      <td>25.0</td>\n",
              "      <td>115.838000</td>\n",
              "      <td>60.326292</td>\n",
              "      <td>8.0</td>\n",
              "      <td>76.0</td>\n",
              "      <td>108.36</td>\n",
              "      <td>158.33</td>\n",
              "      <td>230.0</td>\n",
              "    </tr>\n",
              "    <tr>\n",
              "      <th rowspan=\"3\" valign=\"top\">Check-Out</th>\n",
              "      <th>No Deposit</th>\n",
              "      <td>63183.0</td>\n",
              "      <td>102.088206</td>\n",
              "      <td>51.415440</td>\n",
              "      <td>0.0</td>\n",
              "      <td>68.0</td>\n",
              "      <td>94.80</td>\n",
              "      <td>129.49</td>\n",
              "      <td>510.0</td>\n",
              "    </tr>\n",
              "    <tr>\n",
              "      <th>Non Refund</th>\n",
              "      <td>55.0</td>\n",
              "      <td>80.687818</td>\n",
              "      <td>38.075381</td>\n",
              "      <td>6.0</td>\n",
              "      <td>54.5</td>\n",
              "      <td>75.00</td>\n",
              "      <td>106.00</td>\n",
              "      <td>245.0</td>\n",
              "    </tr>\n",
              "    <tr>\n",
              "      <th>Refundable</th>\n",
              "      <td>81.0</td>\n",
              "      <td>69.239259</td>\n",
              "      <td>12.794604</td>\n",
              "      <td>34.0</td>\n",
              "      <td>66.0</td>\n",
              "      <td>66.00</td>\n",
              "      <td>72.00</td>\n",
              "      <td>128.0</td>\n",
              "    </tr>\n",
              "  </tbody>\n",
              "</table>\n",
              "</div>\n",
              "      <button class=\"colab-df-convert\" onclick=\"convertToInteractive('df-24bac65c-a2e9-466e-abde-5b09bbd46b62')\"\n",
              "              title=\"Convert this dataframe to an interactive table.\"\n",
              "              style=\"display:none;\">\n",
              "        \n",
              "  <svg xmlns=\"http://www.w3.org/2000/svg\" height=\"24px\"viewBox=\"0 0 24 24\"\n",
              "       width=\"24px\">\n",
              "    <path d=\"M0 0h24v24H0V0z\" fill=\"none\"/>\n",
              "    <path d=\"M18.56 5.44l.94 2.06.94-2.06 2.06-.94-2.06-.94-.94-2.06-.94 2.06-2.06.94zm-11 1L8.5 8.5l.94-2.06 2.06-.94-2.06-.94L8.5 2.5l-.94 2.06-2.06.94zm10 10l.94 2.06.94-2.06 2.06-.94-2.06-.94-.94-2.06-.94 2.06-2.06.94z\"/><path d=\"M17.41 7.96l-1.37-1.37c-.4-.4-.92-.59-1.43-.59-.52 0-1.04.2-1.43.59L10.3 9.45l-7.72 7.72c-.78.78-.78 2.05 0 2.83L4 21.41c.39.39.9.59 1.41.59.51 0 1.02-.2 1.41-.59l7.78-7.78 2.81-2.81c.8-.78.8-2.07 0-2.86zM5.41 20L4 18.59l7.72-7.72 1.47 1.35L5.41 20z\"/>\n",
              "  </svg>\n",
              "      </button>\n",
              "      \n",
              "  <style>\n",
              "    .colab-df-container {\n",
              "      display:flex;\n",
              "      flex-wrap:wrap;\n",
              "      gap: 12px;\n",
              "    }\n",
              "\n",
              "    .colab-df-convert {\n",
              "      background-color: #E8F0FE;\n",
              "      border: none;\n",
              "      border-radius: 50%;\n",
              "      cursor: pointer;\n",
              "      display: none;\n",
              "      fill: #1967D2;\n",
              "      height: 32px;\n",
              "      padding: 0 0 0 0;\n",
              "      width: 32px;\n",
              "    }\n",
              "\n",
              "    .colab-df-convert:hover {\n",
              "      background-color: #E2EBFA;\n",
              "      box-shadow: 0px 1px 2px rgba(60, 64, 67, 0.3), 0px 1px 3px 1px rgba(60, 64, 67, 0.15);\n",
              "      fill: #174EA6;\n",
              "    }\n",
              "\n",
              "    [theme=dark] .colab-df-convert {\n",
              "      background-color: #3B4455;\n",
              "      fill: #D2E3FC;\n",
              "    }\n",
              "\n",
              "    [theme=dark] .colab-df-convert:hover {\n",
              "      background-color: #434B5C;\n",
              "      box-shadow: 0px 1px 3px 1px rgba(0, 0, 0, 0.15);\n",
              "      filter: drop-shadow(0px 1px 2px rgba(0, 0, 0, 0.3));\n",
              "      fill: #FFFFFF;\n",
              "    }\n",
              "  </style>\n",
              "\n",
              "      <script>\n",
              "        const buttonEl =\n",
              "          document.querySelector('#df-24bac65c-a2e9-466e-abde-5b09bbd46b62 button.colab-df-convert');\n",
              "        buttonEl.style.display =\n",
              "          google.colab.kernel.accessAllowed ? 'block' : 'none';\n",
              "\n",
              "        async function convertToInteractive(key) {\n",
              "          const element = document.querySelector('#df-24bac65c-a2e9-466e-abde-5b09bbd46b62');\n",
              "          const dataTable =\n",
              "            await google.colab.kernel.invokeFunction('convertToInteractive',\n",
              "                                                     [key], {});\n",
              "          if (!dataTable) return;\n",
              "\n",
              "          const docLinkHtml = 'Like what you see? Visit the ' +\n",
              "            '<a target=\"_blank\" href=https://colab.research.google.com/notebooks/data_table.ipynb>data table notebook</a>'\n",
              "            + ' to learn more about interactive tables.';\n",
              "          element.innerHTML = '';\n",
              "          dataTable['output_type'] = 'display_data';\n",
              "          await google.colab.output.renderOutput(dataTable, element);\n",
              "          const docLink = document.createElement('div');\n",
              "          docLink.innerHTML = docLinkHtml;\n",
              "          element.appendChild(docLink);\n",
              "        }\n",
              "      </script>\n",
              "    </div>\n",
              "  </div>\n",
              "  "
            ]
          },
          "metadata": {},
          "execution_count": 51
        }
      ]
    },
    {
      "cell_type": "markdown",
      "source": [
        "### Task 9: Use `.groupby()` method to tally the cancellations and compute the cancellation rates per day"
      ],
      "metadata": {
        "id": "DUneDojFKZ0q"
      }
    },
    {
      "cell_type": "markdown",
      "source": [
        "For us to look into the cancellations further, we can plot them over time. But first, we have to supply the appropriate data before we can plot them."
      ],
      "metadata": {
        "id": "ghlh7sl84heD"
      }
    },
    {
      "cell_type": "markdown",
      "source": [
        "**Create three new columns named `arrival_day`, `arrival_month`, and `arrival_year` that uses `arrival_date` which gets the day, month, and year respectively.**"
      ],
      "metadata": {
        "id": "02dLFUlJ4uYs"
      }
    },
    {
      "cell_type": "code",
      "source": [
        "# Fill in the blanks\n",
        "\n",
        "# data['_________'] = data['_________'].__.__\n",
        "# data['_________'] = data['_________'].__.__\n",
        "# data['_________'] = data['_________'].__.__"
      ],
      "metadata": {
        "id": "4FXBnGenM7-3"
      },
      "execution_count": null,
      "outputs": []
    },
    {
      "cell_type": "code",
      "source": [
        "data['arrival_day'] = data['arrival_date'].dt.day\n",
        "data['arrival_month'] = data['arrival_date'].dt.month\n",
        "data['arrival_year'] = data['arrival_date'].dt.year\n"
      ],
      "metadata": {
        "id": "3kTVSGpZtCNd"
      },
      "execution_count": 52,
      "outputs": []
    },
    {
      "cell_type": "markdown",
      "source": [
        "<details>\n",
        "<summary>Hint</summary>\n",
        "\n",
        "You can use the `.dt.year`, `.dt.month`, and `.dt.day` attribute of a series\n",
        "\n",
        "Example:\n",
        "```python\n",
        "my_dataframe['date_col'].dt.year\n",
        "my_dataframe['date_col'].dt.month\n",
        "my_dataframe['date_col'].dt.day\n",
        "```\n",
        "\n",
        "</details>"
      ],
      "metadata": {
        "id": "iCSjYW8z45wJ"
      }
    },
    {
      "cell_type": "markdown",
      "source": [
        "**Next, we create a new column named `is_canceled` that contains boolean values whether the column `status` has the value `Canceled` or not.**"
      ],
      "metadata": {
        "id": "ffC4pib35UDg"
      }
    },
    {
      "cell_type": "code",
      "source": [
        "# Fill in the blanks\n",
        "\n",
        "# data['_________'] = (data['_________'] == '_________')"
      ],
      "metadata": {
        "id": "ZvN1oI7ONc6A"
      },
      "execution_count": null,
      "outputs": []
    },
    {
      "cell_type": "code",
      "source": [
        "data['is_canceled'] = (data['status'] == 'Canceled')\n"
      ],
      "metadata": {
        "id": "7p-_9DpOtPdc"
      },
      "execution_count": 53,
      "outputs": []
    },
    {
      "cell_type": "markdown",
      "source": [
        "**We then use `.groupby()` method to group the given arrival columns and find the `sum` and `count` of cancelled bookings and store the results to a variable named `canceled_data`**"
      ],
      "metadata": {
        "id": "EdPysaRx5h-9"
      }
    },
    {
      "cell_type": "code",
      "source": [
        "# Fill in the blanks\n",
        "\n",
        "# grouping_cols = ['arrival_year','arrival_month','arrival_day']\n",
        "# canceled_data = data._______(grouping_cols)['is_canceled'].agg(['____','___']).reset_index()"
      ],
      "metadata": {
        "id": "yws0mu5MM1Ni"
      },
      "execution_count": null,
      "outputs": []
    },
    {
      "cell_type": "code",
      "source": [
        "grouping_cols = ['arrival_year', 'arrival_month', 'arrival_day']\n",
        "canceled_data = data.groupby(grouping_cols)['is_canceled'].agg(['sum', 'count']).reset_index()\n"
      ],
      "metadata": {
        "id": "ujx4nd6ltWiY"
      },
      "execution_count": 54,
      "outputs": []
    },
    {
      "cell_type": "markdown",
      "source": [
        "We then create a new column named `cancel_rate` that is computed by dividing the columns `sum` and `count` from the dataframe `canceled_data`\n",
        "\n",
        "```\n",
        "cancel_rate = column_of_sum / column_of_count\n",
        "```"
      ],
      "metadata": {
        "id": "iQGyE1nk5upM"
      }
    },
    {
      "cell_type": "code",
      "source": [
        "# Write your code here\n",
        "canceled_data['cancel_rate'] = canceled_data['sum'] / canceled_data['count']\n"
      ],
      "metadata": {
        "id": "TRikh0_ONav4"
      },
      "execution_count": 55,
      "outputs": []
    },
    {
      "cell_type": "markdown",
      "source": [
        "<details>\n",
        "<summary>Hint</summary>\n",
        "\n",
        "We can add a column from a computed value in Python like this\n",
        "\n",
        "Example:\n",
        "```python\n",
        "my_dataframe['new_col'] = my_dataframe['col1'] + my_dataframe['col2']\n",
        "```\n",
        "\n",
        "</details>"
      ],
      "metadata": {
        "id": "PhIWvU-_6bVt"
      }
    },
    {
      "cell_type": "code",
      "source": [
        "# Run the given cell\n",
        "\n",
        "canceled_data.head()"
      ],
      "metadata": {
        "id": "2WJEMe-LOE49",
        "colab": {
          "base_uri": "https://localhost:8080/",
          "height": 206
        },
        "outputId": "0df1a5b6-6a2e-4fbd-b829-1f19949a0efd"
      },
      "execution_count": 56,
      "outputs": [
        {
          "output_type": "execute_result",
          "data": {
            "text/plain": [
              "   arrival_year  arrival_month  arrival_day  sum  count  cancel_rate\n",
              "0          2015              7            1   11     53     0.207547\n",
              "1          2015              7            2   18     54     0.333333\n",
              "2          2015              7            3   19     51     0.372549\n",
              "3          2015              7            4   18     60     0.300000\n",
              "4          2015              7            5   14     51     0.274510"
            ],
            "text/html": [
              "\n",
              "  <div id=\"df-eb25f7a9-72df-41dc-8dde-cbc6a0408628\">\n",
              "    <div class=\"colab-df-container\">\n",
              "      <div>\n",
              "<style scoped>\n",
              "    .dataframe tbody tr th:only-of-type {\n",
              "        vertical-align: middle;\n",
              "    }\n",
              "\n",
              "    .dataframe tbody tr th {\n",
              "        vertical-align: top;\n",
              "    }\n",
              "\n",
              "    .dataframe thead th {\n",
              "        text-align: right;\n",
              "    }\n",
              "</style>\n",
              "<table border=\"1\" class=\"dataframe\">\n",
              "  <thead>\n",
              "    <tr style=\"text-align: right;\">\n",
              "      <th></th>\n",
              "      <th>arrival_year</th>\n",
              "      <th>arrival_month</th>\n",
              "      <th>arrival_day</th>\n",
              "      <th>sum</th>\n",
              "      <th>count</th>\n",
              "      <th>cancel_rate</th>\n",
              "    </tr>\n",
              "  </thead>\n",
              "  <tbody>\n",
              "    <tr>\n",
              "      <th>0</th>\n",
              "      <td>2015</td>\n",
              "      <td>7</td>\n",
              "      <td>1</td>\n",
              "      <td>11</td>\n",
              "      <td>53</td>\n",
              "      <td>0.207547</td>\n",
              "    </tr>\n",
              "    <tr>\n",
              "      <th>1</th>\n",
              "      <td>2015</td>\n",
              "      <td>7</td>\n",
              "      <td>2</td>\n",
              "      <td>18</td>\n",
              "      <td>54</td>\n",
              "      <td>0.333333</td>\n",
              "    </tr>\n",
              "    <tr>\n",
              "      <th>2</th>\n",
              "      <td>2015</td>\n",
              "      <td>7</td>\n",
              "      <td>3</td>\n",
              "      <td>19</td>\n",
              "      <td>51</td>\n",
              "      <td>0.372549</td>\n",
              "    </tr>\n",
              "    <tr>\n",
              "      <th>3</th>\n",
              "      <td>2015</td>\n",
              "      <td>7</td>\n",
              "      <td>4</td>\n",
              "      <td>18</td>\n",
              "      <td>60</td>\n",
              "      <td>0.300000</td>\n",
              "    </tr>\n",
              "    <tr>\n",
              "      <th>4</th>\n",
              "      <td>2015</td>\n",
              "      <td>7</td>\n",
              "      <td>5</td>\n",
              "      <td>14</td>\n",
              "      <td>51</td>\n",
              "      <td>0.274510</td>\n",
              "    </tr>\n",
              "  </tbody>\n",
              "</table>\n",
              "</div>\n",
              "      <button class=\"colab-df-convert\" onclick=\"convertToInteractive('df-eb25f7a9-72df-41dc-8dde-cbc6a0408628')\"\n",
              "              title=\"Convert this dataframe to an interactive table.\"\n",
              "              style=\"display:none;\">\n",
              "        \n",
              "  <svg xmlns=\"http://www.w3.org/2000/svg\" height=\"24px\"viewBox=\"0 0 24 24\"\n",
              "       width=\"24px\">\n",
              "    <path d=\"M0 0h24v24H0V0z\" fill=\"none\"/>\n",
              "    <path d=\"M18.56 5.44l.94 2.06.94-2.06 2.06-.94-2.06-.94-.94-2.06-.94 2.06-2.06.94zm-11 1L8.5 8.5l.94-2.06 2.06-.94-2.06-.94L8.5 2.5l-.94 2.06-2.06.94zm10 10l.94 2.06.94-2.06 2.06-.94-2.06-.94-.94-2.06-.94 2.06-2.06.94z\"/><path d=\"M17.41 7.96l-1.37-1.37c-.4-.4-.92-.59-1.43-.59-.52 0-1.04.2-1.43.59L10.3 9.45l-7.72 7.72c-.78.78-.78 2.05 0 2.83L4 21.41c.39.39.9.59 1.41.59.51 0 1.02-.2 1.41-.59l7.78-7.78 2.81-2.81c.8-.78.8-2.07 0-2.86zM5.41 20L4 18.59l7.72-7.72 1.47 1.35L5.41 20z\"/>\n",
              "  </svg>\n",
              "      </button>\n",
              "      \n",
              "  <style>\n",
              "    .colab-df-container {\n",
              "      display:flex;\n",
              "      flex-wrap:wrap;\n",
              "      gap: 12px;\n",
              "    }\n",
              "\n",
              "    .colab-df-convert {\n",
              "      background-color: #E8F0FE;\n",
              "      border: none;\n",
              "      border-radius: 50%;\n",
              "      cursor: pointer;\n",
              "      display: none;\n",
              "      fill: #1967D2;\n",
              "      height: 32px;\n",
              "      padding: 0 0 0 0;\n",
              "      width: 32px;\n",
              "    }\n",
              "\n",
              "    .colab-df-convert:hover {\n",
              "      background-color: #E2EBFA;\n",
              "      box-shadow: 0px 1px 2px rgba(60, 64, 67, 0.3), 0px 1px 3px 1px rgba(60, 64, 67, 0.15);\n",
              "      fill: #174EA6;\n",
              "    }\n",
              "\n",
              "    [theme=dark] .colab-df-convert {\n",
              "      background-color: #3B4455;\n",
              "      fill: #D2E3FC;\n",
              "    }\n",
              "\n",
              "    [theme=dark] .colab-df-convert:hover {\n",
              "      background-color: #434B5C;\n",
              "      box-shadow: 0px 1px 3px 1px rgba(0, 0, 0, 0.15);\n",
              "      filter: drop-shadow(0px 1px 2px rgba(0, 0, 0, 0.3));\n",
              "      fill: #FFFFFF;\n",
              "    }\n",
              "  </style>\n",
              "\n",
              "      <script>\n",
              "        const buttonEl =\n",
              "          document.querySelector('#df-eb25f7a9-72df-41dc-8dde-cbc6a0408628 button.colab-df-convert');\n",
              "        buttonEl.style.display =\n",
              "          google.colab.kernel.accessAllowed ? 'block' : 'none';\n",
              "\n",
              "        async function convertToInteractive(key) {\n",
              "          const element = document.querySelector('#df-eb25f7a9-72df-41dc-8dde-cbc6a0408628');\n",
              "          const dataTable =\n",
              "            await google.colab.kernel.invokeFunction('convertToInteractive',\n",
              "                                                     [key], {});\n",
              "          if (!dataTable) return;\n",
              "\n",
              "          const docLinkHtml = 'Like what you see? Visit the ' +\n",
              "            '<a target=\"_blank\" href=https://colab.research.google.com/notebooks/data_table.ipynb>data table notebook</a>'\n",
              "            + ' to learn more about interactive tables.';\n",
              "          element.innerHTML = '';\n",
              "          dataTable['output_type'] = 'display_data';\n",
              "          await google.colab.output.renderOutput(dataTable, element);\n",
              "          const docLink = document.createElement('div');\n",
              "          docLink.innerHTML = docLinkHtml;\n",
              "          element.appendChild(docLink);\n",
              "        }\n",
              "      </script>\n",
              "    </div>\n",
              "  </div>\n",
              "  "
            ]
          },
          "metadata": {},
          "execution_count": 56
        }
      ]
    },
    {
      "cell_type": "markdown",
      "source": [
        "### Task 10: Show a line plot of hotel booking cancellation rate"
      ],
      "metadata": {
        "id": "Ik0k8j-Jl_yJ"
      }
    },
    {
      "cell_type": "markdown",
      "source": [
        "Using the created dataframe named `canceled_data`, create a lineplot using `sns.lineplot` containing the given arguments:\n",
        "- `data`: `canceled_data`\n",
        "- `x`: `'arrival_month'`\n",
        "- `y`: `'cancel_rate'`\n",
        "- `hue`: `'arrival_year'`\n",
        "- `style`: `'arrival_year'`\n",
        "- `markersize`: `10`\n",
        "- `palette`: `'Dark2'`\n",
        "- `ci`: `None`\n",
        "- `markers`: `True`\n",
        "- `dashes`: `False`\n",
        "- `ax`:`ax`\n",
        "\n",
        "Lastly, set the title named `Line Plot of Hotel Cancellation Rates Per Year`, x label named `Month Number`, y label named `Cancellation Rate`, the legend title named `Year`."
      ],
      "metadata": {
        "id": "ba3WB3rV7WQm"
      }
    },
    {
      "cell_type": "code",
      "source": [
        "# Fill in the blanks\n",
        "\n",
        "# fig, ax = plt.subplots(figsize=(10,5))\n",
        "# sns.lineplot(data=_______, x='_______', y='_______',\n",
        "#              hue='_______', style='_______',\n",
        "#              markersize=__, palette='_______', ci=_______,\n",
        "#              markers=_______, dashes=_______,\n",
        "#              ax=__)\n",
        "\n",
        "# ax.set_xticks(range(1,13))\n",
        "\n",
        "# ax.set_title('____________________________________')\n",
        "# ax.set_xlabel('____________')\n",
        "# ax.set_ylabel('____________')\n",
        "\n",
        "# ax.legend(title='____')"
      ],
      "metadata": {
        "id": "l5cOetKfahRL"
      },
      "execution_count": null,
      "outputs": []
    },
    {
      "cell_type": "code",
      "source": [
        "fig, ax = plt.subplots(figsize=(10, 5))\n",
        "\n",
        "sns.lineplot(data=canceled_data, x='arrival_month', y='cancel_rate',\n",
        "             hue='arrival_year', style='arrival_year',\n",
        "             markersize=10, palette='Dark2', ci=None,\n",
        "             markers=True, dashes=False,\n",
        "             ax=ax)\n",
        "\n",
        "ax.set_xticks(range(1, 13))\n",
        "\n",
        "ax.set_title('Line Plot of Hotel Cancellation Rates Per Year')\n",
        "ax.set_xlabel('Month Number')\n",
        "ax.set_ylabel('Cancellation Rate')\n",
        "\n",
        "ax.legend(title='Year')\n",
        "\n",
        "plt.show()\n"
      ],
      "metadata": {
        "colab": {
          "base_uri": "https://localhost:8080/",
          "height": 574
        },
        "id": "0Q5Vuc2yt6ZI",
        "outputId": "f6e29d76-a610-4b48-8771-c41e8ef58461"
      },
      "execution_count": 57,
      "outputs": [
        {
          "output_type": "stream",
          "name": "stderr",
          "text": [
            "<ipython-input-57-25ac0b109f53>:3: FutureWarning: \n",
            "\n",
            "The `ci` parameter is deprecated. Use `errorbar=None` for the same effect.\n",
            "\n",
            "  sns.lineplot(data=canceled_data, x='arrival_month', y='cancel_rate',\n"
          ]
        },
        {
          "output_type": "display_data",
          "data": {
            "text/plain": [
              "<Figure size 1000x500 with 1 Axes>"
            ],
            "image/png": "[encoded data removed]"
          },
          "metadata": {}
        }
      ]
    },
    {
      "cell_type": "markdown",
      "source": [
        "### Task 11: Use `.groupby()` method to tally the cancellations and compute the cancellation rates per deposit type and returning guest"
      ],
      "metadata": {
        "id": "_rNeHLjzm8fd"
      }
    },
    {
      "cell_type": "markdown",
      "source": [
        "**We then use `.groupby()` method to group the given columns and find the `sum` and `count` of cancelled bookings and store the results to a variable named `pointplot_data`**"
      ],
      "metadata": {
        "id": "3xk_-cw58jf0"
      }
    },
    {
      "cell_type": "code",
      "source": [
        "# Fill in the blanks\n",
        "\n",
        "# grouping_cols = ['deposit_type','is_repeated_guest','arrival_date']\n",
        "# pointplot_data = data.groupby(grouping_cols)['is_canceled'].agg(['sum','count']).reset_index()"
      ],
      "metadata": {
        "id": "0aPYBW3wV5vP"
      },
      "execution_count": 58,
      "outputs": []
    },
    {
      "cell_type": "code",
      "source": [
        "grouping_cols = ['deposit_type', 'is_repeated_guest', 'arrival_date']\n",
        "pointplot_data = data.groupby(grouping_cols)['is_canceled'].agg(['sum', 'count']).reset_index()"
      ],
      "metadata": {
        "id": "TPYVM864uk4j"
      },
      "execution_count": 59,
      "outputs": []
    },
    {
      "cell_type": "markdown",
      "source": [
        "We then create a new column named `cancel_rate` that is computed by dividing the columns `sum` and `count` from the dataframe `pointplot_data`\n",
        "\n",
        "```\n",
        "cancel_rate = column_of_sum / column_of_count\n",
        "```"
      ],
      "metadata": {
        "id": "GlMntyio8r_b"
      }
    },
    {
      "cell_type": "code",
      "source": [
        "# Write your code here\n",
        "pointplot_data['cancel_rate'] = pointplot_data['sum'] / pointplot_data['count']"
      ],
      "metadata": {
        "id": "WlQMbWBiZpHf"
      },
      "execution_count": 60,
      "outputs": []
    },
    {
      "cell_type": "markdown",
      "source": [
        "<details>\n",
        "<summary>Hint</summary>\n",
        "\n",
        "We can add a column from a computed value in Python like this\n",
        "\n",
        "Example:\n",
        "```python\n",
        "my_dataframe['new_col'] = my_dataframe['col1'] + my_dataframe['col2']\n",
        "```\n",
        "\n",
        "</details>"
      ],
      "metadata": {
        "id": "ld3BQpQW8yKF"
      }
    },
    {
      "cell_type": "markdown",
      "source": [
        "Then, we convert the column of `is_repeated_guest` to a data type `bool`."
      ],
      "metadata": {
        "id": "B30tNqo28ziR"
      }
    },
    {
      "cell_type": "code",
      "source": [
        "# Write your code here\n",
        "pointplot_data['is_repeated_guest'] = pointplot_data['is_repeated_guest'].astype(bool)"
      ],
      "metadata": {
        "id": "xZs4w7e_qf7c"
      },
      "execution_count": 61,
      "outputs": []
    },
    {
      "cell_type": "markdown",
      "source": [
        "<details>\n",
        "<summary>Hint</summary>\n",
        "\n",
        "We can use `.astype('type')` in order to fill out the missing values in the column. Alternatively, we can use a `lambda` function to convert them as well.\n",
        "\n",
        "Examples:\n",
        "```python\n",
        "my_dataframe['col_name'] = my_dataframe['col_name'].astype('int')\n",
        "```\n",
        "\n",
        "```python\n",
        "my_dataframe['col_name'] = my_dataframe['col_name'].apply(lambda x: int(x))\n",
        "```\n",
        "\n",
        "Both of these examples would yield the same result. It's only in the matter of preference.\n",
        "\n",
        "</details>"
      ],
      "metadata": {
        "id": "knXmY6ZS9WXg"
      }
    },
    {
      "cell_type": "code",
      "source": [
        "# Run the given cell\n",
        "\n",
        "pointplot_data.head()"
      ],
      "metadata": {
        "id": "9EeNwMFy9bJk",
        "colab": {
          "base_uri": "https://localhost:8080/",
          "height": 206
        },
        "outputId": "3ec9cd45-cc0f-450f-ba7e-be40d4abd963"
      },
      "execution_count": 62,
      "outputs": [
        {
          "output_type": "execute_result",
          "data": {
            "text/plain": [
              "  deposit_type  is_repeated_guest arrival_date  sum  count  cancel_rate\n",
              "0   No Deposit              False   2015-07-01   11     52     0.211538\n",
              "1   No Deposit              False   2015-07-02   15     51     0.294118\n",
              "2   No Deposit              False   2015-07-03   19     51     0.372549\n",
              "3   No Deposit              False   2015-07-04   17     59     0.288136\n",
              "4   No Deposit              False   2015-07-05   13     50     0.260000"
            ],
            "text/html": [
              "\n",
              "  <div id=\"df-7b26f1c4-6670-4adb-97fa-325c69302d34\">\n",
              "    <div class=\"colab-df-container\">\n",
              "      <div>\n",
              "<style scoped>\n",
              "    .dataframe tbody tr th:only-of-type {\n",
              "        vertical-align: middle;\n",
              "    }\n",
              "\n",
              "    .dataframe tbody tr th {\n",
              "        vertical-align: top;\n",
              "    }\n",
              "\n",
              "    .dataframe thead th {\n",
              "        text-align: right;\n",
              "    }\n",
              "</style>\n",
              "<table border=\"1\" class=\"dataframe\">\n",
              "  <thead>\n",
              "    <tr style=\"text-align: right;\">\n",
              "      <th></th>\n",
              "      <th>deposit_type</th>\n",
              "      <th>is_repeated_guest</th>\n",
              "      <th>arrival_date</th>\n",
              "      <th>sum</th>\n",
              "      <th>count</th>\n",
              "      <th>cancel_rate</th>\n",
              "    </tr>\n",
              "  </thead>\n",
              "  <tbody>\n",
              "    <tr>\n",
              "      <th>0</th>\n",
              "      <td>No Deposit</td>\n",
              "      <td>False</td>\n",
              "      <td>2015-07-01</td>\n",
              "      <td>11</td>\n",
              "      <td>52</td>\n",
              "      <td>0.211538</td>\n",
              "    </tr>\n",
              "    <tr>\n",
              "      <th>1</th>\n",
              "      <td>No Deposit</td>\n",
              "      <td>False</td>\n",
              "      <td>2015-07-02</td>\n",
              "      <td>15</td>\n",
              "      <td>51</td>\n",
              "      <td>0.294118</td>\n",
              "    </tr>\n",
              "    <tr>\n",
              "      <th>2</th>\n",
              "      <td>No Deposit</td>\n",
              "      <td>False</td>\n",
              "      <td>2015-07-03</td>\n",
              "      <td>19</td>\n",
              "      <td>51</td>\n",
              "      <td>0.372549</td>\n",
              "    </tr>\n",
              "    <tr>\n",
              "      <th>3</th>\n",
              "      <td>No Deposit</td>\n",
              "      <td>False</td>\n",
              "      <td>2015-07-04</td>\n",
              "      <td>17</td>\n",
              "      <td>59</td>\n",
              "      <td>0.288136</td>\n",
              "    </tr>\n",
              "    <tr>\n",
              "      <th>4</th>\n",
              "      <td>No Deposit</td>\n",
              "      <td>False</td>\n",
              "      <td>2015-07-05</td>\n",
              "      <td>13</td>\n",
              "      <td>50</td>\n",
              "      <td>0.260000</td>\n",
              "    </tr>\n",
              "  </tbody>\n",
              "</table>\n",
              "</div>\n",
              "      <button class=\"colab-df-convert\" onclick=\"convertToInteractive('df-7b26f1c4-6670-4adb-97fa-325c69302d34')\"\n",
              "              title=\"Convert this dataframe to an interactive table.\"\n",
              "              style=\"display:none;\">\n",
              "        \n",
              "  <svg xmlns=\"http://www.w3.org/2000/svg\" height=\"24px\"viewBox=\"0 0 24 24\"\n",
              "       width=\"24px\">\n",
              "    <path d=\"M0 0h24v24H0V0z\" fill=\"none\"/>\n",
              "    <path d=\"M18.56 5.44l.94 2.06.94-2.06 2.06-.94-2.06-.94-.94-2.06-.94 2.06-2.06.94zm-11 1L8.5 8.5l.94-2.06 2.06-.94-2.06-.94L8.5 2.5l-.94 2.06-2.06.94zm10 10l.94 2.06.94-2.06 2.06-.94-2.06-.94-.94-2.06-.94 2.06-2.06.94z\"/><path d=\"M17.41 7.96l-1.37-1.37c-.4-.4-.92-.59-1.43-.59-.52 0-1.04.2-1.43.59L10.3 9.45l-7.72 7.72c-.78.78-.78 2.05 0 2.83L4 21.41c.39.39.9.59 1.41.59.51 0 1.02-.2 1.41-.59l7.78-7.78 2.81-2.81c.8-.78.8-2.07 0-2.86zM5.41 20L4 18.59l7.72-7.72 1.47 1.35L5.41 20z\"/>\n",
              "  </svg>\n",
              "      </button>\n",
              "      \n",
              "  <style>\n",
              "    .colab-df-container {\n",
              "      display:flex;\n",
              "      flex-wrap:wrap;\n",
              "      gap: 12px;\n",
              "    }\n",
              "\n",
              "    .colab-df-convert {\n",
              "      background-color: #E8F0FE;\n",
              "      border: none;\n",
              "      border-radius: 50%;\n",
              "      cursor: pointer;\n",
              "      display: none;\n",
              "      fill: #1967D2;\n",
              "      height: 32px;\n",
              "      padding: 0 0 0 0;\n",
              "      width: 32px;\n",
              "    }\n",
              "\n",
              "    .colab-df-convert:hover {\n",
              "      background-color: #E2EBFA;\n",
              "      box-shadow: 0px 1px 2px rgba(60, 64, 67, 0.3), 0px 1px 3px 1px rgba(60, 64, 67, 0.15);\n",
              "      fill: #174EA6;\n",
              "    }\n",
              "\n",
              "    [theme=dark] .colab-df-convert {\n",
              "      background-color: #3B4455;\n",
              "      fill: #D2E3FC;\n",
              "    }\n",
              "\n",
              "    [theme=dark] .colab-df-convert:hover {\n",
              "      background-color: #434B5C;\n",
              "      box-shadow: 0px 1px 3px 1px rgba(0, 0, 0, 0.15);\n",
              "      filter: drop-shadow(0px 1px 2px rgba(0, 0, 0, 0.3));\n",
              "      fill: #FFFFFF;\n",
              "    }\n",
              "  </style>\n",
              "\n",
              "      <script>\n",
              "        const buttonEl =\n",
              "          document.querySelector('#df-7b26f1c4-6670-4adb-97fa-325c69302d34 button.colab-df-convert');\n",
              "        buttonEl.style.display =\n",
              "          google.colab.kernel.accessAllowed ? 'block' : 'none';\n",
              "\n",
              "        async function convertToInteractive(key) {\n",
              "          const element = document.querySelector('#df-7b26f1c4-6670-4adb-97fa-325c69302d34');\n",
              "          const dataTable =\n",
              "            await google.colab.kernel.invokeFunction('convertToInteractive',\n",
              "                                                     [key], {});\n",
              "          if (!dataTable) return;\n",
              "\n",
              "          const docLinkHtml = 'Like what you see? Visit the ' +\n",
              "            '<a target=\"_blank\" href=https://colab.research.google.com/notebooks/data_table.ipynb>data table notebook</a>'\n",
              "            + ' to learn more about interactive tables.';\n",
              "          element.innerHTML = '';\n",
              "          dataTable['output_type'] = 'display_data';\n",
              "          await google.colab.output.renderOutput(dataTable, element);\n",
              "          const docLink = document.createElement('div');\n",
              "          docLink.innerHTML = docLinkHtml;\n",
              "          element.appendChild(docLink);\n",
              "        }\n",
              "      </script>\n",
              "    </div>\n",
              "  </div>\n",
              "  "
            ]
          },
          "metadata": {},
          "execution_count": 62
        }
      ]
    },
    {
      "cell_type": "markdown",
      "source": [
        "### Task 12: Show a Pointplot of Cancellation Rates by Deposit Type"
      ],
      "metadata": {
        "id": "bVI55Dw1X8Rf"
      }
    },
    {
      "cell_type": "markdown",
      "source": [
        "Using the created dataframe named `pointplot_data`, create a poinplot using `sns.lineplot` containing the given arguments:\n",
        "- `data`: `pointplot_data`\n",
        "- `x`: `'deposit_type'`\n",
        "- `y`: `'cancel_rate'`\n",
        "- `hue`: `'is_repeated_guest'`\n",
        "- `join`: `False`\n",
        "- `capsize`:`0.1`\n",
        "- `ax`:`ax`\n",
        "\n",
        "Lastly, set the title named `Cancellation Rates by Deposity type and Repeating Guest`, x label named `Deposit Type`, y label named `Cancellation Rate`, the legend title named `Returning Guest`."
      ],
      "metadata": {
        "id": "vqWIiHOC9iYO"
      }
    },
    {
      "cell_type": "code",
      "source": [
        "# Fill in the blanks\n",
        "\n",
        "# fig, ax = plt.subplots(figsize=(7,8))\n",
        "# sns.pointplot(data=_______, x='_______', y='_______',\n",
        "#               hue='_______', join=_______,\n",
        "#               capsize=____, ax=___)\n",
        "\n",
        "# ax.set_xlabel('_______')\n",
        "# ax.set_ylabel('______________')\n",
        "# ax.set_title('____________________________')\n",
        "# ax.legend(title='____________________________')"
      ],
      "metadata": {
        "id": "dI0tnO9rgLG4"
      },
      "execution_count": null,
      "outputs": []
    },
    {
      "cell_type": "code",
      "source": [
        "fig, ax = plt.subplots(figsize=(7, 8))\n",
        "\n",
        "sns.pointplot(data=pointplot_data, x='deposit_type', y='cancel_rate',\n",
        "              hue='is_repeated_guest', join=False,\n",
        "              capsize=0.1, ax=ax)\n",
        "\n",
        "ax.set_xlabel('Deposit Type')\n",
        "ax.set_ylabel('Cancellation Rate')\n",
        "ax.set_title('Cancellation Rates by Deposit Type and Repeating Guest')\n",
        "ax.legend(title='Returning Guest')\n",
        "\n",
        "plt.show()"
      ],
      "metadata": {
        "colab": {
          "base_uri": "https://localhost:8080/",
          "height": 718
        },
        "id": "YJGzs-tQvDUR",
        "outputId": "2828da65-b8b3-4eae-b38b-f4e56e966365"
      },
      "execution_count": 63,
      "outputs": [
        {
          "output_type": "display_data",
          "data": {
            "text/plain": [
              "<Figure size 700x800 with 1 Axes>"
            ],
            "image/png": "[encoded data removed]"
          },
          "metadata": {}
        }
      ]
    },
    {
      "cell_type": "markdown",
      "source": [
        "### Task 13 (Optional): Other Analysis and Insights"
      ],
      "metadata": {
        "id": "QiVxh2HhyOmI"
      }
    },
    {
      "cell_type": "markdown",
      "source": [
        "**This portion of the Final Task is not required to answer but it is highly recommended to do so.**\n",
        "\n",
        "For this part, this would be the place where you can provide additional plots, charts, visualizations, and insights that may be interesting into your report. Although, if you have no insights that you want to share, you can skip to the next part (\"Conclusions and Recommendations\").\n",
        "\n",
        "You may add code or text cells by pointing your mouse to the end of a code cell and click \"Code\" or \"Text\".\n",
        "\n",
        "![image.png](data:image/png;base64,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)"
      ],
      "metadata": {
        "id": "ohKRR8SVyR9A"
      }
    },
    {
      "cell_type": "markdown",
      "source": [
        "You can delete your cell by pressing the delete icon on the top right of the cell:\n",
        "![image.png](data:image/png;base64,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)"
      ],
      "metadata": {
        "id": "4_HWwkJr1j6j"
      }
    },
    {
      "cell_type": "markdown",
      "source": [
        "Here are some of the things that we can explore using the given data (You can choose as much as you can):\n",
        "- Relationship between cancellation rates and the number of special requests or booking changes\n",
        "- Frequency of Cancellations by Resort Type and the presence of children per guest\n",
        "- Relation between the number of days in the waiting list to guest's cancellation\n",
        "- Solo/Couple guest vs. Family guest cancellation rates\n",
        "- Influence of lead time to guest cancellation\n",
        "\n",
        "Correspondingly, you may these methods to support your insights as well (if applicable):\n",
        "- RFM analysis\n",
        "- Hypothesis Testing"
      ],
      "metadata": {
        "id": "Joi6AAffz7wn"
      }
    },
    {
      "cell_type": "markdown",
      "source": [
        "Additionally, you may add text cells if you wanted to provide some written explanation of the analysis that we make here."
      ],
      "metadata": {
        "id": "Bh7oyOtt1ZKE"
      }
    },
    {
      "cell_type": "code",
      "source": [
        "# You may freely add cells and write code for this part"
      ],
      "metadata": {
        "id": "3fOI9IHeyRNA"
      },
      "execution_count": null,
      "outputs": []
    },
    {
      "cell_type": "markdown",
      "source": [
        "# Sure! Let's explore some of the suggested analyses using the given data:\n",
        "\n",
        "1. Relationship between cancellation rates and the number of special requests or booking changes:\n",
        "   - You can calculate the cancellation rates for different numbers of special requests or booking changes and analyze if there is any correlation or pattern between them.\n",
        "   - Use methods such as scatter plots or regression analysis to visualize and assess the relationship between cancellation rates and the number of special requests or booking changes.\n",
        "\n",
        "2. Frequency of Cancellations by Resort Type and the presence of children per guest:\n",
        "   - Group the data by resort type and the presence of children, calculate the cancellation rates, and compare them across different groups.\n",
        "   - Use bar plots or stacked bar plots to visualize the frequency of cancellations based on resort type and the presence of children.\n",
        "\n",
        "3. Relation between the number of days in the waiting list and guest cancellations:\n",
        "   - Analyze if there is a relationship between the number of days in the waiting list and the likelihood of cancellations.\n",
        "   - You can group the data by the number of days in the waiting list, calculate the cancellation rates, and observe any trends or patterns.\n",
        "   - Visualization techniques such as line plots or box plots can help in understanding the relationship.\n",
        "\n",
        "4. Solo/Couple guest vs. Family guest cancellation rates:\n",
        "   - Compare the cancellation rates between solo/couple guests and family guests to identify any differences.\n",
        "   - Group the data based on the number of adults and children per booking, calculate cancellation rates for each group, and analyze the disparities.\n",
        "   - Use bar plots or grouped bar plots to compare the cancellation rates between different guest types.\n",
        "\n",
        "5. Influence of lead time on guest cancellations:\n",
        "   - Analyze the impact of lead time (the number of days between booking and arrival) on guest cancellations.\n",
        "   - Group the data based on lead time intervals, calculate the cancellation rates, and examine if there is any relationship.\n",
        "   - Visualize the relationship using line plots or box plots to observe any patterns or trends.\n",
        "\n",
        "To support these insights, we can apply various methods such as RFM (Recency, Frequency, Monetary) analysis to segment the data and understand customer behavior, and hypothesis testing to evaluate any significant differences or correlations between variables."
      ],
      "metadata": {
        "id": "QJjG8Mz_wlK-"
      }
    },
    {
      "cell_type": "markdown",
      "source": [
        "## Conclusions and Recommendations"
      ],
      "metadata": {
        "id": "FhXng66greVE"
      }
    },
    {
      "cell_type": "markdown",
      "source": [
        "For this part, we would have to provide overall conclusion based on the observations and insights that we made in the previous part.\n",
        "\n",
        "You may write down at least 2 sentences on what can you can observe in the data in general and what you can recommend to the management in order to resolve the increased booking cancellations given the results and insights that you've made so far.\n",
        "\n",
        "---"
      ],
      "metadata": {
        "id": "PANUI_posK7b"
      }
    },
    {
      "cell_type": "markdown",
      "source": [
        "*Write your answer by double-clicking on this sentence*"
      ],
      "metadata": {
        "id": "vF5WnzyOzAg9"
      }
    },
    {
      "cell_type": "markdown",
      "source": [
        "# Based on my observations and insights obtained from the data analysis, it can be observed that certain factors such as the number of special requests, booking changes, resort type, presence of children, lead time, and guest type (solo/couple vs. family) influence the cancellation rates.\n",
        "\n",
        "# To resolve the increased booking cancellations, it is recommended for the management to consider the following actions:\n",
        "1. Improve the booking experience and customer satisfaction by streamlining the process for special requests and minimizing the need for frequent booking changes.\n",
        "2. Tailor promotional strategies and services based on the specific needs and preferences of different guest segments, such as families or solo/couple travelers. This can help enhance guest experience and reduce the likelihood of cancellations."
      ],
      "metadata": {
        "id": "9ZVN42pSw4qf"
      }
    },
    {
      "cell_type": "markdown",
      "source": [
        "---\n",
        "\n",
        "**END OF FILE**"
      ],
      "metadata": {
        "id": "9A7GXLBfzFmf"
      }
    }
  ]
}