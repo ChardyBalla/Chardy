{
  "nbformat": 4,
  "nbformat_minor": 0,
  "metadata": {
    "colab": {
      "provenance": [],
      "include_colab_link": true
    },
    "kernelspec": {
      "name": "python3",
      "display_name": "Python 3"
    },
    "language_info": {
      "name": "python"
    }
  },
  "cells": [
    {
      "cell_type": "markdown",
      "metadata": {
        "id": "view-in-github",
        "colab_type": "text"
      },
      "source": [
        "<a href=\"https://colab.research.google.com/github/ChardyBalla/Chardy/blob/main/Conditional_Statements_and_Loops.ipynb\" target=\"_parent\"><img src=\"https://colab.research.google.com/assets/colab-badge.svg\" alt=\"Open In Colab\"/></a>"
      ]
    },
    {
      "cell_type": "markdown",
      "source": [
        "#Conditional Statements and Loops\n",
        "This notebook contains additional practice on conditional statements and loops. You will have 6 tasks for self-assessment. Do the tasks and run the cell to see the result. Then check the answer key."
      ],
      "metadata": {
        "id": "q0HsGoipivTY"
      }
    },
    {
      "cell_type": "markdown",
      "source": [
        "# Tasks\n",
        "\n"
      ],
      "metadata": {
        "id": "PuCfD9A0HSm4"
      }
    },
    {
      "cell_type": "markdown",
      "source": [
        "### Task 1\n",
        "\n",
        "Write a condition that will check if the person is eligible to get a driving licence in the USA. \n",
        "\n",
        "Use conditional statements.\n",
        "\n",
        "\n",
        "*  print **'Eligible for driving licence'** if the person's age is greater or equal to 16\n",
        "*  print **'Not eligible'** if the person is younger than 16\n",
        "\n"
      ],
      "metadata": {
        "id": "-plvq74UU9Lw"
      }
    },
    {
      "cell_type": "code",
      "source": [
        "age = 13\n",
        "\n",
        "# write your code here\n",
        "age = 13  # example age\n",
        "\n",
        "if age >= 16:\n",
        "    print(\"Eligible for driving licence\")\n",
        "else:\n",
        "    print(\"Not eligible\")\n",
        "\n"
      ],
      "metadata": {
        "id": "RO-05HrNU__M",
        "outputId": "b1d25768-bb71-413a-998d-732a83a25e35",
        "colab": {
          "base_uri": "https://localhost:8080/"
        }
      },
      "execution_count": 16,
      "outputs": [
        {
          "output_type": "stream",
          "name": "stdout",
          "text": [
            "Not eligible\n"
          ]
        }
      ]
    },
    {
      "cell_type": "markdown",
      "source": [
        "### Task 2\n",
        "\n",
        "Using a for-loop, iterate over a given list of programming languages to print **'<...> is a programming language'**"
      ],
      "metadata": {
        "id": "tSdLYih1VBkQ"
      }
    },
    {
      "cell_type": "code",
      "source": [
        "pls = ['Python', 'Java', 'C++', 'Go', 'Haskell']\n",
        "\n",
        "#insert your code here\n",
        "\n",
        "for pl in pls:\n",
        "  print(f'{pl} is a programming language')\n"
      ],
      "metadata": {
        "id": "jxK1xbdKVD83",
        "outputId": "f45cb58c-b21c-4749-83d5-16b4b01fa72a",
        "colab": {
          "base_uri": "https://localhost:8080/"
        }
      },
      "execution_count": 18,
      "outputs": [
        {
          "output_type": "stream",
          "name": "stdout",
          "text": [
            "Python is a programming language\n",
            "Java is a programming language\n",
            "C++ is a programming language\n",
            "Go is a programming language\n",
            "Haskell is a programming language\n"
          ]
        }
      ]
    },
    {
      "cell_type": "markdown",
      "source": [
        "### Task 3\n",
        "\n",
        "Print the square of numbers from 10 to 20 using while-loop. \n"
      ],
      "metadata": {
        "id": "cAJi0eCJVGh0"
      }
    },
    {
      "cell_type": "code",
      "source": [
        "n = 10\n",
        "\n",
        "# write your code here\n",
        "\n",
        "num = 10\n",
        "\n",
        "while num <= 20:\n",
        "    print(num**2)\n",
        "    num += 1\n"
      ],
      "metadata": {
        "id": "GTGujagoVIO9",
        "outputId": "8ae400bd-8e8a-4c67-bcfb-12023e513de7",
        "colab": {
          "base_uri": "https://localhost:8080/"
        }
      },
      "execution_count": 5,
      "outputs": [
        {
          "output_type": "stream",
          "name": "stdout",
          "text": [
            "100\n",
            "121\n",
            "144\n",
            "169\n",
            "196\n",
            "225\n",
            "256\n",
            "289\n",
            "324\n",
            "361\n",
            "400\n"
          ]
        }
      ]
    },
    {
      "cell_type": "markdown",
      "source": [
        "### Task 4\n",
        "\n",
        "\n",
        "We have a list of mixed strings and integers. We want to make a reversed list -- save all integers as strings and vice versa. Boolean values should be omitted.\n",
        "\n",
        "Using for-loop and condition, save the changed values to a new list, then print two lists ."
      ],
      "metadata": {
        "id": "F5_YRUhmVK5C"
      }
    },
    {
      "cell_type": "code",
      "source": [
        "old_list = [2, '5', False, '193', 87, '42', True, 934]\n",
        "new_list = []\n",
        "\n",
        "# write your code here\n",
        "for item in old_list:\n",
        "    if type(item) == int:\n",
        "        new_list.append(str(item))\n",
        "    elif type(item) == str:\n",
        "        if item.isdigit():\n",
        "            new_list.append(int(item))\n",
        "\n",
        "print(old_list)\n",
        "print(new_list)"
      ],
      "metadata": {
        "id": "DfYBwM09VMld",
        "outputId": "332e34c5-2ea9-43ba-983a-45de77264008",
        "colab": {
          "base_uri": "https://localhost:8080/"
        }
      },
      "execution_count": 8,
      "outputs": [
        {
          "output_type": "stream",
          "name": "stdout",
          "text": [
            "[2, '5', False, '193', 87, '42', True, 934]\n",
            "['2', 5, 193, '87', 42, '934']\n"
          ]
        }
      ]
    },
    {
      "cell_type": "markdown",
      "source": [
        "### Task 5\n",
        "\n",
        "For each number from 3 to 13, if the number is even, append to the given list a string, containing the number and 'is even':\n",
        "\n",
        "e.g \"4 is even\". \n",
        "\n",
        "If the number is uneven, append to the given list a string containing the number and 'is odd': \n",
        "\n",
        "e.g \"3 is odd\".\n",
        "\n",
        " Use while-loop, string formatting and conditionals."
      ],
      "metadata": {
        "id": "aGwHk4dYVOdN"
      }
    },
    {
      "cell_type": "code",
      "source": [
        "n = 3\n",
        "num_list = []\n",
        "\n",
        "# write your code here\n",
        "while n <= 13:\n",
        "    if n % 2 == 0:\n",
        "        num_list.append(f\"{n} is even\")\n",
        "    else:\n",
        "        num_list.append(f\"{n} is odd\")\n",
        "    n += 1\n",
        "\n",
        "print(num_list)"
      ],
      "metadata": {
        "id": "ks6phuARVQTr",
        "outputId": "af049c6c-10d0-4501-dde3-e0dde61158e0",
        "colab": {
          "base_uri": "https://localhost:8080/"
        }
      },
      "execution_count": 9,
      "outputs": [
        {
          "output_type": "stream",
          "name": "stdout",
          "text": [
            "['3 is odd', '4 is even', '5 is odd', '6 is even', '7 is odd', '8 is even', '9 is odd', '10 is even', '11 is odd', '12 is even', '13 is odd']\n"
          ]
        }
      ]
    },
    {
      "cell_type": "markdown",
      "source": [
        "### Task 6 *\n",
        "\n",
        "We have some data on clients merged in one dictionary, which is not convenient. A marketing team asked us to separate a client dictionary into 4 groups to apply different strategies for the promotion of new pet food:\n",
        "1. new clients owning standard pets (cats or dogs)\n",
        "2. new clients owning exotic animals\n",
        "3. old clients owning standard pets (cats or dogs)\n",
        "4. old clients owning exotic animals\n",
        "\n",
        "We have two additional lists for new and old clients. \n",
        "\n",
        "Append the client ids to the new dictionary with the following keys:\n",
        "- new_clients_standard\n",
        "- new_clients_exotic\n",
        "- old_clients_standard\n",
        "- old_clients_exotic\n",
        "\n",
        "The values in the dictionary should be empty lists, where you will append the ids.\n",
        "\n",
        "! Note that string keys are enclosed in  quotes in a dictionary.\n",
        "\n",
        "Use nested conditions (condition in the body of another condition) and for-loop."
      ],
      "metadata": {
        "id": "94AvlYZKVRzP"
      }
    },
    {
      "cell_type": "code",
      "source": [
        "clients = {'id762': 'cat', 'id728': 'bird', 'id723': 'dog', 'id635':'python', 'id102': 'dog', 'id732': 'cat',\n",
        "           'id223':'cat', 'id911': 'rabbit', 'id273':'dog', 'id019':'fish', 'id201':'cat', 'id122':'dog', 'id030':'bird'}\n",
        "\n",
        "new_client_ids = ['id762', 'id728', 'id723', 'id635', 'id732', 'id911']\n",
        "old_client_ids = ['id102', 'id223', 'id273', 'id019', 'id201', 'id122', 'id030']\n",
        "\n",
        "# insert your dictionary here\n",
        "\n",
        "\n",
        "\n",
        "# write your code here\n",
        "\n",
        "\n",
        "for group in clients_groups:\n",
        "  print(group, clients_groups[group])\n"
      ],
      "metadata": {
        "id": "aHUMCRinVUCV"
      },
      "execution_count": null,
      "outputs": []
    },
    {
      "cell_type": "code",
      "source": [
        "clients = {'id762': 'cat', 'id728': 'bird', 'id723': 'dog', 'id635':'python', 'id102': 'dog', 'id732': 'cat',\n",
        "           'id223':'cat', 'id911': 'rabbit', 'id273':'dog', 'id019':'fish', 'id201':'cat', 'id122':'dog', 'id030':'bird'}\n",
        "\n",
        "new_client_ids = ['id762', 'id728', 'id723', 'id635', 'id732', 'id911']\n",
        "old_client_ids = ['id102', 'id223', 'id273', 'id019', 'id201', 'id122', 'id030']\n",
        "\n",
        "clients_groups = {'new_clients_standard': [], 'new_clients_exotic': [], 'old_clients_standard': [], 'old_clients_exotic': []}\n",
        "\n",
        "for client_id, pet_type in clients.items():\n",
        "    if client_id in new_client_ids:\n",
        "        if pet_type in ['cat', 'dog']:\n",
        "            clients_groups['new_clients_standard'].append(client_id)\n",
        "        else:\n",
        "            clients_groups['new_clients_exotic'].append(client_id)\n",
        "    elif client_id in old_client_ids:\n",
        "        if pet_type in ['cat', 'dog']:\n",
        "            clients_groups['old_clients_standard'].append(client_id)\n",
        "        else:\n",
        "            clients_groups['old_clients_exotic'].append(client_id)\n",
        "\n",
        "for group in clients_groups:\n",
        "    print(group, clients_groups[group])\n"
      ],
      "metadata": {
        "id": "EW_epz9HYygN",
        "outputId": "5ad08815-7919-4e4b-ad21-b2c2794ad549",
        "colab": {
          "base_uri": "https://localhost:8080/"
        }
      },
      "execution_count": 12,
      "outputs": [
        {
          "output_type": "stream",
          "name": "stdout",
          "text": [
            "new_clients_standard ['id762', 'id723', 'id732']\n",
            "new_clients_exotic ['id728', 'id635', 'id911']\n",
            "old_clients_standard ['id102', 'id223', 'id273', 'id201', 'id122']\n",
            "old_clients_exotic ['id019', 'id030']\n"
          ]
        }
      ]
    },
    {
      "cell_type": "markdown",
      "source": [
        "# Answer Key\n"
      ],
      "metadata": {
        "id": "JlyTPedRS3hK"
      }
    },
    {
      "cell_type": "markdown",
      "source": [
        "### Task 1\n",
        "\n",
        "Write a condition that will check if the person is eligible to get a driving licence in the USA. \n",
        "\n",
        "Use conditional statements.\n",
        "\n",
        "*  print **'Eligible for driving licence'** if the person's age is greater or equal to 16\n",
        "*  print **'Not eligible'** if the person is younger than 16\n",
        "\n"
      ],
      "metadata": {
        "id": "a4DNhpWUS04k"
      }
    },
    {
      "cell_type": "code",
      "source": [
        "age = 13\n",
        "\n",
        "# insert the condition here\n",
        "if age >= 16:\n",
        "  print('Eligible for driving licence')\n",
        "else:\n",
        "  print('Not eligible')"
      ],
      "metadata": {
        "colab": {
          "base_uri": "https://localhost:8080/"
        },
        "id": "Oi1ngWKYS6Cs",
        "outputId": "8bc192b2-97d1-4dd9-e8f8-aa0f9e2f2488"
      },
      "execution_count": 13,
      "outputs": [
        {
          "output_type": "stream",
          "name": "stdout",
          "text": [
            "Not eligible\n"
          ]
        }
      ]
    },
    {
      "cell_type": "markdown",
      "source": [
        "**Task explanation**\n",
        "\n",
        "Here we have only one condition to check: age parameter being 16 or greater.\n",
        "\n",
        "So the first if-condition will check if `age` variable is greater or equal to 16.\n",
        "\n",
        "\n",
        "```\n",
        "if age >= 16:\n",
        "  print(...)\n",
        "```\n",
        "\n",
        "\n",
        "For the rest of the cases, where `age` is lower than 16, we will simply use `else` command.\n",
        "\n",
        "\n",
        "\n",
        "```\n",
        "else:\n",
        "  print(...)\n",
        "```\n",
        "\n"
      ],
      "metadata": {
        "id": "NPEk-WJYWmLx"
      }
    },
    {
      "cell_type": "markdown",
      "source": [
        "### Task 2\n",
        "\n",
        "Using a for-loop, iterate over a given list of programming languages to print **'<...> is a programming language'**"
      ],
      "metadata": {
        "id": "zpAgk5hcT59i"
      }
    },
    {
      "cell_type": "code",
      "source": [
        "pls = ['Python', 'Java', 'C++', 'Go', 'Haskell']\n",
        "\n",
        "#insert your code here\n",
        "\n",
        "for pl in pls:\n",
        "  print(f'{pl} is a programming language')"
      ],
      "metadata": {
        "colab": {
          "base_uri": "https://localhost:8080/"
        },
        "id": "kbdc_jUtT8d7",
        "outputId": "7cff1890-f84c-4038-9c04-9bd3960ff4b8"
      },
      "execution_count": 17,
      "outputs": [
        {
          "output_type": "stream",
          "name": "stdout",
          "text": [
            "Python is a programming language\n",
            "Java is a programming language\n",
            "C++ is a programming language\n",
            "Go is a programming language\n",
            "Haskell is a programming language\n"
          ]
        }
      ]
    },
    {
      "cell_type": "markdown",
      "source": [
        "**Task explanation**\n",
        "\n",
        "We introduce the iteration after `for` -- the element to be used in the body of loop, `in` operator and the iterable value, `pl` list:\n",
        "```\n",
        "for pl in pl:\n",
        "```\n",
        "Keep in mind, that you can give another name to the element, for example `i` or `language`. It's better to use `i` for indexes and more explicit names for elements themselves, `language`.\n",
        "\n",
        "In the body of the loop, we insert the desirable action, `print()` function. \n",
        "\n",
        "To format a string, we can use format method or **f-string**. The latter is preferable as it is efficient and gives you more opportunities for formatting. We start f-string with `f` letter followed by quotation marks. Between quotes we insert the string and the element to insert is enclosed in `{}`:\n",
        "```\n",
        "print(f'{pl} is a programming language')\n",
        "```\n",
        "\n",
        "Solving the formating using `format` is not a mistake:\n",
        "```\n",
        "print(\"{} is a programming language\".format(pl)\n",
        "```"
      ],
      "metadata": {
        "id": "LyEXTQrYdDrO"
      }
    },
    {
      "cell_type": "markdown",
      "source": [
        "### Task 3\n",
        "\n",
        "Print the square of numbers from 10 to 20 using while-loop. \n"
      ],
      "metadata": {
        "id": "mbigGRuJT9VG"
      }
    },
    {
      "cell_type": "code",
      "source": [
        "n = 10\n",
        "\n",
        "# insert your code here\n",
        "while n<=20:\n",
        "  print(n**2)\n",
        "\n",
        "  n+=1"
      ],
      "metadata": {
        "colab": {
          "base_uri": "https://localhost:8080/"
        },
        "id": "WeBnqJ5gUBnp",
        "outputId": "6a4d0e62-a2fd-430b-c1c9-f6943f5cdc6f"
      },
      "execution_count": null,
      "outputs": [
        {
          "output_type": "stream",
          "name": "stdout",
          "text": [
            "100\n",
            "121\n",
            "144\n",
            "169\n",
            "196\n",
            "225\n",
            "256\n",
            "289\n",
            "324\n",
            "361\n",
            "400\n"
          ]
        }
      ]
    },
    {
      "cell_type": "markdown",
      "source": [
        "**Task explanation**\n",
        "\n",
        "We introduce the condition for the loop to keep iterating after `while` command. As we need all the values from 10 to 20, we will use `<=` sign. So that an iteration with n=20 will be the last to be performed:\n",
        "\n",
        "\n",
        "\n",
        "```\n",
        "while n <= 20:\n",
        "```\n",
        "\n",
        "In the body of the loop we include the desired action to perform if the condition `n <= 20` is satisfied - we print the squared number using `**` operator:\n",
        "```\n",
        "print(n**2)\n",
        "```\n",
        "After that, to make the loop iterate further, we increese the counter `n` by one using the shorter version of `n = n + 1`:\n",
        "\n",
        "```\n",
        "n += 1\n",
        "```\n",
        "\n",
        "Keep in mind, that if we forget to increase the counter, we'll get an infinite loop -- don't forget about it as while-loop should know where to stop."
      ],
      "metadata": {
        "id": "_vjUt-gAZ5Nn"
      }
    },
    {
      "cell_type": "markdown",
      "source": [
        "### Task 4\n",
        "\n",
        "\n",
        "We have a list of mixed strings and integers. We want to make a reversed list -- save all integers as strings and vice versa. Boolean values should be omitted.\n",
        "\n",
        "Using for-loop and condition, save the changed values to a new list, then print two lists."
      ],
      "metadata": {
        "id": "G8NyeKkwUCNS"
      }
    },
    {
      "cell_type": "code",
      "source": [
        "old_list = [2, '5', False, '193', 87, '42', True, 934]\n",
        "new_list = []\n",
        "\n",
        "# insert your code here\n",
        "for item in old_list:\n",
        "  if type(item) == str:\n",
        "    new_list.append(int(item))\n",
        "  elif type(item) == int:\n",
        "    new_list.append(str(item))\n",
        "\n",
        "print(old_list)\n",
        "print(new_list)"
      ],
      "metadata": {
        "colab": {
          "base_uri": "https://localhost:8080/"
        },
        "id": "LcBioOB1gBeq",
        "outputId": "4d060fb7-85cf-4b3b-cf8d-bf4d10425be1"
      },
      "execution_count": null,
      "outputs": [
        {
          "output_type": "stream",
          "name": "stdout",
          "text": [
            "[2, '5', False, '193', 87, '42', True, 934]\n",
            "['2', 5, 193, '87', 42, '934']\n"
          ]
        }
      ]
    },
    {
      "cell_type": "markdown",
      "source": [
        "**Task explanation**\n",
        "\n",
        "Here we need to implement iteration over the old_list usinf `for`-loop, which body will contain conditions. So let's expain it line by line.\n",
        "\n",
        "We introduce the iteration after for -- the `element` to be used in the body of loop (`item`), `in` operator and the iterable value,  old_list:\n",
        "```\n",
        "for item in old_list:\n",
        "```\n",
        "Keep in mind that here we are iterating over each element in the list, not index. You can give another name to the element, for example i or element. It's better to use `i` for indexes and more explicit names for elements themselves, `item`.\n",
        "\n",
        "With the next line we introduce the first condition -- it checks if the item is of string type. To check the type, we use `type()` function and comparing operator `==`. Notice that data types are not enclosed in quotes:\n",
        "```\n",
        "if type(item) == str:\n",
        "```\n",
        "\n",
        "Next we insert the action to perform if the first condition is satisfied -- we append to the new_list the changes datatype. To make an integer out of string, we use `int()` function. And to append the changes value to the new_list, we use `append` method:\n",
        "```\n",
        "new_list.append(int(item))\n",
        "```\n",
        "If the first condition is not satisfied, Python considers the second one and so on.\n",
        "\n",
        "Here we have to check another condition, item being of integer type. To do it, we follow the steps above, but this time using `elif` instead of `if`, which stands for *\"if previous condition is not true, let's check this one\"*:\n",
        "```\n",
        "elif type(item) == int:\n",
        "```\n",
        "Next we insert the operation to perform in case this condition returns true. We will append to the new list the changed value:\n",
        "```\n",
        "new_list.append(str(item))\n",
        "```\n",
        "You could have noticed that we do not use else this time -- we skip it as there is no other condition to be checked and we are required not to append any boolean values to the new list. "
      ],
      "metadata": {
        "id": "yMqzBmDxhxbp"
      }
    },
    {
      "cell_type": "markdown",
      "source": [
        "### Task 5\n",
        "\n",
        "For each number from 3 to 13, if the number is even, append to the given list a string, containing the number and 'is even':\n",
        "\n",
        "e.g \"4 is even\".\n",
        "\n",
        "If the number is uneven, append to the given list a string containing the number and 'is odd':\n",
        "\n",
        "e.g \"3 is odd\".\n",
        "\n",
        "Use while-loop, string formatting and conditionals."
      ],
      "metadata": {
        "id": "2p9OOrbYUEpS"
      }
    },
    {
      "cell_type": "code",
      "source": [
        "n = 3\n",
        "num_list = []\n",
        "\n",
        "# insert your code here\n",
        "while n <= 13:\n",
        "  if n%2 == 0:\n",
        "    num_list.append(f'{n} is even')\n",
        "  else:\n",
        "    num_list.append(f'{n} is odd')\n",
        "  \n",
        "  n+=1\n",
        "\n",
        "print(num_list)"
      ],
      "metadata": {
        "colab": {
          "base_uri": "https://localhost:8080/"
        },
        "id": "SIC5wsZIUHHs",
        "outputId": "3c2104b9-726c-4bbe-97fb-533b4af1b825"
      },
      "execution_count": null,
      "outputs": [
        {
          "output_type": "stream",
          "name": "stdout",
          "text": [
            "['3 is odd', '4 is even', '5 is odd', '6 is even', '7 is odd', '8 is even', '9 is odd', '10 is even', '11 is odd', '12 is even', '13 is odd']\n"
          ]
        }
      ]
    },
    {
      "cell_type": "markdown",
      "source": [
        "**Task explanation**\n",
        "\n",
        "We introduce the while-loop after `while` command, setting the condition to stop iterating after n=13:\n",
        "```\n",
        "while n <= 13:\n",
        "```\n",
        "In the body of the loop we insert the first condition to check if the number is even. We are using modulus to check if the division on 2 does not return the remainder. In this case the number is considered even:\n",
        "```\n",
        "if n % 2 == 0:\n",
        "```\n",
        "After that we insert the desired operation -- we append to the list a string with explicit statement:\n",
        "```\n",
        "num_list.append(f'{n} is even')\n",
        "```\n",
        "To format a string, we can use **format** method or **f-string**. The latter is preferable as it is efficient and gives you more opportunities for formatting. We start f-string with f letter followed by quotation marks. Between quotes we insert the string and the element to insert is enclosed in {}.\n",
        "\n",
        "However, using 'format' is not a mistake:\n",
        "```\n",
        "num_list.append('{} is even'.format(n))\n",
        "```\n",
        "Values which do not satisfy the first condition, are considered odd, so we use `else` command as we do not have any more conditions to check:\n",
        "```\n",
        "else:\n",
        "   num_list.append(f'{n} is odd')\n",
        "```\n",
        "And lastly, to keep the loop going, we need to increase the counter (n):\n",
        "```\n",
        "n += 1\n",
        "```\n",
        "\n",
        "Don't forget to increase the counter, otherwise you will get an infinite loop."
      ],
      "metadata": {
        "id": "E7mXLbYFpaEv"
      }
    },
    {
      "cell_type": "markdown",
      "source": [
        "### Task 6 *\n",
        "\n",
        "We have some data on clients merged in one dictionary, which is not convenient. A marketing team asked us to separate a client dictionary into 4 groups to apply different strategies for the promotion of new pet food:\n",
        "1. new clients owning standard pets (cats or dogs)\n",
        "2. new clients owning exotic animals\n",
        "3. old clients owning standard pets (cats or dogs)\n",
        "4. old clients owning exotic animals\n",
        "\n",
        "We have two additional lists for new and old clients. \n",
        "\n",
        "Append the client ids to the new dictionary with the following keys:\n",
        "- new_clients_standard\n",
        "- new_clients_exotic\n",
        "- old_clients_standard\n",
        "- old_clients_exotic\n",
        "\n",
        "The values in the dictionary should be empty lists, where you will append the ids.\n",
        "\n",
        "! Note that string keys are enclosed in  quotes in a dictionary.\n",
        "\n",
        "Use nested conditions (condition in the body of another condition) and for-loop."
      ],
      "metadata": {
        "id": "H-WRUuxofLR7"
      }
    },
    {
      "cell_type": "code",
      "source": [
        "clients = {'id762': 'cat', 'id728': 'bird', 'id723': 'dog', 'id635':'python', 'id102': 'dog', 'id732': 'cat',\n",
        "           'id223':'cat', 'id911': 'rabbit', 'id273':'dog', 'id019':'fish', 'id201':'cat', 'id122':'dog', 'id030':'bird'}\n",
        "\n",
        "new_client_ids = ['id762', 'id728', 'id723', 'id635', 'id732', 'id911']\n",
        "old_client_ids = ['id102', 'id223', 'id273', 'id019', 'id201', 'id122', 'id030']\n",
        "\n",
        "# insert your dictionary here\n",
        "clients_groups = {'new_clients_standard':[], 'new_clients_exotic': [],\n",
        "                   'old_clients_standard':[], 'old_clients_exotic': []}\n",
        "\n",
        "\n",
        "# write your code here\n",
        "for client in clients:\n",
        "  if client in new_client_ids:\n",
        "    if clients[client] == 'cat' or clients[client] == 'dog':\n",
        "      clients_groups['new_clients_standard'].append(client)\n",
        "    else:\n",
        "      clients_groups['new_clients_exotic'].append(client)\n",
        "  else:\n",
        "    if clients[client] == 'cat' or clients[client] == 'dog':\n",
        "      clients_groups['old_clients_standard'].append(client)\n",
        "    else:\n",
        "      clients_groups['old_clients_exotic'].append(client)\n",
        "\n",
        "for group in clients_groups:\n",
        "  print(group, clients_groups[group])\n"
      ],
      "metadata": {
        "colab": {
          "base_uri": "https://localhost:8080/"
        },
        "id": "yRgz7aTGyWBc",
        "outputId": "4776bc6a-f9d6-4412-8169-b89afeb6e2f8"
      },
      "execution_count": null,
      "outputs": [
        {
          "output_type": "stream",
          "name": "stdout",
          "text": [
            "new_clients_standard ['id762', 'id723', 'id732']\n",
            "new_clients_exotic ['id728', 'id635', 'id911']\n",
            "old_clients_standard ['id102', 'id223', 'id273', 'id201', 'id122']\n",
            "old_clients_exotic ['id019', 'id030']\n"
          ]
        }
      ]
    },
    {
      "cell_type": "markdown",
      "source": [
        "**Task explanation**\n",
        "\n",
        "First we need to create a dictionary, whose key will be a string indicating the group title, and the value -- an empty list. Later we will fill this list with clients ids. We use the following syntax to create a dictionary:\n",
        "```\n",
        "clients_groups = {'new_clients_standard':[], 'new_clients_exotic': [],\n",
        "                   'old_clients_standard':[], 'old_clients_exotic': []}\n",
        "```\n",
        "So, we have 2 types of checking:\n",
        "![photo_2022-12-02_17-35-40.jpg](data:image/jpeg;base64,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)\n",
        "\n",
        "We can write for-loop to iterate over every key in the unsorted dictionary:\n",
        "```\n",
        "for client in clients:\n",
        "```\n",
        "\n",
        "We need to check if the client belongs to the `new` or `old` group. We use if-condition to see if the client_id is in the new_clients list:\n",
        "```\n",
        "if client in new_client_ids:\n",
        "```\n",
        "If the condition is satisfied, we need to check if the pet our client owns belongs to the `standard` type (cat or dog) or to an `exotic` type. \n",
        "This time we need to check not the key, but the value. We write another condition:\n",
        "```\n",
        "if clients[client] == 'cat' or clients[client] == 'dog':\n",
        "```\n",
        "If the client's pet is a dog OR a cat, we will append the client's id to the `new_clients_standard` group in the grouped dictionary:\n",
        "```\n",
        "clients_groups['new_clients_standard'].append(client)\n",
        "```\n",
        "Remember, that we can apply listsmethods even if they're dictionary values.\n",
        "\n",
        "If the new customer's pet is not of a standard type, we append the client's id to the new_clients_exotic group:\n",
        "```\n",
        "else:\n",
        "      clients_groups['new_clients_exotic'].append(client)\n",
        "```\n",
        "\n",
        "Having dealt with new_clients, we can get back to the initial condition for types of client. We'll need to use `else` command as there are no more conditions that `client` type can satisfy:\n",
        "```\n",
        "else:\n",
        "```\n",
        "Then in its body we can insert the condition to check the pet's type, where for cat or dog we append the client_id to old_client_standard group, for other pets -- to old_client_exotic group:\n",
        "```\n",
        "    if clients[client] == 'cat' or clients[client] == 'dog':\n",
        "      clients_groups['old_clients_standard'].append(client)\n",
        "    else:\n",
        "      clients_groups['old_clients_exotic'].append(client) \n",
        "```\n"
      ],
      "metadata": {
        "id": "izghZrPM8uEg"
      }
    }
  ]
}