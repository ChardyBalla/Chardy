{
  "nbformat": 4,
  "nbformat_minor": 0,
  "metadata": {
    "colab": {
      "provenance": [],
      "include_colab_link": true
    },
    "kernelspec": {
      "name": "python3",
      "display_name": "Python 3"
    },
    "language_info": {
      "name": "python"
    }
  },
  "cells": [
    {
      "cell_type": "markdown",
      "metadata": {
        "id": "view-in-github",
        "colab_type": "text"
      },
      "source": [
        "<a href=\"https://colab.research.google.com/github/ChardyBalla/Chardy/blob/main/06_UnderstandingDataTypes_Part1.ipynb\" target=\"_parent\"><img src=\"https://colab.research.google.com/assets/colab-badge.svg\" alt=\"Open In Colab\"/></a>"
      ]
    },
    {
      "cell_type": "markdown",
      "source": [
        "# Introduction to Python\n",
        "\n",
        "**Outline**:\n",
        "- How to use Google Colaboratory (aka Google Colab) to run Jupyter Notebooks\n",
        "- Basics of Python Programming\n",
        "- Understanding Python Data Types\n",
        "\n",
        "**The following references were used to build this notebook's content:**\n",
        "- *Lutz, M. (2013). Learning python: Powerful object-oriented programming. \" O'Reilly Media, Inc.\".*\n",
        "- *Zelle, J. M. (2004). Python programming: an introduction to computer science. Franklin, Beedle & Associates, Inc..*"
      ],
      "metadata": {
        "id": "3OpepD22jRWe"
      }
    },
    {
      "cell_type": "markdown",
      "source": [
        "---"
      ],
      "metadata": {
        "id": "FKLzh3KulrGS"
      }
    },
    {
      "cell_type": "markdown",
      "source": [],
      "metadata": {
        "id": "JKj8G0U_Ik0M"
      }
    },
    {
      "cell_type": "markdown",
      "source": [
        "# Understanding Python Data Types"
      ],
      "metadata": {
        "id": "8TzaI1mpnoC0"
      }
    },
    {
      "cell_type": "markdown",
      "source": [
        "#### Basic types\n",
        "\n",
        "| Data Type   | Description                              |\n",
        "|--------|------------------------------------------|\n",
        "| None   | Python null value                        |\n",
        "| str    | Character strings                        |\n",
        "| bool   | True or False                            |\n",
        "| int    | Signed integers                          |\n",
        "| float  | Double precision floating point numbers  |\n"
      ],
      "metadata": {
        "id": "zWObjyTkepBW"
      }
    },
    {
      "cell_type": "markdown",
      "source": [
        "## String"
      ],
      "metadata": {
        "id": "4UT48dlAxdMo"
      }
    },
    {
      "cell_type": "code",
      "source": [
        "\"This is a string.\""
      ],
      "metadata": {
        "id": "0uErwXjnyU2N",
        "colab": {
          "base_uri": "https://localhost:8080/",
          "height": 35
        },
        "outputId": "bec20c81-69c3-49d9-bc85-341b997dda9b"
      },
      "execution_count": 1,
      "outputs": [
        {
          "output_type": "execute_result",
          "data": {
            "text/plain": [
              "'This is a string.'"
            ],
            "application/vnd.google.colaboratory.intrinsic+json": {
              "type": "string"
            }
          },
          "metadata": {},
          "execution_count": 1
        }
      ]
    },
    {
      "cell_type": "code",
      "source": [
        "\"12345\""
      ],
      "metadata": {
        "colab": {
          "base_uri": "https://localhost:8080/",
          "height": 35
        },
        "id": "qio9pv3_ewLc",
        "outputId": "3d5cf8b8-b3be-46ac-be10-dad7a1ff4060"
      },
      "execution_count": 4,
      "outputs": [
        {
          "output_type": "execute_result",
          "data": {
            "text/plain": [
              "'12345'"
            ],
            "application/vnd.google.colaboratory.intrinsic+json": {
              "type": "string"
            }
          },
          "metadata": {},
          "execution_count": 4
        }
      ]
    },
    {
      "cell_type": "markdown",
      "source": [
        "Inspect data types using the function `type()`"
      ],
      "metadata": {
        "id": "8VnUXZ1re-Fy"
      }
    },
    {
      "cell_type": "code",
      "source": [
        "type('This is a string')"
      ],
      "metadata": {
        "colab": {
          "base_uri": "https://localhost:8080/"
        },
        "id": "nO6gHXZuevyk",
        "outputId": "05304c53-1933-477f-9286-422dd4fd00b3"
      },
      "execution_count": 5,
      "outputs": [
        {
          "output_type": "execute_result",
          "data": {
            "text/plain": [
              "str"
            ]
          },
          "metadata": {},
          "execution_count": 5
        }
      ]
    },
    {
      "cell_type": "code",
      "source": [
        "type(\"12345\")"
      ],
      "metadata": {
        "colab": {
          "base_uri": "https://localhost:8080/"
        },
        "id": "eSPbf7FmfGiH",
        "outputId": "11897afe-b72b-47a5-f0a8-805f5f7901f9"
      },
      "execution_count": 6,
      "outputs": [
        {
          "output_type": "execute_result",
          "data": {
            "text/plain": [
              "str"
            ]
          },
          "metadata": {},
          "execution_count": 6
        }
      ]
    },
    {
      "cell_type": "markdown",
      "source": [
        "## Integer and Float"
      ],
      "metadata": {
        "id": "svbxjAzRxlx8"
      }
    },
    {
      "cell_type": "code",
      "source": [
        "type(2)"
      ],
      "metadata": {
        "id": "yUSdegp5xlmo",
        "colab": {
          "base_uri": "https://localhost:8080/"
        },
        "outputId": "35c4c0de-bb19-485c-b3d5-86103234df35"
      },
      "execution_count": 7,
      "outputs": [
        {
          "output_type": "execute_result",
          "data": {
            "text/plain": [
              "int"
            ]
          },
          "metadata": {},
          "execution_count": 7
        }
      ]
    },
    {
      "cell_type": "code",
      "source": [
        "type(2.)"
      ],
      "metadata": {
        "colab": {
          "base_uri": "https://localhost:8080/"
        },
        "id": "P7MgrwcDfMYx",
        "outputId": "dfa789fc-0dc9-477b-f1c3-657951d36f86"
      },
      "execution_count": 8,
      "outputs": [
        {
          "output_type": "execute_result",
          "data": {
            "text/plain": [
              "float"
            ]
          },
          "metadata": {},
          "execution_count": 8
        }
      ]
    },
    {
      "cell_type": "code",
      "source": [
        "type(2.0)"
      ],
      "metadata": {
        "colab": {
          "base_uri": "https://localhost:8080/"
        },
        "id": "t3_K8ul-fMHe",
        "outputId": "701b3a95-83da-4030-8ba9-316f873dd31f"
      },
      "execution_count": 9,
      "outputs": [
        {
          "output_type": "execute_result",
          "data": {
            "text/plain": [
              "float"
            ]
          },
          "metadata": {},
          "execution_count": 9
        }
      ]
    },
    {
      "cell_type": "markdown",
      "source": [
        "As you can observe, adding a decimal point to an integer can turn it to a `float` value"
      ],
      "metadata": {
        "id": "q-zifuvHfVNe"
      }
    },
    {
      "cell_type": "markdown",
      "source": [
        "## Boolean"
      ],
      "metadata": {
        "id": "OgQQkYyXxqHA"
      }
    },
    {
      "cell_type": "code",
      "source": [
        "type(True)"
      ],
      "metadata": {
        "id": "8kAPNUCnyA8Q",
        "colab": {
          "base_uri": "https://localhost:8080/"
        },
        "outputId": "44d60bc6-0e92-418c-e6cb-296670cc4d13"
      },
      "execution_count": 10,
      "outputs": [
        {
          "output_type": "execute_result",
          "data": {
            "text/plain": [
              "bool"
            ]
          },
          "metadata": {},
          "execution_count": 10
        }
      ]
    },
    {
      "cell_type": "code",
      "source": [
        "type(False)"
      ],
      "metadata": {
        "colab": {
          "base_uri": "https://localhost:8080/"
        },
        "id": "BZv7noU1fwcW",
        "outputId": "21e627a8-bf75-4c76-dcc6-d677cbf9fa18"
      },
      "execution_count": 11,
      "outputs": [
        {
          "output_type": "execute_result",
          "data": {
            "text/plain": [
              "bool"
            ]
          },
          "metadata": {},
          "execution_count": 11
        }
      ]
    },
    {
      "cell_type": "markdown",
      "source": [
        "## List"
      ],
      "metadata": {
        "id": "vRMbFzl-yJxl"
      }
    },
    {
      "cell_type": "markdown",
      "source": [
        "A list may contain different values of different data types.\n"
      ],
      "metadata": {
        "id": "o4AFuQmb58FX"
      }
    },
    {
      "cell_type": "code",
      "source": [
        "list1 = [1, 2.5, 'dog', [1, 2], 'cat', 100]\n",
        "list1"
      ],
      "metadata": {
        "id": "ILveNaIwyOOk",
        "colab": {
          "base_uri": "https://localhost:8080/"
        },
        "outputId": "6218f83c-140a-4c35-e727-1918dafa91f8"
      },
      "execution_count": 12,
      "outputs": [
        {
          "output_type": "execute_result",
          "data": {
            "text/plain": [
              "[1, 2.5, 'dog', [1, 2], 'cat', 100]"
            ]
          },
          "metadata": {},
          "execution_count": 12
        }
      ]
    },
    {
      "cell_type": "code",
      "source": [
        "len(list1)"
      ],
      "metadata": {
        "colab": {
          "base_uri": "https://localhost:8080/"
        },
        "id": "by96QxVKEBIt",
        "outputId": "7a2ac7cb-eb6c-434e-c351-b9b81a3141a2"
      },
      "execution_count": 13,
      "outputs": [
        {
          "output_type": "execute_result",
          "data": {
            "text/plain": [
              "6"
            ]
          },
          "metadata": {},
          "execution_count": 13
        }
      ]
    },
    {
      "cell_type": "markdown",
      "source": [
        "An element in a list can be accessed using the **index** of its position in the list."
      ],
      "metadata": {
        "id": "DxM6Ev746EP-"
      }
    },
    {
      "cell_type": "code",
      "source": [
        "list1[0]"
      ],
      "metadata": {
        "colab": {
          "base_uri": "https://localhost:8080/"
        },
        "id": "eZZjxjNw8blG",
        "outputId": "f810c8fb-ce4f-40d6-8c44-46512f2e7897"
      },
      "execution_count": 14,
      "outputs": [
        {
          "output_type": "execute_result",
          "data": {
            "text/plain": [
              "1"
            ]
          },
          "metadata": {},
          "execution_count": 14
        }
      ]
    },
    {
      "cell_type": "code",
      "source": [
        "list1[1]"
      ],
      "metadata": {
        "colab": {
          "base_uri": "https://localhost:8080/"
        },
        "id": "CRYhRHeq8biQ",
        "outputId": "b94e4210-47c3-4574-cdfb-cede20ee0cf7"
      },
      "execution_count": 15,
      "outputs": [
        {
          "output_type": "execute_result",
          "data": {
            "text/plain": [
              "2.5"
            ]
          },
          "metadata": {},
          "execution_count": 15
        }
      ]
    },
    {
      "cell_type": "code",
      "source": [
        "list1[4]"
      ],
      "metadata": {
        "colab": {
          "base_uri": "https://localhost:8080/",
          "height": 35
        },
        "id": "MiuSKapp8bfN",
        "outputId": "d2edbab2-3569-4e11-a432-141f22448552"
      },
      "execution_count": 16,
      "outputs": [
        {
          "output_type": "execute_result",
          "data": {
            "text/plain": [
              "'cat'"
            ],
            "application/vnd.google.colaboratory.intrinsic+json": {
              "type": "string"
            }
          },
          "metadata": {},
          "execution_count": 16
        }
      ]
    },
    {
      "cell_type": "markdown",
      "source": [
        "A smaller list containing some elements of a list can be accessed through **list slicing**."
      ],
      "metadata": {
        "id": "r80KOSZh6fOZ"
      }
    },
    {
      "cell_type": "code",
      "source": [
        "list1"
      ],
      "metadata": {
        "colab": {
          "base_uri": "https://localhost:8080/"
        },
        "id": "RCoQ3GrPEb4d",
        "outputId": "2845a769-1961-4559-f5c5-5098191df361"
      },
      "execution_count": 17,
      "outputs": [
        {
          "output_type": "execute_result",
          "data": {
            "text/plain": [
              "[1, 2.5, 'dog', [1, 2], 'cat', 100]"
            ]
          },
          "metadata": {},
          "execution_count": 17
        }
      ]
    },
    {
      "cell_type": "code",
      "source": [
        "list1[1:]"
      ],
      "metadata": {
        "colab": {
          "base_uri": "https://localhost:8080/"
        },
        "id": "FnlfxZFx6ybb",
        "outputId": "3ac146e3-1b65-4915-bd35-bdd4e2878d7f"
      },
      "execution_count": 18,
      "outputs": [
        {
          "output_type": "execute_result",
          "data": {
            "text/plain": [
              "[2.5, 'dog', [1, 2], 'cat', 100]"
            ]
          },
          "metadata": {},
          "execution_count": 18
        }
      ]
    },
    {
      "cell_type": "code",
      "source": [
        "list1[0:2]"
      ],
      "metadata": {
        "colab": {
          "base_uri": "https://localhost:8080/"
        },
        "id": "1b2MDhfO9P_b",
        "outputId": "97654de4-7e42-4af3-ce79-95c64d49792d"
      },
      "execution_count": 19,
      "outputs": [
        {
          "output_type": "execute_result",
          "data": {
            "text/plain": [
              "[1, 2.5]"
            ]
          },
          "metadata": {},
          "execution_count": 19
        }
      ]
    },
    {
      "cell_type": "code",
      "source": [
        "list1[0:3]"
      ],
      "metadata": {
        "colab": {
          "base_uri": "https://localhost:8080/"
        },
        "id": "3dkTbIW59PJn",
        "outputId": "c62841c9-81d3-4c75-ee39-fc63b302f03d"
      },
      "execution_count": 20,
      "outputs": [
        {
          "output_type": "execute_result",
          "data": {
            "text/plain": [
              "[1, 2.5, 'dog']"
            ]
          },
          "metadata": {},
          "execution_count": 20
        }
      ]
    },
    {
      "cell_type": "code",
      "source": [
        "list1[0:4:2]"
      ],
      "metadata": {
        "colab": {
          "base_uri": "https://localhost:8080/"
        },
        "id": "rbt5OmJM9PGN",
        "outputId": "8b9b5937-2903-44ca-9a2e-7bd629cda737"
      },
      "execution_count": 21,
      "outputs": [
        {
          "output_type": "execute_result",
          "data": {
            "text/plain": [
              "[1, 'dog']"
            ]
          },
          "metadata": {},
          "execution_count": 21
        }
      ]
    },
    {
      "cell_type": "markdown",
      "source": [
        "### Commonly used list operations"
      ],
      "metadata": {
        "id": "dkFsws0O-Y3y"
      }
    },
    {
      "cell_type": "markdown",
      "metadata": {
        "ExecuteTime": {
          "end_time": "2021-08-06T08:25:18.518296Z",
          "start_time": "2021-08-06T08:25:18.501557Z"
        },
        "id": "vur8Vyu_C4Lx"
      },
      "source": [
        "#### `len()` - to find the length of a list"
      ]
    },
    {
      "cell_type": "code",
      "metadata": {
        "ExecuteTime": {
          "end_time": "2021-08-06T08:31:35.865043Z",
          "start_time": "2021-08-06T08:31:35.854109Z"
        },
        "id": "9KwTm9wMC4Lx",
        "outputId": "616e179a-164e-4731-d908-9c102652469f",
        "colab": {
          "base_uri": "https://localhost:8080/"
        }
      },
      "source": [
        "list3 = [2, 6, 4, 7, 8]\n",
        "len(list3)"
      ],
      "execution_count": 22,
      "outputs": [
        {
          "output_type": "execute_result",
          "data": {
            "text/plain": [
              "5"
            ]
          },
          "metadata": {},
          "execution_count": 22
        }
      ]
    },
    {
      "cell_type": "markdown",
      "metadata": {
        "id": "3BhjrnqeC4Lx"
      },
      "source": [
        "#### `append()` - to append an element at the end of the list"
      ]
    },
    {
      "cell_type": "code",
      "metadata": {
        "ExecuteTime": {
          "end_time": "2021-08-06T08:32:32.470489Z",
          "start_time": "2021-08-06T08:32:32.458530Z"
        },
        "id": "Xg1GM4FsC4Lx",
        "outputId": "7ac433bd-7acb-4630-e6cc-3ce4a0d5cb60",
        "colab": {
          "base_uri": "https://localhost:8080/"
        }
      },
      "source": [
        "list4 = [1, 2, 4, 8]\n",
        "\n",
        "list4.append(9)\n",
        "list4"
      ],
      "execution_count": 23,
      "outputs": [
        {
          "output_type": "execute_result",
          "data": {
            "text/plain": [
              "[1, 2, 4, 8, 9]"
            ]
          },
          "metadata": {},
          "execution_count": 23
        }
      ]
    },
    {
      "cell_type": "code",
      "metadata": {
        "ExecuteTime": {
          "end_time": "2021-08-06T08:32:48.253300Z",
          "start_time": "2021-08-06T08:32:48.240310Z"
        },
        "id": "6lFRx299C4Lx",
        "outputId": "7a241077-2cbc-4063-a866-eb4720853c19",
        "colab": {
          "base_uri": "https://localhost:8080/"
        }
      },
      "source": [
        "list4 = [1, 2, 4, 8]\n",
        "\n",
        "list4.append([9])\n",
        "list4"
      ],
      "execution_count": 24,
      "outputs": [
        {
          "output_type": "execute_result",
          "data": {
            "text/plain": [
              "[1, 2, 4, 8, [9]]"
            ]
          },
          "metadata": {},
          "execution_count": 24
        }
      ]
    },
    {
      "cell_type": "markdown",
      "metadata": {
        "id": "O0RtHjuDC4Lx"
      },
      "source": [
        "**QUESTION: What's the difference between the two implementations of `append()`?**"
      ]
    },
    {
      "cell_type": "markdown",
      "metadata": {
        "id": "cnaibMlNC4Lx"
      },
      "source": [
        "#### `extend()` - to extend a list by a given list"
      ]
    },
    {
      "cell_type": "code",
      "metadata": {
        "ExecuteTime": {
          "end_time": "2021-08-06T08:34:41.699118Z",
          "start_time": "2021-08-06T08:34:41.690179Z"
        },
        "id": "11amK6hQC4Lx",
        "outputId": "c1ac840b-55b1-4d78-8e2a-e6452141822c",
        "colab": {
          "base_uri": "https://localhost:8080/",
          "height": 217
        }
      },
      "source": [
        "list5 = [1, 2, 4, 5]\n",
        "\n",
        "list5.extend(8) # This will result to an error\n",
        "list5"
      ],
      "execution_count": 25,
      "outputs": [
        {
          "output_type": "error",
          "ename": "TypeError",
          "evalue": "ignored",
          "traceback": [
            "\u001b[0;31m---------------------------------------------------------------------------\u001b[0m",
            "\u001b[0;31mTypeError\u001b[0m                                 Traceback (most recent call last)",
            "\u001b[0;32m<ipython-input-25-5fbb9761ef6e>\u001b[0m in \u001b[0;36m<cell line: 3>\u001b[0;34m()\u001b[0m\n\u001b[1;32m      1\u001b[0m \u001b[0mlist5\u001b[0m \u001b[0;34m=\u001b[0m \u001b[0;34m[\u001b[0m\u001b[0;36m1\u001b[0m\u001b[0;34m,\u001b[0m \u001b[0;36m2\u001b[0m\u001b[0;34m,\u001b[0m \u001b[0;36m4\u001b[0m\u001b[0;34m,\u001b[0m \u001b[0;36m5\u001b[0m\u001b[0;34m]\u001b[0m\u001b[0;34m\u001b[0m\u001b[0;34m\u001b[0m\u001b[0m\n\u001b[1;32m      2\u001b[0m \u001b[0;34m\u001b[0m\u001b[0m\n\u001b[0;32m----> 3\u001b[0;31m \u001b[0mlist5\u001b[0m\u001b[0;34m.\u001b[0m\u001b[0mextend\u001b[0m\u001b[0;34m(\u001b[0m\u001b[0;36m8\u001b[0m\u001b[0;34m)\u001b[0m \u001b[0;31m# This will result to an error\u001b[0m\u001b[0;34m\u001b[0m\u001b[0;34m\u001b[0m\u001b[0m\n\u001b[0m\u001b[1;32m      4\u001b[0m \u001b[0mlist5\u001b[0m\u001b[0;34m\u001b[0m\u001b[0;34m\u001b[0m\u001b[0m\n",
            "\u001b[0;31mTypeError\u001b[0m: 'int' object is not iterable"
          ]
        }
      ]
    },
    {
      "cell_type": "markdown",
      "metadata": {
        "id": "oJ9dHQp1C4Ly"
      },
      "source": [
        "*See implementations of `extend()` below and guess why there is an error in the first implementation*"
      ]
    },
    {
      "cell_type": "code",
      "metadata": {
        "ExecuteTime": {
          "end_time": "2021-08-06T08:35:14.490191Z",
          "start_time": "2021-08-06T08:35:14.472239Z"
        },
        "id": "u7inp8amC4Ly",
        "outputId": "af493de4-023f-4932-a2a6-9c3e6eb54ec1",
        "colab": {
          "base_uri": "https://localhost:8080/"
        }
      },
      "source": [
        "list5 = [1, 2, 4, 5]\n",
        "\n",
        "list5.extend([8])\n",
        "list5"
      ],
      "execution_count": 26,
      "outputs": [
        {
          "output_type": "execute_result",
          "data": {
            "text/plain": [
              "[1, 2, 4, 5, 8]"
            ]
          },
          "metadata": {},
          "execution_count": 26
        }
      ]
    },
    {
      "cell_type": "code",
      "metadata": {
        "ExecuteTime": {
          "end_time": "2021-08-06T08:35:16.838228Z",
          "start_time": "2021-08-06T08:35:16.824242Z"
        },
        "id": "L86gDzbpC4Ly",
        "outputId": "12e9d526-9913-41ac-d402-bcc43599df67",
        "colab": {
          "base_uri": "https://localhost:8080/"
        }
      },
      "source": [
        "list5 = [1, 2, 4, 5]\n",
        "\n",
        "list5.extend([8, 9])\n",
        "list5"
      ],
      "execution_count": 27,
      "outputs": [
        {
          "output_type": "execute_result",
          "data": {
            "text/plain": [
              "[1, 2, 4, 5, 8, 9]"
            ]
          },
          "metadata": {},
          "execution_count": 27
        }
      ]
    },
    {
      "cell_type": "code",
      "metadata": {
        "ExecuteTime": {
          "end_time": "2021-08-06T08:35:30.240517Z",
          "start_time": "2021-08-06T08:35:30.227553Z"
        },
        "id": "pGuxleyKC4Ly",
        "outputId": "8b7c13c0-4c73-48e6-dddf-164917d76297",
        "colab": {
          "base_uri": "https://localhost:8080/"
        }
      },
      "source": [
        "list5 = [1, 2, 4, 5]\n",
        "\n",
        "list5.extend([[8, 9]])\n",
        "list5"
      ],
      "execution_count": 28,
      "outputs": [
        {
          "output_type": "execute_result",
          "data": {
            "text/plain": [
              "[1, 2, 4, 5, [8, 9]]"
            ]
          },
          "metadata": {},
          "execution_count": 28
        }
      ]
    },
    {
      "cell_type": "markdown",
      "metadata": {
        "id": "1jdcB42oC4Ly"
      },
      "source": [
        "*What's the difference between the four implementations of `extend()`*?"
      ]
    },
    {
      "cell_type": "markdown",
      "metadata": {
        "id": "ir6z-o6FC4Ly"
      },
      "source": [
        "#### `del` - to delete an element in a list"
      ]
    },
    {
      "cell_type": "code",
      "metadata": {
        "ExecuteTime": {
          "end_time": "2021-08-06T08:37:00.508764Z",
          "start_time": "2021-08-06T08:37:00.491810Z"
        },
        "id": "6BbHGdaHC4Ly",
        "outputId": "41db8666-21a7-4e3f-f9d5-efdc8c3f6300",
        "colab": {
          "base_uri": "https://localhost:8080/"
        }
      },
      "source": [
        "list6 = ['a', 'b', 'c', 'd']\n",
        "del list6[2]\n",
        "\n",
        "list6"
      ],
      "execution_count": 29,
      "outputs": [
        {
          "output_type": "execute_result",
          "data": {
            "text/plain": [
              "['a', 'b', 'd']"
            ]
          },
          "metadata": {},
          "execution_count": 29
        }
      ]
    },
    {
      "cell_type": "markdown",
      "metadata": {
        "id": "NrxnhyWXC4Ly"
      },
      "source": [
        "#### `sorted()` - to sort elements in a list numerically or lexicographically"
      ]
    },
    {
      "cell_type": "code",
      "metadata": {
        "ExecuteTime": {
          "end_time": "2021-08-06T08:38:36.217559Z",
          "start_time": "2021-08-06T08:38:36.211575Z"
        },
        "id": "ywjtJ6kqC4Ly",
        "outputId": "475d6778-7a17-40e4-f25e-2d161926906e",
        "colab": {
          "base_uri": "https://localhost:8080/"
        }
      },
      "source": [
        "sorted(['A', 'b', 'C', 'd', 'E']) #------> Sorted based on ASCII"
      ],
      "execution_count": 30,
      "outputs": [
        {
          "output_type": "execute_result",
          "data": {
            "text/plain": [
              "['A', 'C', 'E', 'b', 'd']"
            ]
          },
          "metadata": {},
          "execution_count": 30
        }
      ]
    },
    {
      "cell_type": "code",
      "metadata": {
        "ExecuteTime": {
          "end_time": "2021-08-06T08:39:07.654071Z",
          "start_time": "2021-08-06T08:39:07.649055Z"
        },
        "id": "Z5pgbGZMC4Lz",
        "outputId": "f99ef96a-b119-4179-e8a7-53864585d024",
        "colab": {
          "base_uri": "https://localhost:8080/"
        }
      },
      "source": [
        "sorted(['dog', 'cat', 'mouse', 'elephant', 'dragon']) #------> Sorted based on ASCII"
      ],
      "execution_count": 31,
      "outputs": [
        {
          "output_type": "execute_result",
          "data": {
            "text/plain": [
              "['cat', 'dog', 'dragon', 'elephant', 'mouse']"
            ]
          },
          "metadata": {},
          "execution_count": 31
        }
      ]
    },
    {
      "cell_type": "code",
      "metadata": {
        "ExecuteTime": {
          "end_time": "2021-08-06T08:39:33.557518Z",
          "start_time": "2021-08-06T08:39:33.542580Z"
        },
        "id": "51cD7dJ4C4Lz",
        "outputId": "d04cec20-9bea-4a3f-f4a6-3d5e4a5f8f38",
        "colab": {
          "base_uri": "https://localhost:8080/"
        }
      },
      "source": [
        "sorted([254, 250, 250, 0.2, 0.5, 88], reverse=True)"
      ],
      "execution_count": 32,
      "outputs": [
        {
          "output_type": "execute_result",
          "data": {
            "text/plain": [
              "[254, 250, 250, 88, 0.5, 0.2]"
            ]
          },
          "metadata": {},
          "execution_count": 32
        }
      ]
    },
    {
      "cell_type": "markdown",
      "source": [
        "**TRY THIS!**\n",
        "> Consider the list `sample_list = [4, 5, 6, 1, 2, 3, 9, 10, 7, 8]`.\n",
        "- Sort `sample_list` from lowest to highest, and assign the sorted list to a variable `sorted_list`.\n",
        "- Print the last three elements of `sorted_list` as a sliced list.\n",
        "- Print elements in `sample_list` with even indices."
      ],
      "metadata": {
        "id": "3aUASk5yK-z0"
      }
    },
    {
      "cell_type": "code",
      "source": [
        "# Write code here\n",
        "sample_list = [4, 5, 6, 1, 2, 3, 9, 10, 7, 8,]\n",
        "sorted_list = sorted(sample_list)\n",
        "print(sorted_list[-3:])"
      ],
      "metadata": {
        "id": "5Ph351N8MmkH",
        "colab": {
          "base_uri": "https://localhost:8080/"
        },
        "outputId": "61f00451-df48-4800-9514-d38c633ea5ba"
      },
      "execution_count": 36,
      "outputs": [
        {
          "output_type": "stream",
          "name": "stdout",
          "text": [
            "[8, 9, 10]\n"
          ]
        }
      ]
    },
    {
      "cell_type": "code",
      "source": [
        "print(sample_list[0::2])"
      ],
      "metadata": {
        "colab": {
          "base_uri": "https://localhost:8080/"
        },
        "id": "ZL341p4CzSe4",
        "outputId": "4878a328-cae4-42b3-cfb5-21f9cbe5fcfd"
      },
      "execution_count": 37,
      "outputs": [
        {
          "output_type": "stream",
          "name": "stdout",
          "text": [
            "[4, 6, 2, 9, 7]\n"
          ]
        }
      ]
    },
    {
      "cell_type": "markdown",
      "source": [
        "---"
      ],
      "metadata": {
        "id": "2sloWS-CGEmT"
      }
    },
    {
      "cell_type": "markdown",
      "source": [
        "END OF FILE"
      ],
      "metadata": {
        "id": "gI-6zbJ0GHlj"
      }
    }
  ]
}