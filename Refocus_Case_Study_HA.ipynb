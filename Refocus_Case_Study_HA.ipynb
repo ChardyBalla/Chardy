{
  "nbformat": 4,
  "nbformat_minor": 0,
  "metadata": {
    "colab": {
      "provenance": [],
      "include_colab_link": true
    },
    "kernelspec": {
      "name": "python3",
      "display_name": "Python 3"
    },
    "language_info": {
      "name": "python"
    }
  },
  "cells": [
    {
      "cell_type": "markdown",
      "metadata": {
        "id": "view-in-github",
        "colab_type": "text"
      },
      "source": [
        "<a href=\"https://colab.research.google.com/github/ChardyBalla/Chardy/blob/main/Refocus_Case_Study_HA.ipynb\" target=\"_parent\"><img src=\"https://colab.research.google.com/assets/colab-badge.svg\" alt=\"Open In Colab\"/></a>"
      ]
    },
    {
      "cell_type": "markdown",
      "source": [
        "# **Home task 2**\n",
        "\n",
        "####The maximum score for this assignment is 5.\n",
        "#### To pass the assignment you are to get at least 4/5 points. Each problem has its weight indicated in its description. The problem is considered solved if your code met the problem requirements and you managed to pass the assertion tests."
      ],
      "metadata": {
        "id": "2FKQUlzchmvW"
      }
    },
    {
      "cell_type": "code",
      "source": [
        "# Run this cell to import some useful functions for testing your answers\n",
        "from numpy.testing import (assert_,\n",
        "                           assert_equal,\n",
        "                           assert_array_equal, \n",
        "                           assert_allclose)"
      ],
      "metadata": {
        "id": "Ba3r4pnxu0tX"
      },
      "execution_count": 1,
      "outputs": []
    },
    {
      "cell_type": "markdown",
      "source": [
        "# **EXERCISES**\n",
        "\n"
      ],
      "metadata": {
        "id": "6gJaYiWisUBj"
      }
    },
    {
      "cell_type": "markdown",
      "source": [
        "####**Problem 1:** Keep values grater than 5\n",
        "\n",
        "#### **Task:** Create a function which takes a list as an argument and keeps only the numbers that are greater than 5.\n",
        "hint: One possible solution is to create a new empty list inside the function and only append it with numbers that are greater than five, looping over the given one.\n",
        "####**Weight:** 1 point"
      ],
      "metadata": {
        "id": "Gh7SnReBjzXc"
      }
    },
    {
      "cell_type": "code",
      "source": [
        "def more_than_five(my_list):\n",
        "  # Your code here\n",
        "\n",
        "  new_list = []\n",
        "  for num in my_list:\n",
        "    if num > 5:\n",
        "      new_list.append(num)\n",
        "  return new_list\n"
      ],
      "metadata": {
        "id": "62gx6_1wili7"
      },
      "execution_count": 6,
      "outputs": []
    },
    {
      "cell_type": "code",
      "source": [],
      "metadata": {
        "id": "kBWBFtN10OCR"
      },
      "execution_count": null,
      "outputs": []
    },
    {
      "cell_type": "code",
      "source": [
        "assert_array_equal(more_than_five([0, 1, 5, 6, 9]), [6, 9])\n",
        "assert_array_equal(more_than_five([5, 5, 5, 5]), [])\n",
        "assert_array_equal(more_than_five([42, 1337]), [42, 1337])\n",
        "assert_array_equal(more_than_five([-100, 100]), [100])\n",
        "\n",
        "print(\"Correct! You got 1 point\")"
      ],
      "metadata": {
        "id": "YxJ93QBGjMOp",
        "outputId": "c8aa32dd-12e2-4b73-987c-55c5836ce198",
        "colab": {
          "base_uri": "https://localhost:8080/"
        }
      },
      "execution_count": 7,
      "outputs": [
        {
          "output_type": "stream",
          "name": "stdout",
          "text": [
            "Correct! You got 1 point\n"
          ]
        }
      ]
    },
    {
      "cell_type": "markdown",
      "source": [
        "**Helpful materials**\n",
        "\n",
        "\n",
        "Conditional statements and loops: https://colab.research.google.com/drive/1sTRYMtesh4vl3dq81AJvEvsgJFld2QzR\n",
        "\n",
        "Understanding data types 1: https://colab.research.google.com/drive/1Mpt1CnJkyrHtSt-ZXvFW4l-RelpqgKbV#scrollTo=Xg1GM4FsC4Lx"
      ],
      "metadata": {
        "id": "-hGLyfGjk9Ek"
      }
    },
    {
      "cell_type": "markdown",
      "source": [
        "----"
      ],
      "metadata": {
        "id": "noKdNUhGnShN"
      }
    },
    {
      "cell_type": "markdown",
      "source": [
        "####**Problem 2:** Sum of squares\n",
        "\n",
        "#### **Task:** Write a function that accepts a positive integer $n$ and returns the sum of squares of all integers from 1 to $n$, where $n \\geq 1$.\n",
        "\n",
        "####**Weight:** 1 point\n"
      ],
      "metadata": {
        "id": "u5IT3ZRUshsC"
      }
    },
    {
      "cell_type": "code",
      "execution_count": 10,
      "metadata": {
        "id": "X5aiP2drsCtb"
      },
      "outputs": [],
      "source": [
        "# Write your code here\n",
        "def sum_squares(n):\n",
        "    sum_of_squares = 0\n",
        "    for i in range(1, n+1):\n",
        "        sum_of_squares += i**2\n",
        "    return sum_of_squares\n",
        "    \n",
        "\n"
      ]
    },
    {
      "cell_type": "markdown",
      "source": [
        "##### FUNCTION TEST: Run the cell below to check if your code is correct. If it runs without any error message, then your code is correct. Otherwise, review your code. "
      ],
      "metadata": {
        "id": "p2mCoRJhtE7k"
      }
    },
    {
      "cell_type": "code",
      "source": [
        "assert_equal(sum_squares(1), 1)\n",
        "assert_equal(sum_squares(5), 55)\n",
        "assert_equal(sum_squares(10), 385)\n",
        "assert_equal(sum_squares(20), 2870)\n",
        "print(\"Correct! You got 1 point\")"
      ],
      "metadata": {
        "id": "Pe_RrtuAscEO",
        "outputId": "5270ac3a-4c3f-4738-f256-04650113a788",
        "colab": {
          "base_uri": "https://localhost:8080/"
        }
      },
      "execution_count": 11,
      "outputs": [
        {
          "output_type": "stream",
          "name": "stdout",
          "text": [
            "Correct! You got 1 point\n"
          ]
        }
      ]
    },
    {
      "cell_type": "markdown",
      "source": [
        "**Helpful materials**\n",
        "\n",
        "\n",
        "Conditional statements and loops: https://colab.research.google.com/drive/1sTRYMtesh4vl3dq81AJvEvsgJFld2QzR"
      ],
      "metadata": {
        "id": "JxbxXuuwnqy6"
      }
    },
    {
      "cell_type": "markdown",
      "source": [
        "----"
      ],
      "metadata": {
        "id": "HzQXVtZssgys"
      }
    },
    {
      "cell_type": "markdown",
      "source": [
        "####**Problem 3:** Changing values in a dictionary\n",
        "\n",
        "#### **Task:** We have a dictionary prepared with \"outdated data\". Create a function, which takes the dictionary as an argument and prints the old values in it. Then change the values in the dictionary to {'Data': 'New', 'Occupation': 'Data analyst', 'Experience': 'Hero', 'Task': 'Done'}, print and return the new version.\n",
        "\n",
        "####**Weight:** 1 point\n"
      ],
      "metadata": {
        "id": "cM1Ot912smVW"
      }
    },
    {
      "cell_type": "code",
      "source": [
        "# Do not chnage this dictionary outside the function.\n",
        "my_dict = {'Data': 'Old',\n",
        "           'Occupation': 'Student',\n",
        "           'Experience': 'Zero',\n",
        "           'Task': 'Not done yet'}"
      ],
      "metadata": {
        "id": "cd5rgwNQ84Vn"
      },
      "execution_count": 12,
      "outputs": []
    },
    {
      "cell_type": "code",
      "source": [
        "def change_my_dict(my_dict):\n",
        "  # Your code here\n",
        "  # the students can either print the dictionary itself or the values only\n",
        "  print(my_dict)\n",
        "\n",
        "  my_dict['Data'] = 'New'\n",
        "  my_dict['Occupation'] = 'Data analyst'\n",
        "  my_dict['Experience'] = 'Hero'\n",
        "  my_dict['Task'] = 'Done'\n",
        "\n",
        "  print(my_dict)\n",
        "  return my_dict"
      ],
      "metadata": {
        "id": "5LAC5NpjoJOp"
      },
      "execution_count": 14,
      "outputs": []
    },
    {
      "cell_type": "code",
      "source": [
        "assert_equal(change_my_dict(my_dict),\n",
        "             {'Data': 'New', 'Occupation': 'Data analyst', 'Experience': 'Hero', 'Task': 'Done'})\n",
        "print(\"Correct! You got 1 point\")"
      ],
      "metadata": {
        "id": "HNZuQGRYptJG",
        "outputId": "959b8891-6ceb-40a9-a1ae-3eae22a78055",
        "colab": {
          "base_uri": "https://localhost:8080/"
        }
      },
      "execution_count": 15,
      "outputs": [
        {
          "output_type": "stream",
          "name": "stdout",
          "text": [
            "{'Data': 'Old', 'Occupation': 'Student', 'Experience': 'Zero', 'Task': 'Not done yet'}\n",
            "{'Data': 'New', 'Occupation': 'Data analyst', 'Experience': 'Hero', 'Task': 'Done'}\n",
            "Correct! You got 1 point\n"
          ]
        }
      ]
    },
    {
      "cell_type": "markdown",
      "source": [
        "**Helpful materials**\n",
        "\n",
        "\n",
        "Understanding data types 2: https://colab.research.google.com/drive/19Tz78IkqLC3M6zMh0uXVzpt8UoKFc9uS"
      ],
      "metadata": {
        "id": "Ca8EDn_Z76On"
      }
    },
    {
      "cell_type": "markdown",
      "source": [
        "---"
      ],
      "metadata": {
        "id": "d8CKRU5etnpM"
      }
    },
    {
      "cell_type": "markdown",
      "source": [
        "**Problem 4:** Leap years\n",
        "\n",
        "**Weight:** 1 point\n",
        "\n",
        "The [definition of a leap year](https://en.wikipedia.org/wiki/Leap_year#Gregorian_calendar) is as follows:\n",
        "\n",
        "> Every year that is exactly **divisible by four is a leap year, except for years that are exactly divisible by 100**, but these centurial years are **leap years if they are exactly divisible by 400**. For example, the years 1700, 1800, and 1900 are not leap years, but the years 1600 and 2000 are.\n",
        "\n",
        "**Task:** Write a function named `leap_check` that stores in a list all leap years from `lower_year` to `upper year`. The function returns this list of leap years.\n",
        "\n",
        "**Example:**\n",
        "\n",
        "IF\n",
        "> `leap_check(1699, 1705)`\n",
        "\n",
        "THEN THE PROGRAM RETURNS THE FOLLOWING LIST\n",
        ">`[1704]`\n",
        "\n",
        "**hint**: to iterate over all numbers between two values you can use `for i in range(start=0, stop, step=1)`. It will generate values between the first two given with a specified step. Note, that the second value \"stop\" will not be included, but you could always add +1 to the stop variable to include it. Examples:\n",
        "\n",
        "range(3) ~ [0, 1, 2]\n",
        "\n",
        "range(1, 5) ~ [1, 2, 3, 4]\n",
        "\n",
        "range(2, 11, 2) ~ [2, 4, 6, 8, 10]"
      ],
      "metadata": {
        "id": "QAugwKXBt9SA"
      }
    },
    {
      "cell_type": "code",
      "source": [
        "# Write your code here\n",
        "def leap_check(lower_year, upper_year):\n",
        "    leap_years = []\n",
        "    for year in range(lower_year, upper_year+1):\n",
        "        if (year % 4 == 0) and (year % 100 != 0 or year % 400 == 0):\n",
        "            leap_years.append(year)\n",
        "    return leap_years\n"
      ],
      "metadata": {
        "id": "24SOLLkmt7RM"
      },
      "execution_count": 16,
      "outputs": []
    },
    {
      "cell_type": "markdown",
      "source": [
        "##### FUNCTION TEST: Run the cell below to check if your code is correct. If it runs without any error message, then your code is correct. Otherwise, review your code. "
      ],
      "metadata": {
        "id": "txbW0qiLuFFJ"
      }
    },
    {
      "cell_type": "code",
      "source": [
        "assert_array_equal(leap_check(1699, 1699), [])\n",
        "assert_array_equal(leap_check(1699, 1705), [1704])\n",
        "assert_array_equal(leap_check(1599, 1605), [1600, 1604])\n",
        "assert_array_equal(leap_check(1999, 2100), list(range(2000, 2097, 4)))\n",
        "print(\"Correct! You got 1 point\")"
      ],
      "metadata": {
        "id": "wRUNQhX9uCE-",
        "outputId": "4e9722ad-559b-4809-c765-f42cc6890968",
        "colab": {
          "base_uri": "https://localhost:8080/"
        }
      },
      "execution_count": 17,
      "outputs": [
        {
          "output_type": "stream",
          "name": "stdout",
          "text": [
            "Correct! You got 1 point\n"
          ]
        }
      ]
    },
    {
      "cell_type": "markdown",
      "source": [
        "**Helpful materials**\n",
        "\n",
        "\n",
        "Conditional statements and loops: https://colab.research.google.com/drive/1sTRYMtesh4vl3dq81AJvEvsgJFld2QzR\n",
        "\n",
        "Understanding data types 1: https://colab.research.google.com/drive/1Mpt1CnJkyrHtSt-ZXvFW4l-RelpqgKbV#scrollTo=Xg1GM4FsC4Lx"
      ],
      "metadata": {
        "id": "8VKO6j-Q7pye"
      }
    },
    {
      "cell_type": "markdown",
      "source": [
        "####**Problem 5:** Find maximum in list\n",
        "\n",
        "#### **Task:** Write a function, which takes list as an arugment and returns the maximum value from it. Do not use the in-built max() function and do it with a loop.\n",
        "\n",
        "####**Weight:** 1 point\n"
      ],
      "metadata": {
        "id": "MfHYOQbjwwxs"
      }
    },
    {
      "cell_type": "code",
      "source": [
        "# Your code here\n",
        "def max_value_in_list(my_list):\n",
        "  max = my_list[0]\n",
        "  for num in my_list[1:]:\n",
        "    if max <= num:\n",
        "      max = num\n",
        "  return max\n",
        "\n"
      ],
      "metadata": {
        "id": "rJVrsGwcwzBe"
      },
      "execution_count": 21,
      "outputs": []
    },
    {
      "cell_type": "code",
      "source": [
        "assert_array_equal(max_value_in_list([1, 2, 52, 4, -2]), 52)\n",
        "assert_array_equal(max_value_in_list([0, 0, 1, 0, 0]), 1)\n",
        "print(\"Correct! You got 1 point\")"
      ],
      "metadata": {
        "id": "Gx9cPhqtxU3U",
        "outputId": "28db721b-8572-4ac2-a376-ff8e42b7ccea",
        "colab": {
          "base_uri": "https://localhost:8080/"
        }
      },
      "execution_count": 22,
      "outputs": [
        {
          "output_type": "stream",
          "name": "stdout",
          "text": [
            "Correct! You got 1 point\n"
          ]
        }
      ]
    },
    {
      "cell_type": "markdown",
      "source": [
        "**Helpful materials**\n",
        "\n",
        "\n",
        "Conditional statements and loops: https://colab.research.google.com/drive/1sTRYMtesh4vl3dq81AJvEvsgJFld2QzR\n",
        "\n",
        "Understanding data types 1: https://colab.research.google.com/drive/1Mpt1CnJkyrHtSt-ZXvFW4l-RelpqgKbV#scrollTo=Xg1GM4FsC4Lx"
      ],
      "metadata": {
        "id": "H_5QRnWK7q1i"
      }
    },
    {
      "cell_type": "markdown",
      "source": [
        "## Answer Key"
      ],
      "metadata": {
        "id": "bf8gnFY4FMDY"
      }
    },
    {
      "cell_type": "markdown",
      "source": [
        "### Problem 1\n",
        "\n",
        "To create a function that takes a list as an argument and keeps only the numbers that are greater than 5, you can follow these steps:\n",
        "\n",
        "* Create an empty list to hold the numbers greater than 5.\n",
        "* Iterate through each item in the list using a for loop.\n",
        "* Check if the current item is greater than 5 using an if statement.\n",
        "* If the current item is greater than 5, append it to the new list.\n",
        "* Return the new list containing the numbers greater than 5.\n",
        "\n",
        "Note that we are iterating through each item in the list using a for loop and checking whether each item is greater than 5 using an if statement. We are appending the items that meet this condition to a new list and returning it at the end of the function."
      ],
      "metadata": {
        "id": "MgQhw_sVFSRG"
      }
    },
    {
      "cell_type": "code",
      "source": [
        "# Your code here\n",
        "def more_than_five(my_list):\n",
        "  new_list = []\n",
        "  for num in my_list:\n",
        "    if num > 5:\n",
        "      new_list.append(num)\n",
        "  return new_list"
      ],
      "metadata": {
        "id": "Ci7iomJmFx0h"
      },
      "execution_count": null,
      "outputs": []
    },
    {
      "cell_type": "markdown",
      "source": [
        "### Problem 2\n",
        "\n",
        "To write a function that accepts a positive integer 𝑛 and returns the sum of squares of all integers from 1 to 𝑛, where 𝑛≥1, you can follow these steps:\n",
        "\n",
        "* Initialize a variable sum_of_squares to 0.\n",
        "* Use a for loop to iterate from 1 to 𝑛 (inclusive) using the range() function.\n",
        "* In each iteration, add the square of the current number to the sum_of_squares variable.\n",
        "* After the loop is completed, return the sum_of_squares variable.\n",
        "\n",
        "Note that we are using the `range()` function to iterate from 1 to 𝑛 (inclusive) and the `**` operator to calculate the squares of the numbers. We are adding each square to the `sum_of_squares` variable in each iteration of the loop and returning the variable after the loop is completed."
      ],
      "metadata": {
        "id": "ZTxJ9omdFzr4"
      }
    },
    {
      "cell_type": "code",
      "source": [
        "def sum_squares(n):\n",
        "    sum_of_squares = 0\n",
        "    for i in range(1, n+1):\n",
        "        sum_of_squares += i**2\n",
        "    return sum_of_squares\n"
      ],
      "metadata": {
        "id": "axE9FTfZGVO7"
      },
      "execution_count": null,
      "outputs": []
    },
    {
      "cell_type": "markdown",
      "source": [
        "It can also be done using using a while loop to iterate from 1 to 𝑛 (inclusive) and the `**` operator to calculate the squares of the numbers. We are adding each square to the sum_of_squares variable in each iteration of the loop, and we are also incrementing the value of i by 1 in each iteration using i += 1. We continue to loop until i is greater than 𝑛, and we return the value of sum_of_squares once the loop has finished."
      ],
      "metadata": {
        "id": "NMFNEmy5GZsy"
      }
    },
    {
      "cell_type": "code",
      "source": [
        "def sum_squares(n):\n",
        "    sum_of_squares = 0\n",
        "    i = 1\n",
        "    while i <= n:\n",
        "        sum_of_squares += i**2\n",
        "        i += 1\n",
        "    return sum_of_squares\n"
      ],
      "metadata": {
        "id": "anTyUI50Gn3C"
      },
      "execution_count": null,
      "outputs": []
    },
    {
      "cell_type": "markdown",
      "source": [
        "### Problem 3\n",
        "\n",
        "This problem could be solved by assigning new value by the dictionary key."
      ],
      "metadata": {
        "id": "oa1XpxdRGrsW"
      }
    },
    {
      "cell_type": "code",
      "source": [
        "# Do not chnage this dictionary outside the function.\n",
        "my_dict = {'Data': 'Old',\n",
        "           'Occupation': 'Student',\n",
        "           'Experience': 'Zero',\n",
        "           'Task': 'Not done yet'}\n",
        "\n",
        "# Your code here\n",
        "def change_my_dict(my_dict):\n",
        "  # the students can either print the dictionary itself or the values only\n",
        "  print(my_dict)\n",
        "\n",
        "  my_dict['Data'] = 'New'\n",
        "  my_dict['Occupation'] = 'Data analyst'\n",
        "  my_dict['Experience'] = 'Hero'\n",
        "  my_dict['Task'] = 'Done'\n",
        "\n",
        "  print(my_dict)\n",
        "  return my_dict"
      ],
      "metadata": {
        "id": "uj591UFLG_8f"
      },
      "execution_count": null,
      "outputs": []
    },
    {
      "cell_type": "markdown",
      "source": [
        "Also, it can be solved with `update()` function"
      ],
      "metadata": {
        "id": "aA3Ur13xHBY3"
      }
    },
    {
      "cell_type": "code",
      "source": [
        "def change_my_dict(my_dict):   \n",
        "    my_dict.update({'Data': 'New', 'Occupation': 'Data analyst', 'Experience': 'Hero', 'Task': 'Done'})\n",
        "    return my_dict\n"
      ],
      "metadata": {
        "id": "ju-wZ3FKHQ6x"
      },
      "execution_count": null,
      "outputs": []
    },
    {
      "cell_type": "markdown",
      "source": [
        "### Problem 4\n",
        "\n",
        "To write this function you can follow these steps:\n",
        "* Create an empty list called leap_years to store the leap years that we find.\n",
        "* Use a for loop to iterate over all years between lower_year and upper_year (inclusive), using range with a step of 1.\n",
        "* For each year in the loop, check if it is a leap year by using the following conditions:\n",
        "  * A year is a leap year if it is divisible by 4 but not divisible by 100, or if it is divisible by 400.\n",
        "  * If the year meets these conditions, add it to the leap_years list.\n",
        "* After the loop has finished iterating, return the leap_years list containing all the leap years found.\n",
        "\n",
        "This function takes two arguments, lower_year and upper_year. It then initializes an empty list called leap_years. The function then iterates over all years between lower_year and upper_year, checking if each year is a leap year using the conditions described above. If a year is a leap year, it is added to the leap_years list. Finally, the function returns the leap_years list containing all the leap years found."
      ],
      "metadata": {
        "id": "cplm8Ck_Hd_b"
      }
    },
    {
      "cell_type": "code",
      "source": [
        "def leap_check(lower_year, upper_year):\n",
        "    leap_years = []\n",
        "    for i in range(lower_year, upper_year + 1):\n",
        "        if ((i%4 == 0) and (i%100 != 0 or i%400 == 0)):\n",
        "            leap_years.append(i)\n",
        "    return leap_years"
      ],
      "metadata": {
        "id": "65m8Y8BpIKcu"
      },
      "execution_count": null,
      "outputs": []
    },
    {
      "cell_type": "markdown",
      "source": [
        "### Problem 5\n",
        "\n",
        "Here's how to write the max_value function in Python without using the built-in max() function:\n",
        "\n",
        "* Define a function called max_value that takes a single argument, my_list, which is a list of integers.\n",
        "* Create a variable called max_val and initialize it to the first element of the list, my_list[0].\n",
        "\n",
        "* Use a for loop to iterate over all the elements in the list starting from the second element.\n",
        "\n",
        "* For each element in the loop, compare it to the current max_val. If the element is greater than max_val, update max_val to be equal to that element.\n",
        "\n",
        "* After the loop has finished iterating over all the elements, return max_val, which contains the maximum value in the list.\n",
        "\n",
        "In this function, we first initialize the variable max_val to be the first element of the list, my_list[0]. We then use a for loop to iterate over all the elements in the list starting from the second element (hence, the range starts from 1). For each element in the loop, we compare it to the current value of max_val. If the element is greater than max_val, we update max_val to be equal to that element. After the loop has finished iterating over all the elements, we return max_val, which contains the maximum value in the list."
      ],
      "metadata": {
        "id": "2877_v4vIUNY"
      }
    },
    {
      "cell_type": "code",
      "source": [
        "def max_value_in_list(my_list):\n",
        "  max_val = my_list[0]\n",
        "    for i in range(1, len(my_list)):\n",
        "        if my_list[i] > max_val:\n",
        "            max_val = my_list[i]\n",
        "    return max_val"
      ],
      "metadata": {
        "id": "Lhr1vpmYI4hC"
      },
      "execution_count": null,
      "outputs": []
    },
    {
      "cell_type": "markdown",
      "source": [
        "As we know that your list consists of integers, we can skip using `range()` function and iterate over the list elements, not indexes:\n"
      ],
      "metadata": {
        "id": "nuwo5v29JT-y"
      }
    },
    {
      "cell_type": "code",
      "source": [
        "def max_value_in_list(my_list):\n",
        "  max = my_list[0]\n",
        "  for num in my_list[1:]:\n",
        "    if max <= num:\n",
        "      max = num\n",
        "  return max"
      ],
      "metadata": {
        "id": "T2Hk6osXJeh6"
      },
      "execution_count": null,
      "outputs": []
    },
    {
      "cell_type": "markdown",
      "source": [
        "---"
      ],
      "metadata": {
        "id": "ZdLyTEYGuYp1"
      }
    },
    {
      "cell_type": "markdown",
      "source": [
        "#### **END OF FILE**"
      ],
      "metadata": {
        "id": "M3t11rWWEjno"
      }
    }
  ]
}