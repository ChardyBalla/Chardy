{
  "nbformat": 4,
  "nbformat_minor": 0,
  "metadata": {
    "colab": {
      "provenance": [],
      "collapsed_sections": [
        "Mtb5i_Zqmxku",
        "Yd5KUGzfmzQg",
        "vo49q3PqnTtk",
        "HwO6yjAXnXTm",
        "lwDAhOTyqEph",
        "eQ6J6V73qH2i"
      ],
      "include_colab_link": true
    },
    "kernelspec": {
      "name": "python3",
      "display_name": "Python 3"
    },
    "language_info": {
      "name": "python"
    }
  },
  "cells": [
    {
      "cell_type": "markdown",
      "metadata": {
        "id": "view-in-github",
        "colab_type": "text"
      },
      "source": [
        "<a href=\"https://colab.research.google.com/github/ChardyBalla/Chardy/blob/main/RFM_Analysis.ipynb\" target=\"_parent\"><img src=\"https://colab.research.google.com/assets/colab-badge.svg\" alt=\"Open In Colab\"/></a>"
      ]
    },
    {
      "cell_type": "markdown",
      "source": [
        "# RFM Analysis with Python"
      ],
      "metadata": {
        "id": "aaS-SMZ2py7H"
      }
    },
    {
      "cell_type": "code",
      "source": [
        "from google.colab import drive\n",
        "drive.mount('/content/drive')"
      ],
      "metadata": {
        "id": "TCmaO73YjmxW",
        "colab": {
          "base_uri": "https://localhost:8080/"
        },
        "outputId": "47d14739-ea15-4984-a06b-34bbc4c0c64a"
      },
      "execution_count": 38,
      "outputs": [
        {
          "output_type": "stream",
          "name": "stdout",
          "text": [
            "Drive already mounted at /content/drive; to attempt to forcibly remount, call drive.mount(\"/content/drive\", force_remount=True).\n"
          ]
        }
      ]
    },
    {
      "cell_type": "markdown",
      "source": [
        "In this notebook, we aim to learn the following:\n",
        "1. Perform data exploration for a given dataset\n",
        "2. Generate frequency, recency, and monetary (RFM) scores for customers\n",
        "3. Create customer segments based on RFM scores"
      ],
      "metadata": {
        "id": "h9S-ZDPQpw5D"
      }
    },
    {
      "cell_type": "code",
      "execution_count": 39,
      "metadata": {
        "id": "nN4SaRO-jcRI"
      },
      "outputs": [],
      "source": [
        "import pandas as pd\n",
        "import matplotlib.pyplot as plt\n",
        "%matplotlib inline"
      ]
    },
    {
      "cell_type": "markdown",
      "source": [
        "In this exercise, we will use the same [online retail](https://archive.ics.uci.edu/ml/datasets/Online+Retail+II) dataset from the previous lesson (Cohort Analysis).\n",
        "\n",
        "The dataset contains transactions occurring for a UK-based and registered, non-store online retail between 01/12/2009 and 09/12/2011.The company mainly sells unique all-occasion gift-ware. Many customers of the company are wholesalers.\n",
        "\n",
        "We are tasked to create customer segments based on purchase patterns and to provide insights and personalized recommendations for each segment."
      ],
      "metadata": {
        "id": "rRKe1ylGq95y"
      }
    },
    {
      "cell_type": "markdown",
      "source": [
        "## Load and clean the data"
      ],
      "metadata": {
        "id": "yubCaMdkq6JZ"
      }
    },
    {
      "cell_type": "markdown",
      "source": [
        "Our data contains the following columns:\n",
        "\n",
        "1. **InvoiceNo**: Invoice number. Nominal. A 6-digit integral number uniquely assigned to each transaction. If this code starts with the letter 'C', it indicates a cancellation.\n",
        "2. **StockCode**: Product (item) code. Nominal. A 5-digit integral number uniquely assigned to each distinct product.\n",
        "3. **Description**: Product (item) name. Nominal.\n",
        "4. **Quantity**: The quantities of each product (item) per transaction. Numeric.\n",
        "5. **InvoiceDate**: Invoice date and time. Numeric. The day and time when a transaction was generated.\n",
        "6. **UnitPrice**: Unit price. Numeric. Product price per unit in sterling (Â£).\n",
        "7. **CustomerID**: Customer number. Nominal. A 5-digit integral number uniquely assigned to each customer.\n",
        "8. **Country**: Country name. Nominal. The name of the country where a customer resides.\n",
        "\n",
        "Since we are using the same dataset from the previous lesson, we can utilize the same data loading and cleaning procedure we implemented. Recall that we had the following considerations for our data cleaning:\n",
        "\n",
        "1. Remove transaction if its `InvoiceNo` starts with the letter `'C'` (indicates a cancellation)\n",
        "2. Remove transaction if the `CustomerID` is null/blank. The transaction will not be useful for our analysis since there is no corresponding customer.\n",
        "3. Check for outliers (e.g. `Quantity` and `UnitPrice` should not be negative)"
      ],
      "metadata": {
        "id": "WD2OPtyYuE-C"
      }
    },
    {
      "cell_type": "markdown",
      "source": [
        "Let's apply the same code from before"
      ],
      "metadata": {
        "id": "kZg7aeOVU-Ob"
      }
    },
    {
      "cell_type": "code",
      "source": [
        "# We set Invoice and Customer ID as string types since they are the keys/ID for our dataset.\n",
        "df = pd.read_excel('/content/drive/MyDrive/Refocus Module/Jupyter Notebook-20230501T012835Z-001/Jupyter Notebook/datasets/online_retail.xlsx',\n",
        "                   dtype={'Invoice':str,\n",
        "                          'InvoiceDate':'datetime64[ns]',\n",
        "                          'Customer ID':str})\n",
        "df.head()"
      ],
      "metadata": {
        "id": "zVr6aLG7jl5Y",
        "colab": {
          "base_uri": "https://localhost:8080/",
          "height": 206
        },
        "outputId": "e0892da9-2cef-4207-9703-0761b66d6614"
      },
      "execution_count": 41,
      "outputs": [
        {
          "output_type": "execute_result",
          "data": {
            "text/plain": [
              "  Invoice StockCode                          Description  Quantity  \\\n",
              "0  489434     85048  15CM CHRISTMAS GLASS BALL 20 LIGHTS        12   \n",
              "1  489434    79323P                   PINK CHERRY LIGHTS        12   \n",
              "2  489434    79323W                  WHITE CHERRY LIGHTS        12   \n",
              "3  489434     22041         RECORD FRAME 7\" SINGLE SIZE         48   \n",
              "4  489434     21232       STRAWBERRY CERAMIC TRINKET BOX        24   \n",
              "\n",
              "          InvoiceDate  Price Customer ID         Country  \n",
              "0 2009-12-01 07:45:00   6.95       13085  United Kingdom  \n",
              "1 2009-12-01 07:45:00   6.75       13085  United Kingdom  \n",
              "2 2009-12-01 07:45:00   6.75       13085  United Kingdom  \n",
              "3 2009-12-01 07:45:00   2.10       13085  United Kingdom  \n",
              "4 2009-12-01 07:45:00   1.25       13085  United Kingdom  "
            ],
            "text/html": [
              "\n",
              "  <div id=\"df-164dfaa0-3d54-43b9-b9fc-0203656f30cd\">\n",
              "    <div class=\"colab-df-container\">\n",
              "      <div>\n",
              "<style scoped>\n",
              "    .dataframe tbody tr th:only-of-type {\n",
              "        vertical-align: middle;\n",
              "    }\n",
              "\n",
              "    .dataframe tbody tr th {\n",
              "        vertical-align: top;\n",
              "    }\n",
              "\n",
              "    .dataframe thead th {\n",
              "        text-align: right;\n",
              "    }\n",
              "</style>\n",
              "<table border=\"1\" class=\"dataframe\">\n",
              "  <thead>\n",
              "    <tr style=\"text-align: right;\">\n",
              "      <th></th>\n",
              "      <th>Invoice</th>\n",
              "      <th>StockCode</th>\n",
              "      <th>Description</th>\n",
              "      <th>Quantity</th>\n",
              "      <th>InvoiceDate</th>\n",
              "      <th>Price</th>\n",
              "      <th>Customer ID</th>\n",
              "      <th>Country</th>\n",
              "    </tr>\n",
              "  </thead>\n",
              "  <tbody>\n",
              "    <tr>\n",
              "      <th>0</th>\n",
              "      <td>489434</td>\n",
              "      <td>85048</td>\n",
              "      <td>15CM CHRISTMAS GLASS BALL 20 LIGHTS</td>\n",
              "      <td>12</td>\n",
              "      <td>2009-12-01 07:45:00</td>\n",
              "      <td>6.95</td>\n",
              "      <td>13085</td>\n",
              "      <td>United Kingdom</td>\n",
              "    </tr>\n",
              "    <tr>\n",
              "      <th>1</th>\n",
              "      <td>489434</td>\n",
              "      <td>79323P</td>\n",
              "      <td>PINK CHERRY LIGHTS</td>\n",
              "      <td>12</td>\n",
              "      <td>2009-12-01 07:45:00</td>\n",
              "      <td>6.75</td>\n",
              "      <td>13085</td>\n",
              "      <td>United Kingdom</td>\n",
              "    </tr>\n",
              "    <tr>\n",
              "      <th>2</th>\n",
              "      <td>489434</td>\n",
              "      <td>79323W</td>\n",
              "      <td>WHITE CHERRY LIGHTS</td>\n",
              "      <td>12</td>\n",
              "      <td>2009-12-01 07:45:00</td>\n",
              "      <td>6.75</td>\n",
              "      <td>13085</td>\n",
              "      <td>United Kingdom</td>\n",
              "    </tr>\n",
              "    <tr>\n",
              "      <th>3</th>\n",
              "      <td>489434</td>\n",
              "      <td>22041</td>\n",
              "      <td>RECORD FRAME 7\" SINGLE SIZE</td>\n",
              "      <td>48</td>\n",
              "      <td>2009-12-01 07:45:00</td>\n",
              "      <td>2.10</td>\n",
              "      <td>13085</td>\n",
              "      <td>United Kingdom</td>\n",
              "    </tr>\n",
              "    <tr>\n",
              "      <th>4</th>\n",
              "      <td>489434</td>\n",
              "      <td>21232</td>\n",
              "      <td>STRAWBERRY CERAMIC TRINKET BOX</td>\n",
              "      <td>24</td>\n",
              "      <td>2009-12-01 07:45:00</td>\n",
              "      <td>1.25</td>\n",
              "      <td>13085</td>\n",
              "      <td>United Kingdom</td>\n",
              "    </tr>\n",
              "  </tbody>\n",
              "</table>\n",
              "</div>\n",
              "      <button class=\"colab-df-convert\" onclick=\"convertToInteractive('df-164dfaa0-3d54-43b9-b9fc-0203656f30cd')\"\n",
              "              title=\"Convert this dataframe to an interactive table.\"\n",
              "              style=\"display:none;\">\n",
              "        \n",
              "  <svg xmlns=\"http://www.w3.org/2000/svg\" height=\"24px\"viewBox=\"0 0 24 24\"\n",
              "       width=\"24px\">\n",
              "    <path d=\"M0 0h24v24H0V0z\" fill=\"none\"/>\n",
              "    <path d=\"M18.56 5.44l.94 2.06.94-2.06 2.06-.94-2.06-.94-.94-2.06-.94 2.06-2.06.94zm-11 1L8.5 8.5l.94-2.06 2.06-.94-2.06-.94L8.5 2.5l-.94 2.06-2.06.94zm10 10l.94 2.06.94-2.06 2.06-.94-2.06-.94-.94-2.06-.94 2.06-2.06.94z\"/><path d=\"M17.41 7.96l-1.37-1.37c-.4-.4-.92-.59-1.43-.59-.52 0-1.04.2-1.43.59L10.3 9.45l-7.72 7.72c-.78.78-.78 2.05 0 2.83L4 21.41c.39.39.9.59 1.41.59.51 0 1.02-.2 1.41-.59l7.78-7.78 2.81-2.81c.8-.78.8-2.07 0-2.86zM5.41 20L4 18.59l7.72-7.72 1.47 1.35L5.41 20z\"/>\n",
              "  </svg>\n",
              "      </button>\n",
              "      \n",
              "  <style>\n",
              "    .colab-df-container {\n",
              "      display:flex;\n",
              "      flex-wrap:wrap;\n",
              "      gap: 12px;\n",
              "    }\n",
              "\n",
              "    .colab-df-convert {\n",
              "      background-color: #E8F0FE;\n",
              "      border: none;\n",
              "      border-radius: 50%;\n",
              "      cursor: pointer;\n",
              "      display: none;\n",
              "      fill: #1967D2;\n",
              "      height: 32px;\n",
              "      padding: 0 0 0 0;\n",
              "      width: 32px;\n",
              "    }\n",
              "\n",
              "    .colab-df-convert:hover {\n",
              "      background-color: #E2EBFA;\n",
              "      box-shadow: 0px 1px 2px rgba(60, 64, 67, 0.3), 0px 1px 3px 1px rgba(60, 64, 67, 0.15);\n",
              "      fill: #174EA6;\n",
              "    }\n",
              "\n",
              "    [theme=dark] .colab-df-convert {\n",
              "      background-color: #3B4455;\n",
              "      fill: #D2E3FC;\n",
              "    }\n",
              "\n",
              "    [theme=dark] .colab-df-convert:hover {\n",
              "      background-color: #434B5C;\n",
              "      box-shadow: 0px 1px 3px 1px rgba(0, 0, 0, 0.15);\n",
              "      filter: drop-shadow(0px 1px 2px rgba(0, 0, 0, 0.3));\n",
              "      fill: #FFFFFF;\n",
              "    }\n",
              "  </style>\n",
              "\n",
              "      <script>\n",
              "        const buttonEl =\n",
              "          document.querySelector('#df-164dfaa0-3d54-43b9-b9fc-0203656f30cd button.colab-df-convert');\n",
              "        buttonEl.style.display =\n",
              "          google.colab.kernel.accessAllowed ? 'block' : 'none';\n",
              "\n",
              "        async function convertToInteractive(key) {\n",
              "          const element = document.querySelector('#df-164dfaa0-3d54-43b9-b9fc-0203656f30cd');\n",
              "          const dataTable =\n",
              "            await google.colab.kernel.invokeFunction('convertToInteractive',\n",
              "                                                     [key], {});\n",
              "          if (!dataTable) return;\n",
              "\n",
              "          const docLinkHtml = 'Like what you see? Visit the ' +\n",
              "            '<a target=\"_blank\" href=https://colab.research.google.com/notebooks/data_table.ipynb>data table notebook</a>'\n",
              "            + ' to learn more about interactive tables.';\n",
              "          element.innerHTML = '';\n",
              "          dataTable['output_type'] = 'display_data';\n",
              "          await google.colab.output.renderOutput(dataTable, element);\n",
              "          const docLink = document.createElement('div');\n",
              "          docLink.innerHTML = docLinkHtml;\n",
              "          element.appendChild(docLink);\n",
              "        }\n",
              "      </script>\n",
              "    </div>\n",
              "  </div>\n",
              "  "
            ]
          },
          "metadata": {},
          "execution_count": 41
        }
      ]
    },
    {
      "cell_type": "markdown",
      "source": [
        "Let's first analyze the counts of transactions in our dataset"
      ],
      "metadata": {
        "id": "MJw_H3g_vD22"
      }
    },
    {
      "cell_type": "code",
      "source": [
        "print('There are ', len(df), ' transactions in our dataset')\n",
        "df.count()"
      ],
      "metadata": {
        "id": "c8GtPfAAsGUP",
        "colab": {
          "base_uri": "https://localhost:8080/"
        },
        "outputId": "31dcf76e-55d9-4f04-d477-14214f2c6725"
      },
      "execution_count": 42,
      "outputs": [
        {
          "output_type": "stream",
          "name": "stdout",
          "text": [
            "There are  525461  transactions in our dataset\n"
          ]
        },
        {
          "output_type": "execute_result",
          "data": {
            "text/plain": [
              "Invoice        525461\n",
              "StockCode      525461\n",
              "Description    522533\n",
              "Quantity       525461\n",
              "InvoiceDate    525461\n",
              "Price          525461\n",
              "Customer ID    417534\n",
              "Country        525461\n",
              "dtype: int64"
            ]
          },
          "metadata": {},
          "execution_count": 42
        }
      ]
    },
    {
      "cell_type": "markdown",
      "source": [
        "We see that there are 525,461 transactions (rows) but some columns have lower counts. This indicates that there are null (empty) values for that column."
      ],
      "metadata": {
        "id": "rSsiSTEevlof"
      }
    },
    {
      "cell_type": "markdown",
      "source": [
        "Let's count the `cancelled (starts with 'C')` invoices."
      ],
      "metadata": {
        "id": "OQ-WfphcxpvS"
      }
    },
    {
      "cell_type": "code",
      "source": [
        "df.head()"
      ],
      "metadata": {
        "id": "h9EQymlYD6D0",
        "colab": {
          "base_uri": "https://localhost:8080/",
          "height": 206
        },
        "outputId": "76b7004d-5744-4a72-c54b-7581f757abb0"
      },
      "execution_count": 43,
      "outputs": [
        {
          "output_type": "execute_result",
          "data": {
            "text/plain": [
              "  Invoice StockCode                          Description  Quantity  \\\n",
              "0  489434     85048  15CM CHRISTMAS GLASS BALL 20 LIGHTS        12   \n",
              "1  489434    79323P                   PINK CHERRY LIGHTS        12   \n",
              "2  489434    79323W                  WHITE CHERRY LIGHTS        12   \n",
              "3  489434     22041         RECORD FRAME 7\" SINGLE SIZE         48   \n",
              "4  489434     21232       STRAWBERRY CERAMIC TRINKET BOX        24   \n",
              "\n",
              "          InvoiceDate  Price Customer ID         Country  \n",
              "0 2009-12-01 07:45:00   6.95       13085  United Kingdom  \n",
              "1 2009-12-01 07:45:00   6.75       13085  United Kingdom  \n",
              "2 2009-12-01 07:45:00   6.75       13085  United Kingdom  \n",
              "3 2009-12-01 07:45:00   2.10       13085  United Kingdom  \n",
              "4 2009-12-01 07:45:00   1.25       13085  United Kingdom  "
            ],
            "text/html": [
              "\n",
              "  <div id=\"df-654a02f6-d942-44bd-b9f0-cd77bfa49495\">\n",
              "    <div class=\"colab-df-container\">\n",
              "      <div>\n",
              "<style scoped>\n",
              "    .dataframe tbody tr th:only-of-type {\n",
              "        vertical-align: middle;\n",
              "    }\n",
              "\n",
              "    .dataframe tbody tr th {\n",
              "        vertical-align: top;\n",
              "    }\n",
              "\n",
              "    .dataframe thead th {\n",
              "        text-align: right;\n",
              "    }\n",
              "</style>\n",
              "<table border=\"1\" class=\"dataframe\">\n",
              "  <thead>\n",
              "    <tr style=\"text-align: right;\">\n",
              "      <th></th>\n",
              "      <th>Invoice</th>\n",
              "      <th>StockCode</th>\n",
              "      <th>Description</th>\n",
              "      <th>Quantity</th>\n",
              "      <th>InvoiceDate</th>\n",
              "      <th>Price</th>\n",
              "      <th>Customer ID</th>\n",
              "      <th>Country</th>\n",
              "    </tr>\n",
              "  </thead>\n",
              "  <tbody>\n",
              "    <tr>\n",
              "      <th>0</th>\n",
              "      <td>489434</td>\n",
              "      <td>85048</td>\n",
              "      <td>15CM CHRISTMAS GLASS BALL 20 LIGHTS</td>\n",
              "      <td>12</td>\n",
              "      <td>2009-12-01 07:45:00</td>\n",
              "      <td>6.95</td>\n",
              "      <td>13085</td>\n",
              "      <td>United Kingdom</td>\n",
              "    </tr>\n",
              "    <tr>\n",
              "      <th>1</th>\n",
              "      <td>489434</td>\n",
              "      <td>79323P</td>\n",
              "      <td>PINK CHERRY LIGHTS</td>\n",
              "      <td>12</td>\n",
              "      <td>2009-12-01 07:45:00</td>\n",
              "      <td>6.75</td>\n",
              "      <td>13085</td>\n",
              "      <td>United Kingdom</td>\n",
              "    </tr>\n",
              "    <tr>\n",
              "      <th>2</th>\n",
              "      <td>489434</td>\n",
              "      <td>79323W</td>\n",
              "      <td>WHITE CHERRY LIGHTS</td>\n",
              "      <td>12</td>\n",
              "      <td>2009-12-01 07:45:00</td>\n",
              "      <td>6.75</td>\n",
              "      <td>13085</td>\n",
              "      <td>United Kingdom</td>\n",
              "    </tr>\n",
              "    <tr>\n",
              "      <th>3</th>\n",
              "      <td>489434</td>\n",
              "      <td>22041</td>\n",
              "      <td>RECORD FRAME 7\" SINGLE SIZE</td>\n",
              "      <td>48</td>\n",
              "      <td>2009-12-01 07:45:00</td>\n",
              "      <td>2.10</td>\n",
              "      <td>13085</td>\n",
              "      <td>United Kingdom</td>\n",
              "    </tr>\n",
              "    <tr>\n",
              "      <th>4</th>\n",
              "      <td>489434</td>\n",
              "      <td>21232</td>\n",
              "      <td>STRAWBERRY CERAMIC TRINKET BOX</td>\n",
              "      <td>24</td>\n",
              "      <td>2009-12-01 07:45:00</td>\n",
              "      <td>1.25</td>\n",
              "      <td>13085</td>\n",
              "      <td>United Kingdom</td>\n",
              "    </tr>\n",
              "  </tbody>\n",
              "</table>\n",
              "</div>\n",
              "      <button class=\"colab-df-convert\" onclick=\"convertToInteractive('df-654a02f6-d942-44bd-b9f0-cd77bfa49495')\"\n",
              "              title=\"Convert this dataframe to an interactive table.\"\n",
              "              style=\"display:none;\">\n",
              "        \n",
              "  <svg xmlns=\"http://www.w3.org/2000/svg\" height=\"24px\"viewBox=\"0 0 24 24\"\n",
              "       width=\"24px\">\n",
              "    <path d=\"M0 0h24v24H0V0z\" fill=\"none\"/>\n",
              "    <path d=\"M18.56 5.44l.94 2.06.94-2.06 2.06-.94-2.06-.94-.94-2.06-.94 2.06-2.06.94zm-11 1L8.5 8.5l.94-2.06 2.06-.94-2.06-.94L8.5 2.5l-.94 2.06-2.06.94zm10 10l.94 2.06.94-2.06 2.06-.94-2.06-.94-.94-2.06-.94 2.06-2.06.94z\"/><path d=\"M17.41 7.96l-1.37-1.37c-.4-.4-.92-.59-1.43-.59-.52 0-1.04.2-1.43.59L10.3 9.45l-7.72 7.72c-.78.78-.78 2.05 0 2.83L4 21.41c.39.39.9.59 1.41.59.51 0 1.02-.2 1.41-.59l7.78-7.78 2.81-2.81c.8-.78.8-2.07 0-2.86zM5.41 20L4 18.59l7.72-7.72 1.47 1.35L5.41 20z\"/>\n",
              "  </svg>\n",
              "      </button>\n",
              "      \n",
              "  <style>\n",
              "    .colab-df-container {\n",
              "      display:flex;\n",
              "      flex-wrap:wrap;\n",
              "      gap: 12px;\n",
              "    }\n",
              "\n",
              "    .colab-df-convert {\n",
              "      background-color: #E8F0FE;\n",
              "      border: none;\n",
              "      border-radius: 50%;\n",
              "      cursor: pointer;\n",
              "      display: none;\n",
              "      fill: #1967D2;\n",
              "      height: 32px;\n",
              "      padding: 0 0 0 0;\n",
              "      width: 32px;\n",
              "    }\n",
              "\n",
              "    .colab-df-convert:hover {\n",
              "      background-color: #E2EBFA;\n",
              "      box-shadow: 0px 1px 2px rgba(60, 64, 67, 0.3), 0px 1px 3px 1px rgba(60, 64, 67, 0.15);\n",
              "      fill: #174EA6;\n",
              "    }\n",
              "\n",
              "    [theme=dark] .colab-df-convert {\n",
              "      background-color: #3B4455;\n",
              "      fill: #D2E3FC;\n",
              "    }\n",
              "\n",
              "    [theme=dark] .colab-df-convert:hover {\n",
              "      background-color: #434B5C;\n",
              "      box-shadow: 0px 1px 3px 1px rgba(0, 0, 0, 0.15);\n",
              "      filter: drop-shadow(0px 1px 2px rgba(0, 0, 0, 0.3));\n",
              "      fill: #FFFFFF;\n",
              "    }\n",
              "  </style>\n",
              "\n",
              "      <script>\n",
              "        const buttonEl =\n",
              "          document.querySelector('#df-654a02f6-d942-44bd-b9f0-cd77bfa49495 button.colab-df-convert');\n",
              "        buttonEl.style.display =\n",
              "          google.colab.kernel.accessAllowed ? 'block' : 'none';\n",
              "\n",
              "        async function convertToInteractive(key) {\n",
              "          const element = document.querySelector('#df-654a02f6-d942-44bd-b9f0-cd77bfa49495');\n",
              "          const dataTable =\n",
              "            await google.colab.kernel.invokeFunction('convertToInteractive',\n",
              "                                                     [key], {});\n",
              "          if (!dataTable) return;\n",
              "\n",
              "          const docLinkHtml = 'Like what you see? Visit the ' +\n",
              "            '<a target=\"_blank\" href=https://colab.research.google.com/notebooks/data_table.ipynb>data table notebook</a>'\n",
              "            + ' to learn more about interactive tables.';\n",
              "          element.innerHTML = '';\n",
              "          dataTable['output_type'] = 'display_data';\n",
              "          await google.colab.output.renderOutput(dataTable, element);\n",
              "          const docLink = document.createElement('div');\n",
              "          docLink.innerHTML = docLinkHtml;\n",
              "          element.appendChild(docLink);\n",
              "        }\n",
              "      </script>\n",
              "    </div>\n",
              "  </div>\n",
              "  "
            ]
          },
          "metadata": {},
          "execution_count": 43
        }
      ]
    },
    {
      "cell_type": "code",
      "source": [
        "df['Invoice'].str.startswith('C')"
      ],
      "metadata": {
        "id": "gZCB0HBbERrB",
        "colab": {
          "base_uri": "https://localhost:8080/"
        },
        "outputId": "930df080-82f2-48f8-b4a6-feb4946c29f7"
      },
      "execution_count": 44,
      "outputs": [
        {
          "output_type": "execute_result",
          "data": {
            "text/plain": [
              "0         False\n",
              "1         False\n",
              "2         False\n",
              "3         False\n",
              "4         False\n",
              "          ...  \n",
              "525456    False\n",
              "525457    False\n",
              "525458    False\n",
              "525459    False\n",
              "525460    False\n",
              "Name: Invoice, Length: 525461, dtype: bool"
            ]
          },
          "metadata": {},
          "execution_count": 44
        }
      ]
    },
    {
      "cell_type": "code",
      "source": [
        "~df['Invoice'].str.startswith('C')"
      ],
      "metadata": {
        "id": "zBzRbKYsD1yp",
        "colab": {
          "base_uri": "https://localhost:8080/"
        },
        "outputId": "4079f583-5efd-44f5-efa8-6c0e9276a501"
      },
      "execution_count": 45,
      "outputs": [
        {
          "output_type": "execute_result",
          "data": {
            "text/plain": [
              "0         True\n",
              "1         True\n",
              "2         True\n",
              "3         True\n",
              "4         True\n",
              "          ... \n",
              "525456    True\n",
              "525457    True\n",
              "525458    True\n",
              "525459    True\n",
              "525460    True\n",
              "Name: Invoice, Length: 525461, dtype: bool"
            ]
          },
          "metadata": {},
          "execution_count": 45
        }
      ]
    },
    {
      "cell_type": "code",
      "source": [
        "df['Invoice'].str.startswith('C').sum()"
      ],
      "metadata": {
        "id": "85XHKki1v9xU",
        "colab": {
          "base_uri": "https://localhost:8080/"
        },
        "outputId": "bcb27545-32cd-42ba-bafa-a9cdff5e96de"
      },
      "execution_count": 46,
      "outputs": [
        {
          "output_type": "execute_result",
          "data": {
            "text/plain": [
              "10206"
            ]
          },
          "metadata": {},
          "execution_count": 46
        }
      ]
    },
    {
      "cell_type": "code",
      "source": [
        "df = df[~df['Invoice'].str.startswith('C')]\n",
        "df.count()"
      ],
      "metadata": {
        "id": "Meuetw_c0kGp",
        "colab": {
          "base_uri": "https://localhost:8080/"
        },
        "outputId": "c4ddad41-0b0a-4ca9-af80-ae957657ceb1"
      },
      "execution_count": 47,
      "outputs": [
        {
          "output_type": "execute_result",
          "data": {
            "text/plain": [
              "Invoice        515255\n",
              "StockCode      515255\n",
              "Description    512327\n",
              "Quantity       515255\n",
              "InvoiceDate    515255\n",
              "Price          515255\n",
              "Customer ID    407695\n",
              "Country        515255\n",
              "dtype: int64"
            ]
          },
          "metadata": {},
          "execution_count": 47
        }
      ]
    },
    {
      "cell_type": "markdown",
      "source": [
        "We have 10,206 cancelled invoices in our dataset. We remove these transactions then proceed with removing the null/empty customer ID."
      ],
      "metadata": {
        "id": "EQDAFnRQxzrf"
      }
    },
    {
      "cell_type": "code",
      "source": [
        "df['Customer ID'].isna().sum()"
      ],
      "metadata": {
        "id": "XuUa8LgStgkw",
        "colab": {
          "base_uri": "https://localhost:8080/"
        },
        "outputId": "b9c09a8b-a02d-4588-e980-41f0291a946d"
      },
      "execution_count": 48,
      "outputs": [
        {
          "output_type": "execute_result",
          "data": {
            "text/plain": [
              "107560"
            ]
          },
          "metadata": {},
          "execution_count": 48
        }
      ]
    },
    {
      "cell_type": "code",
      "source": [
        "df = df.dropna(subset=['Customer ID'])\n",
        "df.count()"
      ],
      "metadata": {
        "id": "qR1Oo6ZhyGBp",
        "colab": {
          "base_uri": "https://localhost:8080/"
        },
        "outputId": "1931480a-a757-46e5-9c93-090e005373b7"
      },
      "execution_count": 49,
      "outputs": [
        {
          "output_type": "execute_result",
          "data": {
            "text/plain": [
              "Invoice        407695\n",
              "StockCode      407695\n",
              "Description    407695\n",
              "Quantity       407695\n",
              "InvoiceDate    407695\n",
              "Price          407695\n",
              "Customer ID    407695\n",
              "Country        407695\n",
              "dtype: int64"
            ]
          },
          "metadata": {},
          "execution_count": 49
        }
      ]
    },
    {
      "cell_type": "markdown",
      "source": [
        "We see that there are 107,560 transactions without a customer ID. This leaves us with 407,695 transactions.\n",
        "\n",
        "Next, we check our `Quantity` and `Price` for outliers."
      ],
      "metadata": {
        "id": "0qmtpKJFx_Fu"
      }
    },
    {
      "cell_type": "code",
      "source": [
        "df[['Quantity', 'Price']].describe()"
      ],
      "metadata": {
        "id": "Ui1sb-sHx9BK",
        "colab": {
          "base_uri": "https://localhost:8080/",
          "height": 300
        },
        "outputId": "13f1c801-43c4-4654-be34-e25378005af7"
      },
      "execution_count": 50,
      "outputs": [
        {
          "output_type": "execute_result",
          "data": {
            "text/plain": [
              "            Quantity          Price\n",
              "count  407695.000000  407695.000000\n",
              "mean       13.586686       3.294188\n",
              "std        96.842229      34.756655\n",
              "min         1.000000       0.000000\n",
              "25%         2.000000       1.250000\n",
              "50%         5.000000       1.950000\n",
              "75%        12.000000       3.750000\n",
              "max     19152.000000   10953.500000"
            ],
            "text/html": [
              "\n",
              "  <div id=\"df-7ec4488f-7279-4fb1-8a30-31ad9f092a2c\">\n",
              "    <div class=\"colab-df-container\">\n",
              "      <div>\n",
              "<style scoped>\n",
              "    .dataframe tbody tr th:only-of-type {\n",
              "        vertical-align: middle;\n",
              "    }\n",
              "\n",
              "    .dataframe tbody tr th {\n",
              "        vertical-align: top;\n",
              "    }\n",
              "\n",
              "    .dataframe thead th {\n",
              "        text-align: right;\n",
              "    }\n",
              "</style>\n",
              "<table border=\"1\" class=\"dataframe\">\n",
              "  <thead>\n",
              "    <tr style=\"text-align: right;\">\n",
              "      <th></th>\n",
              "      <th>Quantity</th>\n",
              "      <th>Price</th>\n",
              "    </tr>\n",
              "  </thead>\n",
              "  <tbody>\n",
              "    <tr>\n",
              "      <th>count</th>\n",
              "      <td>407695.000000</td>\n",
              "      <td>407695.000000</td>\n",
              "    </tr>\n",
              "    <tr>\n",
              "      <th>mean</th>\n",
              "      <td>13.586686</td>\n",
              "      <td>3.294188</td>\n",
              "    </tr>\n",
              "    <tr>\n",
              "      <th>std</th>\n",
              "      <td>96.842229</td>\n",
              "      <td>34.756655</td>\n",
              "    </tr>\n",
              "    <tr>\n",
              "      <th>min</th>\n",
              "      <td>1.000000</td>\n",
              "      <td>0.000000</td>\n",
              "    </tr>\n",
              "    <tr>\n",
              "      <th>25%</th>\n",
              "      <td>2.000000</td>\n",
              "      <td>1.250000</td>\n",
              "    </tr>\n",
              "    <tr>\n",
              "      <th>50%</th>\n",
              "      <td>5.000000</td>\n",
              "      <td>1.950000</td>\n",
              "    </tr>\n",
              "    <tr>\n",
              "      <th>75%</th>\n",
              "      <td>12.000000</td>\n",
              "      <td>3.750000</td>\n",
              "    </tr>\n",
              "    <tr>\n",
              "      <th>max</th>\n",
              "      <td>19152.000000</td>\n",
              "      <td>10953.500000</td>\n",
              "    </tr>\n",
              "  </tbody>\n",
              "</table>\n",
              "</div>\n",
              "      <button class=\"colab-df-convert\" onclick=\"convertToInteractive('df-7ec4488f-7279-4fb1-8a30-31ad9f092a2c')\"\n",
              "              title=\"Convert this dataframe to an interactive table.\"\n",
              "              style=\"display:none;\">\n",
              "        \n",
              "  <svg xmlns=\"http://www.w3.org/2000/svg\" height=\"24px\"viewBox=\"0 0 24 24\"\n",
              "       width=\"24px\">\n",
              "    <path d=\"M0 0h24v24H0V0z\" fill=\"none\"/>\n",
              "    <path d=\"M18.56 5.44l.94 2.06.94-2.06 2.06-.94-2.06-.94-.94-2.06-.94 2.06-2.06.94zm-11 1L8.5 8.5l.94-2.06 2.06-.94-2.06-.94L8.5 2.5l-.94 2.06-2.06.94zm10 10l.94 2.06.94-2.06 2.06-.94-2.06-.94-.94-2.06-.94 2.06-2.06.94z\"/><path d=\"M17.41 7.96l-1.37-1.37c-.4-.4-.92-.59-1.43-.59-.52 0-1.04.2-1.43.59L10.3 9.45l-7.72 7.72c-.78.78-.78 2.05 0 2.83L4 21.41c.39.39.9.59 1.41.59.51 0 1.02-.2 1.41-.59l7.78-7.78 2.81-2.81c.8-.78.8-2.07 0-2.86zM5.41 20L4 18.59l7.72-7.72 1.47 1.35L5.41 20z\"/>\n",
              "  </svg>\n",
              "      </button>\n",
              "      \n",
              "  <style>\n",
              "    .colab-df-container {\n",
              "      display:flex;\n",
              "      flex-wrap:wrap;\n",
              "      gap: 12px;\n",
              "    }\n",
              "\n",
              "    .colab-df-convert {\n",
              "      background-color: #E8F0FE;\n",
              "      border: none;\n",
              "      border-radius: 50%;\n",
              "      cursor: pointer;\n",
              "      display: none;\n",
              "      fill: #1967D2;\n",
              "      height: 32px;\n",
              "      padding: 0 0 0 0;\n",
              "      width: 32px;\n",
              "    }\n",
              "\n",
              "    .colab-df-convert:hover {\n",
              "      background-color: #E2EBFA;\n",
              "      box-shadow: 0px 1px 2px rgba(60, 64, 67, 0.3), 0px 1px 3px 1px rgba(60, 64, 67, 0.15);\n",
              "      fill: #174EA6;\n",
              "    }\n",
              "\n",
              "    [theme=dark] .colab-df-convert {\n",
              "      background-color: #3B4455;\n",
              "      fill: #D2E3FC;\n",
              "    }\n",
              "\n",
              "    [theme=dark] .colab-df-convert:hover {\n",
              "      background-color: #434B5C;\n",
              "      box-shadow: 0px 1px 3px 1px rgba(0, 0, 0, 0.15);\n",
              "      filter: drop-shadow(0px 1px 2px rgba(0, 0, 0, 0.3));\n",
              "      fill: #FFFFFF;\n",
              "    }\n",
              "  </style>\n",
              "\n",
              "      <script>\n",
              "        const buttonEl =\n",
              "          document.querySelector('#df-7ec4488f-7279-4fb1-8a30-31ad9f092a2c button.colab-df-convert');\n",
              "        buttonEl.style.display =\n",
              "          google.colab.kernel.accessAllowed ? 'block' : 'none';\n",
              "\n",
              "        async function convertToInteractive(key) {\n",
              "          const element = document.querySelector('#df-7ec4488f-7279-4fb1-8a30-31ad9f092a2c');\n",
              "          const dataTable =\n",
              "            await google.colab.kernel.invokeFunction('convertToInteractive',\n",
              "                                                     [key], {});\n",
              "          if (!dataTable) return;\n",
              "\n",
              "          const docLinkHtml = 'Like what you see? Visit the ' +\n",
              "            '<a target=\"_blank\" href=https://colab.research.google.com/notebooks/data_table.ipynb>data table notebook</a>'\n",
              "            + ' to learn more about interactive tables.';\n",
              "          element.innerHTML = '';\n",
              "          dataTable['output_type'] = 'display_data';\n",
              "          await google.colab.output.renderOutput(dataTable, element);\n",
              "          const docLink = document.createElement('div');\n",
              "          docLink.innerHTML = docLinkHtml;\n",
              "          element.appendChild(docLink);\n",
              "        }\n",
              "      </script>\n",
              "    </div>\n",
              "  </div>\n",
              "  "
            ]
          },
          "metadata": {},
          "execution_count": 50
        }
      ]
    },
    {
      "cell_type": "markdown",
      "source": [
        "Using the describe function, we see some descriptive statistics for our variables. Notice that there are also large max quantities and price compared to their 75th percentiles. We can also choose to remove them, but since we have mostly wholesale customers, there is a good chance that these quantities are correct."
      ],
      "metadata": {
        "id": "kE5rF-xNyyiI"
      }
    },
    {
      "cell_type": "code",
      "source": [
        "df[df['Quantity']==df['Quantity'].max()]"
      ],
      "metadata": {
        "id": "OwQ1THmOz-Z1",
        "colab": {
          "base_uri": "https://localhost:8080/",
          "height": 81
        },
        "outputId": "ba813d10-31cf-4c02-d028-9c84680216a7"
      },
      "execution_count": 51,
      "outputs": [
        {
          "output_type": "execute_result",
          "data": {
            "text/plain": [
              "      Invoice StockCode                         Description  Quantity  \\\n",
              "90857  497946     37410  BLACK AND WHITE PAISLEY FLOWER MUG     19152   \n",
              "\n",
              "              InvoiceDate  Price Customer ID  Country  \n",
              "90857 2010-02-15 11:57:00    0.1       13902  Denmark  "
            ],
            "text/html": [
              "\n",
              "  <div id=\"df-17e06fc8-8695-4d51-8601-1a7089209f8f\">\n",
              "    <div class=\"colab-df-container\">\n",
              "      <div>\n",
              "<style scoped>\n",
              "    .dataframe tbody tr th:only-of-type {\n",
              "        vertical-align: middle;\n",
              "    }\n",
              "\n",
              "    .dataframe tbody tr th {\n",
              "        vertical-align: top;\n",
              "    }\n",
              "\n",
              "    .dataframe thead th {\n",
              "        text-align: right;\n",
              "    }\n",
              "</style>\n",
              "<table border=\"1\" class=\"dataframe\">\n",
              "  <thead>\n",
              "    <tr style=\"text-align: right;\">\n",
              "      <th></th>\n",
              "      <th>Invoice</th>\n",
              "      <th>StockCode</th>\n",
              "      <th>Description</th>\n",
              "      <th>Quantity</th>\n",
              "      <th>InvoiceDate</th>\n",
              "      <th>Price</th>\n",
              "      <th>Customer ID</th>\n",
              "      <th>Country</th>\n",
              "    </tr>\n",
              "  </thead>\n",
              "  <tbody>\n",
              "    <tr>\n",
              "      <th>90857</th>\n",
              "      <td>497946</td>\n",
              "      <td>37410</td>\n",
              "      <td>BLACK AND WHITE PAISLEY FLOWER MUG</td>\n",
              "      <td>19152</td>\n",
              "      <td>2010-02-15 11:57:00</td>\n",
              "      <td>0.1</td>\n",
              "      <td>13902</td>\n",
              "      <td>Denmark</td>\n",
              "    </tr>\n",
              "  </tbody>\n",
              "</table>\n",
              "</div>\n",
              "      <button class=\"colab-df-convert\" onclick=\"convertToInteractive('df-17e06fc8-8695-4d51-8601-1a7089209f8f')\"\n",
              "              title=\"Convert this dataframe to an interactive table.\"\n",
              "              style=\"display:none;\">\n",
              "        \n",
              "  <svg xmlns=\"http://www.w3.org/2000/svg\" height=\"24px\"viewBox=\"0 0 24 24\"\n",
              "       width=\"24px\">\n",
              "    <path d=\"M0 0h24v24H0V0z\" fill=\"none\"/>\n",
              "    <path d=\"M18.56 5.44l.94 2.06.94-2.06 2.06-.94-2.06-.94-.94-2.06-.94 2.06-2.06.94zm-11 1L8.5 8.5l.94-2.06 2.06-.94-2.06-.94L8.5 2.5l-.94 2.06-2.06.94zm10 10l.94 2.06.94-2.06 2.06-.94-2.06-.94-.94-2.06-.94 2.06-2.06.94z\"/><path d=\"M17.41 7.96l-1.37-1.37c-.4-.4-.92-.59-1.43-.59-.52 0-1.04.2-1.43.59L10.3 9.45l-7.72 7.72c-.78.78-.78 2.05 0 2.83L4 21.41c.39.39.9.59 1.41.59.51 0 1.02-.2 1.41-.59l7.78-7.78 2.81-2.81c.8-.78.8-2.07 0-2.86zM5.41 20L4 18.59l7.72-7.72 1.47 1.35L5.41 20z\"/>\n",
              "  </svg>\n",
              "      </button>\n",
              "      \n",
              "  <style>\n",
              "    .colab-df-container {\n",
              "      display:flex;\n",
              "      flex-wrap:wrap;\n",
              "      gap: 12px;\n",
              "    }\n",
              "\n",
              "    .colab-df-convert {\n",
              "      background-color: #E8F0FE;\n",
              "      border: none;\n",
              "      border-radius: 50%;\n",
              "      cursor: pointer;\n",
              "      display: none;\n",
              "      fill: #1967D2;\n",
              "      height: 32px;\n",
              "      padding: 0 0 0 0;\n",
              "      width: 32px;\n",
              "    }\n",
              "\n",
              "    .colab-df-convert:hover {\n",
              "      background-color: #E2EBFA;\n",
              "      box-shadow: 0px 1px 2px rgba(60, 64, 67, 0.3), 0px 1px 3px 1px rgba(60, 64, 67, 0.15);\n",
              "      fill: #174EA6;\n",
              "    }\n",
              "\n",
              "    [theme=dark] .colab-df-convert {\n",
              "      background-color: #3B4455;\n",
              "      fill: #D2E3FC;\n",
              "    }\n",
              "\n",
              "    [theme=dark] .colab-df-convert:hover {\n",
              "      background-color: #434B5C;\n",
              "      box-shadow: 0px 1px 3px 1px rgba(0, 0, 0, 0.15);\n",
              "      filter: drop-shadow(0px 1px 2px rgba(0, 0, 0, 0.3));\n",
              "      fill: #FFFFFF;\n",
              "    }\n",
              "  </style>\n",
              "\n",
              "      <script>\n",
              "        const buttonEl =\n",
              "          document.querySelector('#df-17e06fc8-8695-4d51-8601-1a7089209f8f button.colab-df-convert');\n",
              "        buttonEl.style.display =\n",
              "          google.colab.kernel.accessAllowed ? 'block' : 'none';\n",
              "\n",
              "        async function convertToInteractive(key) {\n",
              "          const element = document.querySelector('#df-17e06fc8-8695-4d51-8601-1a7089209f8f');\n",
              "          const dataTable =\n",
              "            await google.colab.kernel.invokeFunction('convertToInteractive',\n",
              "                                                     [key], {});\n",
              "          if (!dataTable) return;\n",
              "\n",
              "          const docLinkHtml = 'Like what you see? Visit the ' +\n",
              "            '<a target=\"_blank\" href=https://colab.research.google.com/notebooks/data_table.ipynb>data table notebook</a>'\n",
              "            + ' to learn more about interactive tables.';\n",
              "          element.innerHTML = '';\n",
              "          dataTable['output_type'] = 'display_data';\n",
              "          await google.colab.output.renderOutput(dataTable, element);\n",
              "          const docLink = document.createElement('div');\n",
              "          docLink.innerHTML = docLinkHtml;\n",
              "          element.appendChild(docLink);\n",
              "        }\n",
              "      </script>\n",
              "    </div>\n",
              "  </div>\n",
              "  "
            ]
          },
          "metadata": {},
          "execution_count": 51
        }
      ]
    },
    {
      "cell_type": "code",
      "source": [
        "df[df['Price']==df['Price'].max()]"
      ],
      "metadata": {
        "id": "8iWHWjYAz4zy",
        "colab": {
          "base_uri": "https://localhost:8080/",
          "height": 81
        },
        "outputId": "38cd13f4-186b-4334-f0e8-a1f1740aa217"
      },
      "execution_count": 52,
      "outputs": [
        {
          "output_type": "execute_result",
          "data": {
            "text/plain": [
              "       Invoice StockCode Description  Quantity         InvoiceDate    Price  \\\n",
              "135013  502263         M      Manual         1 2010-03-23 15:22:00  10953.5   \n",
              "\n",
              "       Customer ID         Country  \n",
              "135013       12918  United Kingdom  "
            ],
            "text/html": [
              "\n",
              "  <div id=\"df-e21e5830-0baf-46f4-9924-bdb0f4a996bd\">\n",
              "    <div class=\"colab-df-container\">\n",
              "      <div>\n",
              "<style scoped>\n",
              "    .dataframe tbody tr th:only-of-type {\n",
              "        vertical-align: middle;\n",
              "    }\n",
              "\n",
              "    .dataframe tbody tr th {\n",
              "        vertical-align: top;\n",
              "    }\n",
              "\n",
              "    .dataframe thead th {\n",
              "        text-align: right;\n",
              "    }\n",
              "</style>\n",
              "<table border=\"1\" class=\"dataframe\">\n",
              "  <thead>\n",
              "    <tr style=\"text-align: right;\">\n",
              "      <th></th>\n",
              "      <th>Invoice</th>\n",
              "      <th>StockCode</th>\n",
              "      <th>Description</th>\n",
              "      <th>Quantity</th>\n",
              "      <th>InvoiceDate</th>\n",
              "      <th>Price</th>\n",
              "      <th>Customer ID</th>\n",
              "      <th>Country</th>\n",
              "    </tr>\n",
              "  </thead>\n",
              "  <tbody>\n",
              "    <tr>\n",
              "      <th>135013</th>\n",
              "      <td>502263</td>\n",
              "      <td>M</td>\n",
              "      <td>Manual</td>\n",
              "      <td>1</td>\n",
              "      <td>2010-03-23 15:22:00</td>\n",
              "      <td>10953.5</td>\n",
              "      <td>12918</td>\n",
              "      <td>United Kingdom</td>\n",
              "    </tr>\n",
              "  </tbody>\n",
              "</table>\n",
              "</div>\n",
              "      <button class=\"colab-df-convert\" onclick=\"convertToInteractive('df-e21e5830-0baf-46f4-9924-bdb0f4a996bd')\"\n",
              "              title=\"Convert this dataframe to an interactive table.\"\n",
              "              style=\"display:none;\">\n",
              "        \n",
              "  <svg xmlns=\"http://www.w3.org/2000/svg\" height=\"24px\"viewBox=\"0 0 24 24\"\n",
              "       width=\"24px\">\n",
              "    <path d=\"M0 0h24v24H0V0z\" fill=\"none\"/>\n",
              "    <path d=\"M18.56 5.44l.94 2.06.94-2.06 2.06-.94-2.06-.94-.94-2.06-.94 2.06-2.06.94zm-11 1L8.5 8.5l.94-2.06 2.06-.94-2.06-.94L8.5 2.5l-.94 2.06-2.06.94zm10 10l.94 2.06.94-2.06 2.06-.94-2.06-.94-.94-2.06-.94 2.06-2.06.94z\"/><path d=\"M17.41 7.96l-1.37-1.37c-.4-.4-.92-.59-1.43-.59-.52 0-1.04.2-1.43.59L10.3 9.45l-7.72 7.72c-.78.78-.78 2.05 0 2.83L4 21.41c.39.39.9.59 1.41.59.51 0 1.02-.2 1.41-.59l7.78-7.78 2.81-2.81c.8-.78.8-2.07 0-2.86zM5.41 20L4 18.59l7.72-7.72 1.47 1.35L5.41 20z\"/>\n",
              "  </svg>\n",
              "      </button>\n",
              "      \n",
              "  <style>\n",
              "    .colab-df-container {\n",
              "      display:flex;\n",
              "      flex-wrap:wrap;\n",
              "      gap: 12px;\n",
              "    }\n",
              "\n",
              "    .colab-df-convert {\n",
              "      background-color: #E8F0FE;\n",
              "      border: none;\n",
              "      border-radius: 50%;\n",
              "      cursor: pointer;\n",
              "      display: none;\n",
              "      fill: #1967D2;\n",
              "      height: 32px;\n",
              "      padding: 0 0 0 0;\n",
              "      width: 32px;\n",
              "    }\n",
              "\n",
              "    .colab-df-convert:hover {\n",
              "      background-color: #E2EBFA;\n",
              "      box-shadow: 0px 1px 2px rgba(60, 64, 67, 0.3), 0px 1px 3px 1px rgba(60, 64, 67, 0.15);\n",
              "      fill: #174EA6;\n",
              "    }\n",
              "\n",
              "    [theme=dark] .colab-df-convert {\n",
              "      background-color: #3B4455;\n",
              "      fill: #D2E3FC;\n",
              "    }\n",
              "\n",
              "    [theme=dark] .colab-df-convert:hover {\n",
              "      background-color: #434B5C;\n",
              "      box-shadow: 0px 1px 3px 1px rgba(0, 0, 0, 0.15);\n",
              "      filter: drop-shadow(0px 1px 2px rgba(0, 0, 0, 0.3));\n",
              "      fill: #FFFFFF;\n",
              "    }\n",
              "  </style>\n",
              "\n",
              "      <script>\n",
              "        const buttonEl =\n",
              "          document.querySelector('#df-e21e5830-0baf-46f4-9924-bdb0f4a996bd button.colab-df-convert');\n",
              "        buttonEl.style.display =\n",
              "          google.colab.kernel.accessAllowed ? 'block' : 'none';\n",
              "\n",
              "        async function convertToInteractive(key) {\n",
              "          const element = document.querySelector('#df-e21e5830-0baf-46f4-9924-bdb0f4a996bd');\n",
              "          const dataTable =\n",
              "            await google.colab.kernel.invokeFunction('convertToInteractive',\n",
              "                                                     [key], {});\n",
              "          if (!dataTable) return;\n",
              "\n",
              "          const docLinkHtml = 'Like what you see? Visit the ' +\n",
              "            '<a target=\"_blank\" href=https://colab.research.google.com/notebooks/data_table.ipynb>data table notebook</a>'\n",
              "            + ' to learn more about interactive tables.';\n",
              "          element.innerHTML = '';\n",
              "          dataTable['output_type'] = 'display_data';\n",
              "          await google.colab.output.renderOutput(dataTable, element);\n",
              "          const docLink = document.createElement('div');\n",
              "          docLink.innerHTML = docLinkHtml;\n",
              "          element.appendChild(docLink);\n",
              "        }\n",
              "      </script>\n",
              "    </div>\n",
              "  </div>\n",
              "  "
            ]
          },
          "metadata": {},
          "execution_count": 52
        }
      ]
    },
    {
      "cell_type": "markdown",
      "source": [
        "The transaction with a very large quantity is a mug with a price of 0.1. This seems plausible an we can choose to retain this. Similarly, the transaction with the very large price was manually generated (based on the description) and is only 1 quantity. We can also retain this."
      ],
      "metadata": {
        "id": "SbHE9KOd1-ig"
      }
    },
    {
      "cell_type": "markdown",
      "source": [
        "We now have a clean dataset ready for our exploratory and RFM analysis."
      ],
      "metadata": {
        "id": "kxnVV-xd2eG_"
      }
    },
    {
      "cell_type": "markdown",
      "source": [
        "## Exploratory Analysis\n",
        "\n",
        "In the previous lesson, we were able to analyze the dataset and observe patterns based on the counts of unique invoice and customers, the total transactions per customer, and the monthly trend of transactions.\n",
        "\n",
        "We can extend our previous exploratory analysis by looking at the following:\n",
        "\n",
        "1. Distribution of Transactions per Customer (Frequency)\n",
        "1. Distribution of Revenue per Customer (Monetary)\n",
        "1. Total Monthly Revenue\n",
        "\n",
        "Since we are now interested in the monetary aspect of the data, we add the related metrics in our analysis."
      ],
      "metadata": {
        "id": "_tAp9KJ02j-m"
      }
    },
    {
      "cell_type": "markdown",
      "source": [
        "### Recall: Count of Invoice and Customers"
      ],
      "metadata": {
        "id": "tD8oXTKm9h61"
      }
    },
    {
      "cell_type": "code",
      "source": [
        "df.head()"
      ],
      "metadata": {
        "id": "dJ4xc7IeGUF-",
        "colab": {
          "base_uri": "https://localhost:8080/",
          "height": 206
        },
        "outputId": "4174e29b-d3c7-4171-f17f-6f28d5a0c245"
      },
      "execution_count": 53,
      "outputs": [
        {
          "output_type": "execute_result",
          "data": {
            "text/plain": [
              "  Invoice StockCode                          Description  Quantity  \\\n",
              "0  489434     85048  15CM CHRISTMAS GLASS BALL 20 LIGHTS        12   \n",
              "1  489434    79323P                   PINK CHERRY LIGHTS        12   \n",
              "2  489434    79323W                  WHITE CHERRY LIGHTS        12   \n",
              "3  489434     22041         RECORD FRAME 7\" SINGLE SIZE         48   \n",
              "4  489434     21232       STRAWBERRY CERAMIC TRINKET BOX        24   \n",
              "\n",
              "          InvoiceDate  Price Customer ID         Country  \n",
              "0 2009-12-01 07:45:00   6.95       13085  United Kingdom  \n",
              "1 2009-12-01 07:45:00   6.75       13085  United Kingdom  \n",
              "2 2009-12-01 07:45:00   6.75       13085  United Kingdom  \n",
              "3 2009-12-01 07:45:00   2.10       13085  United Kingdom  \n",
              "4 2009-12-01 07:45:00   1.25       13085  United Kingdom  "
            ],
            "text/html": [
              "\n",
              "  <div id=\"df-481afc4d-03da-4ad3-bc9f-9254c20f9a95\">\n",
              "    <div class=\"colab-df-container\">\n",
              "      <div>\n",
              "<style scoped>\n",
              "    .dataframe tbody tr th:only-of-type {\n",
              "        vertical-align: middle;\n",
              "    }\n",
              "\n",
              "    .dataframe tbody tr th {\n",
              "        vertical-align: top;\n",
              "    }\n",
              "\n",
              "    .dataframe thead th {\n",
              "        text-align: right;\n",
              "    }\n",
              "</style>\n",
              "<table border=\"1\" class=\"dataframe\">\n",
              "  <thead>\n",
              "    <tr style=\"text-align: right;\">\n",
              "      <th></th>\n",
              "      <th>Invoice</th>\n",
              "      <th>StockCode</th>\n",
              "      <th>Description</th>\n",
              "      <th>Quantity</th>\n",
              "      <th>InvoiceDate</th>\n",
              "      <th>Price</th>\n",
              "      <th>Customer ID</th>\n",
              "      <th>Country</th>\n",
              "    </tr>\n",
              "  </thead>\n",
              "  <tbody>\n",
              "    <tr>\n",
              "      <th>0</th>\n",
              "      <td>489434</td>\n",
              "      <td>85048</td>\n",
              "      <td>15CM CHRISTMAS GLASS BALL 20 LIGHTS</td>\n",
              "      <td>12</td>\n",
              "      <td>2009-12-01 07:45:00</td>\n",
              "      <td>6.95</td>\n",
              "      <td>13085</td>\n",
              "      <td>United Kingdom</td>\n",
              "    </tr>\n",
              "    <tr>\n",
              "      <th>1</th>\n",
              "      <td>489434</td>\n",
              "      <td>79323P</td>\n",
              "      <td>PINK CHERRY LIGHTS</td>\n",
              "      <td>12</td>\n",
              "      <td>2009-12-01 07:45:00</td>\n",
              "      <td>6.75</td>\n",
              "      <td>13085</td>\n",
              "      <td>United Kingdom</td>\n",
              "    </tr>\n",
              "    <tr>\n",
              "      <th>2</th>\n",
              "      <td>489434</td>\n",
              "      <td>79323W</td>\n",
              "      <td>WHITE CHERRY LIGHTS</td>\n",
              "      <td>12</td>\n",
              "      <td>2009-12-01 07:45:00</td>\n",
              "      <td>6.75</td>\n",
              "      <td>13085</td>\n",
              "      <td>United Kingdom</td>\n",
              "    </tr>\n",
              "    <tr>\n",
              "      <th>3</th>\n",
              "      <td>489434</td>\n",
              "      <td>22041</td>\n",
              "      <td>RECORD FRAME 7\" SINGLE SIZE</td>\n",
              "      <td>48</td>\n",
              "      <td>2009-12-01 07:45:00</td>\n",
              "      <td>2.10</td>\n",
              "      <td>13085</td>\n",
              "      <td>United Kingdom</td>\n",
              "    </tr>\n",
              "    <tr>\n",
              "      <th>4</th>\n",
              "      <td>489434</td>\n",
              "      <td>21232</td>\n",
              "      <td>STRAWBERRY CERAMIC TRINKET BOX</td>\n",
              "      <td>24</td>\n",
              "      <td>2009-12-01 07:45:00</td>\n",
              "      <td>1.25</td>\n",
              "      <td>13085</td>\n",
              "      <td>United Kingdom</td>\n",
              "    </tr>\n",
              "  </tbody>\n",
              "</table>\n",
              "</div>\n",
              "      <button class=\"colab-df-convert\" onclick=\"convertToInteractive('df-481afc4d-03da-4ad3-bc9f-9254c20f9a95')\"\n",
              "              title=\"Convert this dataframe to an interactive table.\"\n",
              "              style=\"display:none;\">\n",
              "        \n",
              "  <svg xmlns=\"http://www.w3.org/2000/svg\" height=\"24px\"viewBox=\"0 0 24 24\"\n",
              "       width=\"24px\">\n",
              "    <path d=\"M0 0h24v24H0V0z\" fill=\"none\"/>\n",
              "    <path d=\"M18.56 5.44l.94 2.06.94-2.06 2.06-.94-2.06-.94-.94-2.06-.94 2.06-2.06.94zm-11 1L8.5 8.5l.94-2.06 2.06-.94-2.06-.94L8.5 2.5l-.94 2.06-2.06.94zm10 10l.94 2.06.94-2.06 2.06-.94-2.06-.94-.94-2.06-.94 2.06-2.06.94z\"/><path d=\"M17.41 7.96l-1.37-1.37c-.4-.4-.92-.59-1.43-.59-.52 0-1.04.2-1.43.59L10.3 9.45l-7.72 7.72c-.78.78-.78 2.05 0 2.83L4 21.41c.39.39.9.59 1.41.59.51 0 1.02-.2 1.41-.59l7.78-7.78 2.81-2.81c.8-.78.8-2.07 0-2.86zM5.41 20L4 18.59l7.72-7.72 1.47 1.35L5.41 20z\"/>\n",
              "  </svg>\n",
              "      </button>\n",
              "      \n",
              "  <style>\n",
              "    .colab-df-container {\n",
              "      display:flex;\n",
              "      flex-wrap:wrap;\n",
              "      gap: 12px;\n",
              "    }\n",
              "\n",
              "    .colab-df-convert {\n",
              "      background-color: #E8F0FE;\n",
              "      border: none;\n",
              "      border-radius: 50%;\n",
              "      cursor: pointer;\n",
              "      display: none;\n",
              "      fill: #1967D2;\n",
              "      height: 32px;\n",
              "      padding: 0 0 0 0;\n",
              "      width: 32px;\n",
              "    }\n",
              "\n",
              "    .colab-df-convert:hover {\n",
              "      background-color: #E2EBFA;\n",
              "      box-shadow: 0px 1px 2px rgba(60, 64, 67, 0.3), 0px 1px 3px 1px rgba(60, 64, 67, 0.15);\n",
              "      fill: #174EA6;\n",
              "    }\n",
              "\n",
              "    [theme=dark] .colab-df-convert {\n",
              "      background-color: #3B4455;\n",
              "      fill: #D2E3FC;\n",
              "    }\n",
              "\n",
              "    [theme=dark] .colab-df-convert:hover {\n",
              "      background-color: #434B5C;\n",
              "      box-shadow: 0px 1px 3px 1px rgba(0, 0, 0, 0.15);\n",
              "      filter: drop-shadow(0px 1px 2px rgba(0, 0, 0, 0.3));\n",
              "      fill: #FFFFFF;\n",
              "    }\n",
              "  </style>\n",
              "\n",
              "      <script>\n",
              "        const buttonEl =\n",
              "          document.querySelector('#df-481afc4d-03da-4ad3-bc9f-9254c20f9a95 button.colab-df-convert');\n",
              "        buttonEl.style.display =\n",
              "          google.colab.kernel.accessAllowed ? 'block' : 'none';\n",
              "\n",
              "        async function convertToInteractive(key) {\n",
              "          const element = document.querySelector('#df-481afc4d-03da-4ad3-bc9f-9254c20f9a95');\n",
              "          const dataTable =\n",
              "            await google.colab.kernel.invokeFunction('convertToInteractive',\n",
              "                                                     [key], {});\n",
              "          if (!dataTable) return;\n",
              "\n",
              "          const docLinkHtml = 'Like what you see? Visit the ' +\n",
              "            '<a target=\"_blank\" href=https://colab.research.google.com/notebooks/data_table.ipynb>data table notebook</a>'\n",
              "            + ' to learn more about interactive tables.';\n",
              "          element.innerHTML = '';\n",
              "          dataTable['output_type'] = 'display_data';\n",
              "          await google.colab.output.renderOutput(dataTable, element);\n",
              "          const docLink = document.createElement('div');\n",
              "          docLink.innerHTML = docLinkHtml;\n",
              "          element.appendChild(docLink);\n",
              "        }\n",
              "      </script>\n",
              "    </div>\n",
              "  </div>\n",
              "  "
            ]
          },
          "metadata": {},
          "execution_count": 53
        }
      ]
    },
    {
      "cell_type": "code",
      "source": [
        "df['Customer ID'].nunique()"
      ],
      "metadata": {
        "id": "FB01PDiE9nuI",
        "colab": {
          "base_uri": "https://localhost:8080/"
        },
        "outputId": "8586e679-2bf0-445e-f9a9-2342e222151f"
      },
      "execution_count": 54,
      "outputs": [
        {
          "output_type": "execute_result",
          "data": {
            "text/plain": [
              "4314"
            ]
          },
          "metadata": {},
          "execution_count": 54
        }
      ]
    },
    {
      "cell_type": "code",
      "source": [
        "df['Invoice'].nunique()"
      ],
      "metadata": {
        "id": "OB83kvkF9xsH",
        "colab": {
          "base_uri": "https://localhost:8080/"
        },
        "outputId": "7580e0ac-1c3c-4338-e035-3832c178abb3"
      },
      "execution_count": 55,
      "outputs": [
        {
          "output_type": "execute_result",
          "data": {
            "text/plain": [
              "19215"
            ]
          },
          "metadata": {},
          "execution_count": 55
        }
      ]
    },
    {
      "cell_type": "markdown",
      "source": [
        "Recall that we have 19,215 unique transactions across 4,314 customers. This means that each invoice may have multiple stock codes (items)."
      ],
      "metadata": {
        "id": "KRK-_v7990Su"
      }
    },
    {
      "cell_type": "markdown",
      "source": [
        "### Recall: Number of Transactions per Customer"
      ],
      "metadata": {
        "id": "BJwr0hCX3pHU"
      }
    },
    {
      "cell_type": "code",
      "source": [
        "# group by Customer ID\n",
        "# it may be possible to have multiple stock codes in a single invoice\n",
        "# so we only count the unique Invoice.\n",
        "df_customers = df.groupby('Customer ID')['Invoice'].nunique()\n",
        "df_customers.head()"
      ],
      "metadata": {
        "id": "uY1r90y336LN",
        "colab": {
          "base_uri": "https://localhost:8080/"
        },
        "outputId": "29d2424e-1fe0-4872-d04a-e3adb4b2dca4"
      },
      "execution_count": 56,
      "outputs": [
        {
          "output_type": "execute_result",
          "data": {
            "text/plain": [
              "Customer ID\n",
              "12346    11\n",
              "12347     2\n",
              "12348     1\n",
              "12349     3\n",
              "12351     1\n",
              "Name: Invoice, dtype: int64"
            ]
          },
          "metadata": {},
          "execution_count": 56
        }
      ]
    },
    {
      "cell_type": "markdown",
      "source": [
        "#### Who are the loyal customers (most transactions)?"
      ],
      "metadata": {
        "id": "vn-P1_uU4JcW"
      }
    },
    {
      "cell_type": "code",
      "source": [
        "fig, ax = plt.subplots(figsize=(12, 7))\n",
        "df_customers.sort_values(ascending=True).tail(10).plot(kind='barh', ax=ax)\n",
        "ax.set_title('Top 10 Customers by Count of Transactions')\n",
        "ax.set_xlabel('Count of Transactions')"
      ],
      "metadata": {
        "id": "EUscyBF6yvXG",
        "colab": {
          "base_uri": "https://localhost:8080/",
          "height": 658
        },
        "outputId": "aa9d173e-5bf1-48c0-8dea-59d9a30bc8f4"
      },
      "execution_count": 57,
      "outputs": [
        {
          "output_type": "execute_result",
          "data": {
            "text/plain": [
              "Text(0.5, 0, 'Count of Transactions')"
            ]
          },
          "metadata": {},
          "execution_count": 57
        },
        {
          "output_type": "display_data",
          "data": {
            "text/plain": [
              "<Figure size 1200x700 with 1 Axes>"
            ],
            "image/png": "[encoded data removed]"
          },
          "metadata": {}
        }
      ]
    },
    {
      "cell_type": "markdown",
      "source": [
        "From the plot above, we see that our top 10 customers have at least 80 transactions over the range of our dataset (01/12/2009 to 09/12/2011). Our top customer has more than 200 transactions!"
      ],
      "metadata": {
        "id": "ZRyRzPmd4qPR"
      }
    },
    {
      "cell_type": "markdown",
      "source": [
        "#### What is the distribution of our customer transactions?"
      ],
      "metadata": {
        "id": "WssuFqeJ5OsO"
      }
    },
    {
      "cell_type": "code",
      "source": [
        "fig, ax = plt.subplots(figsize=(12, 7))\n",
        "df_customers.plot(kind='hist', ax=ax, bins=100)\n",
        "ax.set_title('Distribution of Number of Transactions per Customer')\n",
        "ax.set_xlabel('Count of Transactions')\n",
        "ax.set_ylabel('Count of Customers')"
      ],
      "metadata": {
        "id": "ChcItLWy3wRS",
        "colab": {
          "base_uri": "https://localhost:8080/",
          "height": 658
        },
        "outputId": "577cc062-4c7d-47ed-dcb2-d0ebc8392500"
      },
      "execution_count": 58,
      "outputs": [
        {
          "output_type": "execute_result",
          "data": {
            "text/plain": [
              "Text(0, 0.5, 'Count of Customers')"
            ]
          },
          "metadata": {},
          "execution_count": 58
        },
        {
          "output_type": "display_data",
          "data": {
            "text/plain": [
              "<Figure size 1200x700 with 1 Axes>"
            ],
            "image/png": "[encoded data removed]"
          },
          "metadata": {}
        }
      ]
    },
    {
      "cell_type": "markdown",
      "source": [
        "The histogram shows the distribution of our customer transactions. The leftmost bars indicate that we have a large number of customers (>2,500) with only a few transactions (least loyal). We also see some smaller bars in the right tail which tells us that we have a small number of customers with a large number of transactions (most loyal)."
      ],
      "metadata": {
        "id": "ISEUwa_s52zS"
      }
    },
    {
      "cell_type": "markdown",
      "source": [
        "### Revenue per Customer\n",
        "\n",
        "To get the total revenue per customer, we need to add a total amount column (quantity x unit price). We can then change our aggregate function to its' sum instead of the count of unique transactions."
      ],
      "metadata": {
        "id": "vb83zKxrW8UM"
      }
    },
    {
      "cell_type": "code",
      "source": [
        "# create a total_amount column\n",
        "df['total_amount'] = df['Quantity'] * df['Price']\n",
        "df.head()"
      ],
      "metadata": {
        "id": "v2-3WE3PXaaD",
        "colab": {
          "base_uri": "https://localhost:8080/",
          "height": 206
        },
        "outputId": "ff560e2b-924e-483d-c44a-867158ab9ef3"
      },
      "execution_count": 59,
      "outputs": [
        {
          "output_type": "execute_result",
          "data": {
            "text/plain": [
              "  Invoice StockCode                          Description  Quantity  \\\n",
              "0  489434     85048  15CM CHRISTMAS GLASS BALL 20 LIGHTS        12   \n",
              "1  489434    79323P                   PINK CHERRY LIGHTS        12   \n",
              "2  489434    79323W                  WHITE CHERRY LIGHTS        12   \n",
              "3  489434     22041         RECORD FRAME 7\" SINGLE SIZE         48   \n",
              "4  489434     21232       STRAWBERRY CERAMIC TRINKET BOX        24   \n",
              "\n",
              "          InvoiceDate  Price Customer ID         Country  total_amount  \n",
              "0 2009-12-01 07:45:00   6.95       13085  United Kingdom          83.4  \n",
              "1 2009-12-01 07:45:00   6.75       13085  United Kingdom          81.0  \n",
              "2 2009-12-01 07:45:00   6.75       13085  United Kingdom          81.0  \n",
              "3 2009-12-01 07:45:00   2.10       13085  United Kingdom         100.8  \n",
              "4 2009-12-01 07:45:00   1.25       13085  United Kingdom          30.0  "
            ],
            "text/html": [
              "\n",
              "  <div id=\"df-03dd6fea-237b-4146-8037-03863f0a3552\">\n",
              "    <div class=\"colab-df-container\">\n",
              "      <div>\n",
              "<style scoped>\n",
              "    .dataframe tbody tr th:only-of-type {\n",
              "        vertical-align: middle;\n",
              "    }\n",
              "\n",
              "    .dataframe tbody tr th {\n",
              "        vertical-align: top;\n",
              "    }\n",
              "\n",
              "    .dataframe thead th {\n",
              "        text-align: right;\n",
              "    }\n",
              "</style>\n",
              "<table border=\"1\" class=\"dataframe\">\n",
              "  <thead>\n",
              "    <tr style=\"text-align: right;\">\n",
              "      <th></th>\n",
              "      <th>Invoice</th>\n",
              "      <th>StockCode</th>\n",
              "      <th>Description</th>\n",
              "      <th>Quantity</th>\n",
              "      <th>InvoiceDate</th>\n",
              "      <th>Price</th>\n",
              "      <th>Customer ID</th>\n",
              "      <th>Country</th>\n",
              "      <th>total_amount</th>\n",
              "    </tr>\n",
              "  </thead>\n",
              "  <tbody>\n",
              "    <tr>\n",
              "      <th>0</th>\n",
              "      <td>489434</td>\n",
              "      <td>85048</td>\n",
              "      <td>15CM CHRISTMAS GLASS BALL 20 LIGHTS</td>\n",
              "      <td>12</td>\n",
              "      <td>2009-12-01 07:45:00</td>\n",
              "      <td>6.95</td>\n",
              "      <td>13085</td>\n",
              "      <td>United Kingdom</td>\n",
              "      <td>83.4</td>\n",
              "    </tr>\n",
              "    <tr>\n",
              "      <th>1</th>\n",
              "      <td>489434</td>\n",
              "      <td>79323P</td>\n",
              "      <td>PINK CHERRY LIGHTS</td>\n",
              "      <td>12</td>\n",
              "      <td>2009-12-01 07:45:00</td>\n",
              "      <td>6.75</td>\n",
              "      <td>13085</td>\n",
              "      <td>United Kingdom</td>\n",
              "      <td>81.0</td>\n",
              "    </tr>\n",
              "    <tr>\n",
              "      <th>2</th>\n",
              "      <td>489434</td>\n",
              "      <td>79323W</td>\n",
              "      <td>WHITE CHERRY LIGHTS</td>\n",
              "      <td>12</td>\n",
              "      <td>2009-12-01 07:45:00</td>\n",
              "      <td>6.75</td>\n",
              "      <td>13085</td>\n",
              "      <td>United Kingdom</td>\n",
              "      <td>81.0</td>\n",
              "    </tr>\n",
              "    <tr>\n",
              "      <th>3</th>\n",
              "      <td>489434</td>\n",
              "      <td>22041</td>\n",
              "      <td>RECORD FRAME 7\" SINGLE SIZE</td>\n",
              "      <td>48</td>\n",
              "      <td>2009-12-01 07:45:00</td>\n",
              "      <td>2.10</td>\n",
              "      <td>13085</td>\n",
              "      <td>United Kingdom</td>\n",
              "      <td>100.8</td>\n",
              "    </tr>\n",
              "    <tr>\n",
              "      <th>4</th>\n",
              "      <td>489434</td>\n",
              "      <td>21232</td>\n",
              "      <td>STRAWBERRY CERAMIC TRINKET BOX</td>\n",
              "      <td>24</td>\n",
              "      <td>2009-12-01 07:45:00</td>\n",
              "      <td>1.25</td>\n",
              "      <td>13085</td>\n",
              "      <td>United Kingdom</td>\n",
              "      <td>30.0</td>\n",
              "    </tr>\n",
              "  </tbody>\n",
              "</table>\n",
              "</div>\n",
              "      <button class=\"colab-df-convert\" onclick=\"convertToInteractive('df-03dd6fea-237b-4146-8037-03863f0a3552')\"\n",
              "              title=\"Convert this dataframe to an interactive table.\"\n",
              "              style=\"display:none;\">\n",
              "        \n",
              "  <svg xmlns=\"http://www.w3.org/2000/svg\" height=\"24px\"viewBox=\"0 0 24 24\"\n",
              "       width=\"24px\">\n",
              "    <path d=\"M0 0h24v24H0V0z\" fill=\"none\"/>\n",
              "    <path d=\"M18.56 5.44l.94 2.06.94-2.06 2.06-.94-2.06-.94-.94-2.06-.94 2.06-2.06.94zm-11 1L8.5 8.5l.94-2.06 2.06-.94-2.06-.94L8.5 2.5l-.94 2.06-2.06.94zm10 10l.94 2.06.94-2.06 2.06-.94-2.06-.94-.94-2.06-.94 2.06-2.06.94z\"/><path d=\"M17.41 7.96l-1.37-1.37c-.4-.4-.92-.59-1.43-.59-.52 0-1.04.2-1.43.59L10.3 9.45l-7.72 7.72c-.78.78-.78 2.05 0 2.83L4 21.41c.39.39.9.59 1.41.59.51 0 1.02-.2 1.41-.59l7.78-7.78 2.81-2.81c.8-.78.8-2.07 0-2.86zM5.41 20L4 18.59l7.72-7.72 1.47 1.35L5.41 20z\"/>\n",
              "  </svg>\n",
              "      </button>\n",
              "      \n",
              "  <style>\n",
              "    .colab-df-container {\n",
              "      display:flex;\n",
              "      flex-wrap:wrap;\n",
              "      gap: 12px;\n",
              "    }\n",
              "\n",
              "    .colab-df-convert {\n",
              "      background-color: #E8F0FE;\n",
              "      border: none;\n",
              "      border-radius: 50%;\n",
              "      cursor: pointer;\n",
              "      display: none;\n",
              "      fill: #1967D2;\n",
              "      height: 32px;\n",
              "      padding: 0 0 0 0;\n",
              "      width: 32px;\n",
              "    }\n",
              "\n",
              "    .colab-df-convert:hover {\n",
              "      background-color: #E2EBFA;\n",
              "      box-shadow: 0px 1px 2px rgba(60, 64, 67, 0.3), 0px 1px 3px 1px rgba(60, 64, 67, 0.15);\n",
              "      fill: #174EA6;\n",
              "    }\n",
              "\n",
              "    [theme=dark] .colab-df-convert {\n",
              "      background-color: #3B4455;\n",
              "      fill: #D2E3FC;\n",
              "    }\n",
              "\n",
              "    [theme=dark] .colab-df-convert:hover {\n",
              "      background-color: #434B5C;\n",
              "      box-shadow: 0px 1px 3px 1px rgba(0, 0, 0, 0.15);\n",
              "      filter: drop-shadow(0px 1px 2px rgba(0, 0, 0, 0.3));\n",
              "      fill: #FFFFFF;\n",
              "    }\n",
              "  </style>\n",
              "\n",
              "      <script>\n",
              "        const buttonEl =\n",
              "          document.querySelector('#df-03dd6fea-237b-4146-8037-03863f0a3552 button.colab-df-convert');\n",
              "        buttonEl.style.display =\n",
              "          google.colab.kernel.accessAllowed ? 'block' : 'none';\n",
              "\n",
              "        async function convertToInteractive(key) {\n",
              "          const element = document.querySelector('#df-03dd6fea-237b-4146-8037-03863f0a3552');\n",
              "          const dataTable =\n",
              "            await google.colab.kernel.invokeFunction('convertToInteractive',\n",
              "                                                     [key], {});\n",
              "          if (!dataTable) return;\n",
              "\n",
              "          const docLinkHtml = 'Like what you see? Visit the ' +\n",
              "            '<a target=\"_blank\" href=https://colab.research.google.com/notebooks/data_table.ipynb>data table notebook</a>'\n",
              "            + ' to learn more about interactive tables.';\n",
              "          element.innerHTML = '';\n",
              "          dataTable['output_type'] = 'display_data';\n",
              "          await google.colab.output.renderOutput(dataTable, element);\n",
              "          const docLink = document.createElement('div');\n",
              "          docLink.innerHTML = docLinkHtml;\n",
              "          element.appendChild(docLink);\n",
              "        }\n",
              "      </script>\n",
              "    </div>\n",
              "  </div>\n",
              "  "
            ]
          },
          "metadata": {},
          "execution_count": 59
        }
      ]
    },
    {
      "cell_type": "code",
      "source": [
        "# group by Customer ID\n",
        "# get the sum of total_amount\n",
        "df_customers = df.groupby('Customer ID')['total_amount'].sum()\n",
        "df_customers.head()"
      ],
      "metadata": {
        "id": "ie43gdrJW4m7",
        "colab": {
          "base_uri": "https://localhost:8080/"
        },
        "outputId": "eba19278-5d97-409e-cf5a-d56a80f11657"
      },
      "execution_count": 60,
      "outputs": [
        {
          "output_type": "execute_result",
          "data": {
            "text/plain": [
              "Customer ID\n",
              "12346     372.86\n",
              "12347    1323.32\n",
              "12348     222.16\n",
              "12349    2671.14\n",
              "12351     300.93\n",
              "Name: total_amount, dtype: float64"
            ]
          },
          "metadata": {},
          "execution_count": 60
        }
      ]
    },
    {
      "cell_type": "markdown",
      "source": [
        "#### Who are the top spenders?"
      ],
      "metadata": {
        "id": "qL_Nnus8YXEe"
      }
    },
    {
      "cell_type": "code",
      "source": [
        "fig, ax = plt.subplots(figsize=(12, 7))\n",
        "df_customers.sort_values(ascending=True).tail(10).plot(kind='barh', ax=ax)\n",
        "ax.set_title('Top 10 Customers by Total Amount Spent')\n",
        "ax.set_xlabel('Total Amount Spent')"
      ],
      "metadata": {
        "id": "o-0l1921XoNm",
        "colab": {
          "base_uri": "https://localhost:8080/",
          "height": 658
        },
        "outputId": "8277691c-7924-46f9-88b8-932daf4e9df9"
      },
      "execution_count": 61,
      "outputs": [
        {
          "output_type": "execute_result",
          "data": {
            "text/plain": [
              "Text(0.5, 0, 'Total Amount Spent')"
            ]
          },
          "metadata": {},
          "execution_count": 61
        },
        {
          "output_type": "display_data",
          "data": {
            "text/plain": [
              "<Figure size 1200x700 with 1 Axes>"
            ],
            "image/png": "[encoded data removed]"
          },
          "metadata": {}
        }
      ]
    },
    {
      "cell_type": "markdown",
      "source": [
        "Notice that our top spenders are not necessarily the most loyal (customer 18102 is the top spender but only top 10 with the most number of transactions). There is also a large gap between the amount spent - could be because most customers are wholesalers."
      ],
      "metadata": {
        "id": "5wW6I3iDYibq"
      }
    },
    {
      "cell_type": "markdown",
      "source": [
        "#### What is the distribution of customer spending?"
      ],
      "metadata": {
        "id": "TWdXHyonY8a4"
      }
    },
    {
      "cell_type": "code",
      "source": [
        "fig, ax = plt.subplots(figsize=(12, 7))\n",
        "df_customers.plot(kind='hist', ax=ax, bins=100)\n",
        "ax.set_title('Distribution of Total Amount Spent per Customer')\n",
        "ax.set_xlabel('Total Amount Spent')\n",
        "ax.set_ylabel('Count of Customers')"
      ],
      "metadata": {
        "id": "8XdYaHj2Y6b2",
        "colab": {
          "base_uri": "https://localhost:8080/",
          "height": 658
        },
        "outputId": "6b5935ac-39a3-439d-8875-e819de727deb"
      },
      "execution_count": 62,
      "outputs": [
        {
          "output_type": "execute_result",
          "data": {
            "text/plain": [
              "Text(0, 0.5, 'Count of Customers')"
            ]
          },
          "metadata": {},
          "execution_count": 62
        },
        {
          "output_type": "display_data",
          "data": {
            "text/plain": [
              "<Figure size 1200x700 with 1 Axes>"
            ],
            "image/png": "[encoded data removed]"
          },
          "metadata": {}
        }
      ]
    },
    {
      "cell_type": "markdown",
      "source": [
        "Similarly, the distribution of total amount spent is also skewed towards the lower range. The leftmost bars indicate that we have a large number of customers (>3,500) with small spending (<50,000). We also see some smaller bars in the right tail which tells us that we have a small number of customers with large spending (>50,000)."
      ],
      "metadata": {
        "id": "WqIQ-DIAZHlQ"
      }
    },
    {
      "cell_type": "markdown",
      "source": [
        "### Monthly Revenue"
      ],
      "metadata": {
        "id": "pnT0VqSR6VGW"
      }
    },
    {
      "cell_type": "code",
      "source": [
        "df['Year'] = df['InvoiceDate'].dt.year\n",
        "df['Month'] = df['InvoiceDate'].dt.month"
      ],
      "metadata": {
        "id": "sHX11s_i5aDl"
      },
      "execution_count": 63,
      "outputs": []
    },
    {
      "cell_type": "code",
      "source": [
        "df.head()"
      ],
      "metadata": {
        "id": "TRrDMhGIH7HY",
        "colab": {
          "base_uri": "https://localhost:8080/",
          "height": 206
        },
        "outputId": "50ebdc81-fb90-4f18-8001-a6f3e14a8b3b"
      },
      "execution_count": 64,
      "outputs": [
        {
          "output_type": "execute_result",
          "data": {
            "text/plain": [
              "  Invoice StockCode                          Description  Quantity  \\\n",
              "0  489434     85048  15CM CHRISTMAS GLASS BALL 20 LIGHTS        12   \n",
              "1  489434    79323P                   PINK CHERRY LIGHTS        12   \n",
              "2  489434    79323W                  WHITE CHERRY LIGHTS        12   \n",
              "3  489434     22041         RECORD FRAME 7\" SINGLE SIZE         48   \n",
              "4  489434     21232       STRAWBERRY CERAMIC TRINKET BOX        24   \n",
              "\n",
              "          InvoiceDate  Price Customer ID         Country  total_amount  Year  \\\n",
              "0 2009-12-01 07:45:00   6.95       13085  United Kingdom          83.4  2009   \n",
              "1 2009-12-01 07:45:00   6.75       13085  United Kingdom          81.0  2009   \n",
              "2 2009-12-01 07:45:00   6.75       13085  United Kingdom          81.0  2009   \n",
              "3 2009-12-01 07:45:00   2.10       13085  United Kingdom         100.8  2009   \n",
              "4 2009-12-01 07:45:00   1.25       13085  United Kingdom          30.0  2009   \n",
              "\n",
              "   Month  \n",
              "0     12  \n",
              "1     12  \n",
              "2     12  \n",
              "3     12  \n",
              "4     12  "
            ],
            "text/html": [
              "\n",
              "  <div id=\"df-45421398-d26a-4eda-b1f1-e0d140b79090\">\n",
              "    <div class=\"colab-df-container\">\n",
              "      <div>\n",
              "<style scoped>\n",
              "    .dataframe tbody tr th:only-of-type {\n",
              "        vertical-align: middle;\n",
              "    }\n",
              "\n",
              "    .dataframe tbody tr th {\n",
              "        vertical-align: top;\n",
              "    }\n",
              "\n",
              "    .dataframe thead th {\n",
              "        text-align: right;\n",
              "    }\n",
              "</style>\n",
              "<table border=\"1\" class=\"dataframe\">\n",
              "  <thead>\n",
              "    <tr style=\"text-align: right;\">\n",
              "      <th></th>\n",
              "      <th>Invoice</th>\n",
              "      <th>StockCode</th>\n",
              "      <th>Description</th>\n",
              "      <th>Quantity</th>\n",
              "      <th>InvoiceDate</th>\n",
              "      <th>Price</th>\n",
              "      <th>Customer ID</th>\n",
              "      <th>Country</th>\n",
              "      <th>total_amount</th>\n",
              "      <th>Year</th>\n",
              "      <th>Month</th>\n",
              "    </tr>\n",
              "  </thead>\n",
              "  <tbody>\n",
              "    <tr>\n",
              "      <th>0</th>\n",
              "      <td>489434</td>\n",
              "      <td>85048</td>\n",
              "      <td>15CM CHRISTMAS GLASS BALL 20 LIGHTS</td>\n",
              "      <td>12</td>\n",
              "      <td>2009-12-01 07:45:00</td>\n",
              "      <td>6.95</td>\n",
              "      <td>13085</td>\n",
              "      <td>United Kingdom</td>\n",
              "      <td>83.4</td>\n",
              "      <td>2009</td>\n",
              "      <td>12</td>\n",
              "    </tr>\n",
              "    <tr>\n",
              "      <th>1</th>\n",
              "      <td>489434</td>\n",
              "      <td>79323P</td>\n",
              "      <td>PINK CHERRY LIGHTS</td>\n",
              "      <td>12</td>\n",
              "      <td>2009-12-01 07:45:00</td>\n",
              "      <td>6.75</td>\n",
              "      <td>13085</td>\n",
              "      <td>United Kingdom</td>\n",
              "      <td>81.0</td>\n",
              "      <td>2009</td>\n",
              "      <td>12</td>\n",
              "    </tr>\n",
              "    <tr>\n",
              "      <th>2</th>\n",
              "      <td>489434</td>\n",
              "      <td>79323W</td>\n",
              "      <td>WHITE CHERRY LIGHTS</td>\n",
              "      <td>12</td>\n",
              "      <td>2009-12-01 07:45:00</td>\n",
              "      <td>6.75</td>\n",
              "      <td>13085</td>\n",
              "      <td>United Kingdom</td>\n",
              "      <td>81.0</td>\n",
              "      <td>2009</td>\n",
              "      <td>12</td>\n",
              "    </tr>\n",
              "    <tr>\n",
              "      <th>3</th>\n",
              "      <td>489434</td>\n",
              "      <td>22041</td>\n",
              "      <td>RECORD FRAME 7\" SINGLE SIZE</td>\n",
              "      <td>48</td>\n",
              "      <td>2009-12-01 07:45:00</td>\n",
              "      <td>2.10</td>\n",
              "      <td>13085</td>\n",
              "      <td>United Kingdom</td>\n",
              "      <td>100.8</td>\n",
              "      <td>2009</td>\n",
              "      <td>12</td>\n",
              "    </tr>\n",
              "    <tr>\n",
              "      <th>4</th>\n",
              "      <td>489434</td>\n",
              "      <td>21232</td>\n",
              "      <td>STRAWBERRY CERAMIC TRINKET BOX</td>\n",
              "      <td>24</td>\n",
              "      <td>2009-12-01 07:45:00</td>\n",
              "      <td>1.25</td>\n",
              "      <td>13085</td>\n",
              "      <td>United Kingdom</td>\n",
              "      <td>30.0</td>\n",
              "      <td>2009</td>\n",
              "      <td>12</td>\n",
              "    </tr>\n",
              "  </tbody>\n",
              "</table>\n",
              "</div>\n",
              "      <button class=\"colab-df-convert\" onclick=\"convertToInteractive('df-45421398-d26a-4eda-b1f1-e0d140b79090')\"\n",
              "              title=\"Convert this dataframe to an interactive table.\"\n",
              "              style=\"display:none;\">\n",
              "        \n",
              "  <svg xmlns=\"http://www.w3.org/2000/svg\" height=\"24px\"viewBox=\"0 0 24 24\"\n",
              "       width=\"24px\">\n",
              "    <path d=\"M0 0h24v24H0V0z\" fill=\"none\"/>\n",
              "    <path d=\"M18.56 5.44l.94 2.06.94-2.06 2.06-.94-2.06-.94-.94-2.06-.94 2.06-2.06.94zm-11 1L8.5 8.5l.94-2.06 2.06-.94-2.06-.94L8.5 2.5l-.94 2.06-2.06.94zm10 10l.94 2.06.94-2.06 2.06-.94-2.06-.94-.94-2.06-.94 2.06-2.06.94z\"/><path d=\"M17.41 7.96l-1.37-1.37c-.4-.4-.92-.59-1.43-.59-.52 0-1.04.2-1.43.59L10.3 9.45l-7.72 7.72c-.78.78-.78 2.05 0 2.83L4 21.41c.39.39.9.59 1.41.59.51 0 1.02-.2 1.41-.59l7.78-7.78 2.81-2.81c.8-.78.8-2.07 0-2.86zM5.41 20L4 18.59l7.72-7.72 1.47 1.35L5.41 20z\"/>\n",
              "  </svg>\n",
              "      </button>\n",
              "      \n",
              "  <style>\n",
              "    .colab-df-container {\n",
              "      display:flex;\n",
              "      flex-wrap:wrap;\n",
              "      gap: 12px;\n",
              "    }\n",
              "\n",
              "    .colab-df-convert {\n",
              "      background-color: #E8F0FE;\n",
              "      border: none;\n",
              "      border-radius: 50%;\n",
              "      cursor: pointer;\n",
              "      display: none;\n",
              "      fill: #1967D2;\n",
              "      height: 32px;\n",
              "      padding: 0 0 0 0;\n",
              "      width: 32px;\n",
              "    }\n",
              "\n",
              "    .colab-df-convert:hover {\n",
              "      background-color: #E2EBFA;\n",
              "      box-shadow: 0px 1px 2px rgba(60, 64, 67, 0.3), 0px 1px 3px 1px rgba(60, 64, 67, 0.15);\n",
              "      fill: #174EA6;\n",
              "    }\n",
              "\n",
              "    [theme=dark] .colab-df-convert {\n",
              "      background-color: #3B4455;\n",
              "      fill: #D2E3FC;\n",
              "    }\n",
              "\n",
              "    [theme=dark] .colab-df-convert:hover {\n",
              "      background-color: #434B5C;\n",
              "      box-shadow: 0px 1px 3px 1px rgba(0, 0, 0, 0.15);\n",
              "      filter: drop-shadow(0px 1px 2px rgba(0, 0, 0, 0.3));\n",
              "      fill: #FFFFFF;\n",
              "    }\n",
              "  </style>\n",
              "\n",
              "      <script>\n",
              "        const buttonEl =\n",
              "          document.querySelector('#df-45421398-d26a-4eda-b1f1-e0d140b79090 button.colab-df-convert');\n",
              "        buttonEl.style.display =\n",
              "          google.colab.kernel.accessAllowed ? 'block' : 'none';\n",
              "\n",
              "        async function convertToInteractive(key) {\n",
              "          const element = document.querySelector('#df-45421398-d26a-4eda-b1f1-e0d140b79090');\n",
              "          const dataTable =\n",
              "            await google.colab.kernel.invokeFunction('convertToInteractive',\n",
              "                                                     [key], {});\n",
              "          if (!dataTable) return;\n",
              "\n",
              "          const docLinkHtml = 'Like what you see? Visit the ' +\n",
              "            '<a target=\"_blank\" href=https://colab.research.google.com/notebooks/data_table.ipynb>data table notebook</a>'\n",
              "            + ' to learn more about interactive tables.';\n",
              "          element.innerHTML = '';\n",
              "          dataTable['output_type'] = 'display_data';\n",
              "          await google.colab.output.renderOutput(dataTable, element);\n",
              "          const docLink = document.createElement('div');\n",
              "          docLink.innerHTML = docLinkHtml;\n",
              "          element.appendChild(docLink);\n",
              "        }\n",
              "      </script>\n",
              "    </div>\n",
              "  </div>\n",
              "  "
            ]
          },
          "metadata": {},
          "execution_count": 64
        }
      ]
    },
    {
      "cell_type": "code",
      "source": [
        "df_monthly = df.groupby(['Year', 'Month'])['total_amount'].sum()\n",
        "df_monthly"
      ],
      "metadata": {
        "id": "gUcTHwoc6dBz",
        "colab": {
          "base_uri": "https://localhost:8080/"
        },
        "outputId": "9db65133-8d86-44b7-efa6-131a4f3a9800"
      },
      "execution_count": 65,
      "outputs": [
        {
          "output_type": "execute_result",
          "data": {
            "text/plain": [
              "Year  Month\n",
              "2009  12        686654.160\n",
              "2010  1         557319.062\n",
              "      2         506371.066\n",
              "      3         699608.991\n",
              "      4         594609.192\n",
              "      5         599985.790\n",
              "      6         639066.580\n",
              "      7         591636.740\n",
              "      8         604242.650\n",
              "      9         831615.001\n",
              "      10       1036680.000\n",
              "      11       1172336.042\n",
              "      12        311878.000\n",
              "Name: total_amount, dtype: float64"
            ]
          },
          "metadata": {},
          "execution_count": 65
        }
      ]
    },
    {
      "cell_type": "code",
      "source": [
        "fig, ax = plt.subplots(figsize=(12, 7))\n",
        "df_monthly.plot(ax=ax)\n",
        "ax.set_title('Monthly Revenue')\n",
        "ax.set_xlabel('Month')\n",
        "ax.set_ylabel('Total Revenue')"
      ],
      "metadata": {
        "id": "rx5WVO2d6k-2",
        "colab": {
          "base_uri": "https://localhost:8080/",
          "height": 658
        },
        "outputId": "b1cb6077-4a17-4983-a849-c279457bad58"
      },
      "execution_count": 66,
      "outputs": [
        {
          "output_type": "execute_result",
          "data": {
            "text/plain": [
              "Text(0, 0.5, 'Total Revenue')"
            ]
          },
          "metadata": {},
          "execution_count": 66
        },
        {
          "output_type": "display_data",
          "data": {
            "text/plain": [
              "<Figure size 1200x700 with 1 Axes>"
            ],
            "image/png": "[encoded data removed]"
          },
          "metadata": {}
        }
      ]
    },
    {
      "cell_type": "markdown",
      "source": [
        "Looking at the monthly revenue, observe that we now have a larger increase towards the end of the year. This supports our previous observation that some customers are seasonal and they would tend to purchase towards the end of the year (Christmas season)."
      ],
      "metadata": {
        "id": "ejxXtqPN7F-y"
      }
    },
    {
      "cell_type": "markdown",
      "source": [
        "## RFM Analysis\n",
        "\n",
        "We can now proceed with the RFM Analysis.\n",
        "\n",
        "In this case, we need to set a \"current date\" for our recency calculations. Let's assume that our current date is 1 day after the latest in our dataset. In actual application, we can use the actual current date as long as the dataset is also updated."
      ],
      "metadata": {
        "id": "MIsi3eiW8IBM"
      }
    },
    {
      "cell_type": "markdown",
      "source": [
        "Let's define the current date. To work with dates in python, we need to import the [datetime](https://docs.python.org/3/library/datetime.html) module. It has a timedelta function which is used to add or subtract different time intervals (days, weeks, months, etc.)"
      ],
      "metadata": {
        "id": "mIxdQUku9OiB"
      }
    },
    {
      "cell_type": "code",
      "source": [
        "import datetime\n",
        "\n",
        "latest_invoice_date = df['InvoiceDate'].max()\n",
        "current_date = latest_invoice_date + datetime.timedelta(days=1)\n",
        "latest_invoice_date, current_date"
      ],
      "metadata": {
        "id": "ONiVdUit7CDM",
        "colab": {
          "base_uri": "https://localhost:8080/"
        },
        "outputId": "1615b230-61f5-4d80-b970-38b4557a0dd0"
      },
      "execution_count": 67,
      "outputs": [
        {
          "output_type": "execute_result",
          "data": {
            "text/plain": [
              "(Timestamp('2010-12-09 20:01:00'), Timestamp('2010-12-10 20:01:00'))"
            ]
          },
          "metadata": {},
          "execution_count": 67
        }
      ]
    },
    {
      "cell_type": "markdown",
      "source": [
        "Our latest invoice date is on December 9, 2010. We set our current date to December 10, 2010. We can now proceed to calculate our recency, frequency, and monetary values."
      ],
      "metadata": {
        "id": "rN7RkVZi-SdJ"
      }
    },
    {
      "cell_type": "code",
      "source": [
        "df.head()"
      ],
      "metadata": {
        "id": "ok4j1NxHc_RD",
        "colab": {
          "base_uri": "https://localhost:8080/",
          "height": 206
        },
        "outputId": "dbb1c5a0-72bc-4bb9-a0c7-bfb31c916092"
      },
      "execution_count": 68,
      "outputs": [
        {
          "output_type": "execute_result",
          "data": {
            "text/plain": [
              "  Invoice StockCode                          Description  Quantity  \\\n",
              "0  489434     85048  15CM CHRISTMAS GLASS BALL 20 LIGHTS        12   \n",
              "1  489434    79323P                   PINK CHERRY LIGHTS        12   \n",
              "2  489434    79323W                  WHITE CHERRY LIGHTS        12   \n",
              "3  489434     22041         RECORD FRAME 7\" SINGLE SIZE         48   \n",
              "4  489434     21232       STRAWBERRY CERAMIC TRINKET BOX        24   \n",
              "\n",
              "          InvoiceDate  Price Customer ID         Country  total_amount  Year  \\\n",
              "0 2009-12-01 07:45:00   6.95       13085  United Kingdom          83.4  2009   \n",
              "1 2009-12-01 07:45:00   6.75       13085  United Kingdom          81.0  2009   \n",
              "2 2009-12-01 07:45:00   6.75       13085  United Kingdom          81.0  2009   \n",
              "3 2009-12-01 07:45:00   2.10       13085  United Kingdom         100.8  2009   \n",
              "4 2009-12-01 07:45:00   1.25       13085  United Kingdom          30.0  2009   \n",
              "\n",
              "   Month  \n",
              "0     12  \n",
              "1     12  \n",
              "2     12  \n",
              "3     12  \n",
              "4     12  "
            ],
            "text/html": [
              "\n",
              "  <div id=\"df-ac5531f1-9275-4d58-8839-ccb3b633fa45\">\n",
              "    <div class=\"colab-df-container\">\n",
              "      <div>\n",
              "<style scoped>\n",
              "    .dataframe tbody tr th:only-of-type {\n",
              "        vertical-align: middle;\n",
              "    }\n",
              "\n",
              "    .dataframe tbody tr th {\n",
              "        vertical-align: top;\n",
              "    }\n",
              "\n",
              "    .dataframe thead th {\n",
              "        text-align: right;\n",
              "    }\n",
              "</style>\n",
              "<table border=\"1\" class=\"dataframe\">\n",
              "  <thead>\n",
              "    <tr style=\"text-align: right;\">\n",
              "      <th></th>\n",
              "      <th>Invoice</th>\n",
              "      <th>StockCode</th>\n",
              "      <th>Description</th>\n",
              "      <th>Quantity</th>\n",
              "      <th>InvoiceDate</th>\n",
              "      <th>Price</th>\n",
              "      <th>Customer ID</th>\n",
              "      <th>Country</th>\n",
              "      <th>total_amount</th>\n",
              "      <th>Year</th>\n",
              "      <th>Month</th>\n",
              "    </tr>\n",
              "  </thead>\n",
              "  <tbody>\n",
              "    <tr>\n",
              "      <th>0</th>\n",
              "      <td>489434</td>\n",
              "      <td>85048</td>\n",
              "      <td>15CM CHRISTMAS GLASS BALL 20 LIGHTS</td>\n",
              "      <td>12</td>\n",
              "      <td>2009-12-01 07:45:00</td>\n",
              "      <td>6.95</td>\n",
              "      <td>13085</td>\n",
              "      <td>United Kingdom</td>\n",
              "      <td>83.4</td>\n",
              "      <td>2009</td>\n",
              "      <td>12</td>\n",
              "    </tr>\n",
              "    <tr>\n",
              "      <th>1</th>\n",
              "      <td>489434</td>\n",
              "      <td>79323P</td>\n",
              "      <td>PINK CHERRY LIGHTS</td>\n",
              "      <td>12</td>\n",
              "      <td>2009-12-01 07:45:00</td>\n",
              "      <td>6.75</td>\n",
              "      <td>13085</td>\n",
              "      <td>United Kingdom</td>\n",
              "      <td>81.0</td>\n",
              "      <td>2009</td>\n",
              "      <td>12</td>\n",
              "    </tr>\n",
              "    <tr>\n",
              "      <th>2</th>\n",
              "      <td>489434</td>\n",
              "      <td>79323W</td>\n",
              "      <td>WHITE CHERRY LIGHTS</td>\n",
              "      <td>12</td>\n",
              "      <td>2009-12-01 07:45:00</td>\n",
              "      <td>6.75</td>\n",
              "      <td>13085</td>\n",
              "      <td>United Kingdom</td>\n",
              "      <td>81.0</td>\n",
              "      <td>2009</td>\n",
              "      <td>12</td>\n",
              "    </tr>\n",
              "    <tr>\n",
              "      <th>3</th>\n",
              "      <td>489434</td>\n",
              "      <td>22041</td>\n",
              "      <td>RECORD FRAME 7\" SINGLE SIZE</td>\n",
              "      <td>48</td>\n",
              "      <td>2009-12-01 07:45:00</td>\n",
              "      <td>2.10</td>\n",
              "      <td>13085</td>\n",
              "      <td>United Kingdom</td>\n",
              "      <td>100.8</td>\n",
              "      <td>2009</td>\n",
              "      <td>12</td>\n",
              "    </tr>\n",
              "    <tr>\n",
              "      <th>4</th>\n",
              "      <td>489434</td>\n",
              "      <td>21232</td>\n",
              "      <td>STRAWBERRY CERAMIC TRINKET BOX</td>\n",
              "      <td>24</td>\n",
              "      <td>2009-12-01 07:45:00</td>\n",
              "      <td>1.25</td>\n",
              "      <td>13085</td>\n",
              "      <td>United Kingdom</td>\n",
              "      <td>30.0</td>\n",
              "      <td>2009</td>\n",
              "      <td>12</td>\n",
              "    </tr>\n",
              "  </tbody>\n",
              "</table>\n",
              "</div>\n",
              "      <button class=\"colab-df-convert\" onclick=\"convertToInteractive('df-ac5531f1-9275-4d58-8839-ccb3b633fa45')\"\n",
              "              title=\"Convert this dataframe to an interactive table.\"\n",
              "              style=\"display:none;\">\n",
              "        \n",
              "  <svg xmlns=\"http://www.w3.org/2000/svg\" height=\"24px\"viewBox=\"0 0 24 24\"\n",
              "       width=\"24px\">\n",
              "    <path d=\"M0 0h24v24H0V0z\" fill=\"none\"/>\n",
              "    <path d=\"M18.56 5.44l.94 2.06.94-2.06 2.06-.94-2.06-.94-.94-2.06-.94 2.06-2.06.94zm-11 1L8.5 8.5l.94-2.06 2.06-.94-2.06-.94L8.5 2.5l-.94 2.06-2.06.94zm10 10l.94 2.06.94-2.06 2.06-.94-2.06-.94-.94-2.06-.94 2.06-2.06.94z\"/><path d=\"M17.41 7.96l-1.37-1.37c-.4-.4-.92-.59-1.43-.59-.52 0-1.04.2-1.43.59L10.3 9.45l-7.72 7.72c-.78.78-.78 2.05 0 2.83L4 21.41c.39.39.9.59 1.41.59.51 0 1.02-.2 1.41-.59l7.78-7.78 2.81-2.81c.8-.78.8-2.07 0-2.86zM5.41 20L4 18.59l7.72-7.72 1.47 1.35L5.41 20z\"/>\n",
              "  </svg>\n",
              "      </button>\n",
              "      \n",
              "  <style>\n",
              "    .colab-df-container {\n",
              "      display:flex;\n",
              "      flex-wrap:wrap;\n",
              "      gap: 12px;\n",
              "    }\n",
              "\n",
              "    .colab-df-convert {\n",
              "      background-color: #E8F0FE;\n",
              "      border: none;\n",
              "      border-radius: 50%;\n",
              "      cursor: pointer;\n",
              "      display: none;\n",
              "      fill: #1967D2;\n",
              "      height: 32px;\n",
              "      padding: 0 0 0 0;\n",
              "      width: 32px;\n",
              "    }\n",
              "\n",
              "    .colab-df-convert:hover {\n",
              "      background-color: #E2EBFA;\n",
              "      box-shadow: 0px 1px 2px rgba(60, 64, 67, 0.3), 0px 1px 3px 1px rgba(60, 64, 67, 0.15);\n",
              "      fill: #174EA6;\n",
              "    }\n",
              "\n",
              "    [theme=dark] .colab-df-convert {\n",
              "      background-color: #3B4455;\n",
              "      fill: #D2E3FC;\n",
              "    }\n",
              "\n",
              "    [theme=dark] .colab-df-convert:hover {\n",
              "      background-color: #434B5C;\n",
              "      box-shadow: 0px 1px 3px 1px rgba(0, 0, 0, 0.15);\n",
              "      filter: drop-shadow(0px 1px 2px rgba(0, 0, 0, 0.3));\n",
              "      fill: #FFFFFF;\n",
              "    }\n",
              "  </style>\n",
              "\n",
              "      <script>\n",
              "        const buttonEl =\n",
              "          document.querySelector('#df-ac5531f1-9275-4d58-8839-ccb3b633fa45 button.colab-df-convert');\n",
              "        buttonEl.style.display =\n",
              "          google.colab.kernel.accessAllowed ? 'block' : 'none';\n",
              "\n",
              "        async function convertToInteractive(key) {\n",
              "          const element = document.querySelector('#df-ac5531f1-9275-4d58-8839-ccb3b633fa45');\n",
              "          const dataTable =\n",
              "            await google.colab.kernel.invokeFunction('convertToInteractive',\n",
              "                                                     [key], {});\n",
              "          if (!dataTable) return;\n",
              "\n",
              "          const docLinkHtml = 'Like what you see? Visit the ' +\n",
              "            '<a target=\"_blank\" href=https://colab.research.google.com/notebooks/data_table.ipynb>data table notebook</a>'\n",
              "            + ' to learn more about interactive tables.';\n",
              "          element.innerHTML = '';\n",
              "          dataTable['output_type'] = 'display_data';\n",
              "          await google.colab.output.renderOutput(dataTable, element);\n",
              "          const docLink = document.createElement('div');\n",
              "          docLink.innerHTML = docLinkHtml;\n",
              "          element.appendChild(docLink);\n",
              "        }\n",
              "      </script>\n",
              "    </div>\n",
              "  </div>\n",
              "  "
            ]
          },
          "metadata": {},
          "execution_count": 68
        }
      ]
    },
    {
      "cell_type": "markdown",
      "source": [
        "### Recency\n",
        "\n",
        "We define our `recency` to be the number of days since a customer's latest transaction. To get this value, we get the latest invoice date (max) of each customer and get the number of days to the current date."
      ],
      "metadata": {
        "id": "EZSoFehNccwl"
      }
    },
    {
      "cell_type": "code",
      "source": [
        "# get max invoice date per customer\n",
        "df_latest_invoice = df.groupby('Customer ID')['InvoiceDate'].max()\n",
        "df_latest_invoice.head()"
      ],
      "metadata": {
        "id": "Pk4nLy1q9YJ_",
        "colab": {
          "base_uri": "https://localhost:8080/"
        },
        "outputId": "aa5406fe-d881-4562-abed-523e0b100fc7"
      },
      "execution_count": 69,
      "outputs": [
        {
          "output_type": "execute_result",
          "data": {
            "text/plain": [
              "Customer ID\n",
              "12346   2010-06-28 13:53:00\n",
              "12347   2010-12-07 14:57:00\n",
              "12348   2010-09-27 14:59:00\n",
              "12349   2010-10-28 08:23:00\n",
              "12351   2010-11-29 15:23:00\n",
              "Name: InvoiceDate, dtype: datetime64[ns]"
            ]
          },
          "metadata": {},
          "execution_count": 69
        }
      ]
    },
    {
      "cell_type": "code",
      "source": [
        "# get number of days between latest invoice date and current date\n",
        "# .dt.days means that we only get the actual days (not decimal)\n",
        "df_recency = (current_date - df_latest_invoice).dt.days\n",
        "df_recency.head()"
      ],
      "metadata": {
        "id": "hKbfwzsH_UGu",
        "colab": {
          "base_uri": "https://localhost:8080/"
        },
        "outputId": "4b40db33-fb54-42fa-c19f-af3aa60d26f4"
      },
      "execution_count": 70,
      "outputs": [
        {
          "output_type": "execute_result",
          "data": {
            "text/plain": [
              "Customer ID\n",
              "12346    165\n",
              "12347      3\n",
              "12348     74\n",
              "12349     43\n",
              "12351     11\n",
              "Name: InvoiceDate, dtype: int64"
            ]
          },
          "metadata": {},
          "execution_count": 70
        }
      ]
    },
    {
      "cell_type": "markdown",
      "source": [
        "In the resulting table, we see that customer 12346 had their latest transaction on June 28, 2010. Since our current date is December 10, 2010, it has been 165 days already since their last purchase.\n",
        "\n",
        "Customer 12347, on the other hand, had a transaction just 3 days ago!"
      ],
      "metadata": {
        "id": "P2dM54ALfH0p"
      }
    },
    {
      "cell_type": "markdown",
      "source": [
        "### Frequency\n",
        "\n",
        "We now calculate our `frequency`. This is defined by the number of transactions per customer over the whole period of our dataset. To calculate this, we use the groupby functions we used in our exploratory analysis."
      ],
      "metadata": {
        "id": "7kyL1NcSfkZb"
      }
    },
    {
      "cell_type": "code",
      "source": [
        "df_frequency = df.groupby('Customer ID')['Invoice'].nunique()\n",
        "df_frequency"
      ],
      "metadata": {
        "colab": {
          "base_uri": "https://localhost:8080/"
        },
        "id": "mkHPmxMCJqrq",
        "outputId": "79f3e1b8-c1c0-449e-93f0-bdb7083fe22b"
      },
      "execution_count": 71,
      "outputs": [
        {
          "output_type": "execute_result",
          "data": {
            "text/plain": [
              "Customer ID\n",
              "12346    11\n",
              "12347     2\n",
              "12348     1\n",
              "12349     3\n",
              "12351     1\n",
              "         ..\n",
              "18283     6\n",
              "18284     1\n",
              "18285     1\n",
              "18286     2\n",
              "18287     4\n",
              "Name: Invoice, Length: 4314, dtype: int64"
            ]
          },
          "metadata": {},
          "execution_count": 71
        }
      ]
    },
    {
      "cell_type": "markdown",
      "source": [
        "This table tells us how many transactions our customers had from December 2009 - December 2010."
      ],
      "metadata": {
        "id": "KOQ5BV87f7jX"
      }
    },
    {
      "cell_type": "markdown",
      "source": [
        "### Monetary\n",
        "Lastly, we calculate our `monetary` values with the same groupby function. We define this metric by the total amount spent by each customer."
      ],
      "metadata": {
        "id": "kYwf1j_if45l"
      }
    },
    {
      "cell_type": "code",
      "source": [
        "df_monetary = df.groupby('Customer ID')['total_amount'].sum()\n",
        "df_monetary.head()"
      ],
      "metadata": {
        "colab": {
          "base_uri": "https://localhost:8080/"
        },
        "id": "7VB61EJk-Epy",
        "outputId": "ba95ba21-706e-4d53-f1cf-b07c12f5de07"
      },
      "execution_count": 72,
      "outputs": [
        {
          "output_type": "execute_result",
          "data": {
            "text/plain": [
              "Customer ID\n",
              "12346     372.86\n",
              "12347    1323.32\n",
              "12348     222.16\n",
              "12349    2671.14\n",
              "12351     300.93\n",
              "Name: total_amount, dtype: float64"
            ]
          },
          "metadata": {},
          "execution_count": 72
        }
      ]
    },
    {
      "cell_type": "markdown",
      "source": [
        "### RFM Scores"
      ],
      "metadata": {
        "id": "xcZdztMdgcne"
      }
    },
    {
      "cell_type": "markdown",
      "source": [
        "We now merge these tables into a single dataframe. We put each series together in a dictionary and use `pd.DataFrame`"
      ],
      "metadata": {
        "id": "DQi2ST1R_urm"
      }
    },
    {
      "cell_type": "code",
      "source": [
        "df_rfm = pd.DataFrame({'recency':df_recency, 'frequency':df_frequency, 'monetary':df_monetary})\n",
        "df_rfm.head(10)"
      ],
      "metadata": {
        "colab": {
          "base_uri": "https://localhost:8080/",
          "height": 394
        },
        "id": "POXLvGls-zVg",
        "outputId": "549a3697-f802-4a30-c200-e716c7e63574"
      },
      "execution_count": 73,
      "outputs": [
        {
          "output_type": "execute_result",
          "data": {
            "text/plain": [
              "             recency  frequency  monetary\n",
              "Customer ID                              \n",
              "12346            165         11    372.86\n",
              "12347              3          2   1323.32\n",
              "12348             74          1    222.16\n",
              "12349             43          3   2671.14\n",
              "12351             11          1    300.93\n",
              "12352             11          2    343.80\n",
              "12353             44          1    317.76\n",
              "12355            203          1    488.21\n",
              "12356             16          3   3562.25\n",
              "12357             24          2  12079.99"
            ],
            "text/html": [
              "\n",
              "  <div id=\"df-ad7bee4d-4ddb-4c11-bf3b-373f7413103e\">\n",
              "    <div class=\"colab-df-container\">\n",
              "      <div>\n",
              "<style scoped>\n",
              "    .dataframe tbody tr th:only-of-type {\n",
              "        vertical-align: middle;\n",
              "    }\n",
              "\n",
              "    .dataframe tbody tr th {\n",
              "        vertical-align: top;\n",
              "    }\n",
              "\n",
              "    .dataframe thead th {\n",
              "        text-align: right;\n",
              "    }\n",
              "</style>\n",
              "<table border=\"1\" class=\"dataframe\">\n",
              "  <thead>\n",
              "    <tr style=\"text-align: right;\">\n",
              "      <th></th>\n",
              "      <th>recency</th>\n",
              "      <th>frequency</th>\n",
              "      <th>monetary</th>\n",
              "    </tr>\n",
              "    <tr>\n",
              "      <th>Customer ID</th>\n",
              "      <th></th>\n",
              "      <th></th>\n",
              "      <th></th>\n",
              "    </tr>\n",
              "  </thead>\n",
              "  <tbody>\n",
              "    <tr>\n",
              "      <th>12346</th>\n",
              "      <td>165</td>\n",
              "      <td>11</td>\n",
              "      <td>372.86</td>\n",
              "    </tr>\n",
              "    <tr>\n",
              "      <th>12347</th>\n",
              "      <td>3</td>\n",
              "      <td>2</td>\n",
              "      <td>1323.32</td>\n",
              "    </tr>\n",
              "    <tr>\n",
              "      <th>12348</th>\n",
              "      <td>74</td>\n",
              "      <td>1</td>\n",
              "      <td>222.16</td>\n",
              "    </tr>\n",
              "    <tr>\n",
              "      <th>12349</th>\n",
              "      <td>43</td>\n",
              "      <td>3</td>\n",
              "      <td>2671.14</td>\n",
              "    </tr>\n",
              "    <tr>\n",
              "      <th>12351</th>\n",
              "      <td>11</td>\n",
              "      <td>1</td>\n",
              "      <td>300.93</td>\n",
              "    </tr>\n",
              "    <tr>\n",
              "      <th>12352</th>\n",
              "      <td>11</td>\n",
              "      <td>2</td>\n",
              "      <td>343.80</td>\n",
              "    </tr>\n",
              "    <tr>\n",
              "      <th>12353</th>\n",
              "      <td>44</td>\n",
              "      <td>1</td>\n",
              "      <td>317.76</td>\n",
              "    </tr>\n",
              "    <tr>\n",
              "      <th>12355</th>\n",
              "      <td>203</td>\n",
              "      <td>1</td>\n",
              "      <td>488.21</td>\n",
              "    </tr>\n",
              "    <tr>\n",
              "      <th>12356</th>\n",
              "      <td>16</td>\n",
              "      <td>3</td>\n",
              "      <td>3562.25</td>\n",
              "    </tr>\n",
              "    <tr>\n",
              "      <th>12357</th>\n",
              "      <td>24</td>\n",
              "      <td>2</td>\n",
              "      <td>12079.99</td>\n",
              "    </tr>\n",
              "  </tbody>\n",
              "</table>\n",
              "</div>\n",
              "      <button class=\"colab-df-convert\" onclick=\"convertToInteractive('df-ad7bee4d-4ddb-4c11-bf3b-373f7413103e')\"\n",
              "              title=\"Convert this dataframe to an interactive table.\"\n",
              "              style=\"display:none;\">\n",
              "        \n",
              "  <svg xmlns=\"http://www.w3.org/2000/svg\" height=\"24px\"viewBox=\"0 0 24 24\"\n",
              "       width=\"24px\">\n",
              "    <path d=\"M0 0h24v24H0V0z\" fill=\"none\"/>\n",
              "    <path d=\"M18.56 5.44l.94 2.06.94-2.06 2.06-.94-2.06-.94-.94-2.06-.94 2.06-2.06.94zm-11 1L8.5 8.5l.94-2.06 2.06-.94-2.06-.94L8.5 2.5l-.94 2.06-2.06.94zm10 10l.94 2.06.94-2.06 2.06-.94-2.06-.94-.94-2.06-.94 2.06-2.06.94z\"/><path d=\"M17.41 7.96l-1.37-1.37c-.4-.4-.92-.59-1.43-.59-.52 0-1.04.2-1.43.59L10.3 9.45l-7.72 7.72c-.78.78-.78 2.05 0 2.83L4 21.41c.39.39.9.59 1.41.59.51 0 1.02-.2 1.41-.59l7.78-7.78 2.81-2.81c.8-.78.8-2.07 0-2.86zM5.41 20L4 18.59l7.72-7.72 1.47 1.35L5.41 20z\"/>\n",
              "  </svg>\n",
              "      </button>\n",
              "      \n",
              "  <style>\n",
              "    .colab-df-container {\n",
              "      display:flex;\n",
              "      flex-wrap:wrap;\n",
              "      gap: 12px;\n",
              "    }\n",
              "\n",
              "    .colab-df-convert {\n",
              "      background-color: #E8F0FE;\n",
              "      border: none;\n",
              "      border-radius: 50%;\n",
              "      cursor: pointer;\n",
              "      display: none;\n",
              "      fill: #1967D2;\n",
              "      height: 32px;\n",
              "      padding: 0 0 0 0;\n",
              "      width: 32px;\n",
              "    }\n",
              "\n",
              "    .colab-df-convert:hover {\n",
              "      background-color: #E2EBFA;\n",
              "      box-shadow: 0px 1px 2px rgba(60, 64, 67, 0.3), 0px 1px 3px 1px rgba(60, 64, 67, 0.15);\n",
              "      fill: #174EA6;\n",
              "    }\n",
              "\n",
              "    [theme=dark] .colab-df-convert {\n",
              "      background-color: #3B4455;\n",
              "      fill: #D2E3FC;\n",
              "    }\n",
              "\n",
              "    [theme=dark] .colab-df-convert:hover {\n",
              "      background-color: #434B5C;\n",
              "      box-shadow: 0px 1px 3px 1px rgba(0, 0, 0, 0.15);\n",
              "      filter: drop-shadow(0px 1px 2px rgba(0, 0, 0, 0.3));\n",
              "      fill: #FFFFFF;\n",
              "    }\n",
              "  </style>\n",
              "\n",
              "      <script>\n",
              "        const buttonEl =\n",
              "          document.querySelector('#df-ad7bee4d-4ddb-4c11-bf3b-373f7413103e button.colab-df-convert');\n",
              "        buttonEl.style.display =\n",
              "          google.colab.kernel.accessAllowed ? 'block' : 'none';\n",
              "\n",
              "        async function convertToInteractive(key) {\n",
              "          const element = document.querySelector('#df-ad7bee4d-4ddb-4c11-bf3b-373f7413103e');\n",
              "          const dataTable =\n",
              "            await google.colab.kernel.invokeFunction('convertToInteractive',\n",
              "                                                     [key], {});\n",
              "          if (!dataTable) return;\n",
              "\n",
              "          const docLinkHtml = 'Like what you see? Visit the ' +\n",
              "            '<a target=\"_blank\" href=https://colab.research.google.com/notebooks/data_table.ipynb>data table notebook</a>'\n",
              "            + ' to learn more about interactive tables.';\n",
              "          element.innerHTML = '';\n",
              "          dataTable['output_type'] = 'display_data';\n",
              "          await google.colab.output.renderOutput(dataTable, element);\n",
              "          const docLink = document.createElement('div');\n",
              "          docLink.innerHTML = docLinkHtml;\n",
              "          element.appendChild(docLink);\n",
              "        }\n",
              "      </script>\n",
              "    </div>\n",
              "  </div>\n",
              "  "
            ]
          },
          "metadata": {},
          "execution_count": 73
        }
      ]
    },
    {
      "cell_type": "markdown",
      "source": [
        "We now have RFM values for each customer. A common way to generate the RFM scores is to group each customer by the quantile that they belong to. For example, we can define top spenders to be those in the 75th quantile and up in terms of monetary value."
      ],
      "metadata": {
        "id": "d7HQX9vShqhQ"
      }
    },
    {
      "cell_type": "code",
      "source": [
        "quantiles = df_rfm.quantile(q=[0.25, 0.5, 0.75])\n",
        "quantiles"
      ],
      "metadata": {
        "colab": {
          "base_uri": "https://localhost:8080/",
          "height": 143
        },
        "id": "Ac0q8X7OgpqD",
        "outputId": "29fc60bb-5807-470f-fc96-22a63a007fa5"
      },
      "execution_count": 74,
      "outputs": [
        {
          "output_type": "execute_result",
          "data": {
            "text/plain": [
              "      recency  frequency   monetary\n",
              "0.25     18.0        1.0   307.9500\n",
              "0.50     53.0        2.0   705.5500\n",
              "0.75    136.0        5.0  1722.8025"
            ],
            "text/html": [
              "\n",
              "  <div id=\"df-c5f36ec4-f524-49fd-a0ea-9bfa6cd9eaac\">\n",
              "    <div class=\"colab-df-container\">\n",
              "      <div>\n",
              "<style scoped>\n",
              "    .dataframe tbody tr th:only-of-type {\n",
              "        vertical-align: middle;\n",
              "    }\n",
              "\n",
              "    .dataframe tbody tr th {\n",
              "        vertical-align: top;\n",
              "    }\n",
              "\n",
              "    .dataframe thead th {\n",
              "        text-align: right;\n",
              "    }\n",
              "</style>\n",
              "<table border=\"1\" class=\"dataframe\">\n",
              "  <thead>\n",
              "    <tr style=\"text-align: right;\">\n",
              "      <th></th>\n",
              "      <th>recency</th>\n",
              "      <th>frequency</th>\n",
              "      <th>monetary</th>\n",
              "    </tr>\n",
              "  </thead>\n",
              "  <tbody>\n",
              "    <tr>\n",
              "      <th>0.25</th>\n",
              "      <td>18.0</td>\n",
              "      <td>1.0</td>\n",
              "      <td>307.9500</td>\n",
              "    </tr>\n",
              "    <tr>\n",
              "      <th>0.50</th>\n",
              "      <td>53.0</td>\n",
              "      <td>2.0</td>\n",
              "      <td>705.5500</td>\n",
              "    </tr>\n",
              "    <tr>\n",
              "      <th>0.75</th>\n",
              "      <td>136.0</td>\n",
              "      <td>5.0</td>\n",
              "      <td>1722.8025</td>\n",
              "    </tr>\n",
              "  </tbody>\n",
              "</table>\n",
              "</div>\n",
              "      <button class=\"colab-df-convert\" onclick=\"convertToInteractive('df-c5f36ec4-f524-49fd-a0ea-9bfa6cd9eaac')\"\n",
              "              title=\"Convert this dataframe to an interactive table.\"\n",
              "              style=\"display:none;\">\n",
              "        \n",
              "  <svg xmlns=\"http://www.w3.org/2000/svg\" height=\"24px\"viewBox=\"0 0 24 24\"\n",
              "       width=\"24px\">\n",
              "    <path d=\"M0 0h24v24H0V0z\" fill=\"none\"/>\n",
              "    <path d=\"M18.56 5.44l.94 2.06.94-2.06 2.06-.94-2.06-.94-.94-2.06-.94 2.06-2.06.94zm-11 1L8.5 8.5l.94-2.06 2.06-.94-2.06-.94L8.5 2.5l-.94 2.06-2.06.94zm10 10l.94 2.06.94-2.06 2.06-.94-2.06-.94-.94-2.06-.94 2.06-2.06.94z\"/><path d=\"M17.41 7.96l-1.37-1.37c-.4-.4-.92-.59-1.43-.59-.52 0-1.04.2-1.43.59L10.3 9.45l-7.72 7.72c-.78.78-.78 2.05 0 2.83L4 21.41c.39.39.9.59 1.41.59.51 0 1.02-.2 1.41-.59l7.78-7.78 2.81-2.81c.8-.78.8-2.07 0-2.86zM5.41 20L4 18.59l7.72-7.72 1.47 1.35L5.41 20z\"/>\n",
              "  </svg>\n",
              "      </button>\n",
              "      \n",
              "  <style>\n",
              "    .colab-df-container {\n",
              "      display:flex;\n",
              "      flex-wrap:wrap;\n",
              "      gap: 12px;\n",
              "    }\n",
              "\n",
              "    .colab-df-convert {\n",
              "      background-color: #E8F0FE;\n",
              "      border: none;\n",
              "      border-radius: 50%;\n",
              "      cursor: pointer;\n",
              "      display: none;\n",
              "      fill: #1967D2;\n",
              "      height: 32px;\n",
              "      padding: 0 0 0 0;\n",
              "      width: 32px;\n",
              "    }\n",
              "\n",
              "    .colab-df-convert:hover {\n",
              "      background-color: #E2EBFA;\n",
              "      box-shadow: 0px 1px 2px rgba(60, 64, 67, 0.3), 0px 1px 3px 1px rgba(60, 64, 67, 0.15);\n",
              "      fill: #174EA6;\n",
              "    }\n",
              "\n",
              "    [theme=dark] .colab-df-convert {\n",
              "      background-color: #3B4455;\n",
              "      fill: #D2E3FC;\n",
              "    }\n",
              "\n",
              "    [theme=dark] .colab-df-convert:hover {\n",
              "      background-color: #434B5C;\n",
              "      box-shadow: 0px 1px 3px 1px rgba(0, 0, 0, 0.15);\n",
              "      filter: drop-shadow(0px 1px 2px rgba(0, 0, 0, 0.3));\n",
              "      fill: #FFFFFF;\n",
              "    }\n",
              "  </style>\n",
              "\n",
              "      <script>\n",
              "        const buttonEl =\n",
              "          document.querySelector('#df-c5f36ec4-f524-49fd-a0ea-9bfa6cd9eaac button.colab-df-convert');\n",
              "        buttonEl.style.display =\n",
              "          google.colab.kernel.accessAllowed ? 'block' : 'none';\n",
              "\n",
              "        async function convertToInteractive(key) {\n",
              "          const element = document.querySelector('#df-c5f36ec4-f524-49fd-a0ea-9bfa6cd9eaac');\n",
              "          const dataTable =\n",
              "            await google.colab.kernel.invokeFunction('convertToInteractive',\n",
              "                                                     [key], {});\n",
              "          if (!dataTable) return;\n",
              "\n",
              "          const docLinkHtml = 'Like what you see? Visit the ' +\n",
              "            '<a target=\"_blank\" href=https://colab.research.google.com/notebooks/data_table.ipynb>data table notebook</a>'\n",
              "            + ' to learn more about interactive tables.';\n",
              "          element.innerHTML = '';\n",
              "          dataTable['output_type'] = 'display_data';\n",
              "          await google.colab.output.renderOutput(dataTable, element);\n",
              "          const docLink = document.createElement('div');\n",
              "          docLink.innerHTML = docLinkHtml;\n",
              "          element.appendChild(docLink);\n",
              "        }\n",
              "      </script>\n",
              "    </div>\n",
              "  </div>\n",
              "  "
            ]
          },
          "metadata": {},
          "execution_count": 74
        }
      ]
    },
    {
      "cell_type": "markdown",
      "source": [
        "Using the quantiles function, we can get our thresholds for segmentation.\n",
        "\n",
        "1. For recency score (lower is better):\n",
        "- Score = 1; quantile between 0-0.25\n",
        "- Score = 2; quantile between 0.25-0.5\n",
        "- Score = 3; quantile between 0.5-0.75\n",
        "- Score = 4; quantile between 0.75 - 1\n",
        "\n",
        "<br>\n",
        "2. For frequency and monetary score (higher is better):\n",
        "- Score = 1; quantile between 0.75 - 1\n",
        "- Score = 2; quantile between 0.5-0.75\n",
        "- Score = 3; quantile between 0.25-0.5\n",
        "- Score = 4; quantile between 0-0.25\n",
        "\n",
        "<br>\n",
        "\n",
        "Let's use this guide for our analysis:"
      ],
      "metadata": {
        "id": "bU77vt9fiGYk"
      }
    },
    {
      "cell_type": "markdown",
      "source": [
        "![rfm_business.png](data:image/png;base64,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)"
      ],
      "metadata": {
        "id": "hHzRuprAj0Vl"
      }
    },
    {
      "cell_type": "markdown",
      "source": [
        "We calculate the RFM scores based on their quantiles."
      ],
      "metadata": {
        "id": "EVgVXVWIAKr2"
      }
    },
    {
      "cell_type": "markdown",
      "source": [
        "#### Recency Score"
      ],
      "metadata": {
        "id": "Mtb5i_Zqmxku"
      }
    },
    {
      "cell_type": "code",
      "source": [
        "# create a dictionary with the recency quantiles\n",
        "recency_dict = quantiles['recency'].to_dict()\n",
        "recency_dict"
      ],
      "metadata": {
        "colab": {
          "base_uri": "https://localhost:8080/"
        },
        "id": "zAbzyJgrlvbs",
        "outputId": "53bf70a9-2d44-49c9-9852-422bd3cfd4dd"
      },
      "execution_count": 77,
      "outputs": [
        {
          "output_type": "execute_result",
          "data": {
            "text/plain": [
              "{0.25: 18.0, 0.5: 53.0, 0.75: 136.0}"
            ]
          },
          "metadata": {},
          "execution_count": 77
        }
      ]
    },
    {
      "cell_type": "code",
      "source": [
        "# create a function to calculate recency score\n",
        "def recency_score(recency, recency_dict):\n",
        "    if recency <= recency_dict[0.25]:\n",
        "        # recency_score = 1 if recency is between 0-0.25 quantile\n",
        "        return '1'\n",
        "    elif recency <= recency_dict[0.5]:\n",
        "        # recency_score = 2 if recency is between 0.25-0.5 quantile\n",
        "        return '2'\n",
        "    elif recency <= recency_dict[0.75]:\n",
        "        # recency_score = 3 if recency is between 0.5-0.75 quantile\n",
        "        return '3'\n",
        "    else:\n",
        "        # recency_score = 4 if recency is between 0.75-1 quantile\n",
        "        return '4'\n",
        "\n",
        "df_rfm['recency_score'] = df_rfm['recency'].apply(recency_score, args=(recency_dict,))\n",
        "df_rfm.head()"
      ],
      "metadata": {
        "colab": {
          "base_uri": "https://localhost:8080/",
          "height": 238
        },
        "id": "tgRJoL5iAHGd",
        "outputId": "a47c1220-f88d-461e-e013-178920fea7aa"
      },
      "execution_count": 78,
      "outputs": [
        {
          "output_type": "execute_result",
          "data": {
            "text/plain": [
              "             recency  frequency  monetary recency_score\n",
              "Customer ID                                            \n",
              "12346            165         11    372.86             4\n",
              "12347              3          2   1323.32             1\n",
              "12348             74          1    222.16             3\n",
              "12349             43          3   2671.14             2\n",
              "12351             11          1    300.93             1"
            ],
            "text/html": [
              "\n",
              "  <div id=\"df-a27ec7d6-28c9-420e-9fb0-38b3aff6254a\">\n",
              "    <div class=\"colab-df-container\">\n",
              "      <div>\n",
              "<style scoped>\n",
              "    .dataframe tbody tr th:only-of-type {\n",
              "        vertical-align: middle;\n",
              "    }\n",
              "\n",
              "    .dataframe tbody tr th {\n",
              "        vertical-align: top;\n",
              "    }\n",
              "\n",
              "    .dataframe thead th {\n",
              "        text-align: right;\n",
              "    }\n",
              "</style>\n",
              "<table border=\"1\" class=\"dataframe\">\n",
              "  <thead>\n",
              "    <tr style=\"text-align: right;\">\n",
              "      <th></th>\n",
              "      <th>recency</th>\n",
              "      <th>frequency</th>\n",
              "      <th>monetary</th>\n",
              "      <th>recency_score</th>\n",
              "    </tr>\n",
              "    <tr>\n",
              "      <th>Customer ID</th>\n",
              "      <th></th>\n",
              "      <th></th>\n",
              "      <th></th>\n",
              "      <th></th>\n",
              "    </tr>\n",
              "  </thead>\n",
              "  <tbody>\n",
              "    <tr>\n",
              "      <th>12346</th>\n",
              "      <td>165</td>\n",
              "      <td>11</td>\n",
              "      <td>372.86</td>\n",
              "      <td>4</td>\n",
              "    </tr>\n",
              "    <tr>\n",
              "      <th>12347</th>\n",
              "      <td>3</td>\n",
              "      <td>2</td>\n",
              "      <td>1323.32</td>\n",
              "      <td>1</td>\n",
              "    </tr>\n",
              "    <tr>\n",
              "      <th>12348</th>\n",
              "      <td>74</td>\n",
              "      <td>1</td>\n",
              "      <td>222.16</td>\n",
              "      <td>3</td>\n",
              "    </tr>\n",
              "    <tr>\n",
              "      <th>12349</th>\n",
              "      <td>43</td>\n",
              "      <td>3</td>\n",
              "      <td>2671.14</td>\n",
              "      <td>2</td>\n",
              "    </tr>\n",
              "    <tr>\n",
              "      <th>12351</th>\n",
              "      <td>11</td>\n",
              "      <td>1</td>\n",
              "      <td>300.93</td>\n",
              "      <td>1</td>\n",
              "    </tr>\n",
              "  </tbody>\n",
              "</table>\n",
              "</div>\n",
              "      <button class=\"colab-df-convert\" onclick=\"convertToInteractive('df-a27ec7d6-28c9-420e-9fb0-38b3aff6254a')\"\n",
              "              title=\"Convert this dataframe to an interactive table.\"\n",
              "              style=\"display:none;\">\n",
              "        \n",
              "  <svg xmlns=\"http://www.w3.org/2000/svg\" height=\"24px\"viewBox=\"0 0 24 24\"\n",
              "       width=\"24px\">\n",
              "    <path d=\"M0 0h24v24H0V0z\" fill=\"none\"/>\n",
              "    <path d=\"M18.56 5.44l.94 2.06.94-2.06 2.06-.94-2.06-.94-.94-2.06-.94 2.06-2.06.94zm-11 1L8.5 8.5l.94-2.06 2.06-.94-2.06-.94L8.5 2.5l-.94 2.06-2.06.94zm10 10l.94 2.06.94-2.06 2.06-.94-2.06-.94-.94-2.06-.94 2.06-2.06.94z\"/><path d=\"M17.41 7.96l-1.37-1.37c-.4-.4-.92-.59-1.43-.59-.52 0-1.04.2-1.43.59L10.3 9.45l-7.72 7.72c-.78.78-.78 2.05 0 2.83L4 21.41c.39.39.9.59 1.41.59.51 0 1.02-.2 1.41-.59l7.78-7.78 2.81-2.81c.8-.78.8-2.07 0-2.86zM5.41 20L4 18.59l7.72-7.72 1.47 1.35L5.41 20z\"/>\n",
              "  </svg>\n",
              "      </button>\n",
              "      \n",
              "  <style>\n",
              "    .colab-df-container {\n",
              "      display:flex;\n",
              "      flex-wrap:wrap;\n",
              "      gap: 12px;\n",
              "    }\n",
              "\n",
              "    .colab-df-convert {\n",
              "      background-color: #E8F0FE;\n",
              "      border: none;\n",
              "      border-radius: 50%;\n",
              "      cursor: pointer;\n",
              "      display: none;\n",
              "      fill: #1967D2;\n",
              "      height: 32px;\n",
              "      padding: 0 0 0 0;\n",
              "      width: 32px;\n",
              "    }\n",
              "\n",
              "    .colab-df-convert:hover {\n",
              "      background-color: #E2EBFA;\n",
              "      box-shadow: 0px 1px 2px rgba(60, 64, 67, 0.3), 0px 1px 3px 1px rgba(60, 64, 67, 0.15);\n",
              "      fill: #174EA6;\n",
              "    }\n",
              "\n",
              "    [theme=dark] .colab-df-convert {\n",
              "      background-color: #3B4455;\n",
              "      fill: #D2E3FC;\n",
              "    }\n",
              "\n",
              "    [theme=dark] .colab-df-convert:hover {\n",
              "      background-color: #434B5C;\n",
              "      box-shadow: 0px 1px 3px 1px rgba(0, 0, 0, 0.15);\n",
              "      filter: drop-shadow(0px 1px 2px rgba(0, 0, 0, 0.3));\n",
              "      fill: #FFFFFF;\n",
              "    }\n",
              "  </style>\n",
              "\n",
              "      <script>\n",
              "        const buttonEl =\n",
              "          document.querySelector('#df-a27ec7d6-28c9-420e-9fb0-38b3aff6254a button.colab-df-convert');\n",
              "        buttonEl.style.display =\n",
              "          google.colab.kernel.accessAllowed ? 'block' : 'none';\n",
              "\n",
              "        async function convertToInteractive(key) {\n",
              "          const element = document.querySelector('#df-a27ec7d6-28c9-420e-9fb0-38b3aff6254a');\n",
              "          const dataTable =\n",
              "            await google.colab.kernel.invokeFunction('convertToInteractive',\n",
              "                                                     [key], {});\n",
              "          if (!dataTable) return;\n",
              "\n",
              "          const docLinkHtml = 'Like what you see? Visit the ' +\n",
              "            '<a target=\"_blank\" href=https://colab.research.google.com/notebooks/data_table.ipynb>data table notebook</a>'\n",
              "            + ' to learn more about interactive tables.';\n",
              "          element.innerHTML = '';\n",
              "          dataTable['output_type'] = 'display_data';\n",
              "          await google.colab.output.renderOutput(dataTable, element);\n",
              "          const docLink = document.createElement('div');\n",
              "          docLink.innerHTML = docLinkHtml;\n",
              "          element.appendChild(docLink);\n",
              "        }\n",
              "      </script>\n",
              "    </div>\n",
              "  </div>\n",
              "  "
            ]
          },
          "metadata": {},
          "execution_count": 78
        }
      ]
    },
    {
      "cell_type": "markdown",
      "source": [
        "### Frequency Score"
      ],
      "metadata": {
        "id": "Yd5KUGzfmzQg"
      }
    },
    {
      "cell_type": "code",
      "source": [
        "# create a dictionary with the frequency quantiles\n",
        "frequency_dict = quantiles['frequency'].to_dict()\n",
        "frequency_dict"
      ],
      "metadata": {
        "colab": {
          "base_uri": "https://localhost:8080/"
        },
        "id": "9QlGXk50nM7-",
        "outputId": "30855e02-e11b-4b66-9367-b73444754047"
      },
      "execution_count": 79,
      "outputs": [
        {
          "output_type": "execute_result",
          "data": {
            "text/plain": [
              "{0.25: 1.0, 0.5: 2.0, 0.75: 5.0}"
            ]
          },
          "metadata": {},
          "execution_count": 79
        }
      ]
    },
    {
      "cell_type": "code",
      "source": [
        "# create a function to calculate frequency score\n",
        "def frequency_score(frequency, frequency_dict):\n",
        "    if frequency <= frequency_dict[0.25]:\n",
        "        # frequency_score = 4 if frequency is between 0-0.25 quantile\n",
        "        return '4'\n",
        "    elif frequency <= frequency_dict[0.5]:\n",
        "        # frequency_score = 3 if frequency is between 0.25-0.5 quantile\n",
        "        return '3'\n",
        "    elif frequency <= frequency_dict[0.75]:\n",
        "        # frequency_score = 2 if frequency is between 0.5-0.75 quantile\n",
        "        return '2'\n",
        "    else:\n",
        "        # frequency_score = 1 if frequency is between 0.75-1 quantile\n",
        "        return '1'\n",
        "\n",
        "df_rfm['frequency_score'] = df_rfm['frequency'].apply(frequency_score, args=(frequency_dict,))\n",
        "df_rfm.head()"
      ],
      "metadata": {
        "colab": {
          "base_uri": "https://localhost:8080/",
          "height": 238
        },
        "id": "MVeQA0vDmuQW",
        "outputId": "88c90732-6e96-44a5-c56d-793472b1d31e"
      },
      "execution_count": 80,
      "outputs": [
        {
          "output_type": "execute_result",
          "data": {
            "text/plain": [
              "             recency  frequency  monetary recency_score frequency_score\n",
              "Customer ID                                                            \n",
              "12346            165         11    372.86             4               1\n",
              "12347              3          2   1323.32             1               3\n",
              "12348             74          1    222.16             3               4\n",
              "12349             43          3   2671.14             2               2\n",
              "12351             11          1    300.93             1               4"
            ],
            "text/html": [
              "\n",
              "  <div id=\"df-c5fff41d-8238-49e0-b9e5-c78b04cfe733\">\n",
              "    <div class=\"colab-df-container\">\n",
              "      <div>\n",
              "<style scoped>\n",
              "    .dataframe tbody tr th:only-of-type {\n",
              "        vertical-align: middle;\n",
              "    }\n",
              "\n",
              "    .dataframe tbody tr th {\n",
              "        vertical-align: top;\n",
              "    }\n",
              "\n",
              "    .dataframe thead th {\n",
              "        text-align: right;\n",
              "    }\n",
              "</style>\n",
              "<table border=\"1\" class=\"dataframe\">\n",
              "  <thead>\n",
              "    <tr style=\"text-align: right;\">\n",
              "      <th></th>\n",
              "      <th>recency</th>\n",
              "      <th>frequency</th>\n",
              "      <th>monetary</th>\n",
              "      <th>recency_score</th>\n",
              "      <th>frequency_score</th>\n",
              "    </tr>\n",
              "    <tr>\n",
              "      <th>Customer ID</th>\n",
              "      <th></th>\n",
              "      <th></th>\n",
              "      <th></th>\n",
              "      <th></th>\n",
              "      <th></th>\n",
              "    </tr>\n",
              "  </thead>\n",
              "  <tbody>\n",
              "    <tr>\n",
              "      <th>12346</th>\n",
              "      <td>165</td>\n",
              "      <td>11</td>\n",
              "      <td>372.86</td>\n",
              "      <td>4</td>\n",
              "      <td>1</td>\n",
              "    </tr>\n",
              "    <tr>\n",
              "      <th>12347</th>\n",
              "      <td>3</td>\n",
              "      <td>2</td>\n",
              "      <td>1323.32</td>\n",
              "      <td>1</td>\n",
              "      <td>3</td>\n",
              "    </tr>\n",
              "    <tr>\n",
              "      <th>12348</th>\n",
              "      <td>74</td>\n",
              "      <td>1</td>\n",
              "      <td>222.16</td>\n",
              "      <td>3</td>\n",
              "      <td>4</td>\n",
              "    </tr>\n",
              "    <tr>\n",
              "      <th>12349</th>\n",
              "      <td>43</td>\n",
              "      <td>3</td>\n",
              "      <td>2671.14</td>\n",
              "      <td>2</td>\n",
              "      <td>2</td>\n",
              "    </tr>\n",
              "    <tr>\n",
              "      <th>12351</th>\n",
              "      <td>11</td>\n",
              "      <td>1</td>\n",
              "      <td>300.93</td>\n",
              "      <td>1</td>\n",
              "      <td>4</td>\n",
              "    </tr>\n",
              "  </tbody>\n",
              "</table>\n",
              "</div>\n",
              "      <button class=\"colab-df-convert\" onclick=\"convertToInteractive('df-c5fff41d-8238-49e0-b9e5-c78b04cfe733')\"\n",
              "              title=\"Convert this dataframe to an interactive table.\"\n",
              "              style=\"display:none;\">\n",
              "        \n",
              "  <svg xmlns=\"http://www.w3.org/2000/svg\" height=\"24px\"viewBox=\"0 0 24 24\"\n",
              "       width=\"24px\">\n",
              "    <path d=\"M0 0h24v24H0V0z\" fill=\"none\"/>\n",
              "    <path d=\"M18.56 5.44l.94 2.06.94-2.06 2.06-.94-2.06-.94-.94-2.06-.94 2.06-2.06.94zm-11 1L8.5 8.5l.94-2.06 2.06-.94-2.06-.94L8.5 2.5l-.94 2.06-2.06.94zm10 10l.94 2.06.94-2.06 2.06-.94-2.06-.94-.94-2.06-.94 2.06-2.06.94z\"/><path d=\"M17.41 7.96l-1.37-1.37c-.4-.4-.92-.59-1.43-.59-.52 0-1.04.2-1.43.59L10.3 9.45l-7.72 7.72c-.78.78-.78 2.05 0 2.83L4 21.41c.39.39.9.59 1.41.59.51 0 1.02-.2 1.41-.59l7.78-7.78 2.81-2.81c.8-.78.8-2.07 0-2.86zM5.41 20L4 18.59l7.72-7.72 1.47 1.35L5.41 20z\"/>\n",
              "  </svg>\n",
              "      </button>\n",
              "      \n",
              "  <style>\n",
              "    .colab-df-container {\n",
              "      display:flex;\n",
              "      flex-wrap:wrap;\n",
              "      gap: 12px;\n",
              "    }\n",
              "\n",
              "    .colab-df-convert {\n",
              "      background-color: #E8F0FE;\n",
              "      border: none;\n",
              "      border-radius: 50%;\n",
              "      cursor: pointer;\n",
              "      display: none;\n",
              "      fill: #1967D2;\n",
              "      height: 32px;\n",
              "      padding: 0 0 0 0;\n",
              "      width: 32px;\n",
              "    }\n",
              "\n",
              "    .colab-df-convert:hover {\n",
              "      background-color: #E2EBFA;\n",
              "      box-shadow: 0px 1px 2px rgba(60, 64, 67, 0.3), 0px 1px 3px 1px rgba(60, 64, 67, 0.15);\n",
              "      fill: #174EA6;\n",
              "    }\n",
              "\n",
              "    [theme=dark] .colab-df-convert {\n",
              "      background-color: #3B4455;\n",
              "      fill: #D2E3FC;\n",
              "    }\n",
              "\n",
              "    [theme=dark] .colab-df-convert:hover {\n",
              "      background-color: #434B5C;\n",
              "      box-shadow: 0px 1px 3px 1px rgba(0, 0, 0, 0.15);\n",
              "      filter: drop-shadow(0px 1px 2px rgba(0, 0, 0, 0.3));\n",
              "      fill: #FFFFFF;\n",
              "    }\n",
              "  </style>\n",
              "\n",
              "      <script>\n",
              "        const buttonEl =\n",
              "          document.querySelector('#df-c5fff41d-8238-49e0-b9e5-c78b04cfe733 button.colab-df-convert');\n",
              "        buttonEl.style.display =\n",
              "          google.colab.kernel.accessAllowed ? 'block' : 'none';\n",
              "\n",
              "        async function convertToInteractive(key) {\n",
              "          const element = document.querySelector('#df-c5fff41d-8238-49e0-b9e5-c78b04cfe733');\n",
              "          const dataTable =\n",
              "            await google.colab.kernel.invokeFunction('convertToInteractive',\n",
              "                                                     [key], {});\n",
              "          if (!dataTable) return;\n",
              "\n",
              "          const docLinkHtml = 'Like what you see? Visit the ' +\n",
              "            '<a target=\"_blank\" href=https://colab.research.google.com/notebooks/data_table.ipynb>data table notebook</a>'\n",
              "            + ' to learn more about interactive tables.';\n",
              "          element.innerHTML = '';\n",
              "          dataTable['output_type'] = 'display_data';\n",
              "          await google.colab.output.renderOutput(dataTable, element);\n",
              "          const docLink = document.createElement('div');\n",
              "          docLink.innerHTML = docLinkHtml;\n",
              "          element.appendChild(docLink);\n",
              "        }\n",
              "      </script>\n",
              "    </div>\n",
              "  </div>\n",
              "  "
            ]
          },
          "metadata": {},
          "execution_count": 80
        }
      ]
    },
    {
      "cell_type": "markdown",
      "source": [
        "### Monetary Score"
      ],
      "metadata": {
        "id": "vo49q3PqnTtk"
      }
    },
    {
      "cell_type": "code",
      "source": [
        "# create a dictionary with the monetary quantiles\n",
        "monetary_dict = quantiles['monetary'].to_dict()\n",
        "monetary_dict"
      ],
      "metadata": {
        "colab": {
          "base_uri": "https://localhost:8080/"
        },
        "id": "ksB4PS1HnXkg",
        "outputId": "d544dcfc-5f4f-49f6-cb14-ad8405abe42a"
      },
      "execution_count": 81,
      "outputs": [
        {
          "output_type": "execute_result",
          "data": {
            "text/plain": [
              "{0.25: 307.95, 0.5: 705.55, 0.75: 1722.8025}"
            ]
          },
          "metadata": {},
          "execution_count": 81
        }
      ]
    },
    {
      "cell_type": "code",
      "source": [
        "# create a function to calculate monetary score\n",
        "def monetary_score(monetary, monetary_dict):\n",
        "    if monetary <= monetary_dict[0.25]:\n",
        "        # monetary_score = 4 if monetary is between 0-0.25 quantile\n",
        "        return '4'\n",
        "    elif monetary <= monetary_dict[0.5]:\n",
        "        # monetary_score = 3 if monetary is between 0.25-0.5 quantile\n",
        "        return '3'\n",
        "    elif monetary <= monetary_dict[0.75]:\n",
        "        # monetary_score = 2 if monetary is between 0.5-0.75 quantile\n",
        "        return '2'\n",
        "    else:\n",
        "        # monetary_score = 1 if monetary is between 0.75-1 quantile\n",
        "        return '1'\n",
        "\n",
        "df_rfm['monetary_score'] = df_rfm['monetary'].apply(monetary_score, args=(monetary_dict,))\n",
        "df_rfm.head()"
      ],
      "metadata": {
        "colab": {
          "base_uri": "https://localhost:8080/",
          "height": 238
        },
        "id": "UuGqcYI2nc-_",
        "outputId": "0f565b6b-3382-4286-a354-3cb13322070c"
      },
      "execution_count": 82,
      "outputs": [
        {
          "output_type": "execute_result",
          "data": {
            "text/plain": [
              "             recency  frequency  monetary recency_score frequency_score  \\\n",
              "Customer ID                                                               \n",
              "12346            165         11    372.86             4               1   \n",
              "12347              3          2   1323.32             1               3   \n",
              "12348             74          1    222.16             3               4   \n",
              "12349             43          3   2671.14             2               2   \n",
              "12351             11          1    300.93             1               4   \n",
              "\n",
              "            monetary_score  \n",
              "Customer ID                 \n",
              "12346                    3  \n",
              "12347                    2  \n",
              "12348                    4  \n",
              "12349                    1  \n",
              "12351                    4  "
            ],
            "text/html": [
              "\n",
              "  <div id=\"df-35509010-cb23-49d7-9605-618b3fe4b3e6\">\n",
              "    <div class=\"colab-df-container\">\n",
              "      <div>\n",
              "<style scoped>\n",
              "    .dataframe tbody tr th:only-of-type {\n",
              "        vertical-align: middle;\n",
              "    }\n",
              "\n",
              "    .dataframe tbody tr th {\n",
              "        vertical-align: top;\n",
              "    }\n",
              "\n",
              "    .dataframe thead th {\n",
              "        text-align: right;\n",
              "    }\n",
              "</style>\n",
              "<table border=\"1\" class=\"dataframe\">\n",
              "  <thead>\n",
              "    <tr style=\"text-align: right;\">\n",
              "      <th></th>\n",
              "      <th>recency</th>\n",
              "      <th>frequency</th>\n",
              "      <th>monetary</th>\n",
              "      <th>recency_score</th>\n",
              "      <th>frequency_score</th>\n",
              "      <th>monetary_score</th>\n",
              "    </tr>\n",
              "    <tr>\n",
              "      <th>Customer ID</th>\n",
              "      <th></th>\n",
              "      <th></th>\n",
              "      <th></th>\n",
              "      <th></th>\n",
              "      <th></th>\n",
              "      <th></th>\n",
              "    </tr>\n",
              "  </thead>\n",
              "  <tbody>\n",
              "    <tr>\n",
              "      <th>12346</th>\n",
              "      <td>165</td>\n",
              "      <td>11</td>\n",
              "      <td>372.86</td>\n",
              "      <td>4</td>\n",
              "      <td>1</td>\n",
              "      <td>3</td>\n",
              "    </tr>\n",
              "    <tr>\n",
              "      <th>12347</th>\n",
              "      <td>3</td>\n",
              "      <td>2</td>\n",
              "      <td>1323.32</td>\n",
              "      <td>1</td>\n",
              "      <td>3</td>\n",
              "      <td>2</td>\n",
              "    </tr>\n",
              "    <tr>\n",
              "      <th>12348</th>\n",
              "      <td>74</td>\n",
              "      <td>1</td>\n",
              "      <td>222.16</td>\n",
              "      <td>3</td>\n",
              "      <td>4</td>\n",
              "      <td>4</td>\n",
              "    </tr>\n",
              "    <tr>\n",
              "      <th>12349</th>\n",
              "      <td>43</td>\n",
              "      <td>3</td>\n",
              "      <td>2671.14</td>\n",
              "      <td>2</td>\n",
              "      <td>2</td>\n",
              "      <td>1</td>\n",
              "    </tr>\n",
              "    <tr>\n",
              "      <th>12351</th>\n",
              "      <td>11</td>\n",
              "      <td>1</td>\n",
              "      <td>300.93</td>\n",
              "      <td>1</td>\n",
              "      <td>4</td>\n",
              "      <td>4</td>\n",
              "    </tr>\n",
              "  </tbody>\n",
              "</table>\n",
              "</div>\n",
              "      <button class=\"colab-df-convert\" onclick=\"convertToInteractive('df-35509010-cb23-49d7-9605-618b3fe4b3e6')\"\n",
              "              title=\"Convert this dataframe to an interactive table.\"\n",
              "              style=\"display:none;\">\n",
              "        \n",
              "  <svg xmlns=\"http://www.w3.org/2000/svg\" height=\"24px\"viewBox=\"0 0 24 24\"\n",
              "       width=\"24px\">\n",
              "    <path d=\"M0 0h24v24H0V0z\" fill=\"none\"/>\n",
              "    <path d=\"M18.56 5.44l.94 2.06.94-2.06 2.06-.94-2.06-.94-.94-2.06-.94 2.06-2.06.94zm-11 1L8.5 8.5l.94-2.06 2.06-.94-2.06-.94L8.5 2.5l-.94 2.06-2.06.94zm10 10l.94 2.06.94-2.06 2.06-.94-2.06-.94-.94-2.06-.94 2.06-2.06.94z\"/><path d=\"M17.41 7.96l-1.37-1.37c-.4-.4-.92-.59-1.43-.59-.52 0-1.04.2-1.43.59L10.3 9.45l-7.72 7.72c-.78.78-.78 2.05 0 2.83L4 21.41c.39.39.9.59 1.41.59.51 0 1.02-.2 1.41-.59l7.78-7.78 2.81-2.81c.8-.78.8-2.07 0-2.86zM5.41 20L4 18.59l7.72-7.72 1.47 1.35L5.41 20z\"/>\n",
              "  </svg>\n",
              "      </button>\n",
              "      \n",
              "  <style>\n",
              "    .colab-df-container {\n",
              "      display:flex;\n",
              "      flex-wrap:wrap;\n",
              "      gap: 12px;\n",
              "    }\n",
              "\n",
              "    .colab-df-convert {\n",
              "      background-color: #E8F0FE;\n",
              "      border: none;\n",
              "      border-radius: 50%;\n",
              "      cursor: pointer;\n",
              "      display: none;\n",
              "      fill: #1967D2;\n",
              "      height: 32px;\n",
              "      padding: 0 0 0 0;\n",
              "      width: 32px;\n",
              "    }\n",
              "\n",
              "    .colab-df-convert:hover {\n",
              "      background-color: #E2EBFA;\n",
              "      box-shadow: 0px 1px 2px rgba(60, 64, 67, 0.3), 0px 1px 3px 1px rgba(60, 64, 67, 0.15);\n",
              "      fill: #174EA6;\n",
              "    }\n",
              "\n",
              "    [theme=dark] .colab-df-convert {\n",
              "      background-color: #3B4455;\n",
              "      fill: #D2E3FC;\n",
              "    }\n",
              "\n",
              "    [theme=dark] .colab-df-convert:hover {\n",
              "      background-color: #434B5C;\n",
              "      box-shadow: 0px 1px 3px 1px rgba(0, 0, 0, 0.15);\n",
              "      filter: drop-shadow(0px 1px 2px rgba(0, 0, 0, 0.3));\n",
              "      fill: #FFFFFF;\n",
              "    }\n",
              "  </style>\n",
              "\n",
              "      <script>\n",
              "        const buttonEl =\n",
              "          document.querySelector('#df-35509010-cb23-49d7-9605-618b3fe4b3e6 button.colab-df-convert');\n",
              "        buttonEl.style.display =\n",
              "          google.colab.kernel.accessAllowed ? 'block' : 'none';\n",
              "\n",
              "        async function convertToInteractive(key) {\n",
              "          const element = document.querySelector('#df-35509010-cb23-49d7-9605-618b3fe4b3e6');\n",
              "          const dataTable =\n",
              "            await google.colab.kernel.invokeFunction('convertToInteractive',\n",
              "                                                     [key], {});\n",
              "          if (!dataTable) return;\n",
              "\n",
              "          const docLinkHtml = 'Like what you see? Visit the ' +\n",
              "            '<a target=\"_blank\" href=https://colab.research.google.com/notebooks/data_table.ipynb>data table notebook</a>'\n",
              "            + ' to learn more about interactive tables.';\n",
              "          element.innerHTML = '';\n",
              "          dataTable['output_type'] = 'display_data';\n",
              "          await google.colab.output.renderOutput(dataTable, element);\n",
              "          const docLink = document.createElement('div');\n",
              "          docLink.innerHTML = docLinkHtml;\n",
              "          element.appendChild(docLink);\n",
              "        }\n",
              "      </script>\n",
              "    </div>\n",
              "  </div>\n",
              "  "
            ]
          },
          "metadata": {},
          "execution_count": 82
        }
      ]
    },
    {
      "cell_type": "markdown",
      "source": [
        "#### Concatenate the RFM Scores"
      ],
      "metadata": {
        "id": "HwO6yjAXnXTm"
      }
    },
    {
      "cell_type": "code",
      "source": [
        "df_rfm['rfm_score'] = df_rfm['recency_score'] + df_rfm['frequency_score'] + df_rfm['monetary_score']\n",
        "df_rfm.head(10)"
      ],
      "metadata": {
        "colab": {
          "base_uri": "https://localhost:8080/",
          "height": 394
        },
        "id": "vwwYXjqYoBxg",
        "outputId": "272837ab-e95e-4c58-8488-1e3a71598551"
      },
      "execution_count": 83,
      "outputs": [
        {
          "output_type": "execute_result",
          "data": {
            "text/plain": [
              "             recency  frequency  monetary recency_score frequency_score  \\\n",
              "Customer ID                                                               \n",
              "12346            165         11    372.86             4               1   \n",
              "12347              3          2   1323.32             1               3   \n",
              "12348             74          1    222.16             3               4   \n",
              "12349             43          3   2671.14             2               2   \n",
              "12351             11          1    300.93             1               4   \n",
              "12352             11          2    343.80             1               3   \n",
              "12353             44          1    317.76             2               4   \n",
              "12355            203          1    488.21             4               4   \n",
              "12356             16          3   3562.25             1               2   \n",
              "12357             24          2  12079.99             2               3   \n",
              "\n",
              "            monetary_score rfm_score  \n",
              "Customer ID                           \n",
              "12346                    3       413  \n",
              "12347                    2       132  \n",
              "12348                    4       344  \n",
              "12349                    1       221  \n",
              "12351                    4       144  \n",
              "12352                    3       133  \n",
              "12353                    3       243  \n",
              "12355                    3       443  \n",
              "12356                    1       121  \n",
              "12357                    1       231  "
            ],
            "text/html": [
              "\n",
              "  <div id=\"df-e2a15467-c302-4ae0-bd72-0409d18478ff\">\n",
              "    <div class=\"colab-df-container\">\n",
              "      <div>\n",
              "<style scoped>\n",
              "    .dataframe tbody tr th:only-of-type {\n",
              "        vertical-align: middle;\n",
              "    }\n",
              "\n",
              "    .dataframe tbody tr th {\n",
              "        vertical-align: top;\n",
              "    }\n",
              "\n",
              "    .dataframe thead th {\n",
              "        text-align: right;\n",
              "    }\n",
              "</style>\n",
              "<table border=\"1\" class=\"dataframe\">\n",
              "  <thead>\n",
              "    <tr style=\"text-align: right;\">\n",
              "      <th></th>\n",
              "      <th>recency</th>\n",
              "      <th>frequency</th>\n",
              "      <th>monetary</th>\n",
              "      <th>recency_score</th>\n",
              "      <th>frequency_score</th>\n",
              "      <th>monetary_score</th>\n",
              "      <th>rfm_score</th>\n",
              "    </tr>\n",
              "    <tr>\n",
              "      <th>Customer ID</th>\n",
              "      <th></th>\n",
              "      <th></th>\n",
              "      <th></th>\n",
              "      <th></th>\n",
              "      <th></th>\n",
              "      <th></th>\n",
              "      <th></th>\n",
              "    </tr>\n",
              "  </thead>\n",
              "  <tbody>\n",
              "    <tr>\n",
              "      <th>12346</th>\n",
              "      <td>165</td>\n",
              "      <td>11</td>\n",
              "      <td>372.86</td>\n",
              "      <td>4</td>\n",
              "      <td>1</td>\n",
              "      <td>3</td>\n",
              "      <td>413</td>\n",
              "    </tr>\n",
              "    <tr>\n",
              "      <th>12347</th>\n",
              "      <td>3</td>\n",
              "      <td>2</td>\n",
              "      <td>1323.32</td>\n",
              "      <td>1</td>\n",
              "      <td>3</td>\n",
              "      <td>2</td>\n",
              "      <td>132</td>\n",
              "    </tr>\n",
              "    <tr>\n",
              "      <th>12348</th>\n",
              "      <td>74</td>\n",
              "      <td>1</td>\n",
              "      <td>222.16</td>\n",
              "      <td>3</td>\n",
              "      <td>4</td>\n",
              "      <td>4</td>\n",
              "      <td>344</td>\n",
              "    </tr>\n",
              "    <tr>\n",
              "      <th>12349</th>\n",
              "      <td>43</td>\n",
              "      <td>3</td>\n",
              "      <td>2671.14</td>\n",
              "      <td>2</td>\n",
              "      <td>2</td>\n",
              "      <td>1</td>\n",
              "      <td>221</td>\n",
              "    </tr>\n",
              "    <tr>\n",
              "      <th>12351</th>\n",
              "      <td>11</td>\n",
              "      <td>1</td>\n",
              "      <td>300.93</td>\n",
              "      <td>1</td>\n",
              "      <td>4</td>\n",
              "      <td>4</td>\n",
              "      <td>144</td>\n",
              "    </tr>\n",
              "    <tr>\n",
              "      <th>12352</th>\n",
              "      <td>11</td>\n",
              "      <td>2</td>\n",
              "      <td>343.80</td>\n",
              "      <td>1</td>\n",
              "      <td>3</td>\n",
              "      <td>3</td>\n",
              "      <td>133</td>\n",
              "    </tr>\n",
              "    <tr>\n",
              "      <th>12353</th>\n",
              "      <td>44</td>\n",
              "      <td>1</td>\n",
              "      <td>317.76</td>\n",
              "      <td>2</td>\n",
              "      <td>4</td>\n",
              "      <td>3</td>\n",
              "      <td>243</td>\n",
              "    </tr>\n",
              "    <tr>\n",
              "      <th>12355</th>\n",
              "      <td>203</td>\n",
              "      <td>1</td>\n",
              "      <td>488.21</td>\n",
              "      <td>4</td>\n",
              "      <td>4</td>\n",
              "      <td>3</td>\n",
              "      <td>443</td>\n",
              "    </tr>\n",
              "    <tr>\n",
              "      <th>12356</th>\n",
              "      <td>16</td>\n",
              "      <td>3</td>\n",
              "      <td>3562.25</td>\n",
              "      <td>1</td>\n",
              "      <td>2</td>\n",
              "      <td>1</td>\n",
              "      <td>121</td>\n",
              "    </tr>\n",
              "    <tr>\n",
              "      <th>12357</th>\n",
              "      <td>24</td>\n",
              "      <td>2</td>\n",
              "      <td>12079.99</td>\n",
              "      <td>2</td>\n",
              "      <td>3</td>\n",
              "      <td>1</td>\n",
              "      <td>231</td>\n",
              "    </tr>\n",
              "  </tbody>\n",
              "</table>\n",
              "</div>\n",
              "      <button class=\"colab-df-convert\" onclick=\"convertToInteractive('df-e2a15467-c302-4ae0-bd72-0409d18478ff')\"\n",
              "              title=\"Convert this dataframe to an interactive table.\"\n",
              "              style=\"display:none;\">\n",
              "        \n",
              "  <svg xmlns=\"http://www.w3.org/2000/svg\" height=\"24px\"viewBox=\"0 0 24 24\"\n",
              "       width=\"24px\">\n",
              "    <path d=\"M0 0h24v24H0V0z\" fill=\"none\"/>\n",
              "    <path d=\"M18.56 5.44l.94 2.06.94-2.06 2.06-.94-2.06-.94-.94-2.06-.94 2.06-2.06.94zm-11 1L8.5 8.5l.94-2.06 2.06-.94-2.06-.94L8.5 2.5l-.94 2.06-2.06.94zm10 10l.94 2.06.94-2.06 2.06-.94-2.06-.94-.94-2.06-.94 2.06-2.06.94z\"/><path d=\"M17.41 7.96l-1.37-1.37c-.4-.4-.92-.59-1.43-.59-.52 0-1.04.2-1.43.59L10.3 9.45l-7.72 7.72c-.78.78-.78 2.05 0 2.83L4 21.41c.39.39.9.59 1.41.59.51 0 1.02-.2 1.41-.59l7.78-7.78 2.81-2.81c.8-.78.8-2.07 0-2.86zM5.41 20L4 18.59l7.72-7.72 1.47 1.35L5.41 20z\"/>\n",
              "  </svg>\n",
              "      </button>\n",
              "      \n",
              "  <style>\n",
              "    .colab-df-container {\n",
              "      display:flex;\n",
              "      flex-wrap:wrap;\n",
              "      gap: 12px;\n",
              "    }\n",
              "\n",
              "    .colab-df-convert {\n",
              "      background-color: #E8F0FE;\n",
              "      border: none;\n",
              "      border-radius: 50%;\n",
              "      cursor: pointer;\n",
              "      display: none;\n",
              "      fill: #1967D2;\n",
              "      height: 32px;\n",
              "      padding: 0 0 0 0;\n",
              "      width: 32px;\n",
              "    }\n",
              "\n",
              "    .colab-df-convert:hover {\n",
              "      background-color: #E2EBFA;\n",
              "      box-shadow: 0px 1px 2px rgba(60, 64, 67, 0.3), 0px 1px 3px 1px rgba(60, 64, 67, 0.15);\n",
              "      fill: #174EA6;\n",
              "    }\n",
              "\n",
              "    [theme=dark] .colab-df-convert {\n",
              "      background-color: #3B4455;\n",
              "      fill: #D2E3FC;\n",
              "    }\n",
              "\n",
              "    [theme=dark] .colab-df-convert:hover {\n",
              "      background-color: #434B5C;\n",
              "      box-shadow: 0px 1px 3px 1px rgba(0, 0, 0, 0.15);\n",
              "      filter: drop-shadow(0px 1px 2px rgba(0, 0, 0, 0.3));\n",
              "      fill: #FFFFFF;\n",
              "    }\n",
              "  </style>\n",
              "\n",
              "      <script>\n",
              "        const buttonEl =\n",
              "          document.querySelector('#df-e2a15467-c302-4ae0-bd72-0409d18478ff button.colab-df-convert');\n",
              "        buttonEl.style.display =\n",
              "          google.colab.kernel.accessAllowed ? 'block' : 'none';\n",
              "\n",
              "        async function convertToInteractive(key) {\n",
              "          const element = document.querySelector('#df-e2a15467-c302-4ae0-bd72-0409d18478ff');\n",
              "          const dataTable =\n",
              "            await google.colab.kernel.invokeFunction('convertToInteractive',\n",
              "                                                     [key], {});\n",
              "          if (!dataTable) return;\n",
              "\n",
              "          const docLinkHtml = 'Like what you see? Visit the ' +\n",
              "            '<a target=\"_blank\" href=https://colab.research.google.com/notebooks/data_table.ipynb>data table notebook</a>'\n",
              "            + ' to learn more about interactive tables.';\n",
              "          element.innerHTML = '';\n",
              "          dataTable['output_type'] = 'display_data';\n",
              "          await google.colab.output.renderOutput(dataTable, element);\n",
              "          const docLink = document.createElement('div');\n",
              "          docLink.innerHTML = docLinkHtml;\n",
              "          element.appendChild(docLink);\n",
              "        }\n",
              "      </script>\n",
              "    </div>\n",
              "  </div>\n",
              "  "
            ]
          },
          "metadata": {},
          "execution_count": 83
        }
      ]
    },
    {
      "cell_type": "markdown",
      "source": [
        "The resulting table shows corresponding RFM scores for each customer. We can now analyze each segment and create personalized recommendations for each customer."
      ],
      "metadata": {
        "id": "MGKBSglYA3K7"
      }
    },
    {
      "cell_type": "markdown",
      "source": [
        "## RFM Results\n",
        "\n",
        "Recall our RFM score segmentation:"
      ],
      "metadata": {
        "id": "hyq9qSkdBkk6"
      }
    },
    {
      "cell_type": "markdown",
      "source": [
        "![rfm_business.png](data:image/png;base64,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)"
      ],
      "metadata": {
        "id": "NCiGXoD91flJ"
      }
    },
    {
      "cell_type": "markdown",
      "source": [
        "### How many customers do we have in each segment?\n",
        "\n",
        "To get the counts of customers for each segment, we use the filtering techniques we learned from pandas."
      ],
      "metadata": {
        "id": "lwDAhOTyqEph"
      }
    },
    {
      "cell_type": "code",
      "source": [
        "print(\"Best Customers\")\n",
        "len(df_rfm[df_rfm['rfm_score']=='111'])"
      ],
      "metadata": {
        "colab": {
          "base_uri": "https://localhost:8080/"
        },
        "id": "Mazl5Xge1p67",
        "outputId": "b70231d2-cc4d-4303-8cb2-465d6dd3f364"
      },
      "execution_count": 84,
      "outputs": [
        {
          "output_type": "stream",
          "name": "stdout",
          "text": [
            "Best Customers\n"
          ]
        },
        {
          "output_type": "execute_result",
          "data": {
            "text/plain": [
              "441"
            ]
          },
          "metadata": {},
          "execution_count": 84
        }
      ]
    },
    {
      "cell_type": "code",
      "source": [
        "# let's store the segment counts in a dictionary\n",
        "segment_counts = {'best_customers (111)': len(df_rfm[df_rfm['rfm_score']=='111']),\n",
        "                  'loyal_customers (X1X)': len(df_rfm[df_rfm['frequency_score']=='1']),\n",
        "                  'big_spenders (XX1)': len(df_rfm[df_rfm['monetary_score']=='1']),\n",
        "                  'almost_lost (311)': len(df_rfm[df_rfm['rfm_score']=='311']),\n",
        "                  'lost_good_customers (411)': len(df_rfm[df_rfm['rfm_score']=='411']),\n",
        "                  'lost_cheap_customers (444)': len(df_rfm[df_rfm['rfm_score']=='444'])}"
      ],
      "metadata": {
        "id": "58oJm6c11agm"
      },
      "execution_count": 85,
      "outputs": []
    },
    {
      "cell_type": "code",
      "source": [
        "# create a dataframe\n",
        "df_counts = pd.DataFrame(segment_counts.values(), index=segment_counts.keys(), columns=['counts'])\n",
        "df_counts"
      ],
      "metadata": {
        "colab": {
          "base_uri": "https://localhost:8080/",
          "height": 238
        },
        "id": "f3a7fpC_3EXu",
        "outputId": "9e36473e-eedd-4577-a78d-7893446da75f"
      },
      "execution_count": 86,
      "outputs": [
        {
          "output_type": "execute_result",
          "data": {
            "text/plain": [
              "                            counts\n",
              "best_customers (111)           441\n",
              "loyal_customers (X1X)          942\n",
              "big_spenders (XX1)            1079\n",
              "almost_lost (311)               98\n",
              "lost_good_customers (411)       16\n",
              "lost_cheap_customers (444)     463"
            ],
            "text/html": [
              "\n",
              "  <div id=\"df-e9c7b000-51d5-4126-b318-f5f51146cb0f\">\n",
              "    <div class=\"colab-df-container\">\n",
              "      <div>\n",
              "<style scoped>\n",
              "    .dataframe tbody tr th:only-of-type {\n",
              "        vertical-align: middle;\n",
              "    }\n",
              "\n",
              "    .dataframe tbody tr th {\n",
              "        vertical-align: top;\n",
              "    }\n",
              "\n",
              "    .dataframe thead th {\n",
              "        text-align: right;\n",
              "    }\n",
              "</style>\n",
              "<table border=\"1\" class=\"dataframe\">\n",
              "  <thead>\n",
              "    <tr style=\"text-align: right;\">\n",
              "      <th></th>\n",
              "      <th>counts</th>\n",
              "    </tr>\n",
              "  </thead>\n",
              "  <tbody>\n",
              "    <tr>\n",
              "      <th>best_customers (111)</th>\n",
              "      <td>441</td>\n",
              "    </tr>\n",
              "    <tr>\n",
              "      <th>loyal_customers (X1X)</th>\n",
              "      <td>942</td>\n",
              "    </tr>\n",
              "    <tr>\n",
              "      <th>big_spenders (XX1)</th>\n",
              "      <td>1079</td>\n",
              "    </tr>\n",
              "    <tr>\n",
              "      <th>almost_lost (311)</th>\n",
              "      <td>98</td>\n",
              "    </tr>\n",
              "    <tr>\n",
              "      <th>lost_good_customers (411)</th>\n",
              "      <td>16</td>\n",
              "    </tr>\n",
              "    <tr>\n",
              "      <th>lost_cheap_customers (444)</th>\n",
              "      <td>463</td>\n",
              "    </tr>\n",
              "  </tbody>\n",
              "</table>\n",
              "</div>\n",
              "      <button class=\"colab-df-convert\" onclick=\"convertToInteractive('df-e9c7b000-51d5-4126-b318-f5f51146cb0f')\"\n",
              "              title=\"Convert this dataframe to an interactive table.\"\n",
              "              style=\"display:none;\">\n",
              "        \n",
              "  <svg xmlns=\"http://www.w3.org/2000/svg\" height=\"24px\"viewBox=\"0 0 24 24\"\n",
              "       width=\"24px\">\n",
              "    <path d=\"M0 0h24v24H0V0z\" fill=\"none\"/>\n",
              "    <path d=\"M18.56 5.44l.94 2.06.94-2.06 2.06-.94-2.06-.94-.94-2.06-.94 2.06-2.06.94zm-11 1L8.5 8.5l.94-2.06 2.06-.94-2.06-.94L8.5 2.5l-.94 2.06-2.06.94zm10 10l.94 2.06.94-2.06 2.06-.94-2.06-.94-.94-2.06-.94 2.06-2.06.94z\"/><path d=\"M17.41 7.96l-1.37-1.37c-.4-.4-.92-.59-1.43-.59-.52 0-1.04.2-1.43.59L10.3 9.45l-7.72 7.72c-.78.78-.78 2.05 0 2.83L4 21.41c.39.39.9.59 1.41.59.51 0 1.02-.2 1.41-.59l7.78-7.78 2.81-2.81c.8-.78.8-2.07 0-2.86zM5.41 20L4 18.59l7.72-7.72 1.47 1.35L5.41 20z\"/>\n",
              "  </svg>\n",
              "      </button>\n",
              "      \n",
              "  <style>\n",
              "    .colab-df-container {\n",
              "      display:flex;\n",
              "      flex-wrap:wrap;\n",
              "      gap: 12px;\n",
              "    }\n",
              "\n",
              "    .colab-df-convert {\n",
              "      background-color: #E8F0FE;\n",
              "      border: none;\n",
              "      border-radius: 50%;\n",
              "      cursor: pointer;\n",
              "      display: none;\n",
              "      fill: #1967D2;\n",
              "      height: 32px;\n",
              "      padding: 0 0 0 0;\n",
              "      width: 32px;\n",
              "    }\n",
              "\n",
              "    .colab-df-convert:hover {\n",
              "      background-color: #E2EBFA;\n",
              "      box-shadow: 0px 1px 2px rgba(60, 64, 67, 0.3), 0px 1px 3px 1px rgba(60, 64, 67, 0.15);\n",
              "      fill: #174EA6;\n",
              "    }\n",
              "\n",
              "    [theme=dark] .colab-df-convert {\n",
              "      background-color: #3B4455;\n",
              "      fill: #D2E3FC;\n",
              "    }\n",
              "\n",
              "    [theme=dark] .colab-df-convert:hover {\n",
              "      background-color: #434B5C;\n",
              "      box-shadow: 0px 1px 3px 1px rgba(0, 0, 0, 0.15);\n",
              "      filter: drop-shadow(0px 1px 2px rgba(0, 0, 0, 0.3));\n",
              "      fill: #FFFFFF;\n",
              "    }\n",
              "  </style>\n",
              "\n",
              "      <script>\n",
              "        const buttonEl =\n",
              "          document.querySelector('#df-e9c7b000-51d5-4126-b318-f5f51146cb0f button.colab-df-convert');\n",
              "        buttonEl.style.display =\n",
              "          google.colab.kernel.accessAllowed ? 'block' : 'none';\n",
              "\n",
              "        async function convertToInteractive(key) {\n",
              "          const element = document.querySelector('#df-e9c7b000-51d5-4126-b318-f5f51146cb0f');\n",
              "          const dataTable =\n",
              "            await google.colab.kernel.invokeFunction('convertToInteractive',\n",
              "                                                     [key], {});\n",
              "          if (!dataTable) return;\n",
              "\n",
              "          const docLinkHtml = 'Like what you see? Visit the ' +\n",
              "            '<a target=\"_blank\" href=https://colab.research.google.com/notebooks/data_table.ipynb>data table notebook</a>'\n",
              "            + ' to learn more about interactive tables.';\n",
              "          element.innerHTML = '';\n",
              "          dataTable['output_type'] = 'display_data';\n",
              "          await google.colab.output.renderOutput(dataTable, element);\n",
              "          const docLink = document.createElement('div');\n",
              "          docLink.innerHTML = docLinkHtml;\n",
              "          element.appendChild(docLink);\n",
              "        }\n",
              "      </script>\n",
              "    </div>\n",
              "  </div>\n",
              "  "
            ]
          },
          "metadata": {},
          "execution_count": 86
        }
      ]
    },
    {
      "cell_type": "code",
      "source": [
        "# plot the counts\n",
        "fig, ax = plt.subplots(figsize=(12,7))\n",
        "df_counts.plot(kind='barh', ax=ax, legend=False)\n",
        "ax.set_title('RFM Customer Segments')\n",
        "ax.set_ylabel('# Customers per Segment')"
      ],
      "metadata": {
        "colab": {
          "base_uri": "https://localhost:8080/",
          "height": 639
        },
        "id": "Aiw2G6jr3cDR",
        "outputId": "497cc248-29ac-4e5b-dd48-9829e8d50fa0"
      },
      "execution_count": 87,
      "outputs": [
        {
          "output_type": "execute_result",
          "data": {
            "text/plain": [
              "Text(0, 0.5, '# Customers per Segment')"
            ]
          },
          "metadata": {},
          "execution_count": 87
        },
        {
          "output_type": "display_data",
          "data": {
            "text/plain": [
              "<Figure size 1200x700 with 1 Axes>"
            ],
            "image/png": "[encoded data removed]"
          },
          "metadata": {}
        }
      ]
    },
    {
      "cell_type": "markdown",
      "source": [
        "From the results, we can separate which customers are lost (no recent transactions) or which customers are consistently purchasing.\n",
        "\n",
        "Note that the total counts of all these segments are not equal to the total counts of our customers. This is because we have some segments that are generic (big_spenders looking only at the monetary value, loyal_customers looking only at the frequency). Let's re-create the bar plot using the percentages to get a better picture of our customers."
      ],
      "metadata": {
        "id": "ranxf85c26he"
      }
    },
    {
      "cell_type": "code",
      "source": [
        "# get percentages\n",
        "customer_count = df['Customer ID'].nunique()\n",
        "\n",
        "df_counts['pct'] = df_counts['counts']/customer_count\n",
        "df_counts"
      ],
      "metadata": {
        "colab": {
          "base_uri": "https://localhost:8080/",
          "height": 238
        },
        "id": "qQQn2Zxq5Ato",
        "outputId": "a77860da-7184-4bc7-d372-3f90fe7baf8f"
      },
      "execution_count": 88,
      "outputs": [
        {
          "output_type": "execute_result",
          "data": {
            "text/plain": [
              "                            counts       pct\n",
              "best_customers (111)           441  0.102225\n",
              "loyal_customers (X1X)          942  0.218359\n",
              "big_spenders (XX1)            1079  0.250116\n",
              "almost_lost (311)               98  0.022717\n",
              "lost_good_customers (411)       16  0.003709\n",
              "lost_cheap_customers (444)     463  0.107325"
            ],
            "text/html": [
              "\n",
              "  <div id=\"df-f7e88e08-3375-40ce-8eea-54bf94e81d95\">\n",
              "    <div class=\"colab-df-container\">\n",
              "      <div>\n",
              "<style scoped>\n",
              "    .dataframe tbody tr th:only-of-type {\n",
              "        vertical-align: middle;\n",
              "    }\n",
              "\n",
              "    .dataframe tbody tr th {\n",
              "        vertical-align: top;\n",
              "    }\n",
              "\n",
              "    .dataframe thead th {\n",
              "        text-align: right;\n",
              "    }\n",
              "</style>\n",
              "<table border=\"1\" class=\"dataframe\">\n",
              "  <thead>\n",
              "    <tr style=\"text-align: right;\">\n",
              "      <th></th>\n",
              "      <th>counts</th>\n",
              "      <th>pct</th>\n",
              "    </tr>\n",
              "  </thead>\n",
              "  <tbody>\n",
              "    <tr>\n",
              "      <th>best_customers (111)</th>\n",
              "      <td>441</td>\n",
              "      <td>0.102225</td>\n",
              "    </tr>\n",
              "    <tr>\n",
              "      <th>loyal_customers (X1X)</th>\n",
              "      <td>942</td>\n",
              "      <td>0.218359</td>\n",
              "    </tr>\n",
              "    <tr>\n",
              "      <th>big_spenders (XX1)</th>\n",
              "      <td>1079</td>\n",
              "      <td>0.250116</td>\n",
              "    </tr>\n",
              "    <tr>\n",
              "      <th>almost_lost (311)</th>\n",
              "      <td>98</td>\n",
              "      <td>0.022717</td>\n",
              "    </tr>\n",
              "    <tr>\n",
              "      <th>lost_good_customers (411)</th>\n",
              "      <td>16</td>\n",
              "      <td>0.003709</td>\n",
              "    </tr>\n",
              "    <tr>\n",
              "      <th>lost_cheap_customers (444)</th>\n",
              "      <td>463</td>\n",
              "      <td>0.107325</td>\n",
              "    </tr>\n",
              "  </tbody>\n",
              "</table>\n",
              "</div>\n",
              "      <button class=\"colab-df-convert\" onclick=\"convertToInteractive('df-f7e88e08-3375-40ce-8eea-54bf94e81d95')\"\n",
              "              title=\"Convert this dataframe to an interactive table.\"\n",
              "              style=\"display:none;\">\n",
              "        \n",
              "  <svg xmlns=\"http://www.w3.org/2000/svg\" height=\"24px\"viewBox=\"0 0 24 24\"\n",
              "       width=\"24px\">\n",
              "    <path d=\"M0 0h24v24H0V0z\" fill=\"none\"/>\n",
              "    <path d=\"M18.56 5.44l.94 2.06.94-2.06 2.06-.94-2.06-.94-.94-2.06-.94 2.06-2.06.94zm-11 1L8.5 8.5l.94-2.06 2.06-.94-2.06-.94L8.5 2.5l-.94 2.06-2.06.94zm10 10l.94 2.06.94-2.06 2.06-.94-2.06-.94-.94-2.06-.94 2.06-2.06.94z\"/><path d=\"M17.41 7.96l-1.37-1.37c-.4-.4-.92-.59-1.43-.59-.52 0-1.04.2-1.43.59L10.3 9.45l-7.72 7.72c-.78.78-.78 2.05 0 2.83L4 21.41c.39.39.9.59 1.41.59.51 0 1.02-.2 1.41-.59l7.78-7.78 2.81-2.81c.8-.78.8-2.07 0-2.86zM5.41 20L4 18.59l7.72-7.72 1.47 1.35L5.41 20z\"/>\n",
              "  </svg>\n",
              "      </button>\n",
              "      \n",
              "  <style>\n",
              "    .colab-df-container {\n",
              "      display:flex;\n",
              "      flex-wrap:wrap;\n",
              "      gap: 12px;\n",
              "    }\n",
              "\n",
              "    .colab-df-convert {\n",
              "      background-color: #E8F0FE;\n",
              "      border: none;\n",
              "      border-radius: 50%;\n",
              "      cursor: pointer;\n",
              "      display: none;\n",
              "      fill: #1967D2;\n",
              "      height: 32px;\n",
              "      padding: 0 0 0 0;\n",
              "      width: 32px;\n",
              "    }\n",
              "\n",
              "    .colab-df-convert:hover {\n",
              "      background-color: #E2EBFA;\n",
              "      box-shadow: 0px 1px 2px rgba(60, 64, 67, 0.3), 0px 1px 3px 1px rgba(60, 64, 67, 0.15);\n",
              "      fill: #174EA6;\n",
              "    }\n",
              "\n",
              "    [theme=dark] .colab-df-convert {\n",
              "      background-color: #3B4455;\n",
              "      fill: #D2E3FC;\n",
              "    }\n",
              "\n",
              "    [theme=dark] .colab-df-convert:hover {\n",
              "      background-color: #434B5C;\n",
              "      box-shadow: 0px 1px 3px 1px rgba(0, 0, 0, 0.15);\n",
              "      filter: drop-shadow(0px 1px 2px rgba(0, 0, 0, 0.3));\n",
              "      fill: #FFFFFF;\n",
              "    }\n",
              "  </style>\n",
              "\n",
              "      <script>\n",
              "        const buttonEl =\n",
              "          document.querySelector('#df-f7e88e08-3375-40ce-8eea-54bf94e81d95 button.colab-df-convert');\n",
              "        buttonEl.style.display =\n",
              "          google.colab.kernel.accessAllowed ? 'block' : 'none';\n",
              "\n",
              "        async function convertToInteractive(key) {\n",
              "          const element = document.querySelector('#df-f7e88e08-3375-40ce-8eea-54bf94e81d95');\n",
              "          const dataTable =\n",
              "            await google.colab.kernel.invokeFunction('convertToInteractive',\n",
              "                                                     [key], {});\n",
              "          if (!dataTable) return;\n",
              "\n",
              "          const docLinkHtml = 'Like what you see? Visit the ' +\n",
              "            '<a target=\"_blank\" href=https://colab.research.google.com/notebooks/data_table.ipynb>data table notebook</a>'\n",
              "            + ' to learn more about interactive tables.';\n",
              "          element.innerHTML = '';\n",
              "          dataTable['output_type'] = 'display_data';\n",
              "          await google.colab.output.renderOutput(dataTable, element);\n",
              "          const docLink = document.createElement('div');\n",
              "          docLink.innerHTML = docLinkHtml;\n",
              "          element.appendChild(docLink);\n",
              "        }\n",
              "      </script>\n",
              "    </div>\n",
              "  </div>\n",
              "  "
            ]
          },
          "metadata": {},
          "execution_count": 88
        }
      ]
    },
    {
      "cell_type": "code",
      "source": [
        "# plot the counts\n",
        "fig, ax = plt.subplots(figsize=(12,7))\n",
        "df_counts['pct'].plot(kind='barh', ax=ax, legend=False)\n",
        "ax.set_title('RFM Customer Segments')\n",
        "ax.set_xlabel('% Customers per Segment')"
      ],
      "metadata": {
        "colab": {
          "base_uri": "https://localhost:8080/",
          "height": 658
        },
        "id": "VxpGPa5sjOZ3",
        "outputId": "ab0e89ed-f268-470b-df3b-45464ba49234"
      },
      "execution_count": 89,
      "outputs": [
        {
          "output_type": "execute_result",
          "data": {
            "text/plain": [
              "Text(0.5, 0, '% Customers per Segment')"
            ]
          },
          "metadata": {},
          "execution_count": 89
        },
        {
          "output_type": "display_data",
          "data": {
            "text/plain": [
              "<Figure size 1200x700 with 1 Axes>"
            ],
            "image/png": "[encoded data removed]"
          },
          "metadata": {}
        }
      ]
    },
    {
      "cell_type": "markdown",
      "source": [
        "With these percentages, we see that around 11% of the customer base (lost_cheap_customers + lost_good_customers) are lost. Most of which are the infrequent and low value customers.\n",
        "\n",
        "On the opposite end, our best customers (recent, high frequency, and high value) also takes 10% of the total."
      ],
      "metadata": {
        "id": "PPYn4zBtkkDS"
      }
    },
    {
      "cell_type": "markdown",
      "source": [
        "### Who are our Top Customers?\n",
        "\n",
        "The top customers are expected to fall in the 111 segment. We filter our table and sort them by monetary value."
      ],
      "metadata": {
        "id": "eQ6J6V73qH2i"
      }
    },
    {
      "cell_type": "code",
      "source": [
        "df_rfm[df_rfm['rfm_score']=='111'].sort_values('monetary', ascending=False).head(10)"
      ],
      "metadata": {
        "colab": {
          "base_uri": "https://localhost:8080/",
          "height": 394
        },
        "id": "Pnz1C3q9mJS0",
        "outputId": "13d44e9b-7b60-43ab-b43b-40362a2e7c1f"
      },
      "execution_count": 90,
      "outputs": [
        {
          "output_type": "execute_result",
          "data": {
            "text/plain": [
              "             recency  frequency   monetary recency_score frequency_score  \\\n",
              "Customer ID                                                                \n",
              "18102              1         89  349164.35             1               1   \n",
              "14646             10         78  248396.50             1               1   \n",
              "14156              7        102  196566.74             1               1   \n",
              "14911              1        205  152147.57             1               1   \n",
              "13694              9         94  131443.19             1               1   \n",
              "17511              3         31   84541.17             1               1   \n",
              "15061              3         86   83284.38             1               1   \n",
              "16684             15         27   80489.21             1               1   \n",
              "16754              8         29   65500.07             1               1   \n",
              "17949              7         74   60117.60             1               1   \n",
              "\n",
              "            monetary_score rfm_score  \n",
              "Customer ID                           \n",
              "18102                    1       111  \n",
              "14646                    1       111  \n",
              "14156                    1       111  \n",
              "14911                    1       111  \n",
              "13694                    1       111  \n",
              "17511                    1       111  \n",
              "15061                    1       111  \n",
              "16684                    1       111  \n",
              "16754                    1       111  \n",
              "17949                    1       111  "
            ],
            "text/html": [
              "\n",
              "  <div id=\"df-37af9c12-00f3-40a1-a061-d9c144593bfd\">\n",
              "    <div class=\"colab-df-container\">\n",
              "      <div>\n",
              "<style scoped>\n",
              "    .dataframe tbody tr th:only-of-type {\n",
              "        vertical-align: middle;\n",
              "    }\n",
              "\n",
              "    .dataframe tbody tr th {\n",
              "        vertical-align: top;\n",
              "    }\n",
              "\n",
              "    .dataframe thead th {\n",
              "        text-align: right;\n",
              "    }\n",
              "</style>\n",
              "<table border=\"1\" class=\"dataframe\">\n",
              "  <thead>\n",
              "    <tr style=\"text-align: right;\">\n",
              "      <th></th>\n",
              "      <th>recency</th>\n",
              "      <th>frequency</th>\n",
              "      <th>monetary</th>\n",
              "      <th>recency_score</th>\n",
              "      <th>frequency_score</th>\n",
              "      <th>monetary_score</th>\n",
              "      <th>rfm_score</th>\n",
              "    </tr>\n",
              "    <tr>\n",
              "      <th>Customer ID</th>\n",
              "      <th></th>\n",
              "      <th></th>\n",
              "      <th></th>\n",
              "      <th></th>\n",
              "      <th></th>\n",
              "      <th></th>\n",
              "      <th></th>\n",
              "    </tr>\n",
              "  </thead>\n",
              "  <tbody>\n",
              "    <tr>\n",
              "      <th>18102</th>\n",
              "      <td>1</td>\n",
              "      <td>89</td>\n",
              "      <td>349164.35</td>\n",
              "      <td>1</td>\n",
              "      <td>1</td>\n",
              "      <td>1</td>\n",
              "      <td>111</td>\n",
              "    </tr>\n",
              "    <tr>\n",
              "      <th>14646</th>\n",
              "      <td>10</td>\n",
              "      <td>78</td>\n",
              "      <td>248396.50</td>\n",
              "      <td>1</td>\n",
              "      <td>1</td>\n",
              "      <td>1</td>\n",
              "      <td>111</td>\n",
              "    </tr>\n",
              "    <tr>\n",
              "      <th>14156</th>\n",
              "      <td>7</td>\n",
              "      <td>102</td>\n",
              "      <td>196566.74</td>\n",
              "      <td>1</td>\n",
              "      <td>1</td>\n",
              "      <td>1</td>\n",
              "      <td>111</td>\n",
              "    </tr>\n",
              "    <tr>\n",
              "      <th>14911</th>\n",
              "      <td>1</td>\n",
              "      <td>205</td>\n",
              "      <td>152147.57</td>\n",
              "      <td>1</td>\n",
              "      <td>1</td>\n",
              "      <td>1</td>\n",
              "      <td>111</td>\n",
              "    </tr>\n",
              "    <tr>\n",
              "      <th>13694</th>\n",
              "      <td>9</td>\n",
              "      <td>94</td>\n",
              "      <td>131443.19</td>\n",
              "      <td>1</td>\n",
              "      <td>1</td>\n",
              "      <td>1</td>\n",
              "      <td>111</td>\n",
              "    </tr>\n",
              "    <tr>\n",
              "      <th>17511</th>\n",
              "      <td>3</td>\n",
              "      <td>31</td>\n",
              "      <td>84541.17</td>\n",
              "      <td>1</td>\n",
              "      <td>1</td>\n",
              "      <td>1</td>\n",
              "      <td>111</td>\n",
              "    </tr>\n",
              "    <tr>\n",
              "      <th>15061</th>\n",
              "      <td>3</td>\n",
              "      <td>86</td>\n",
              "      <td>83284.38</td>\n",
              "      <td>1</td>\n",
              "      <td>1</td>\n",
              "      <td>1</td>\n",
              "      <td>111</td>\n",
              "    </tr>\n",
              "    <tr>\n",
              "      <th>16684</th>\n",
              "      <td>15</td>\n",
              "      <td>27</td>\n",
              "      <td>80489.21</td>\n",
              "      <td>1</td>\n",
              "      <td>1</td>\n",
              "      <td>1</td>\n",
              "      <td>111</td>\n",
              "    </tr>\n",
              "    <tr>\n",
              "      <th>16754</th>\n",
              "      <td>8</td>\n",
              "      <td>29</td>\n",
              "      <td>65500.07</td>\n",
              "      <td>1</td>\n",
              "      <td>1</td>\n",
              "      <td>1</td>\n",
              "      <td>111</td>\n",
              "    </tr>\n",
              "    <tr>\n",
              "      <th>17949</th>\n",
              "      <td>7</td>\n",
              "      <td>74</td>\n",
              "      <td>60117.60</td>\n",
              "      <td>1</td>\n",
              "      <td>1</td>\n",
              "      <td>1</td>\n",
              "      <td>111</td>\n",
              "    </tr>\n",
              "  </tbody>\n",
              "</table>\n",
              "</div>\n",
              "      <button class=\"colab-df-convert\" onclick=\"convertToInteractive('df-37af9c12-00f3-40a1-a061-d9c144593bfd')\"\n",
              "              title=\"Convert this dataframe to an interactive table.\"\n",
              "              style=\"display:none;\">\n",
              "        \n",
              "  <svg xmlns=\"http://www.w3.org/2000/svg\" height=\"24px\"viewBox=\"0 0 24 24\"\n",
              "       width=\"24px\">\n",
              "    <path d=\"M0 0h24v24H0V0z\" fill=\"none\"/>\n",
              "    <path d=\"M18.56 5.44l.94 2.06.94-2.06 2.06-.94-2.06-.94-.94-2.06-.94 2.06-2.06.94zm-11 1L8.5 8.5l.94-2.06 2.06-.94-2.06-.94L8.5 2.5l-.94 2.06-2.06.94zm10 10l.94 2.06.94-2.06 2.06-.94-2.06-.94-.94-2.06-.94 2.06-2.06.94z\"/><path d=\"M17.41 7.96l-1.37-1.37c-.4-.4-.92-.59-1.43-.59-.52 0-1.04.2-1.43.59L10.3 9.45l-7.72 7.72c-.78.78-.78 2.05 0 2.83L4 21.41c.39.39.9.59 1.41.59.51 0 1.02-.2 1.41-.59l7.78-7.78 2.81-2.81c.8-.78.8-2.07 0-2.86zM5.41 20L4 18.59l7.72-7.72 1.47 1.35L5.41 20z\"/>\n",
              "  </svg>\n",
              "      </button>\n",
              "      \n",
              "  <style>\n",
              "    .colab-df-container {\n",
              "      display:flex;\n",
              "      flex-wrap:wrap;\n",
              "      gap: 12px;\n",
              "    }\n",
              "\n",
              "    .colab-df-convert {\n",
              "      background-color: #E8F0FE;\n",
              "      border: none;\n",
              "      border-radius: 50%;\n",
              "      cursor: pointer;\n",
              "      display: none;\n",
              "      fill: #1967D2;\n",
              "      height: 32px;\n",
              "      padding: 0 0 0 0;\n",
              "      width: 32px;\n",
              "    }\n",
              "\n",
              "    .colab-df-convert:hover {\n",
              "      background-color: #E2EBFA;\n",
              "      box-shadow: 0px 1px 2px rgba(60, 64, 67, 0.3), 0px 1px 3px 1px rgba(60, 64, 67, 0.15);\n",
              "      fill: #174EA6;\n",
              "    }\n",
              "\n",
              "    [theme=dark] .colab-df-convert {\n",
              "      background-color: #3B4455;\n",
              "      fill: #D2E3FC;\n",
              "    }\n",
              "\n",
              "    [theme=dark] .colab-df-convert:hover {\n",
              "      background-color: #434B5C;\n",
              "      box-shadow: 0px 1px 3px 1px rgba(0, 0, 0, 0.15);\n",
              "      filter: drop-shadow(0px 1px 2px rgba(0, 0, 0, 0.3));\n",
              "      fill: #FFFFFF;\n",
              "    }\n",
              "  </style>\n",
              "\n",
              "      <script>\n",
              "        const buttonEl =\n",
              "          document.querySelector('#df-37af9c12-00f3-40a1-a061-d9c144593bfd button.colab-df-convert');\n",
              "        buttonEl.style.display =\n",
              "          google.colab.kernel.accessAllowed ? 'block' : 'none';\n",
              "\n",
              "        async function convertToInteractive(key) {\n",
              "          const element = document.querySelector('#df-37af9c12-00f3-40a1-a061-d9c144593bfd');\n",
              "          const dataTable =\n",
              "            await google.colab.kernel.invokeFunction('convertToInteractive',\n",
              "                                                     [key], {});\n",
              "          if (!dataTable) return;\n",
              "\n",
              "          const docLinkHtml = 'Like what you see? Visit the ' +\n",
              "            '<a target=\"_blank\" href=https://colab.research.google.com/notebooks/data_table.ipynb>data table notebook</a>'\n",
              "            + ' to learn more about interactive tables.';\n",
              "          element.innerHTML = '';\n",
              "          dataTable['output_type'] = 'display_data';\n",
              "          await google.colab.output.renderOutput(dataTable, element);\n",
              "          const docLink = document.createElement('div');\n",
              "          docLink.innerHTML = docLinkHtml;\n",
              "          element.appendChild(docLink);\n",
              "        }\n",
              "      </script>\n",
              "    </div>\n",
              "  </div>\n",
              "  "
            ]
          },
          "metadata": {},
          "execution_count": 90
        }
      ]
    },
    {
      "cell_type": "markdown",
      "source": [
        "## Conclusion and Recommendation"
      ],
      "metadata": {
        "id": "-2HpXDRaKoKH"
      }
    },
    {
      "cell_type": "markdown",
      "source": [
        "Using pandas and matplotlib functions, we were able to perform RFM segmentation with our customers. With this results, we can provide personalized marketing campaigns for each customer.\n",
        "\n",
        "We were able to segment the customers based on their purchasing habits. From this segments, we can provide personalized marketing campaigns. For example, by identifying the almost_lost customers, we can send them larger discount vouchers to get them to re-purchase. For the top_spenders and best_customers, we can show them the more expensive products or provide loyalty rewards to keep them happy and satisfied.\n",
        "\n",
        "We also established percentages and distributions of the customer segments. We can set them as a metric to target for our operations. When we see that the lost customers percentage is increasing from 10%, we would get the need to create campaigns to improve retention.\n",
        "\n"
      ],
      "metadata": {
        "id": "gRBO6QkuKr0u"
      }
    },
    {
      "cell_type": "markdown",
      "source": [
        "This concludes our RFM analysis with python. Recall that cleaning and performing exploratory analysis is a key procedure that allows us to improve our understanding of our dataset. By creating customer segments based on similar attributes (cohorts, rfm, etc.), we can provide actionable insights for our stakeholders."
      ],
      "metadata": {
        "id": "zwYFLbAROzu4"
      }
    }
  ]
}