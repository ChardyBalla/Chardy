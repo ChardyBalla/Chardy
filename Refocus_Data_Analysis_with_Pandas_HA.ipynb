{
  "cells": [
    {
      "cell_type": "markdown",
      "metadata": {
        "id": "view-in-github",
        "colab_type": "text"
      },
      "source": [
        "<a href=\"https://colab.research.google.com/github/ChardyBalla/Chardy/blob/main/Refocus_Data_Analysis_with_Pandas_HA.ipynb\" target=\"_parent\"><img src=\"https://colab.research.google.com/assets/colab-badge.svg\" alt=\"Open In Colab\"/></a>"
      ]
    },
    {
      "cell_type": "markdown",
      "metadata": {
        "id": "6gJaYiWisUBj"
      },
      "source": [
        "# EXERCISES\n",
        "\n",
        "*NOTE: Each answer provided is just one of the many possible codes.*"
      ]
    },
    {
      "cell_type": "code",
      "execution_count": 1,
      "metadata": {
        "id": "exdYLRZlQVbB"
      },
      "outputs": [],
      "source": [
        "import pandas as pd\n",
        "import numpy as np\n",
        "import seaborn as sns\n",
        "import matplotlib.pyplot as plt"
      ]
    },
    {
      "cell_type": "code",
      "source": [
        "from google.colab import drive\n",
        "drive.mount('/content/drive')"
      ],
      "metadata": {
        "colab": {
          "base_uri": "https://localhost:8080/"
        },
        "id": "ewOsGMtBWz5b",
        "outputId": "edf04ef2-fe97-47ea-878d-ce0d17d0154d"
      },
      "execution_count": 2,
      "outputs": [
        {
          "output_type": "stream",
          "name": "stdout",
          "text": [
            "Mounted at /content/drive\n"
          ]
        }
      ]
    },
    {
      "cell_type": "markdown",
      "metadata": {
        "id": "mqnaZBcLQ_GK"
      },
      "source": [
        "---"
      ]
    },
    {
      "cell_type": "markdown",
      "metadata": {
        "id": "aT98njXbRATt"
      },
      "source": [
        "**Problem 1:** Create a dataframe named `savings` that contains the exact information in the following table:\n",
        "\n",
        "| ACCT_ID | AGE | GENDER | SAVINGS_PHP |\n",
        "| :-: | :-: | :-: | :-: |\n",
        "| S1210-2141 | 35 | M | 120000.00 |\n",
        "| S1411-6751 | 28 | F | 25000.00 |\n",
        "| S1020-1002 | 37 | M | 100000.00 |\n",
        "| S2022-2258 | 21 | M | 50000.00 |\n",
        "\n",
        "Take note of the following data type for each column:\n",
        "- `ACCT_ID` : string\n",
        "- `AGE` : integer\n",
        "- `GENDER` : string\n",
        "- `SAVINGS_PHP` : float\n",
        "\n",
        "Using `.info()` on the dataframe `savings`, check if the data types are consistent with what is required."
      ]
    },
    {
      "cell_type": "code",
      "execution_count": 3,
      "metadata": {
        "id": "EgSMsp1rQVXU",
        "colab": {
          "base_uri": "https://localhost:8080/"
        },
        "outputId": "0acba4a8-08ed-4cc9-b6a5-79aa0d7fba02"
      },
      "outputs": [
        {
          "output_type": "stream",
          "name": "stdout",
          "text": [
            "<class 'pandas.core.frame.DataFrame'>\n",
            "RangeIndex: 4 entries, 0 to 3\n",
            "Data columns (total 4 columns):\n",
            " #   Column       Non-Null Count  Dtype  \n",
            "---  ------       --------------  -----  \n",
            " 0   ACCT_ID      4 non-null      object \n",
            " 1   AGE          4 non-null      int64  \n",
            " 2   GENDER       4 non-null      object \n",
            " 3   SAVINGS_PHP  4 non-null      float64\n",
            "dtypes: float64(1), int64(1), object(2)\n",
            "memory usage: 256.0+ bytes\n",
            "None\n"
          ]
        }
      ],
      "source": [
        "\n",
        "data = {\n",
        "    'ACCT_ID': ['S1210-2141', 'S1411-6751', 'S1020-1002', 'S2022-2258'],\n",
        "    'AGE': [35, 28, 37, 21],\n",
        "    'GENDER': ['M', 'F', 'M', 'M'],\n",
        "    'SAVINGS_PHP': [120000.00, 25000.00, 100000.00, 50000.00]\n",
        "}\n",
        "savings = pd.DataFrame(data)\n",
        "\n",
        "print(savings.info())"
      ]
    },
    {
      "cell_type": "markdown",
      "metadata": {
        "id": "dLD9aIvlTChL"
      },
      "source": [
        "---"
      ]
    },
    {
      "cell_type": "markdown",
      "metadata": {
        "id": "c_Y2pQdOUNqa"
      },
      "source": [
        "**Problem 2:** Load as a dataframe the data stored in the file `cars_data.csv`. Name the dataframe as `df`. Show the first 10 rows of the dataframe.\n",
        "\n",
        "NOTE: *This dataframe shall be used in the succeeding items.*\n",
        "\n",
        "---\n",
        "\n",
        "Data source: *https://raw.githubusercontent.com/selva86/datasets/master/Cars93_miss.csv*"
      ]
    },
    {
      "cell_type": "code",
      "execution_count": null,
      "metadata": {
        "id": "td4Udm4AQVVG"
      },
      "outputs": [],
      "source": [
        "# complete the following code (fill in the blanks)\n",
        "df = pd.________(___________)    # read the cars_data.csv file\n",
        "df.head(n=_____)                 # show 10 rows\n"
      ]
    },
    {
      "cell_type": "code",
      "source": [
        "df = pd.read_csv('/content/drive/MyDrive/cars_data.csv')    # read the cars_data.csv file\n",
        "print(df.head(n=10))"
      ],
      "metadata": {
        "colab": {
          "base_uri": "https://localhost:8080/"
        },
        "id": "SIVn9_Q14JJO",
        "outputId": "955bc4e9-d748-4002-9cb5-fef8105b171a"
      },
      "execution_count": 4,
      "outputs": [
        {
          "output_type": "stream",
          "name": "stdout",
          "text": [
            "          s       Model     Type  Min.Price  Price  Max.Price  MPG.city  \\\n",
            "0     Acura     Integra    Small       12.9   15.9       18.8      25.0   \n",
            "1       NaN      Legend  Midsize       29.2   33.9       38.7      18.0   \n",
            "2      Audi          90  Compact       25.9   29.1       32.3      20.0   \n",
            "3      Audi         100  Midsize        NaN   37.7       44.6      19.0   \n",
            "4       BMW        535i  Midsize        NaN   30.0        NaN      22.0   \n",
            "5     Buick     Century  Midsize       14.2   15.7       17.3      22.0   \n",
            "6     Buick     LeSabre    Large       19.9   20.8        NaN      19.0   \n",
            "7     Buick  Roadmaster    Large       22.6   23.7       24.9      16.0   \n",
            "8     Buick     Riviera  Midsize       26.3   26.3       26.3      19.0   \n",
            "9  Cadillac     DeVille    Large       33.0   34.7       36.3      16.0   \n",
            "\n",
            "   MPG.highway             AirBags DriveTrain  ... Passengers  Length  \\\n",
            "0         31.0                None      Front  ...        5.0   177.0   \n",
            "1         25.0  Driver & Passenger      Front  ...        5.0   195.0   \n",
            "2         26.0         Driver only      Front  ...        5.0   180.0   \n",
            "3         26.0  Driver & Passenger        NaN  ...        6.0   193.0   \n",
            "4         30.0                 NaN       Rear  ...        4.0   186.0   \n",
            "5         31.0         Driver only        NaN  ...        6.0   189.0   \n",
            "6         28.0         Driver only      Front  ...        6.0   200.0   \n",
            "7         25.0         Driver only       Rear  ...        6.0   216.0   \n",
            "8         27.0         Driver only      Front  ...        5.0   198.0   \n",
            "9         25.0         Driver only      Front  ...        6.0   206.0   \n",
            "\n",
            "   Wheelbase  Width  Turn.circle Rear.seat.room  Luggage.room  Weight  \\\n",
            "0      102.0   68.0         37.0           26.5           NaN  2705.0   \n",
            "1      115.0   71.0         38.0           30.0          15.0  3560.0   \n",
            "2      102.0   67.0         37.0           28.0          14.0  3375.0   \n",
            "3      106.0    NaN         37.0           31.0          17.0  3405.0   \n",
            "4      109.0   69.0         39.0           27.0          13.0  3640.0   \n",
            "5      105.0   69.0         41.0           28.0          16.0     NaN   \n",
            "6      111.0   74.0         42.0           30.5          17.0  3470.0   \n",
            "7      116.0   78.0         45.0           30.5          21.0  4105.0   \n",
            "8      108.0    NaN         41.0           26.5          14.0  3495.0   \n",
            "9      114.0   73.0         43.0           35.0          18.0  3620.0   \n",
            "\n",
            "    Origin              Make  \n",
            "0  non-USA     Acura Integra  \n",
            "1  non-USA      Acura Legend  \n",
            "2  non-USA           Audi 90  \n",
            "3  non-USA          Audi 100  \n",
            "4  non-USA          BMW 535i  \n",
            "5      USA     Buick Century  \n",
            "6      USA     Buick LeSabre  \n",
            "7      USA  Buick Roadmaster  \n",
            "8      USA     Buick Riviera  \n",
            "9      USA  Cadillac DeVille  \n",
            "\n",
            "[10 rows x 27 columns]\n"
          ]
        }
      ]
    },
    {
      "cell_type": "markdown",
      "metadata": {
        "id": "rkPTcGzyWik6"
      },
      "source": [
        "---"
      ]
    },
    {
      "cell_type": "markdown",
      "metadata": {
        "id": "U8JpAYmQYQpb"
      },
      "source": [
        "## For all tasks and questions in the succeeding items, refer to the dataframe `df` loaded in item \\#2."
      ]
    },
    {
      "cell_type": "markdown",
      "metadata": {
        "id": "vkxytsa7XsbM"
      },
      "source": [
        "**Problem 3:** Which columns have null values?\n",
        "\n",
        "***HINT**: Try showing the info() of the dataframe df*"
      ]
    },
    {
      "cell_type": "code",
      "execution_count": 28,
      "metadata": {
        "id": "uP8PvVomQVSx",
        "colab": {
          "base_uri": "https://localhost:8080/"
        },
        "outputId": "9e4edaa7-cec3-4c34-b19c-5024c15bd659"
      },
      "outputs": [
        {
          "output_type": "stream",
          "name": "stdout",
          "text": [
            "Dataframe shape: (93, 27)\n",
            "=================================\n",
            "<class 'pandas.core.frame.DataFrame'>\n",
            "RangeIndex: 93 entries, 0 to 92\n",
            "Data columns (total 27 columns):\n",
            " #   Column              Non-Null Count  Dtype  \n",
            "---  ------              --------------  -----  \n",
            " 0   s                   89 non-null     object \n",
            " 1   Model               92 non-null     object \n",
            " 2   Type                90 non-null     object \n",
            " 3   Min.Price           86 non-null     float64\n",
            " 4   Price               91 non-null     float64\n",
            " 5   Max.Price           88 non-null     float64\n",
            " 6   MPG.city            84 non-null     float64\n",
            " 7   MPG.highway         91 non-null     float64\n",
            " 8   AirBags             87 non-null     object \n",
            " 9   DriveTrain          86 non-null     object \n",
            " 10  Cylinders           88 non-null     object \n",
            " 11  EngineSize          91 non-null     float64\n",
            " 12  Horsepower          86 non-null     float64\n",
            " 13  RPM                 90 non-null     float64\n",
            " 14  Rev.per.mile        87 non-null     float64\n",
            " 15  Man.trans.avail     88 non-null     object \n",
            " 16  Fuel.tank.capacity  85 non-null     float64\n",
            " 17  Passengers          91 non-null     float64\n",
            " 18  Length              89 non-null     float64\n",
            " 19  Wheelbase           92 non-null     float64\n",
            " 20  Width               87 non-null     float64\n",
            " 21  Turn.circle         88 non-null     float64\n",
            " 22  Rear.seat.room      89 non-null     float64\n",
            " 23  Luggage.room        74 non-null     float64\n",
            " 24  Weight              86 non-null     float64\n",
            " 25  Origin              88 non-null     object \n",
            " 26  Make                93 non-null     object \n",
            "dtypes: float64(18), object(9)\n",
            "memory usage: 19.7+ KB\n"
          ]
        }
      ],
      "source": [
        "print(\"Dataframe shape:\", df.shape)\n",
        "print(\"=================================\")\n",
        "df.info()\n"
      ]
    },
    {
      "cell_type": "markdown",
      "metadata": {
        "id": "T5nraDhyZAHM"
      },
      "source": [
        "---"
      ]
    },
    {
      "cell_type": "markdown",
      "metadata": {
        "id": "EJ2TbrQEzNJZ"
      },
      "source": [
        "**Problem 4:** Which value under the column **Manufacturer** is the most frequently occurring?\n",
        "\n",
        "Fill in the null values under the column **Manufacturer** with the most frequently occurring value under it."
      ]
    },
    {
      "cell_type": "code",
      "execution_count": null,
      "metadata": {
        "id": "6ZJ5SYE1QVOp"
      },
      "outputs": [],
      "source": [
        "# complete the following code (fill in the blanks)\n",
        "\n",
        "# Check for the most frequently occurrring value, i.e., the value with the highest count\n",
        "df['Manufacturer']._________()"
      ]
    },
    {
      "cell_type": "code",
      "source": [
        "df.rename(columns={'Make': 'Manufacturer'}, inplace=True)"
      ],
      "metadata": {
        "id": "DCrV7eCOqWoR"
      },
      "execution_count": 50,
      "outputs": []
    },
    {
      "cell_type": "code",
      "source": [
        "# fill the null values with the most frequently occurrring value\n",
        "most_frequent_manufacturer = df['Manufacturer'].mode()[0]\n",
        "df['Manufacturer'] = df['Manufacturer'].fillna(most_frequent_manufacturer)\n"
      ],
      "metadata": {
        "id": "1aI157N1-sx2"
      },
      "execution_count": 54,
      "outputs": []
    },
    {
      "cell_type": "code",
      "source": [
        "# Find the most frequently occurring value in the \"Manufacturer\" column\n",
        "most_frequent_manufacturer = df['Manufacturer'].mode().iloc[0]\n",
        "\n",
        "# Fill in the null values in the \"Manufacturer\" column with the most frequent value\n",
        "df['Manufacturer'] = df['Manufacturer'].fillna(most_frequent_manufacturer)\n",
        "\n",
        "# Display the updated dataframe\n",
        "print(df.head())\n"
      ],
      "metadata": {
        "colab": {
          "base_uri": "https://localhost:8080/"
        },
        "id": "RR1PSMGdB9dm",
        "outputId": "57ace7aa-a290-4f5f-e32b-2071b642ab24"
      },
      "execution_count": 55,
      "outputs": [
        {
          "output_type": "stream",
          "name": "stdout",
          "text": [
            "       s    Model     Type  Min.Price  Price  Max.Price  MPG.city  \\\n",
            "0  Acura  Integra    Small       12.9   15.9       18.8      25.0   \n",
            "1    NaN   Legend  Midsize       29.2   33.9       38.7      18.0   \n",
            "2   Audi       90  Compact       25.9   29.1       32.3      20.0   \n",
            "3   Audi      100  Midsize        NaN   37.7       44.6      19.0   \n",
            "4    BMW     535i  Midsize        NaN   30.0        NaN      22.0   \n",
            "\n",
            "   MPG.highway             AirBags DriveTrain  ... Passengers  Length  \\\n",
            "0         31.0                None      Front  ...        5.0   177.0   \n",
            "1         25.0  Driver & Passenger      Front  ...        5.0   195.0   \n",
            "2         26.0         Driver only      Front  ...        5.0   180.0   \n",
            "3         26.0  Driver & Passenger        NaN  ...        6.0   193.0   \n",
            "4         30.0                 NaN       Rear  ...        4.0   186.0   \n",
            "\n",
            "   Wheelbase  Width  Turn.circle Rear.seat.room  Luggage.room  Weight  \\\n",
            "0      102.0   68.0         37.0           26.5           NaN  2705.0   \n",
            "1      115.0   71.0         38.0           30.0          15.0  3560.0   \n",
            "2      102.0   67.0         37.0           28.0          14.0  3375.0   \n",
            "3      106.0    NaN         37.0           31.0          17.0  3405.0   \n",
            "4      109.0   69.0         39.0           27.0          13.0  3640.0   \n",
            "\n",
            "                         Origin   Manufacturer  \n",
            "0  not United States of America  Acura Integra  \n",
            "1  not United States of America   Acura Legend  \n",
            "2  not United States of America        Audi 90  \n",
            "3  not United States of America       Audi 100  \n",
            "4  not United States of America       BMW 535i  \n",
            "\n",
            "[5 rows x 27 columns]\n"
          ]
        }
      ]
    },
    {
      "cell_type": "code",
      "execution_count": 56,
      "metadata": {
        "id": "IPDRDIRszNJa"
      },
      "outputs": [],
      "source": [
        "# fill the null values with the most frequently occurrring value\n",
        "df['Manufacturer'] = df['Manufacturer'].fillna(most_frequent_manufacturer)"
      ]
    },
    {
      "cell_type": "markdown",
      "metadata": {
        "id": "rnNggXNzzNJc"
      },
      "source": [
        "**Problem 5:** Create a dataframe called `averages` that contains the average values of the columns **Min.Price**, **Price** and **Max.Price**."
      ]
    },
    {
      "cell_type": "code",
      "execution_count": null,
      "metadata": {
        "id": "OxQu_nHUecRY"
      },
      "outputs": [],
      "source": [
        "# complete the following code (fill in the blanks)\n",
        "averages = df[[________, ________, ________]]._______()    # get the mean of the three columns\n",
        "averages"
      ]
    },
    {
      "cell_type": "code",
      "source": [
        "averages = df[['Min.Price', 'Price', 'Max.Price']].mean() \n",
        "averages"
      ],
      "metadata": {
        "colab": {
          "base_uri": "https://localhost:8080/"
        },
        "id": "4kIizM671tOv",
        "outputId": "e5ca2b24-67c0-40a7-f887-0d017dd6668d"
      },
      "execution_count": 57,
      "outputs": [
        {
          "output_type": "execute_result",
          "data": {
            "text/plain": [
              "Min.Price    17.118605\n",
              "Price        19.616484\n",
              "Max.Price    21.459091\n",
              "dtype: float64"
            ]
          },
          "metadata": {},
          "execution_count": 57
        }
      ]
    },
    {
      "cell_type": "markdown",
      "metadata": {
        "id": "pwrvPrvQdAGP"
      },
      "source": [
        "---"
      ]
    },
    {
      "cell_type": "markdown",
      "metadata": {
        "id": "2DtNeWnuzNJf"
      },
      "source": [
        "**Problem 6:** Create a dataframe called `ave_price` that contains the average car price (**Price**) per manufacturer (**Manufacturer**).\n",
        "\n",
        "Arrange `ave_price` in descending order with respect to average car price.\n",
        "\n",
        "Which manufacturer has the highest average minimum car price? Type the answer as a comment."
      ]
    },
    {
      "cell_type": "code",
      "execution_count": null,
      "metadata": {
        "id": "WyQnZ-r4zNJg"
      },
      "outputs": [],
      "source": [
        "# complete the following code (fill in the blanks)\n",
        "ave_price = df._______('Manufacturer').agg(________)['Price']    # average price per manufacturer\n",
        "ave_price.________(ascending=________)                           # arrange in descending order"
      ]
    },
    {
      "cell_type": "code",
      "source": [
        "ave_price = df.groupby('Make')['Price'].mean().reset_index()\n",
        "ave_price = ave_price.sort_values('Price', ascending=False)\n",
        "print(ave_price)"
      ],
      "metadata": {
        "id": "bfaph0Zc2ARo",
        "colab": {
          "base_uri": "https://localhost:8080/"
        },
        "outputId": "2e56177d-802d-478f-f2fa-1977ec8ae2fc"
      },
      "execution_count": 10,
      "outputs": [
        {
          "output_type": "stream",
          "name": "stdout",
          "text": [
            "                  Make  Price\n",
            "56  Mercedes-Benz 300E   61.9\n",
            "45        Infiniti Q45   47.9\n",
            "10    Cadillac Seville   40.1\n",
            "16  Chevrolet Corvette   38.0\n",
            "2             Audi 100   37.7\n",
            "..                 ...    ...\n",
            "50           Mazda 323    8.3\n",
            "43       Hyundai Excel    8.0\n",
            "33        Ford Festiva    7.4\n",
            "75           Saturn SL    NaN\n",
            "80        Toyota Camry    NaN\n",
            "\n",
            "[90 rows x 2 columns]\n"
          ]
        }
      ]
    },
    {
      "cell_type": "code",
      "execution_count": 59,
      "metadata": {
        "id": "zeZTfQRnzNJh",
        "colab": {
          "base_uri": "https://localhost:8080/"
        },
        "outputId": "4afd3444-89e5-4ad3-f0a6-00258bea4405"
      },
      "outputs": [
        {
          "output_type": "stream",
          "name": "stdout",
          "text": [
            "Manufacturer with the highest average minimum car price: Infiniti Q45\n"
          ]
        }
      ],
      "source": [
        "# Which manufacturer has the highest average minimum car price?\n",
        "highest_avg_min_price_manufacturer = df.groupby('Manufacturer')['Min.Price'].mean().idxmax()\n",
        "print(\"Manufacturer with the highest average minimum car price:\", highest_avg_min_price_manufacturer)\n"
      ]
    },
    {
      "cell_type": "markdown",
      "metadata": {
        "id": "FBMmqNByfnC4"
      },
      "source": [
        "---"
      ]
    },
    {
      "cell_type": "markdown",
      "metadata": {
        "id": "gaYnXduZzNJi"
      },
      "source": [
        "**Problem 7**: Using the pandas function `.apply()`, Add a new column, `df[\"Passengers-1\"]`, that contains 1 less the value in the column **Passengers** (i.e. passengers - 1)"
      ]
    },
    {
      "cell_type": "code",
      "execution_count": null,
      "metadata": {
        "id": "REZU3ED-QUK9"
      },
      "outputs": [],
      "source": [
        "# complete the code by filling in the blanks\n",
        "df[\"Passengers-1\"] = df[_________].apply(lambda x: ___________)    # passengers - 1"
      ]
    },
    {
      "cell_type": "code",
      "source": [
        "# Add a new column \"Passengers-1\" using the apply function\n",
        "df['Passengers-1'] = df['Passengers'].apply(lambda x: x - 1)\n",
        "\n",
        "# Display the updated dataframe\n",
        "print(df.head())\n"
      ],
      "metadata": {
        "colab": {
          "base_uri": "https://localhost:8080/"
        },
        "id": "IkuASz-k2lep",
        "outputId": "050f3c97-f2a9-40ce-93a7-58e8b768bdca"
      },
      "execution_count": 60,
      "outputs": [
        {
          "output_type": "stream",
          "name": "stdout",
          "text": [
            "       s    Model     Type  Min.Price  Price  Max.Price  MPG.city  \\\n",
            "0  Acura  Integra    Small       12.9   15.9       18.8      25.0   \n",
            "1    NaN   Legend  Midsize       29.2   33.9       38.7      18.0   \n",
            "2   Audi       90  Compact       25.9   29.1       32.3      20.0   \n",
            "3   Audi      100  Midsize        NaN   37.7       44.6      19.0   \n",
            "4    BMW     535i  Midsize        NaN   30.0        NaN      22.0   \n",
            "\n",
            "   MPG.highway             AirBags DriveTrain  ... Length  Wheelbase  Width  \\\n",
            "0         31.0                None      Front  ...  177.0      102.0   68.0   \n",
            "1         25.0  Driver & Passenger      Front  ...  195.0      115.0   71.0   \n",
            "2         26.0         Driver only      Front  ...  180.0      102.0   67.0   \n",
            "3         26.0  Driver & Passenger        NaN  ...  193.0      106.0    NaN   \n",
            "4         30.0                 NaN       Rear  ...  186.0      109.0   69.0   \n",
            "\n",
            "   Turn.circle  Rear.seat.room Luggage.room  Weight  \\\n",
            "0         37.0            26.5          NaN  2705.0   \n",
            "1         38.0            30.0         15.0  3560.0   \n",
            "2         37.0            28.0         14.0  3375.0   \n",
            "3         37.0            31.0         17.0  3405.0   \n",
            "4         39.0            27.0         13.0  3640.0   \n",
            "\n",
            "                         Origin   Manufacturer  Passengers-1  \n",
            "0  not United States of America  Acura Integra           4.0  \n",
            "1  not United States of America   Acura Legend           4.0  \n",
            "2  not United States of America        Audi 90           4.0  \n",
            "3  not United States of America       Audi 100           5.0  \n",
            "4  not United States of America       BMW 535i           3.0  \n",
            "\n",
            "[5 rows x 28 columns]\n"
          ]
        }
      ]
    },
    {
      "cell_type": "markdown",
      "metadata": {
        "id": "Hy_z9YgWJh66"
      },
      "source": [
        "---"
      ]
    },
    {
      "cell_type": "markdown",
      "metadata": {
        "id": "kl3N7CWFzNJj"
      },
      "source": [
        "**Problem 8:** Let us define **Torque** to be: `(Horsepower*5252) / RPM`. \n",
        "\n",
        "Create a new column `df['Torque']` that contains the results of this calculation."
      ]
    },
    {
      "cell_type": "code",
      "execution_count": null,
      "metadata": {
        "id": "ayWyD6DgKXaf"
      },
      "outputs": [],
      "source": [
        "# complete the code by filling in the blanks\n",
        "df[\"Torque\"] = _________*5252 / __________    # follow the defined formula\n",
        "df[\"Torque\"]                                  # Verify the results"
      ]
    },
    {
      "cell_type": "code",
      "source": [
        "# Create a new column \"Torque\" using the apply function\n",
        "df['Torque'] = df.apply(lambda row: (row['Horsepower'] * 5252) / row['RPM'], axis=1)\n",
        "\n",
        "# Display the updated dataframe\n",
        "print(df.head())\n"
      ],
      "metadata": {
        "colab": {
          "base_uri": "https://localhost:8080/"
        },
        "id": "J3gLL7zp2sBc",
        "outputId": "7242802c-85f2-44ee-d6d0-91781df2fd08"
      },
      "execution_count": 61,
      "outputs": [
        {
          "output_type": "stream",
          "name": "stdout",
          "text": [
            "       s    Model     Type  Min.Price  Price  Max.Price  MPG.city  \\\n",
            "0  Acura  Integra    Small       12.9   15.9       18.8      25.0   \n",
            "1    NaN   Legend  Midsize       29.2   33.9       38.7      18.0   \n",
            "2   Audi       90  Compact       25.9   29.1       32.3      20.0   \n",
            "3   Audi      100  Midsize        NaN   37.7       44.6      19.0   \n",
            "4    BMW     535i  Midsize        NaN   30.0        NaN      22.0   \n",
            "\n",
            "   MPG.highway             AirBags DriveTrain  ... Wheelbase  Width  \\\n",
            "0         31.0                None      Front  ...     102.0   68.0   \n",
            "1         25.0  Driver & Passenger      Front  ...     115.0   71.0   \n",
            "2         26.0         Driver only      Front  ...     102.0   67.0   \n",
            "3         26.0  Driver & Passenger        NaN  ...     106.0    NaN   \n",
            "4         30.0                 NaN       Rear  ...     109.0   69.0   \n",
            "\n",
            "   Turn.circle  Rear.seat.room  Luggage.room  Weight  \\\n",
            "0         37.0            26.5           NaN  2705.0   \n",
            "1         38.0            30.0          15.0  3560.0   \n",
            "2         37.0            28.0          14.0  3375.0   \n",
            "3         37.0            31.0          17.0  3405.0   \n",
            "4         39.0            27.0          13.0  3640.0   \n",
            "\n",
            "                         Origin   Manufacturer  Passengers-1      Torque  \n",
            "0  not United States of America  Acura Integra           4.0  116.711111  \n",
            "1  not United States of America   Acura Legend           4.0  190.981818  \n",
            "2  not United States of America        Audi 90           4.0  164.244364  \n",
            "3  not United States of America       Audi 100           5.0  164.244364  \n",
            "4  not United States of America       BMW 535i           3.0  191.651930  \n",
            "\n",
            "[5 rows x 29 columns]\n"
          ]
        }
      ]
    },
    {
      "cell_type": "markdown",
      "metadata": {
        "id": "KG9W3DzaK6Qi"
      },
      "source": [
        "---"
      ]
    },
    {
      "cell_type": "markdown",
      "metadata": {
        "id": "HDnKAF00zNJk"
      },
      "source": [
        "**Problem 9:** Using a custom function **modify_origin**, replace the values of the column **Origin** such that:\n",
        "1. if the value of **Origin** is \"USA\", it should now become \"United States of America\",\n",
        "2. if the value of **Origin** is \"non-USA\", it should now become \"not United States of America\", and\n",
        "3. if it is neither of the two, it should be NULL (np.nan)."
      ]
    },
    {
      "cell_type": "code",
      "execution_count": null,
      "metadata": {
        "id": "V6j8y1F5LfHf"
      },
      "outputs": [],
      "source": [
        "# complete the code by filling in the blanks\n",
        "\n",
        "# write the custom function\n",
        "def modify_origin(origin):\n",
        "    if _______ ___ _______:\n",
        "        return ___________\n",
        "    elif _______ ___ _______:\n",
        "        return ___________\n",
        "    else:\n",
        "        return np.nan\n",
        "\n",
        "# apply the custom function to the column\n",
        "df[________] = df[\"Origin\"]._______(modify_origin)"
      ]
    },
    {
      "cell_type": "code",
      "source": [
        "import numpy as np\n",
        "\n",
        "# Custom function to modify the values in the \"Origin\" column\n",
        "def modify_origin(value):\n",
        "    if value == 'USA':\n",
        "        return 'United States of America'\n",
        "    elif value == 'non-USA':\n",
        "        return 'not United States of America'\n",
        "    else:\n",
        "        return np.nan\n",
        "\n",
        "# Apply the custom function to the \"Origin\" column\n",
        "df['Origin'] = df['Origin'].apply(modify_origin)\n",
        "\n",
        "# Display the updated dataframe\n",
        "print(df.head())\n"
      ],
      "metadata": {
        "colab": {
          "base_uri": "https://localhost:8080/"
        },
        "id": "fWt6h8r_264r",
        "outputId": "ea8e2f01-5ed0-4774-ea70-ba51940babcb"
      },
      "execution_count": 62,
      "outputs": [
        {
          "output_type": "stream",
          "name": "stdout",
          "text": [
            "       s    Model     Type  Min.Price  Price  Max.Price  MPG.city  \\\n",
            "0  Acura  Integra    Small       12.9   15.9       18.8      25.0   \n",
            "1    NaN   Legend  Midsize       29.2   33.9       38.7      18.0   \n",
            "2   Audi       90  Compact       25.9   29.1       32.3      20.0   \n",
            "3   Audi      100  Midsize        NaN   37.7       44.6      19.0   \n",
            "4    BMW     535i  Midsize        NaN   30.0        NaN      22.0   \n",
            "\n",
            "   MPG.highway             AirBags DriveTrain  ... Wheelbase  Width  \\\n",
            "0         31.0                None      Front  ...     102.0   68.0   \n",
            "1         25.0  Driver & Passenger      Front  ...     115.0   71.0   \n",
            "2         26.0         Driver only      Front  ...     102.0   67.0   \n",
            "3         26.0  Driver & Passenger        NaN  ...     106.0    NaN   \n",
            "4         30.0                 NaN       Rear  ...     109.0   69.0   \n",
            "\n",
            "   Turn.circle  Rear.seat.room  Luggage.room  Weight  Origin   Manufacturer  \\\n",
            "0         37.0            26.5           NaN  2705.0     NaN  Acura Integra   \n",
            "1         38.0            30.0          15.0  3560.0     NaN   Acura Legend   \n",
            "2         37.0            28.0          14.0  3375.0     NaN        Audi 90   \n",
            "3         37.0            31.0          17.0  3405.0     NaN       Audi 100   \n",
            "4         39.0            27.0          13.0  3640.0     NaN       BMW 535i   \n",
            "\n",
            "   Passengers-1      Torque  \n",
            "0           4.0  116.711111  \n",
            "1           4.0  190.981818  \n",
            "2           4.0  164.244364  \n",
            "3           5.0  164.244364  \n",
            "4           3.0  191.651930  \n",
            "\n",
            "[5 rows x 29 columns]\n"
          ]
        }
      ]
    },
    {
      "cell_type": "markdown",
      "metadata": {
        "id": "A3eUN8AdNFJh"
      },
      "source": [
        "---"
      ]
    },
    {
      "cell_type": "markdown",
      "metadata": {
        "id": "DMW9HMeUzNJl"
      },
      "source": [
        "**Problem 10:** Create a *countplot* that shows the distribution of car type (**Type**)."
      ]
    },
    {
      "cell_type": "code",
      "execution_count": null,
      "metadata": {
        "id": "2QHlOTEmN5w3"
      },
      "outputs": [],
      "source": [
        "# complete the code by filling in the blanks\n",
        "plt.figure(figsize=(15,10))\n",
        "\n",
        "sns.countplot(x=__________ ,\n",
        "              _______=df)\n",
        "\n",
        "plt.______()"
      ]
    },
    {
      "cell_type": "code",
      "source": [
        "import seaborn as sns\n",
        "import matplotlib.pyplot as plt\n",
        "\n",
        "# Create a countplot of the car types\n",
        "sns.countplot(data=df, x='Type')\n",
        "\n",
        "# Set plot labels and title\n",
        "plt.xlabel('Car Type')\n",
        "plt.ylabel('Count')\n",
        "plt.title('Distribution of Car Types')\n",
        "\n",
        "# Rotate x-axis labels if needed\n",
        "plt.xticks(rotation=45)\n",
        "\n",
        "# Display the plot\n",
        "plt.show()\n"
      ],
      "metadata": {
        "colab": {
          "base_uri": "https://localhost:8080/",
          "height": 512
        },
        "id": "SQYO_YOO3D4P",
        "outputId": "a5e09813-477f-4b8f-cfc6-af0a175f700b"
      },
      "execution_count": 63,
      "outputs": [
        {
          "output_type": "display_data",
          "data": {
            "text/plain": [
              "<Figure size 640x480 with 1 Axes>"
            ],
            "image/png": "[encoded data removed]"
          },
          "metadata": {}
        }
      ]
    },
    {
      "cell_type": "markdown",
      "source": [
        "## Answer Key\n",
        "\n"
      ],
      "metadata": {
        "id": "Nik2Z6i9M0S1"
      }
    },
    {
      "cell_type": "markdown",
      "source": [
        "### Problem 1\n",
        "\n",
        "You can create a DataFrame by passing a dictionary of lists or arrays to the `pd.DataFrame()` function. Each key in the dictionary represents a column name, and the values in the corresponding list or array represent the data for that column. "
      ],
      "metadata": {
        "id": "p7OOmrqDNzrL"
      }
    },
    {
      "cell_type": "code",
      "source": [
        "# write your code here\n",
        "savings = pd.DataFrame(\n",
        "    {\n",
        "        \"ACCT_ID\" : ['S1210-2141', 'S1411-6751', 'S1020-1002', 'S2022-2258'],\n",
        "        \"AGE\" : [35,28, 37, 21],\n",
        "        \"GENDER\" : ['M', 'F', 'M', 'M'],\n",
        "        \"SAVINGS_PHP\" : [120000.00, 25000.00, 100000.00, 50000.00]\n",
        "    }\n",
        ")\n",
        "\n",
        "savings.info()"
      ],
      "metadata": {
        "id": "wdn27HzENt7J",
        "colab": {
          "base_uri": "https://localhost:8080/"
        },
        "outputId": "0149d48e-2f8a-4ace-9269-7ab5816db88b"
      },
      "execution_count": null,
      "outputs": [
        {
          "output_type": "stream",
          "name": "stdout",
          "text": [
            "<class 'pandas.core.frame.DataFrame'>\n",
            "RangeIndex: 4 entries, 0 to 3\n",
            "Data columns (total 4 columns):\n",
            " #   Column       Non-Null Count  Dtype  \n",
            "---  ------       --------------  -----  \n",
            " 0   ACCT_ID      4 non-null      object \n",
            " 1   AGE          4 non-null      int64  \n",
            " 2   GENDER       4 non-null      object \n",
            " 3   SAVINGS_PHP  4 non-null      float64\n",
            "dtypes: float64(1), int64(1), object(2)\n",
            "memory usage: 256.0+ bytes\n"
          ]
        }
      ]
    },
    {
      "cell_type": "markdown",
      "source": [
        "### Problem 2\n",
        "\n",
        "To open a CSV file in Pandas, you can use the `read_csv()` function.\n",
        "\n",
        "To show the first 10 rows of a dataset in Pandas, you can use the `head()` method. By default, `head()` returns the first 5 rows. You can specify a different number of rows by passing an argument to the method. `head(10)` would return the first 20 rows of the DataFrame."
      ],
      "metadata": {
        "id": "AQS2wQp3N3Fx"
      }
    },
    {
      "cell_type": "code",
      "source": [
        "# complete the following code (fill in the blanks)\n",
        "df = pd.read_csv('/content/drive/MyDrive/Colab Notebooks/Refocus_modules/module_exercises/cars_data.csv')    # read the cars_data.csv file\n",
        "df.head(n=10)                 # show 10 rows"
      ],
      "metadata": {
        "id": "dlD26c-9N9gM"
      },
      "execution_count": null,
      "outputs": []
    },
    {
      "cell_type": "markdown",
      "source": [
        "### Problem 3\n",
        "\n",
        "To show information about the dataset in Pandas, you can use the info() method. The info() method provides a concise summary of the DataFrame, including the number of rows and columns, the data types of the columns, and the number of non-null values."
      ],
      "metadata": {
        "id": "itfa2VeNObgq"
      }
    },
    {
      "cell_type": "code",
      "source": [
        "# write your code here\n",
        "print(\"Dataframe shape:\", df.shape)\n",
        "print(\"=================================\")\n",
        "df.info()\n",
        "\n",
        "\"\"\"\n",
        "All columns have null values. \n",
        "There are 93 rows in df but if you look at the non-null value count \n",
        "when implementing .info(), all features have less than 93.\n",
        "\"\"\""
      ],
      "metadata": {
        "id": "yY6T6TW8ObH6",
        "colab": {
          "base_uri": "https://localhost:8080/",
          "height": 660
        },
        "outputId": "a8284eae-9e79-473e-acde-2ec83e15f9a1"
      },
      "execution_count": null,
      "outputs": [
        {
          "output_type": "stream",
          "name": "stdout",
          "text": [
            "Dataframe shape: (93, 27)\n",
            "=================================\n",
            "<class 'pandas.core.frame.DataFrame'>\n",
            "RangeIndex: 93 entries, 0 to 92\n",
            "Data columns (total 27 columns):\n",
            " #   Column              Non-Null Count  Dtype  \n",
            "---  ------              --------------  -----  \n",
            " 0   s                   89 non-null     object \n",
            " 1   Model               92 non-null     object \n",
            " 2   Type                90 non-null     object \n",
            " 3   Min.Price           86 non-null     float64\n",
            " 4   Price               91 non-null     float64\n",
            " 5   Max.Price           88 non-null     float64\n",
            " 6   MPG.city            84 non-null     float64\n",
            " 7   MPG.highway         91 non-null     float64\n",
            " 8   AirBags             87 non-null     object \n",
            " 9   DriveTrain          86 non-null     object \n",
            " 10  Cylinders           88 non-null     object \n",
            " 11  EngineSize          91 non-null     float64\n",
            " 12  Horsepower          86 non-null     float64\n",
            " 13  RPM                 90 non-null     float64\n",
            " 14  Rev.per.mile        87 non-null     float64\n",
            " 15  Man.trans.avail     88 non-null     object \n",
            " 16  Fuel.tank.capacity  85 non-null     float64\n",
            " 17  Passengers          91 non-null     float64\n",
            " 18  Length              89 non-null     float64\n",
            " 19  Wheelbase           92 non-null     float64\n",
            " 20  Width               87 non-null     float64\n",
            " 21  Turn.circle         88 non-null     float64\n",
            " 22  Rear.seat.room      89 non-null     float64\n",
            " 23  Luggage.room        74 non-null     float64\n",
            " 24  Weight              86 non-null     float64\n",
            " 25  Origin              88 non-null     object \n",
            " 26  Make                90 non-null     object \n",
            "dtypes: float64(18), object(9)\n",
            "memory usage: 19.7+ KB\n"
          ]
        },
        {
          "output_type": "execute_result",
          "data": {
            "text/plain": [
              "'\\nAll columns have null values. \\nThere are 93 rows in df but if you look at the non-null value count \\nwhen implementing .info(), all features have less than 93.\\n'"
            ],
            "application/vnd.google.colaboratory.intrinsic+json": {
              "type": "string"
            }
          },
          "metadata": {},
          "execution_count": 37
        }
      ]
    },
    {
      "cell_type": "markdown",
      "source": [
        "### Problem 4\n",
        "\n",
        "To count the number of occurrences of each value in a Pandas DataFrame, you can use the `value_counts()` method.  The `value_counts()` method is useful when you want to quickly understand the distribution of values in a column.\n",
        "\n",
        "To fill null values in a Pandas DataFrame, you can use the `fillna()` method.\n",
        "\n"
      ],
      "metadata": {
        "id": "gzlOHJutOuHF"
      }
    },
    {
      "cell_type": "code",
      "source": [
        "# complete the following code (fill in the blanks)\n",
        "\n",
        "# Check for the most frequently occurrring value, i.e., the value with the highest count\n",
        "df['Manufacturer'].value_counts()\n",
        "\n",
        "# fill the null values with the most frequently occurrring value\n",
        "\n",
        "# there are two possible answers here:\n",
        "df['Manufacturer'] = df['Manufacturer'].fillna(\"Ford\")\n",
        "# or\n",
        "df['Manufacturer'] = df['Manufacturer'].fillna(\"Chevrolet\")"
      ],
      "metadata": {
        "id": "1Tbl3LfBOyh2"
      },
      "execution_count": null,
      "outputs": []
    },
    {
      "cell_type": "markdown",
      "source": [
        "### Problem 5\n",
        "\n",
        "To create a DataFrame in pandas with the average values of the columns Min.Price, Price, and Max.Price, you can do the following:\n",
        "\n",
        "* Select the columns you are interested in using double brackets to create a new DataFrame containing only needed columns\n",
        "* Calculate the mean of the selected columns using the mean() method\n",
        "\n",
        "The resulting averages object will be a Series with the mean value of each column as its values, and the column names as its index."
      ],
      "metadata": {
        "id": "yxu_crYqPnW8"
      }
    },
    {
      "cell_type": "code",
      "source": [
        "# complete the following code (fill in the blanks)\n",
        "averages = df[['Min.Price', 'Price', 'Max.Price']].mean()    # get the mean of the three columns\n",
        "averages"
      ],
      "metadata": {
        "id": "82jE3_h-PpTW",
        "colab": {
          "base_uri": "https://localhost:8080/"
        },
        "outputId": "e729c9b3-e82e-4e3b-e209-8e7474c87963"
      },
      "execution_count": null,
      "outputs": [
        {
          "output_type": "execute_result",
          "data": {
            "text/plain": [
              "Min.Price    17.118605\n",
              "Price        19.616484\n",
              "Max.Price    21.459091\n",
              "dtype: float64"
            ]
          },
          "metadata": {},
          "execution_count": 87
        }
      ]
    },
    {
      "cell_type": "markdown",
      "source": [
        "### Problem 6\n",
        "\n",
        "Group the data by the 'Manufacturer' column and calculate the mean price using the `groupby()` and `agg()` methods. This will create a new pandas Series with the average price per manufacturer.\n",
        "\n",
        "Sort the ave_price series in descending order using the `sort_values()` method. This will sort the series in descending order based on the average price.\n",
        "\n",
        "\n",
        "\n"
      ],
      "metadata": {
        "id": "BfpAqfQdQnmt"
      }
    },
    {
      "cell_type": "code",
      "source": [
        "# complete the following code (fill in the blanks)\n",
        "ave_price = df.groupby('Manufacturer').agg('mean')['Price']    # average price per manufacturer\n",
        "ave_price.sort_values(ascending=False)                   # arrange in descending order\n",
        "\n",
        "# Which manufacturer has the highest average minimum car price? \n",
        "# Infiniti"
      ],
      "metadata": {
        "id": "93bh_1g5Qs_c"
      },
      "execution_count": null,
      "outputs": []
    },
    {
      "cell_type": "markdown",
      "source": [
        "### Problem 7\n",
        "\n",
        "This code uses the `apply` method to create a new column in the DataFrame df called \"Passengers-1\". The new column is created by subtracting 1 from the values in the \"Passengers\" column. The lambda function is used with apply to perform the subtraction operation on each value of the \"Passengers\" column."
      ],
      "metadata": {
        "id": "IBBlv6aAUbf0"
      }
    },
    {
      "cell_type": "code",
      "source": [
        "# complete the code by filling in the blanks\n",
        "df[\"Passengers-1\"] = df[\"Passengers\"].apply(lambda x: x-1)    # passengers - 1"
      ],
      "metadata": {
        "id": "kUQG3Th4Ueyw"
      },
      "execution_count": null,
      "outputs": []
    },
    {
      "cell_type": "markdown",
      "source": [
        "### Problem 8\n",
        "\n",
        "To write this pandas code, follow these steps:\n",
        "\n",
        "* Use the DataFrame column 'Horsepower' and divide it by the column 'RPM' of the same DataFrame, which will generate a new column of results.\n",
        "* Multiply the resulting column with a constant value 5252 and assign it to a new column named 'Torque'.\n",
        "* Use the new column 'Torque' and print it to verify the results."
      ],
      "metadata": {
        "id": "R-BRKdBoVY4a"
      }
    },
    {
      "cell_type": "code",
      "source": [
        "# complete the code by filling in the blanks\n",
        "df[\"Torque\"] = df[\"Horsepower\"]*5252 / df['RPM']    # follow the defined formula\n",
        "df[\"Torque\"]            # Verify the results"
      ],
      "metadata": {
        "id": "SKCKLrCrVzMr"
      },
      "execution_count": null,
      "outputs": []
    },
    {
      "cell_type": "markdown",
      "source": [
        "### Problem 9\n",
        "\n",
        "This is how you can write the code:\n",
        "\n",
        "* Define a custom function called modify_origin which takes a single argument called origin.\n",
        "\n",
        "* Inside the modify_origin function, use conditional statements to check the value of origin. \n",
        "  * If the value of origin is equal to \"USA\", return the string \"United States of America\". \n",
        "  * If the value of origin is equal to \"non-USA\", return the string \"not United States of America\". \n",
        "  * Otherwise, return np.nan.\n",
        "\n",
        "* Use the apply() method on the \"Origin\" column of the DataFrame df and pass the modify_origin function as an argument to apply the function to each value in the column."
      ],
      "metadata": {
        "id": "eXzY78hXV1I9"
      }
    },
    {
      "cell_type": "code",
      "source": [
        "# complete the code by filling in the blanks\n",
        "\n",
        "# write the custom function\n",
        "def modify_origin(origin):\n",
        "    if origin == \"USA\":\n",
        "        return \"United States of America\"\n",
        "    elif origin == \"non-USA\":\n",
        "        return \"not United States of America\"\n",
        "    else:\n",
        "        return np.nan\n",
        "\n",
        "# apply the custom function to the column\n",
        "df[\"Origin\"] = df[\"Origin\"].apply(modify_origin)"
      ],
      "metadata": {
        "id": "9KLzpBiOV4Pa"
      },
      "execution_count": null,
      "outputs": []
    },
    {
      "cell_type": "markdown",
      "source": [
        "### Problem 10\n",
        "\n",
        "The `plt.figure(figsize=(15,10))` statement sets the size of the figure to be 15 inches by 10 inches. \n",
        "\n",
        "The `sns.countplot()` function is called, with the 'x' parameter set to 'Type', indicating that we want to count the occurrences of each unique value in the 'Type' column. The 'data' parameter is set to 'df', indicating that we want to use the 'df' DataFrame as the source of data for the plot.\n",
        "\n",
        "The resulting plot will have bars representing the count of each unique value in the 'Type' column of the DataFrame, with the x-axis representing the unique values and the y-axis representing the count of occurrences.\n",
        "\n",
        "Finally, `plt.show()` is used to display the plot."
      ],
      "metadata": {
        "id": "lUP6tc7sWRYg"
      }
    },
    {
      "cell_type": "code",
      "source": [
        "# complete the code by filling in the blanks\n",
        "plt.figure(figsize=(15,10))\n",
        "\n",
        "sns.countplot(x='Type' ,\n",
        "              data=df)\n",
        "\n",
        "plt.show()"
      ],
      "metadata": {
        "id": "e8F-meXSWzGi",
        "colab": {
          "base_uri": "https://localhost:8080/",
          "height": 850
        },
        "outputId": "f6389587-95b8-4bfd-fc2b-ab34750e7a09"
      },
      "execution_count": null,
      "outputs": [
        {
          "output_type": "display_data",
          "data": {
            "text/plain": [
              "<Figure size 1500x1000 with 1 Axes>"
            ],
            "image/png": "[encoded data removed]"
          },
          "metadata": {}
        }
      ]
    },
    {
      "cell_type": "markdown",
      "metadata": {
        "id": "M3t11rWWEjno",
        "tags": []
      },
      "source": [
        "#### END OF FILE"
      ]
    }
  ],
  "metadata": {
    "colab": {
      "provenance": [],
      "include_colab_link": true
    },
    "kernelspec": {
      "display_name": "Python 3 (ipykernel)",
      "language": "python",
      "name": "python3"
    },
    "language_info": {
      "codemirror_mode": {
        "name": "ipython",
        "version": 3
      },
      "file_extension": ".py",
      "mimetype": "text/x-python",
      "name": "python",
      "nbconvert_exporter": "python",
      "pygments_lexer": "ipython3",
      "version": "3.9.0"
    }
  },
  "nbformat": 4,
  "nbformat_minor": 0
}