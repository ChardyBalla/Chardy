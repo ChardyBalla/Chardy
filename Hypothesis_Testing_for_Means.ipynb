{
  "nbformat": 4,
  "nbformat_minor": 0,
  "metadata": {
    "colab": {
      "provenance": [],
      "include_colab_link": true
    },
    "kernelspec": {
      "name": "python3",
      "display_name": "Python 3"
    },
    "language_info": {
      "name": "python"
    }
  },
  "cells": [
    {
      "cell_type": "markdown",
      "metadata": {
        "id": "view-in-github",
        "colab_type": "text"
      },
      "source": [
        "<a href=\"https://colab.research.google.com/github/ChardyBalla/Chardy/blob/main/Hypothesis_Testing_for_Means.ipynb\" target=\"_parent\"><img src=\"https://colab.research.google.com/assets/colab-badge.svg\" alt=\"Open In Colab\"/></a>"
      ]
    },
    {
      "cell_type": "markdown",
      "source": [
        "# Lesson 2: Hypothesis Testing for Means"
      ],
      "metadata": {
        "id": "KYH-CHczo-UO"
      }
    },
    {
      "cell_type": "code",
      "execution_count": 1,
      "metadata": {
        "id": "HoNJAEdFNT0U",
        "colab": {
          "base_uri": "https://localhost:8080/"
        },
        "outputId": "2f91ba29-2189-46ad-f4eb-8b88be92bb06"
      },
      "outputs": [
        {
          "output_type": "stream",
          "name": "stdout",
          "text": [
            "Mounted at /content/drive\n"
          ]
        }
      ],
      "source": [
        "from google.colab import drive\n",
        "drive.mount('/content/drive')"
      ]
    },
    {
      "cell_type": "code",
      "source": [
        "import pandas as pd"
      ],
      "metadata": {
        "id": "89lij1XhW9ew"
      },
      "execution_count": 2,
      "outputs": []
    },
    {
      "cell_type": "markdown",
      "source": [
        "In this notebook, we aim to learn the following:\n",
        "1. Install and utilize the `scipy` and `statsmodels` packages for hypothesis testing\n",
        "2. Identify and implement the applicable tests for varying problems\n",
        "  a. Hypothesis Testing for Means (Lesson 2)\n",
        "    - One-Sample T-Test\n",
        "    - Two-Sample Unpaired T-Test\n",
        "    - Two-Sample Paired T-Test\n",
        "\n",
        "  b. Hypothesis Testing for Proportions (Lesson 3)\n",
        "    - One-Sample Binomial Test\n",
        "    - One-Sample Z-Test\n",
        "    - Chi-Squared Goodness of Fit Test\n",
        "\n",
        "\n"
      ],
      "metadata": {
        "id": "CkR3vbmptyT7"
      }
    },
    {
      "cell_type": "markdown",
      "source": [
        "# The Scipy and Statsmodels Package\n",
        "\n",
        "**[Scipy](https://scipy.org)** (pronounced “Sigh Pie”) is an open-source software for mathematics, science, and engineering.\n",
        "\n",
        "- Can be installed with pip: `pip install scipy`\n",
        "\n",
        "\n",
        "**[Statsmodels](https://www.statsmodels.org/stable/index.html)** provides classes and functions for the estimation of many different statistical models, as well as for conducting statistical tests, and statistical data exploration.\n",
        "\n",
        "- Can also be installed with pip: `pip install statsmodels`"
      ],
      "metadata": {
        "id": "GNQDif5JBonE"
      }
    },
    {
      "cell_type": "markdown",
      "source": [
        "## Recall:\n",
        "\n",
        "$p-value$ = probability that our results will occur given that our null hypothesis is True\n",
        "\n",
        "$\\alpha$ = probability threshold for our p-value where we reject the null hypothesis\n",
        "\n",
        "In hypothesis testing, we usually set $\\alpha$ to a fixed value.\n",
        "\n",
        "1. Set up null and alternative hypotheses\n",
        "    * Determine the appropriate test to use\n",
        "    * Determine the test *sidedness* and *distribution*\n",
        "2. Set significance level, $\\alpha$\n",
        "3. Calculate the *test statistic*\n",
        "4. Find the p-value, $p$\n",
        "5. Compare the p-value to the significance level\n",
        "    * Reject the null if $p < \\alpha$\n",
        "    * Otherwise, Fail to reject the null\n"
      ],
      "metadata": {
        "id": "fZ2_o7mXpBzZ"
      }
    },
    {
      "cell_type": "markdown",
      "source": [
        "## T-Test\n",
        "\n",
        "When testing for means, we can calculate the p-values using a T-Test. In this test, we make the assumption that our data samples are **independent** (meaning that they are randomly selected and the result of any data point is not based on other observations) and are approximately **normal** (they follow the normal distribution/bell curve) - this assumption would work with large sample sizes (see also: central limit theorem).\n",
        "\n",
        "In this test, we calculate a t-statistic using the means and standard devations of our sample/s using the corresponding formula. Then we can identify the p-value by looking it up from a table of critical values.\n",
        "\n",
        "In the scipy package, the t-test formula and critical values are already implemented for us.\n",
        "\n",
        "\n",
        "Sample Critical Values Table:\n",
        "![T-Table](http://www.ttable.org/uploads/2/1/7/9/21795380/published/9754276.png?1517416376)\n",
        "\n",
        "\n",
        "\n"
      ],
      "metadata": {
        "id": "Gvgnaiz65rNY"
      }
    },
    {
      "cell_type": "markdown",
      "source": [
        "### Example 1: From our employee attrition dataset, Test if the average age of our employees is greater than 36 years old"
      ],
      "metadata": {
        "id": "6P__P48Upx2_"
      }
    },
    {
      "cell_type": "markdown",
      "source": [
        "**One-Sample Mean**\n",
        "\n",
        "When doing hypothesis testing, we consider the variables that we need to observe and match it to the corresponding test. In this example, we are looking at one variable (age) and are trying to compare its mean to a fixed value (36 years old).\n",
        "\n",
        "\n",
        "\n",
        "For comparing the sample mean with the expected population (i.e. if the average age of employees is greater than 36), we utilize the following equation to calculate the t-statistic. Then we can identify the p-value by looking it up from a table of critical values.\n",
        "\n",
        "<br>\n",
        "$t = \\frac{\\bar{x} - \\mu}{\\frac{s}{\\sqrt{N}}}$\n",
        "\n",
        "$\\bar{x}$ and $s$ is the mean and standard deviation of our sample, respectively. $\\mu$ is the expected population mean in our null hypothesis, and $N$ is the total number of samples\n",
        "<br>\n",
        "\n",
        "\n",
        "scipy has the [ttest_1samp](https://docs.scipy.org/doc/scipy/reference/generated/scipy.stats.ttest_1samp.html) function that can implements this calculation and determines the corresponding p-value.\n",
        "\n",
        "``` python\n",
        "t_stat, p_val = scipy.stats.ttest_1samp(a,\n",
        "                                        popmean,\n",
        "                                        axis=0,\n",
        "                                        nan_policy='propagate',\n",
        "                                        alternative='two-sided')\n",
        "```\n",
        "\n",
        "The first parameter `a` is the sample data points (age) and `popmean` is the population mean that we are trying to test (36 years old). Note that we also set the parameter `alternative='greater'`. This means that we are looking at the probability that the average age is greater than 36 years old."
      ],
      "metadata": {
        "id": "QeLzSwqCriQD"
      }
    },
    {
      "cell_type": "markdown",
      "source": [
        "Let's load our dataset"
      ],
      "metadata": {
        "id": "kqeDnzypraXb"
      }
    },
    {
      "cell_type": "code",
      "source": [
        "df = pd.read_csv('/content/drive/MyDrive/Refocus Module/Jupyter Notebook-20230501T012835Z-001/Jupyter Notebook/datasets/hr_employee_attrition.csv')\n",
        "df.head()"
      ],
      "metadata": {
        "id": "1XNX0MQKrS3R",
        "colab": {
          "base_uri": "https://localhost:8080/",
          "height": 386
        },
        "outputId": "c5d1782d-101d-40fa-b5fd-60600c110f57"
      },
      "execution_count": 3,
      "outputs": [
        {
          "output_type": "execute_result",
          "data": {
            "text/plain": [
              "   Age Attrition     BusinessTravel  DailyRate     DepartmentInCompany  \\\n",
              "0   41       Yes      Travel_Rarely       1102                   Sales   \n",
              "1  -49        No  Travel_Frequently        279  Research & Development   \n",
              "2    1       Yes      Travel_Rarely       1373  Research & Development   \n",
              "3    2        No  Travel_Frequently       1392  Research & Development   \n",
              "4   27        No      Travel_Rarely        591  Research & Development   \n",
              "\n",
              "   DistanceHome  Education           Educ  EmployeeNumber  \\\n",
              "0           1.0          2  Life Sciences               1   \n",
              "1           8.0          1  Life Sciences               2   \n",
              "2           2.0          2          Other               4   \n",
              "3           3.0          4  Life Sciences               5   \n",
              "4           2.0          1        Medical               7   \n",
              "\n",
              "   EnvironmentSatisfaction  ... PerformanceRating RelationshipSatisfaction  \\\n",
              "0                        2  ...                 3                        1   \n",
              "1                        3  ...                 4                        4   \n",
              "2                        4  ...                 3                        2   \n",
              "3                        4  ...                 3                        3   \n",
              "4                        1  ...                 3                        4   \n",
              "\n",
              "   StandardHours TotalWorkingYears  TrainingTimesLastYear  WorkLifeBalance  \\\n",
              "0             80                 8                      0                1   \n",
              "1             80                10                      3                3   \n",
              "2             80                 7                      3                3   \n",
              "3             80                 8                      3                3   \n",
              "4             80                 6                      3                3   \n",
              "\n",
              "  YearsAtCompany YearsInCurrentRole  YearsSinceLastPromotion  \\\n",
              "0              6                  4                        0   \n",
              "1             10                  7                        1   \n",
              "2              0                  0                        0   \n",
              "3              8                  7                        3   \n",
              "4              2                  2                        2   \n",
              "\n",
              "   YearsWithCurrManager  \n",
              "0                     5  \n",
              "1                     7  \n",
              "2                     0  \n",
              "3                     0  \n",
              "4                     2  \n",
              "\n",
              "[5 rows x 29 columns]"
            ],
            "text/html": [
              "\n",
              "  <div id=\"df-e8960fc8-64b0-4d3d-aff9-b3f204cf2798\">\n",
              "    <div class=\"colab-df-container\">\n",
              "      <div>\n",
              "<style scoped>\n",
              "    .dataframe tbody tr th:only-of-type {\n",
              "        vertical-align: middle;\n",
              "    }\n",
              "\n",
              "    .dataframe tbody tr th {\n",
              "        vertical-align: top;\n",
              "    }\n",
              "\n",
              "    .dataframe thead th {\n",
              "        text-align: right;\n",
              "    }\n",
              "</style>\n",
              "<table border=\"1\" class=\"dataframe\">\n",
              "  <thead>\n",
              "    <tr style=\"text-align: right;\">\n",
              "      <th></th>\n",
              "      <th>Age</th>\n",
              "      <th>Attrition</th>\n",
              "      <th>BusinessTravel</th>\n",
              "      <th>DailyRate</th>\n",
              "      <th>DepartmentInCompany</th>\n",
              "      <th>DistanceHome</th>\n",
              "      <th>Education</th>\n",
              "      <th>Educ</th>\n",
              "      <th>EmployeeNumber</th>\n",
              "      <th>EnvironmentSatisfaction</th>\n",
              "      <th>...</th>\n",
              "      <th>PerformanceRating</th>\n",
              "      <th>RelationshipSatisfaction</th>\n",
              "      <th>StandardHours</th>\n",
              "      <th>TotalWorkingYears</th>\n",
              "      <th>TrainingTimesLastYear</th>\n",
              "      <th>WorkLifeBalance</th>\n",
              "      <th>YearsAtCompany</th>\n",
              "      <th>YearsInCurrentRole</th>\n",
              "      <th>YearsSinceLastPromotion</th>\n",
              "      <th>YearsWithCurrManager</th>\n",
              "    </tr>\n",
              "  </thead>\n",
              "  <tbody>\n",
              "    <tr>\n",
              "      <th>0</th>\n",
              "      <td>41</td>\n",
              "      <td>Yes</td>\n",
              "      <td>Travel_Rarely</td>\n",
              "      <td>1102</td>\n",
              "      <td>Sales</td>\n",
              "      <td>1.0</td>\n",
              "      <td>2</td>\n",
              "      <td>Life Sciences</td>\n",
              "      <td>1</td>\n",
              "      <td>2</td>\n",
              "      <td>...</td>\n",
              "      <td>3</td>\n",
              "      <td>1</td>\n",
              "      <td>80</td>\n",
              "      <td>8</td>\n",
              "      <td>0</td>\n",
              "      <td>1</td>\n",
              "      <td>6</td>\n",
              "      <td>4</td>\n",
              "      <td>0</td>\n",
              "      <td>5</td>\n",
              "    </tr>\n",
              "    <tr>\n",
              "      <th>1</th>\n",
              "      <td>-49</td>\n",
              "      <td>No</td>\n",
              "      <td>Travel_Frequently</td>\n",
              "      <td>279</td>\n",
              "      <td>Research &amp; Development</td>\n",
              "      <td>8.0</td>\n",
              "      <td>1</td>\n",
              "      <td>Life Sciences</td>\n",
              "      <td>2</td>\n",
              "      <td>3</td>\n",
              "      <td>...</td>\n",
              "      <td>4</td>\n",
              "      <td>4</td>\n",
              "      <td>80</td>\n",
              "      <td>10</td>\n",
              "      <td>3</td>\n",
              "      <td>3</td>\n",
              "      <td>10</td>\n",
              "      <td>7</td>\n",
              "      <td>1</td>\n",
              "      <td>7</td>\n",
              "    </tr>\n",
              "    <tr>\n",
              "      <th>2</th>\n",
              "      <td>1</td>\n",
              "      <td>Yes</td>\n",
              "      <td>Travel_Rarely</td>\n",
              "      <td>1373</td>\n",
              "      <td>Research &amp; Development</td>\n",
              "      <td>2.0</td>\n",
              "      <td>2</td>\n",
              "      <td>Other</td>\n",
              "      <td>4</td>\n",
              "      <td>4</td>\n",
              "      <td>...</td>\n",
              "      <td>3</td>\n",
              "      <td>2</td>\n",
              "      <td>80</td>\n",
              "      <td>7</td>\n",
              "      <td>3</td>\n",
              "      <td>3</td>\n",
              "      <td>0</td>\n",
              "      <td>0</td>\n",
              "      <td>0</td>\n",
              "      <td>0</td>\n",
              "    </tr>\n",
              "    <tr>\n",
              "      <th>3</th>\n",
              "      <td>2</td>\n",
              "      <td>No</td>\n",
              "      <td>Travel_Frequently</td>\n",
              "      <td>1392</td>\n",
              "      <td>Research &amp; Development</td>\n",
              "      <td>3.0</td>\n",
              "      <td>4</td>\n",
              "      <td>Life Sciences</td>\n",
              "      <td>5</td>\n",
              "      <td>4</td>\n",
              "      <td>...</td>\n",
              "      <td>3</td>\n",
              "      <td>3</td>\n",
              "      <td>80</td>\n",
              "      <td>8</td>\n",
              "      <td>3</td>\n",
              "      <td>3</td>\n",
              "      <td>8</td>\n",
              "      <td>7</td>\n",
              "      <td>3</td>\n",
              "      <td>0</td>\n",
              "    </tr>\n",
              "    <tr>\n",
              "      <th>4</th>\n",
              "      <td>27</td>\n",
              "      <td>No</td>\n",
              "      <td>Travel_Rarely</td>\n",
              "      <td>591</td>\n",
              "      <td>Research &amp; Development</td>\n",
              "      <td>2.0</td>\n",
              "      <td>1</td>\n",
              "      <td>Medical</td>\n",
              "      <td>7</td>\n",
              "      <td>1</td>\n",
              "      <td>...</td>\n",
              "      <td>3</td>\n",
              "      <td>4</td>\n",
              "      <td>80</td>\n",
              "      <td>6</td>\n",
              "      <td>3</td>\n",
              "      <td>3</td>\n",
              "      <td>2</td>\n",
              "      <td>2</td>\n",
              "      <td>2</td>\n",
              "      <td>2</td>\n",
              "    </tr>\n",
              "  </tbody>\n",
              "</table>\n",
              "<p>5 rows × 29 columns</p>\n",
              "</div>\n",
              "      <button class=\"colab-df-convert\" onclick=\"convertToInteractive('df-e8960fc8-64b0-4d3d-aff9-b3f204cf2798')\"\n",
              "              title=\"Convert this dataframe to an interactive table.\"\n",
              "              style=\"display:none;\">\n",
              "        \n",
              "  <svg xmlns=\"http://www.w3.org/2000/svg\" height=\"24px\"viewBox=\"0 0 24 24\"\n",
              "       width=\"24px\">\n",
              "    <path d=\"M0 0h24v24H0V0z\" fill=\"none\"/>\n",
              "    <path d=\"M18.56 5.44l.94 2.06.94-2.06 2.06-.94-2.06-.94-.94-2.06-.94 2.06-2.06.94zm-11 1L8.5 8.5l.94-2.06 2.06-.94-2.06-.94L8.5 2.5l-.94 2.06-2.06.94zm10 10l.94 2.06.94-2.06 2.06-.94-2.06-.94-.94-2.06-.94 2.06-2.06.94z\"/><path d=\"M17.41 7.96l-1.37-1.37c-.4-.4-.92-.59-1.43-.59-.52 0-1.04.2-1.43.59L10.3 9.45l-7.72 7.72c-.78.78-.78 2.05 0 2.83L4 21.41c.39.39.9.59 1.41.59.51 0 1.02-.2 1.41-.59l7.78-7.78 2.81-2.81c.8-.78.8-2.07 0-2.86zM5.41 20L4 18.59l7.72-7.72 1.47 1.35L5.41 20z\"/>\n",
              "  </svg>\n",
              "      </button>\n",
              "      \n",
              "  <style>\n",
              "    .colab-df-container {\n",
              "      display:flex;\n",
              "      flex-wrap:wrap;\n",
              "      gap: 12px;\n",
              "    }\n",
              "\n",
              "    .colab-df-convert {\n",
              "      background-color: #E8F0FE;\n",
              "      border: none;\n",
              "      border-radius: 50%;\n",
              "      cursor: pointer;\n",
              "      display: none;\n",
              "      fill: #1967D2;\n",
              "      height: 32px;\n",
              "      padding: 0 0 0 0;\n",
              "      width: 32px;\n",
              "    }\n",
              "\n",
              "    .colab-df-convert:hover {\n",
              "      background-color: #E2EBFA;\n",
              "      box-shadow: 0px 1px 2px rgba(60, 64, 67, 0.3), 0px 1px 3px 1px rgba(60, 64, 67, 0.15);\n",
              "      fill: #174EA6;\n",
              "    }\n",
              "\n",
              "    [theme=dark] .colab-df-convert {\n",
              "      background-color: #3B4455;\n",
              "      fill: #D2E3FC;\n",
              "    }\n",
              "\n",
              "    [theme=dark] .colab-df-convert:hover {\n",
              "      background-color: #434B5C;\n",
              "      box-shadow: 0px 1px 3px 1px rgba(0, 0, 0, 0.15);\n",
              "      filter: drop-shadow(0px 1px 2px rgba(0, 0, 0, 0.3));\n",
              "      fill: #FFFFFF;\n",
              "    }\n",
              "  </style>\n",
              "\n",
              "      <script>\n",
              "        const buttonEl =\n",
              "          document.querySelector('#df-e8960fc8-64b0-4d3d-aff9-b3f204cf2798 button.colab-df-convert');\n",
              "        buttonEl.style.display =\n",
              "          google.colab.kernel.accessAllowed ? 'block' : 'none';\n",
              "\n",
              "        async function convertToInteractive(key) {\n",
              "          const element = document.querySelector('#df-e8960fc8-64b0-4d3d-aff9-b3f204cf2798');\n",
              "          const dataTable =\n",
              "            await google.colab.kernel.invokeFunction('convertToInteractive',\n",
              "                                                     [key], {});\n",
              "          if (!dataTable) return;\n",
              "\n",
              "          const docLinkHtml = 'Like what you see? Visit the ' +\n",
              "            '<a target=\"_blank\" href=https://colab.research.google.com/notebooks/data_table.ipynb>data table notebook</a>'\n",
              "            + ' to learn more about interactive tables.';\n",
              "          element.innerHTML = '';\n",
              "          dataTable['output_type'] = 'display_data';\n",
              "          await google.colab.output.renderOutput(dataTable, element);\n",
              "          const docLink = document.createElement('div');\n",
              "          docLink.innerHTML = docLinkHtml;\n",
              "          element.appendChild(docLink);\n",
              "        }\n",
              "      </script>\n",
              "    </div>\n",
              "  </div>\n",
              "  "
            ]
          },
          "metadata": {},
          "execution_count": 3
        }
      ]
    },
    {
      "cell_type": "code",
      "source": [
        "df.Age.describe()"
      ],
      "metadata": {
        "id": "ZC7jdCrfvEbO",
        "colab": {
          "base_uri": "https://localhost:8080/"
        },
        "outputId": "dd910396-40cb-410c-9292-7fa486d7953f"
      },
      "execution_count": 4,
      "outputs": [
        {
          "output_type": "execute_result",
          "data": {
            "text/plain": [
              "count    1470.000000\n",
              "mean       36.706803\n",
              "std         9.784563\n",
              "min       -59.000000\n",
              "25%        30.000000\n",
              "50%        36.000000\n",
              "75%        43.000000\n",
              "max        60.000000\n",
              "Name: Age, dtype: float64"
            ]
          },
          "metadata": {},
          "execution_count": 4
        }
      ]
    },
    {
      "cell_type": "markdown",
      "source": [
        "We first define the null and alternative hypothesis. The null hypothesis will be the reverse of what we are testing:\n",
        "\n",
        "$H_0$: $\\mu_{age} <= 36 years old$\n",
        "$H_A$: $\\mu_{age} > 36 years old$\n",
        "\n",
        "We then set our alpha to 0.05"
      ],
      "metadata": {
        "id": "v4ypL1-_uZWe"
      }
    },
    {
      "cell_type": "code",
      "source": [
        "from scipy.stats import ttest_1samp"
      ],
      "metadata": {
        "id": "vrwk--JHvMgE"
      },
      "execution_count": 5,
      "outputs": []
    },
    {
      "cell_type": "code",
      "source": [
        "alpha = 0.05\n",
        "\n",
        "t_stat, p_val = ttest_1samp(df['Age'], 36, alternative='greater')\n",
        "print ('Test statistic: ', t_stat)\n",
        "print ('p-value (one-sided): ', p_val)"
      ],
      "metadata": {
        "id": "jIEzuAnvuo0Y",
        "colab": {
          "base_uri": "https://localhost:8080/"
        },
        "outputId": "4c4c9480-0315-4eab-9bf7-aed616d8f033"
      },
      "execution_count": 6,
      "outputs": [
        {
          "output_type": "stream",
          "name": "stdout",
          "text": [
            "Test statistic:  2.7695898660579283\n",
            "p-value (one-sided):  0.0028416573468577617\n"
          ]
        }
      ]
    },
    {
      "cell_type": "code",
      "source": [
        "if p_val < alpha:\n",
        "    print (f'Reject the Null Hypothesis (alpha = {alpha}).')\n",
        "else:\n",
        "    print (f'Fail to Reject the Null Hypothesis (alpha = {alpha}).')"
      ],
      "metadata": {
        "id": "cgzsKuEsvA1d",
        "colab": {
          "base_uri": "https://localhost:8080/"
        },
        "outputId": "c8022ce2-55ac-49e9-dc35-e1d4cc5bed0c"
      },
      "execution_count": 7,
      "outputs": [
        {
          "output_type": "stream",
          "name": "stdout",
          "text": [
            "Reject the Null Hypothesis (alpha = 0.05).\n"
          ]
        }
      ]
    },
    {
      "cell_type": "markdown",
      "source": [
        "Conclusion: The average age of our employees is greater than 36 years old"
      ],
      "metadata": {
        "id": "z53sDQx-vgbc"
      }
    },
    {
      "cell_type": "markdown",
      "source": [
        "### Example 2: Are the remaining employees older than those who resigned?\n",
        "\n",
        "**Two-Sample Unpaired**\n",
        "\n",
        "When trying to compare 2 variables from different samples (e.g. resigned/not resigned, male/female, etc.) We utilize the Two-Sample Unpaired T-Test.\n",
        "\n",
        "In the Welch's t-test equation, we now compare the means ($\\bar{x_i}$) and standard deviation ($s_i$) of both samples. We assume that the two population variances are not equal (i.e. the two sample sizes may or may not be equal).\n",
        "<br>\n",
        "$t = \\frac{(\\bar{x_1} - \\bar{x_2})}{S}$\n",
        "<br>\n",
        "\n",
        "$S = \\sqrt{\\frac{s_1^2}{N_1} + \\frac{s_2^2}{N_2}}$\n",
        "\n",
        "\n",
        "scipy has the [ttest_ind](https://docs.scipy.org/doc/scipy/reference/generated/scipy.stats.ttest_ind.html) function to calculate the p-value.\n",
        "\n",
        "``` python\n",
        "t_stat, p_val = scipy.stats.ttest_ind(a, b, axis=0,\n",
        "                                      equal_var=True,\n",
        "                                      nan_policy='propagate',\n",
        "                                      permutations=None,\n",
        "                                      random_state=None,\n",
        "                                      alternative='two-sided',\n",
        "                                      trim=0)\n",
        "```\n",
        "\n",
        "In these function, we load the 2 arrays that we are testing and the alternative parameter."
      ],
      "metadata": {
        "id": "WlUc77tmCM8i"
      }
    },
    {
      "cell_type": "markdown",
      "source": [
        "We first define the null and alternative hypothesis:\n",
        "\n",
        "$H_0$: $\\mu_{age\\_resigned} >= \\mu_{age\\_not\\_resigned}$\n",
        "$H_A$: $\\mu_{age\\_resigned} < \\mu_{age\\_not\\_resigned}$\n",
        "\n",
        "We set our alpha to 0.05"
      ],
      "metadata": {
        "id": "an6gtDrjFC7D"
      }
    },
    {
      "cell_type": "markdown",
      "source": [
        "Then, we load our samples from the dataset"
      ],
      "metadata": {
        "id": "ezkPN_lUFa37"
      }
    },
    {
      "cell_type": "code",
      "source": [
        "df.groupby('Attrition').Age.describe()"
      ],
      "metadata": {
        "id": "eB8D3Z-6CXwn",
        "colab": {
          "base_uri": "https://localhost:8080/",
          "height": 143
        },
        "outputId": "32110e1a-ff8f-4039-d823-546c41069313"
      },
      "execution_count": 8,
      "outputs": [
        {
          "output_type": "execute_result",
          "data": {
            "text/plain": [
              "            count       mean       std   min   25%   50%   75%   max\n",
              "Attrition                                                           \n",
              "No         1234.0  37.324959  9.637328 -59.0  31.0  36.0  43.0  60.0\n",
              "Yes         236.0  33.474576  9.932292   1.0  27.0  31.5  39.0  58.0"
            ],
            "text/html": [
              "\n",
              "  <div id=\"df-0dced8e2-4bec-457a-b0d5-cc74fbfa9252\">\n",
              "    <div class=\"colab-df-container\">\n",
              "      <div>\n",
              "<style scoped>\n",
              "    .dataframe tbody tr th:only-of-type {\n",
              "        vertical-align: middle;\n",
              "    }\n",
              "\n",
              "    .dataframe tbody tr th {\n",
              "        vertical-align: top;\n",
              "    }\n",
              "\n",
              "    .dataframe thead th {\n",
              "        text-align: right;\n",
              "    }\n",
              "</style>\n",
              "<table border=\"1\" class=\"dataframe\">\n",
              "  <thead>\n",
              "    <tr style=\"text-align: right;\">\n",
              "      <th></th>\n",
              "      <th>count</th>\n",
              "      <th>mean</th>\n",
              "      <th>std</th>\n",
              "      <th>min</th>\n",
              "      <th>25%</th>\n",
              "      <th>50%</th>\n",
              "      <th>75%</th>\n",
              "      <th>max</th>\n",
              "    </tr>\n",
              "    <tr>\n",
              "      <th>Attrition</th>\n",
              "      <th></th>\n",
              "      <th></th>\n",
              "      <th></th>\n",
              "      <th></th>\n",
              "      <th></th>\n",
              "      <th></th>\n",
              "      <th></th>\n",
              "      <th></th>\n",
              "    </tr>\n",
              "  </thead>\n",
              "  <tbody>\n",
              "    <tr>\n",
              "      <th>No</th>\n",
              "      <td>1234.0</td>\n",
              "      <td>37.324959</td>\n",
              "      <td>9.637328</td>\n",
              "      <td>-59.0</td>\n",
              "      <td>31.0</td>\n",
              "      <td>36.0</td>\n",
              "      <td>43.0</td>\n",
              "      <td>60.0</td>\n",
              "    </tr>\n",
              "    <tr>\n",
              "      <th>Yes</th>\n",
              "      <td>236.0</td>\n",
              "      <td>33.474576</td>\n",
              "      <td>9.932292</td>\n",
              "      <td>1.0</td>\n",
              "      <td>27.0</td>\n",
              "      <td>31.5</td>\n",
              "      <td>39.0</td>\n",
              "      <td>58.0</td>\n",
              "    </tr>\n",
              "  </tbody>\n",
              "</table>\n",
              "</div>\n",
              "      <button class=\"colab-df-convert\" onclick=\"convertToInteractive('df-0dced8e2-4bec-457a-b0d5-cc74fbfa9252')\"\n",
              "              title=\"Convert this dataframe to an interactive table.\"\n",
              "              style=\"display:none;\">\n",
              "        \n",
              "  <svg xmlns=\"http://www.w3.org/2000/svg\" height=\"24px\"viewBox=\"0 0 24 24\"\n",
              "       width=\"24px\">\n",
              "    <path d=\"M0 0h24v24H0V0z\" fill=\"none\"/>\n",
              "    <path d=\"M18.56 5.44l.94 2.06.94-2.06 2.06-.94-2.06-.94-.94-2.06-.94 2.06-2.06.94zm-11 1L8.5 8.5l.94-2.06 2.06-.94-2.06-.94L8.5 2.5l-.94 2.06-2.06.94zm10 10l.94 2.06.94-2.06 2.06-.94-2.06-.94-.94-2.06-.94 2.06-2.06.94z\"/><path d=\"M17.41 7.96l-1.37-1.37c-.4-.4-.92-.59-1.43-.59-.52 0-1.04.2-1.43.59L10.3 9.45l-7.72 7.72c-.78.78-.78 2.05 0 2.83L4 21.41c.39.39.9.59 1.41.59.51 0 1.02-.2 1.41-.59l7.78-7.78 2.81-2.81c.8-.78.8-2.07 0-2.86zM5.41 20L4 18.59l7.72-7.72 1.47 1.35L5.41 20z\"/>\n",
              "  </svg>\n",
              "      </button>\n",
              "      \n",
              "  <style>\n",
              "    .colab-df-container {\n",
              "      display:flex;\n",
              "      flex-wrap:wrap;\n",
              "      gap: 12px;\n",
              "    }\n",
              "\n",
              "    .colab-df-convert {\n",
              "      background-color: #E8F0FE;\n",
              "      border: none;\n",
              "      border-radius: 50%;\n",
              "      cursor: pointer;\n",
              "      display: none;\n",
              "      fill: #1967D2;\n",
              "      height: 32px;\n",
              "      padding: 0 0 0 0;\n",
              "      width: 32px;\n",
              "    }\n",
              "\n",
              "    .colab-df-convert:hover {\n",
              "      background-color: #E2EBFA;\n",
              "      box-shadow: 0px 1px 2px rgba(60, 64, 67, 0.3), 0px 1px 3px 1px rgba(60, 64, 67, 0.15);\n",
              "      fill: #174EA6;\n",
              "    }\n",
              "\n",
              "    [theme=dark] .colab-df-convert {\n",
              "      background-color: #3B4455;\n",
              "      fill: #D2E3FC;\n",
              "    }\n",
              "\n",
              "    [theme=dark] .colab-df-convert:hover {\n",
              "      background-color: #434B5C;\n",
              "      box-shadow: 0px 1px 3px 1px rgba(0, 0, 0, 0.15);\n",
              "      filter: drop-shadow(0px 1px 2px rgba(0, 0, 0, 0.3));\n",
              "      fill: #FFFFFF;\n",
              "    }\n",
              "  </style>\n",
              "\n",
              "      <script>\n",
              "        const buttonEl =\n",
              "          document.querySelector('#df-0dced8e2-4bec-457a-b0d5-cc74fbfa9252 button.colab-df-convert');\n",
              "        buttonEl.style.display =\n",
              "          google.colab.kernel.accessAllowed ? 'block' : 'none';\n",
              "\n",
              "        async function convertToInteractive(key) {\n",
              "          const element = document.querySelector('#df-0dced8e2-4bec-457a-b0d5-cc74fbfa9252');\n",
              "          const dataTable =\n",
              "            await google.colab.kernel.invokeFunction('convertToInteractive',\n",
              "                                                     [key], {});\n",
              "          if (!dataTable) return;\n",
              "\n",
              "          const docLinkHtml = 'Like what you see? Visit the ' +\n",
              "            '<a target=\"_blank\" href=https://colab.research.google.com/notebooks/data_table.ipynb>data table notebook</a>'\n",
              "            + ' to learn more about interactive tables.';\n",
              "          element.innerHTML = '';\n",
              "          dataTable['output_type'] = 'display_data';\n",
              "          await google.colab.output.renderOutput(dataTable, element);\n",
              "          const docLink = document.createElement('div');\n",
              "          docLink.innerHTML = docLinkHtml;\n",
              "          element.appendChild(docLink);\n",
              "        }\n",
              "      </script>\n",
              "    </div>\n",
              "  </div>\n",
              "  "
            ]
          },
          "metadata": {},
          "execution_count": 8
        }
      ]
    },
    {
      "cell_type": "code",
      "source": [
        "age_resigned = df.loc[df.Attrition=='Yes', 'Age']\n",
        "age_not_resigned = df.loc[df.Attrition=='No', 'Age']"
      ],
      "metadata": {
        "id": "2ZU7poBxFgKs"
      },
      "execution_count": 9,
      "outputs": []
    },
    {
      "cell_type": "markdown",
      "source": [
        "Note that the Two-Sample Unpaired T-Test will work even if the counts are different (1234 retained employees vs. 236 resigned employees)"
      ],
      "metadata": {
        "id": "xN-cD81LGgXl"
      }
    },
    {
      "cell_type": "code",
      "source": [
        "from scipy.stats import ttest_ind"
      ],
      "metadata": {
        "id": "HY2csKmPEy2r"
      },
      "execution_count": 10,
      "outputs": []
    },
    {
      "cell_type": "code",
      "source": [
        "alpha = 0.05\n",
        "\n",
        "t_stat, p_val = ttest_ind(age_resigned, age_not_resigned, equal_var=False, alternative='less')\n",
        "print ('Test statistic: ', t_stat)\n",
        "print ('p-value (one-sided): ', p_val)"
      ],
      "metadata": {
        "id": "xQKEN1aXEv3f",
        "colab": {
          "base_uri": "https://localhost:8080/"
        },
        "outputId": "0e9c1d34-196f-4af6-91b6-f09157398e1f"
      },
      "execution_count": 11,
      "outputs": [
        {
          "output_type": "stream",
          "name": "stdout",
          "text": [
            "Test statistic:  -5.482250970756793\n",
            "p-value (one-sided):  4.219565905678923e-08\n"
          ]
        }
      ]
    },
    {
      "cell_type": "code",
      "source": [
        "if p_val < alpha:\n",
        "    print (f'Reject the Null Hypothesis (alpha = {alpha}).')\n",
        "else:\n",
        "    print (f'Fail to Reject the Null Hypothesis (alpha = {alpha}).')"
      ],
      "metadata": {
        "id": "DMKEBU7AG7Fx",
        "colab": {
          "base_uri": "https://localhost:8080/"
        },
        "outputId": "be28579d-f7be-423c-c348-813aaa870c4f"
      },
      "execution_count": 12,
      "outputs": [
        {
          "output_type": "stream",
          "name": "stdout",
          "text": [
            "Reject the Null Hypothesis (alpha = 0.05).\n"
          ]
        }
      ]
    },
    {
      "cell_type": "markdown",
      "source": [
        "Conclusion: The average age of employees who resigned is lower than the average age of those who stayed."
      ],
      "metadata": {
        "id": "W0fjp3x2G8tr"
      }
    },
    {
      "cell_type": "markdown",
      "source": [
        "### Example 3: From an experiment with varying diet programs, test if the average weight after 6 weeks is less than the pre-diet weight\n",
        "\n",
        "In this example, let's use the `diet dataset` to identify the effectiveness of diet programs on weight loss.\n",
        "\n",
        "The data shows a sample of people who subscribed to 3 different diet types. Their weights were taken before starting the diet (`pre.weight`) and 6 weeks from starting their diets (`weight6weeks`).\n",
        "\n",
        "**Two-Sample Paired**\n",
        "\n",
        "When we have 2 measurements from the same sample (e.g. student diagnostic and post-lecture exam scores, pre-diet vs. post-diet weights, etc.) We can use the Two-Sample Paired T-Test.\n",
        "\n",
        "The test statistic can then be calculated from the equation below:\n",
        "\n",
        "$t = \\frac{\\bar{x_{12}} - \\delta_{12}}{\\frac{s_d}{\\sqrt{N}}}$\n",
        "\n",
        "In this case $\\bar{x_{12}}$ is the difference between the means of the paired samples ($\\bar{x_1} - \\bar{x_2}$) and $s_d$ is the standard deviation of this mean difference.\n",
        "\n",
        "<br>\n",
        "\n",
        "scipy has the [ttest_rel](https://docs.scipy.org/doc/scipy/reference/generated/scipy.stats.ttest_rel.html) function that implements this equation and calculates the p-value.\n",
        "\n",
        "``` python\n",
        "t_stat, p_val = scipy.stats.ttest_rel(a, b, axis=0,\n",
        "                                      equal_var=True,\n",
        "                                      nan_policy='propagate',\n",
        "                                      permutations=None,\n",
        "                                      random_state=None,\n",
        "                                      alternative='two-sided',\n",
        "                                      trim=0)\n",
        "```\n",
        "\n",
        "In this case, the data must come from the same sample (same person) and have equal counts."
      ],
      "metadata": {
        "id": "adaVpZX1KwAM"
      }
    },
    {
      "cell_type": "markdown",
      "source": [
        "First, we load the dataset:"
      ],
      "metadata": {
        "id": "64uhcXyUhPp1"
      }
    },
    {
      "cell_type": "code",
      "source": [
        "df_diets = pd.read_csv('/content/drive/MyDrive/Refocus Module/Jupyter Notebook-20230501T012835Z-001/Jupyter Notebook/datasets/Diet.csv')\n",
        "df_diets.head()"
      ],
      "metadata": {
        "id": "yMUy-9M2hh9e",
        "colab": {
          "base_uri": "https://localhost:8080/",
          "height": 206
        },
        "outputId": "0b90f63e-eacc-4744-eeb5-ec47b3750704"
      },
      "execution_count": 14,
      "outputs": [
        {
          "output_type": "execute_result",
          "data": {
            "text/plain": [
              "   Person gender  Age  Height  pre.weight  Diet  weight6weeks\n",
              "0      25          41     171          60     2          60.0\n",
              "1      26          32     174         103     2         103.0\n",
              "2       1      0   22     159          58     1          54.2\n",
              "3       2      0   46     192          60     1          54.0\n",
              "4       3      0   55     170          64     1          63.3"
            ],
            "text/html": [
              "\n",
              "  <div id=\"df-07badc1a-eb79-4704-97b0-52f90f3ce582\">\n",
              "    <div class=\"colab-df-container\">\n",
              "      <div>\n",
              "<style scoped>\n",
              "    .dataframe tbody tr th:only-of-type {\n",
              "        vertical-align: middle;\n",
              "    }\n",
              "\n",
              "    .dataframe tbody tr th {\n",
              "        vertical-align: top;\n",
              "    }\n",
              "\n",
              "    .dataframe thead th {\n",
              "        text-align: right;\n",
              "    }\n",
              "</style>\n",
              "<table border=\"1\" class=\"dataframe\">\n",
              "  <thead>\n",
              "    <tr style=\"text-align: right;\">\n",
              "      <th></th>\n",
              "      <th>Person</th>\n",
              "      <th>gender</th>\n",
              "      <th>Age</th>\n",
              "      <th>Height</th>\n",
              "      <th>pre.weight</th>\n",
              "      <th>Diet</th>\n",
              "      <th>weight6weeks</th>\n",
              "    </tr>\n",
              "  </thead>\n",
              "  <tbody>\n",
              "    <tr>\n",
              "      <th>0</th>\n",
              "      <td>25</td>\n",
              "      <td></td>\n",
              "      <td>41</td>\n",
              "      <td>171</td>\n",
              "      <td>60</td>\n",
              "      <td>2</td>\n",
              "      <td>60.0</td>\n",
              "    </tr>\n",
              "    <tr>\n",
              "      <th>1</th>\n",
              "      <td>26</td>\n",
              "      <td></td>\n",
              "      <td>32</td>\n",
              "      <td>174</td>\n",
              "      <td>103</td>\n",
              "      <td>2</td>\n",
              "      <td>103.0</td>\n",
              "    </tr>\n",
              "    <tr>\n",
              "      <th>2</th>\n",
              "      <td>1</td>\n",
              "      <td>0</td>\n",
              "      <td>22</td>\n",
              "      <td>159</td>\n",
              "      <td>58</td>\n",
              "      <td>1</td>\n",
              "      <td>54.2</td>\n",
              "    </tr>\n",
              "    <tr>\n",
              "      <th>3</th>\n",
              "      <td>2</td>\n",
              "      <td>0</td>\n",
              "      <td>46</td>\n",
              "      <td>192</td>\n",
              "      <td>60</td>\n",
              "      <td>1</td>\n",
              "      <td>54.0</td>\n",
              "    </tr>\n",
              "    <tr>\n",
              "      <th>4</th>\n",
              "      <td>3</td>\n",
              "      <td>0</td>\n",
              "      <td>55</td>\n",
              "      <td>170</td>\n",
              "      <td>64</td>\n",
              "      <td>1</td>\n",
              "      <td>63.3</td>\n",
              "    </tr>\n",
              "  </tbody>\n",
              "</table>\n",
              "</div>\n",
              "      <button class=\"colab-df-convert\" onclick=\"convertToInteractive('df-07badc1a-eb79-4704-97b0-52f90f3ce582')\"\n",
              "              title=\"Convert this dataframe to an interactive table.\"\n",
              "              style=\"display:none;\">\n",
              "        \n",
              "  <svg xmlns=\"http://www.w3.org/2000/svg\" height=\"24px\"viewBox=\"0 0 24 24\"\n",
              "       width=\"24px\">\n",
              "    <path d=\"M0 0h24v24H0V0z\" fill=\"none\"/>\n",
              "    <path d=\"M18.56 5.44l.94 2.06.94-2.06 2.06-.94-2.06-.94-.94-2.06-.94 2.06-2.06.94zm-11 1L8.5 8.5l.94-2.06 2.06-.94-2.06-.94L8.5 2.5l-.94 2.06-2.06.94zm10 10l.94 2.06.94-2.06 2.06-.94-2.06-.94-.94-2.06-.94 2.06-2.06.94z\"/><path d=\"M17.41 7.96l-1.37-1.37c-.4-.4-.92-.59-1.43-.59-.52 0-1.04.2-1.43.59L10.3 9.45l-7.72 7.72c-.78.78-.78 2.05 0 2.83L4 21.41c.39.39.9.59 1.41.59.51 0 1.02-.2 1.41-.59l7.78-7.78 2.81-2.81c.8-.78.8-2.07 0-2.86zM5.41 20L4 18.59l7.72-7.72 1.47 1.35L5.41 20z\"/>\n",
              "  </svg>\n",
              "      </button>\n",
              "      \n",
              "  <style>\n",
              "    .colab-df-container {\n",
              "      display:flex;\n",
              "      flex-wrap:wrap;\n",
              "      gap: 12px;\n",
              "    }\n",
              "\n",
              "    .colab-df-convert {\n",
              "      background-color: #E8F0FE;\n",
              "      border: none;\n",
              "      border-radius: 50%;\n",
              "      cursor: pointer;\n",
              "      display: none;\n",
              "      fill: #1967D2;\n",
              "      height: 32px;\n",
              "      padding: 0 0 0 0;\n",
              "      width: 32px;\n",
              "    }\n",
              "\n",
              "    .colab-df-convert:hover {\n",
              "      background-color: #E2EBFA;\n",
              "      box-shadow: 0px 1px 2px rgba(60, 64, 67, 0.3), 0px 1px 3px 1px rgba(60, 64, 67, 0.15);\n",
              "      fill: #174EA6;\n",
              "    }\n",
              "\n",
              "    [theme=dark] .colab-df-convert {\n",
              "      background-color: #3B4455;\n",
              "      fill: #D2E3FC;\n",
              "    }\n",
              "\n",
              "    [theme=dark] .colab-df-convert:hover {\n",
              "      background-color: #434B5C;\n",
              "      box-shadow: 0px 1px 3px 1px rgba(0, 0, 0, 0.15);\n",
              "      filter: drop-shadow(0px 1px 2px rgba(0, 0, 0, 0.3));\n",
              "      fill: #FFFFFF;\n",
              "    }\n",
              "  </style>\n",
              "\n",
              "      <script>\n",
              "        const buttonEl =\n",
              "          document.querySelector('#df-07badc1a-eb79-4704-97b0-52f90f3ce582 button.colab-df-convert');\n",
              "        buttonEl.style.display =\n",
              "          google.colab.kernel.accessAllowed ? 'block' : 'none';\n",
              "\n",
              "        async function convertToInteractive(key) {\n",
              "          const element = document.querySelector('#df-07badc1a-eb79-4704-97b0-52f90f3ce582');\n",
              "          const dataTable =\n",
              "            await google.colab.kernel.invokeFunction('convertToInteractive',\n",
              "                                                     [key], {});\n",
              "          if (!dataTable) return;\n",
              "\n",
              "          const docLinkHtml = 'Like what you see? Visit the ' +\n",
              "            '<a target=\"_blank\" href=https://colab.research.google.com/notebooks/data_table.ipynb>data table notebook</a>'\n",
              "            + ' to learn more about interactive tables.';\n",
              "          element.innerHTML = '';\n",
              "          dataTable['output_type'] = 'display_data';\n",
              "          await google.colab.output.renderOutput(dataTable, element);\n",
              "          const docLink = document.createElement('div');\n",
              "          docLink.innerHTML = docLinkHtml;\n",
              "          element.appendChild(docLink);\n",
              "        }\n",
              "      </script>\n",
              "    </div>\n",
              "  </div>\n",
              "  "
            ]
          },
          "metadata": {},
          "execution_count": 14
        }
      ]
    },
    {
      "cell_type": "markdown",
      "source": [
        "Since we wish to test if diet was effective in weight loss after 6 weeks, we define the null and alternative hypothesis as follows:\n",
        "\n",
        "$H_0$: $\\mu_{pre.weight} \\leq \\mu_{weight6weeks}$\n",
        "$H_A$: $\\mu_{pre.weight} > \\mu_{weight6weeks}$\n",
        "\n",
        "We set our alpha to 0.05"
      ],
      "metadata": {
        "id": "nIjF8LiMikRh"
      }
    },
    {
      "cell_type": "code",
      "source": [
        "df_diets[['pre.weight', 'weight6weeks']].describe()"
      ],
      "metadata": {
        "id": "uPChi7mIj5WE",
        "colab": {
          "base_uri": "https://localhost:8080/",
          "height": 300
        },
        "outputId": "07f17d20-ab08-4001-a626-087ec5a9ce13"
      },
      "execution_count": 15,
      "outputs": [
        {
          "output_type": "execute_result",
          "data": {
            "text/plain": [
              "       pre.weight  weight6weeks\n",
              "count   78.000000     78.000000\n",
              "mean    72.525641     68.680769\n",
              "std      8.723344      8.924504\n",
              "min     58.000000     53.000000\n",
              "25%     66.000000     61.850000\n",
              "50%     72.000000     68.950000\n",
              "75%     78.000000     73.825000\n",
              "max    103.000000    103.000000"
            ],
            "text/html": [
              "\n",
              "  <div id=\"df-f5aa0594-c7ee-4401-9265-200aa388a53e\">\n",
              "    <div class=\"colab-df-container\">\n",
              "      <div>\n",
              "<style scoped>\n",
              "    .dataframe tbody tr th:only-of-type {\n",
              "        vertical-align: middle;\n",
              "    }\n",
              "\n",
              "    .dataframe tbody tr th {\n",
              "        vertical-align: top;\n",
              "    }\n",
              "\n",
              "    .dataframe thead th {\n",
              "        text-align: right;\n",
              "    }\n",
              "</style>\n",
              "<table border=\"1\" class=\"dataframe\">\n",
              "  <thead>\n",
              "    <tr style=\"text-align: right;\">\n",
              "      <th></th>\n",
              "      <th>pre.weight</th>\n",
              "      <th>weight6weeks</th>\n",
              "    </tr>\n",
              "  </thead>\n",
              "  <tbody>\n",
              "    <tr>\n",
              "      <th>count</th>\n",
              "      <td>78.000000</td>\n",
              "      <td>78.000000</td>\n",
              "    </tr>\n",
              "    <tr>\n",
              "      <th>mean</th>\n",
              "      <td>72.525641</td>\n",
              "      <td>68.680769</td>\n",
              "    </tr>\n",
              "    <tr>\n",
              "      <th>std</th>\n",
              "      <td>8.723344</td>\n",
              "      <td>8.924504</td>\n",
              "    </tr>\n",
              "    <tr>\n",
              "      <th>min</th>\n",
              "      <td>58.000000</td>\n",
              "      <td>53.000000</td>\n",
              "    </tr>\n",
              "    <tr>\n",
              "      <th>25%</th>\n",
              "      <td>66.000000</td>\n",
              "      <td>61.850000</td>\n",
              "    </tr>\n",
              "    <tr>\n",
              "      <th>50%</th>\n",
              "      <td>72.000000</td>\n",
              "      <td>68.950000</td>\n",
              "    </tr>\n",
              "    <tr>\n",
              "      <th>75%</th>\n",
              "      <td>78.000000</td>\n",
              "      <td>73.825000</td>\n",
              "    </tr>\n",
              "    <tr>\n",
              "      <th>max</th>\n",
              "      <td>103.000000</td>\n",
              "      <td>103.000000</td>\n",
              "    </tr>\n",
              "  </tbody>\n",
              "</table>\n",
              "</div>\n",
              "      <button class=\"colab-df-convert\" onclick=\"convertToInteractive('df-f5aa0594-c7ee-4401-9265-200aa388a53e')\"\n",
              "              title=\"Convert this dataframe to an interactive table.\"\n",
              "              style=\"display:none;\">\n",
              "        \n",
              "  <svg xmlns=\"http://www.w3.org/2000/svg\" height=\"24px\"viewBox=\"0 0 24 24\"\n",
              "       width=\"24px\">\n",
              "    <path d=\"M0 0h24v24H0V0z\" fill=\"none\"/>\n",
              "    <path d=\"M18.56 5.44l.94 2.06.94-2.06 2.06-.94-2.06-.94-.94-2.06-.94 2.06-2.06.94zm-11 1L8.5 8.5l.94-2.06 2.06-.94-2.06-.94L8.5 2.5l-.94 2.06-2.06.94zm10 10l.94 2.06.94-2.06 2.06-.94-2.06-.94-.94-2.06-.94 2.06-2.06.94z\"/><path d=\"M17.41 7.96l-1.37-1.37c-.4-.4-.92-.59-1.43-.59-.52 0-1.04.2-1.43.59L10.3 9.45l-7.72 7.72c-.78.78-.78 2.05 0 2.83L4 21.41c.39.39.9.59 1.41.59.51 0 1.02-.2 1.41-.59l7.78-7.78 2.81-2.81c.8-.78.8-2.07 0-2.86zM5.41 20L4 18.59l7.72-7.72 1.47 1.35L5.41 20z\"/>\n",
              "  </svg>\n",
              "      </button>\n",
              "      \n",
              "  <style>\n",
              "    .colab-df-container {\n",
              "      display:flex;\n",
              "      flex-wrap:wrap;\n",
              "      gap: 12px;\n",
              "    }\n",
              "\n",
              "    .colab-df-convert {\n",
              "      background-color: #E8F0FE;\n",
              "      border: none;\n",
              "      border-radius: 50%;\n",
              "      cursor: pointer;\n",
              "      display: none;\n",
              "      fill: #1967D2;\n",
              "      height: 32px;\n",
              "      padding: 0 0 0 0;\n",
              "      width: 32px;\n",
              "    }\n",
              "\n",
              "    .colab-df-convert:hover {\n",
              "      background-color: #E2EBFA;\n",
              "      box-shadow: 0px 1px 2px rgba(60, 64, 67, 0.3), 0px 1px 3px 1px rgba(60, 64, 67, 0.15);\n",
              "      fill: #174EA6;\n",
              "    }\n",
              "\n",
              "    [theme=dark] .colab-df-convert {\n",
              "      background-color: #3B4455;\n",
              "      fill: #D2E3FC;\n",
              "    }\n",
              "\n",
              "    [theme=dark] .colab-df-convert:hover {\n",
              "      background-color: #434B5C;\n",
              "      box-shadow: 0px 1px 3px 1px rgba(0, 0, 0, 0.15);\n",
              "      filter: drop-shadow(0px 1px 2px rgba(0, 0, 0, 0.3));\n",
              "      fill: #FFFFFF;\n",
              "    }\n",
              "  </style>\n",
              "\n",
              "      <script>\n",
              "        const buttonEl =\n",
              "          document.querySelector('#df-f5aa0594-c7ee-4401-9265-200aa388a53e button.colab-df-convert');\n",
              "        buttonEl.style.display =\n",
              "          google.colab.kernel.accessAllowed ? 'block' : 'none';\n",
              "\n",
              "        async function convertToInteractive(key) {\n",
              "          const element = document.querySelector('#df-f5aa0594-c7ee-4401-9265-200aa388a53e');\n",
              "          const dataTable =\n",
              "            await google.colab.kernel.invokeFunction('convertToInteractive',\n",
              "                                                     [key], {});\n",
              "          if (!dataTable) return;\n",
              "\n",
              "          const docLinkHtml = 'Like what you see? Visit the ' +\n",
              "            '<a target=\"_blank\" href=https://colab.research.google.com/notebooks/data_table.ipynb>data table notebook</a>'\n",
              "            + ' to learn more about interactive tables.';\n",
              "          element.innerHTML = '';\n",
              "          dataTable['output_type'] = 'display_data';\n",
              "          await google.colab.output.renderOutput(dataTable, element);\n",
              "          const docLink = document.createElement('div');\n",
              "          docLink.innerHTML = docLinkHtml;\n",
              "          element.appendChild(docLink);\n",
              "        }\n",
              "      </script>\n",
              "    </div>\n",
              "  </div>\n",
              "  "
            ]
          },
          "metadata": {},
          "execution_count": 15
        }
      ]
    },
    {
      "cell_type": "code",
      "source": [
        "from scipy.stats import ttest_rel"
      ],
      "metadata": {
        "id": "AHzqRdRXkCGO"
      },
      "execution_count": 16,
      "outputs": []
    },
    {
      "cell_type": "code",
      "source": [
        "alpha = 0.05\n",
        "\n",
        "t_stat, p_val = ttest_rel(df_diets['pre.weight'], df_diets['weight6weeks'], alternative='greater')\n",
        "print ('Test statistic: ', t_stat)\n",
        "print ('p-value (one-sided): ', p_val)"
      ],
      "metadata": {
        "id": "zduWlTjCj-uW",
        "colab": {
          "base_uri": "https://localhost:8080/"
        },
        "outputId": "51355337-9d79-49f8-dd0e-d8ad944c3284"
      },
      "execution_count": 17,
      "outputs": [
        {
          "output_type": "stream",
          "name": "stdout",
          "text": [
            "Test statistic:  13.308753851748712\n",
            "p-value (one-sided):  5.861180231207614e-22\n"
          ]
        }
      ]
    },
    {
      "cell_type": "code",
      "source": [
        "if p_val < alpha:\n",
        "    print (f'Reject the Null Hypothesis (alpha = {alpha}).')\n",
        "else:\n",
        "    print (f'Fail to Reject the Null Hypothesis (alpha = {alpha}).')"
      ],
      "metadata": {
        "id": "7bI53p9SkJaX",
        "colab": {
          "base_uri": "https://localhost:8080/"
        },
        "outputId": "01251c15-6cd4-4125-cc1c-021f1cde432f"
      },
      "execution_count": 18,
      "outputs": [
        {
          "output_type": "stream",
          "name": "stdout",
          "text": [
            "Reject the Null Hypothesis (alpha = 0.05).\n"
          ]
        }
      ]
    },
    {
      "cell_type": "markdown",
      "source": [
        "Conclusion: The average weight after 6 weeks is lower than their weight before diet."
      ],
      "metadata": {
        "id": "iPXo8kdXkMnM"
      }
    },
    {
      "cell_type": "markdown",
      "source": [
        "|                     | Variables Compared               | Scipy Function          |Assumption             |\n",
        "|---------------------|----------------------------------|-------------------------|-----------------------|\n",
        "| One-Sample Mean     | 1 variable vs. Fixed Value       | scipy.stats.ttest_1samp |independent and normal, 1 sample compared to the population |\n",
        "| Two-Sample Unpaired | 2 variables (different subjects) | scipy.stats.ttest_ind   |independent and normal, taken from different populations|\n",
        "| Two-Sample Paired   | 2 variables (same subject)       | scipy.stats.ttest_rel   |independent and normal, samples can be directly paired together|"
      ],
      "metadata": {
        "id": "uXL2cJxLuBNE"
      }
    }
  ]
}