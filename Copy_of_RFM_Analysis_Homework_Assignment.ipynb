{
  "cells": [
    {
      "cell_type": "markdown",
      "metadata": {
        "id": "view-in-github",
        "colab_type": "text"
      },
      "source": [
        "<a href=\"https://colab.research.google.com/github/ChardyBalla/Chardy/blob/main/Copy_of_RFM_Analysis_Homework_Assignment.ipynb\" target=\"_parent\"><img src=\"https://colab.research.google.com/assets/colab-badge.svg\" alt=\"Open In Colab\"/></a>"
      ]
    },
    {
      "cell_type": "markdown",
      "metadata": {
        "id": "aaS-SMZ2py7H"
      },
      "source": [
        "# RFM Analysis Homework"
      ]
    },
    {
      "cell_type": "code",
      "execution_count": 1,
      "metadata": {
        "id": "TCmaO73YjmxW",
        "colab": {
          "base_uri": "https://localhost:8080/"
        },
        "outputId": "5171db8c-abaf-402e-a73b-701fbdc5bd44"
      },
      "outputs": [
        {
          "output_type": "stream",
          "name": "stdout",
          "text": [
            "Mounted at /content/drive\n"
          ]
        }
      ],
      "source": [
        "from google.colab import drive\n",
        "drive.mount('/content/drive')"
      ]
    },
    {
      "cell_type": "markdown",
      "metadata": {
        "id": "h9S-ZDPQpw5D"
      },
      "source": [
        "The dataset under study contains credit card transactions from the State of Oklahoma. It includes information on purchases made through the purchase card programs administered by the state and higher educational institutions. The purchase card information is updated monthly after the end of every month. As such, July information is added in August, August in September, and so on and so forth.\n",
        "\n",
        "In a brief, here's the data description:\n",
        "- Dataset contains around 440k credit card transactions.\n",
        "- Each row in the dataset refers to a credit card transaction by a cardholder.\n",
        "- Each cardholder belongs to an agency.\n",
        "- Each transaction has the following information:\n",
        "    - cardholder name\n",
        "    - agency\n",
        "    - amount\n",
        "    - transaction date\n",
        "    - merchant name (vendor)\n",
        "    - merchant category\n",
        "    - description of the expense"
      ]
    },
    {
      "cell_type": "markdown",
      "metadata": {
        "id": "u5WxV1n1SFcD"
      },
      "source": [
        "## 1. Load and clean the dataset.\n",
        "Hints:\n",
        "a. Transaction date and posted date should be in datetime format\n",
        "b. Create a \"full name\" column\n",
        "c. Do not include transactions made by agencies (customer name = agency)\n",
        "d. Check for outliers (negative amount, refunds?)\n",
        "## 2. Perform an RFM analysis and identify key customer segments (assume that the current date is 2014-07-01).\n",
        "Hints:\n",
        "a. In this case, we expect a one-to-one relationship between the customers and transactions (i.e. every swipe of the credit card is 1 transaction).\n",
        "b. Use quartiles\n",
        "## 3. Provide some key insights and recommendations to encourage customers to spend more with the credit cards."
      ]
    },
    {
      "cell_type": "code",
      "execution_count": 2,
      "metadata": {
        "id": "nN4SaRO-jcRI"
      },
      "outputs": [],
      "source": [
        "import pandas as pd\n",
        "import matplotlib.pyplot as plt\n",
        "import seaborn as sns\n",
        "%matplotlib inline"
      ]
    },
    {
      "cell_type": "markdown",
      "metadata": {
        "id": "yubCaMdkq6JZ"
      },
      "source": [
        "# Load and clean the data"
      ]
    },
    {
      "cell_type": "code",
      "execution_count": 3,
      "metadata": {
        "id": "zVr6aLG7jl5Y"
      },
      "outputs": [],
      "source": [
        "df = pd.read_csv('/content/drive/MyDrive/Refocus Module/Jupyter Notebook-20230501T012835Z-001/Jupyter Notebook/datasets/res_purchase_card_(pcard)_fiscal_year_2014_3pcd-aiuu.csv',\n",
        "                   parse_dates=['Transaction Date', 'Posted Date'])"
      ]
    },
    {
      "cell_type": "code",
      "source": [
        "df.head()"
      ],
      "metadata": {
        "colab": {
          "base_uri": "https://localhost:8080/",
          "height": 354
        },
        "id": "wzu6j142cZui",
        "outputId": "75b87a40-2a14-468f-d664-5cad22036835"
      },
      "execution_count": 4,
      "outputs": [
        {
          "output_type": "execute_result",
          "data": {
            "text/plain": [
              "   Year-Month  Agency Number                Agency Name Cardholder Last Name  \\\n",
              "0      201307           1000  OKLAHOMA STATE UNIVERSITY                Mason   \n",
              "1      201307           1000  OKLAHOMA STATE UNIVERSITY                Mason   \n",
              "2      201307           1000  OKLAHOMA STATE UNIVERSITY               Massey   \n",
              "3      201307           1000  OKLAHOMA STATE UNIVERSITY               Massey   \n",
              "4      201307           1000  OKLAHOMA STATE UNIVERSITY        Mauro-Herrera   \n",
              "\n",
              "  Cardholder First Initial                   Description  Amount  \\\n",
              "0                        C              GENERAL PURCHASE  890.00   \n",
              "1                        C                  ROOM CHARGES  368.96   \n",
              "2                        J              GENERAL PURCHASE  165.82   \n",
              "3                        T              GENERAL PURCHASE   96.39   \n",
              "4                        M  HAMMERMILL COPY PLUS COPY EA  125.96   \n",
              "\n",
              "           Vendor Transaction Date Posted Date  \\\n",
              "0           NACAS       2013-07-30  2013-07-31   \n",
              "1  SHERATON HOTEL       2013-07-30  2013-07-31   \n",
              "2  SEARS.COM 9300       2013-07-29  2013-07-31   \n",
              "3  WAL-MART #0137       2013-07-30  2013-07-31   \n",
              "4  STAPLES DIRECT       2013-07-30  2013-07-31   \n",
              "\n",
              "                        Merchant Category Code (MCC)  \n",
              "0        CHARITABLE AND SOCIAL SERVICE ORGANIZATIONS  \n",
              "1                                           SHERATON  \n",
              "2  DIRCT MARKETING/DIRCT MARKETERS--NOT ELSEWHERE...  \n",
              "3                    GROCERY STORES,AND SUPERMARKETS  \n",
              "4  STATIONERY, OFFICE SUPPLIES, PRINTING AND WRIT...  "
            ],
            "text/html": [
              "\n",
              "  <div id=\"df-440ac86e-ec99-4140-b793-b4f3b44740d0\">\n",
              "    <div class=\"colab-df-container\">\n",
              "      <div>\n",
              "<style scoped>\n",
              "    .dataframe tbody tr th:only-of-type {\n",
              "        vertical-align: middle;\n",
              "    }\n",
              "\n",
              "    .dataframe tbody tr th {\n",
              "        vertical-align: top;\n",
              "    }\n",
              "\n",
              "    .dataframe thead th {\n",
              "        text-align: right;\n",
              "    }\n",
              "</style>\n",
              "<table border=\"1\" class=\"dataframe\">\n",
              "  <thead>\n",
              "    <tr style=\"text-align: right;\">\n",
              "      <th></th>\n",
              "      <th>Year-Month</th>\n",
              "      <th>Agency Number</th>\n",
              "      <th>Agency Name</th>\n",
              "      <th>Cardholder Last Name</th>\n",
              "      <th>Cardholder First Initial</th>\n",
              "      <th>Description</th>\n",
              "      <th>Amount</th>\n",
              "      <th>Vendor</th>\n",
              "      <th>Transaction Date</th>\n",
              "      <th>Posted Date</th>\n",
              "      <th>Merchant Category Code (MCC)</th>\n",
              "    </tr>\n",
              "  </thead>\n",
              "  <tbody>\n",
              "    <tr>\n",
              "      <th>0</th>\n",
              "      <td>201307</td>\n",
              "      <td>1000</td>\n",
              "      <td>OKLAHOMA STATE UNIVERSITY</td>\n",
              "      <td>Mason</td>\n",
              "      <td>C</td>\n",
              "      <td>GENERAL PURCHASE</td>\n",
              "      <td>890.00</td>\n",
              "      <td>NACAS</td>\n",
              "      <td>2013-07-30</td>\n",
              "      <td>2013-07-31</td>\n",
              "      <td>CHARITABLE AND SOCIAL SERVICE ORGANIZATIONS</td>\n",
              "    </tr>\n",
              "    <tr>\n",
              "      <th>1</th>\n",
              "      <td>201307</td>\n",
              "      <td>1000</td>\n",
              "      <td>OKLAHOMA STATE UNIVERSITY</td>\n",
              "      <td>Mason</td>\n",
              "      <td>C</td>\n",
              "      <td>ROOM CHARGES</td>\n",
              "      <td>368.96</td>\n",
              "      <td>SHERATON HOTEL</td>\n",
              "      <td>2013-07-30</td>\n",
              "      <td>2013-07-31</td>\n",
              "      <td>SHERATON</td>\n",
              "    </tr>\n",
              "    <tr>\n",
              "      <th>2</th>\n",
              "      <td>201307</td>\n",
              "      <td>1000</td>\n",
              "      <td>OKLAHOMA STATE UNIVERSITY</td>\n",
              "      <td>Massey</td>\n",
              "      <td>J</td>\n",
              "      <td>GENERAL PURCHASE</td>\n",
              "      <td>165.82</td>\n",
              "      <td>SEARS.COM 9300</td>\n",
              "      <td>2013-07-29</td>\n",
              "      <td>2013-07-31</td>\n",
              "      <td>DIRCT MARKETING/DIRCT MARKETERS--NOT ELSEWHERE...</td>\n",
              "    </tr>\n",
              "    <tr>\n",
              "      <th>3</th>\n",
              "      <td>201307</td>\n",
              "      <td>1000</td>\n",
              "      <td>OKLAHOMA STATE UNIVERSITY</td>\n",
              "      <td>Massey</td>\n",
              "      <td>T</td>\n",
              "      <td>GENERAL PURCHASE</td>\n",
              "      <td>96.39</td>\n",
              "      <td>WAL-MART #0137</td>\n",
              "      <td>2013-07-30</td>\n",
              "      <td>2013-07-31</td>\n",
              "      <td>GROCERY STORES,AND SUPERMARKETS</td>\n",
              "    </tr>\n",
              "    <tr>\n",
              "      <th>4</th>\n",
              "      <td>201307</td>\n",
              "      <td>1000</td>\n",
              "      <td>OKLAHOMA STATE UNIVERSITY</td>\n",
              "      <td>Mauro-Herrera</td>\n",
              "      <td>M</td>\n",
              "      <td>HAMMERMILL COPY PLUS COPY EA</td>\n",
              "      <td>125.96</td>\n",
              "      <td>STAPLES DIRECT</td>\n",
              "      <td>2013-07-30</td>\n",
              "      <td>2013-07-31</td>\n",
              "      <td>STATIONERY, OFFICE SUPPLIES, PRINTING AND WRIT...</td>\n",
              "    </tr>\n",
              "  </tbody>\n",
              "</table>\n",
              "</div>\n",
              "      <button class=\"colab-df-convert\" onclick=\"convertToInteractive('df-440ac86e-ec99-4140-b793-b4f3b44740d0')\"\n",
              "              title=\"Convert this dataframe to an interactive table.\"\n",
              "              style=\"display:none;\">\n",
              "        \n",
              "  <svg xmlns=\"http://www.w3.org/2000/svg\" height=\"24px\"viewBox=\"0 0 24 24\"\n",
              "       width=\"24px\">\n",
              "    <path d=\"M0 0h24v24H0V0z\" fill=\"none\"/>\n",
              "    <path d=\"M18.56 5.44l.94 2.06.94-2.06 2.06-.94-2.06-.94-.94-2.06-.94 2.06-2.06.94zm-11 1L8.5 8.5l.94-2.06 2.06-.94-2.06-.94L8.5 2.5l-.94 2.06-2.06.94zm10 10l.94 2.06.94-2.06 2.06-.94-2.06-.94-.94-2.06-.94 2.06-2.06.94z\"/><path d=\"M17.41 7.96l-1.37-1.37c-.4-.4-.92-.59-1.43-.59-.52 0-1.04.2-1.43.59L10.3 9.45l-7.72 7.72c-.78.78-.78 2.05 0 2.83L4 21.41c.39.39.9.59 1.41.59.51 0 1.02-.2 1.41-.59l7.78-7.78 2.81-2.81c.8-.78.8-2.07 0-2.86zM5.41 20L4 18.59l7.72-7.72 1.47 1.35L5.41 20z\"/>\n",
              "  </svg>\n",
              "      </button>\n",
              "      \n",
              "  <style>\n",
              "    .colab-df-container {\n",
              "      display:flex;\n",
              "      flex-wrap:wrap;\n",
              "      gap: 12px;\n",
              "    }\n",
              "\n",
              "    .colab-df-convert {\n",
              "      background-color: #E8F0FE;\n",
              "      border: none;\n",
              "      border-radius: 50%;\n",
              "      cursor: pointer;\n",
              "      display: none;\n",
              "      fill: #1967D2;\n",
              "      height: 32px;\n",
              "      padding: 0 0 0 0;\n",
              "      width: 32px;\n",
              "    }\n",
              "\n",
              "    .colab-df-convert:hover {\n",
              "      background-color: #E2EBFA;\n",
              "      box-shadow: 0px 1px 2px rgba(60, 64, 67, 0.3), 0px 1px 3px 1px rgba(60, 64, 67, 0.15);\n",
              "      fill: #174EA6;\n",
              "    }\n",
              "\n",
              "    [theme=dark] .colab-df-convert {\n",
              "      background-color: #3B4455;\n",
              "      fill: #D2E3FC;\n",
              "    }\n",
              "\n",
              "    [theme=dark] .colab-df-convert:hover {\n",
              "      background-color: #434B5C;\n",
              "      box-shadow: 0px 1px 3px 1px rgba(0, 0, 0, 0.15);\n",
              "      filter: drop-shadow(0px 1px 2px rgba(0, 0, 0, 0.3));\n",
              "      fill: #FFFFFF;\n",
              "    }\n",
              "  </style>\n",
              "\n",
              "      <script>\n",
              "        const buttonEl =\n",
              "          document.querySelector('#df-440ac86e-ec99-4140-b793-b4f3b44740d0 button.colab-df-convert');\n",
              "        buttonEl.style.display =\n",
              "          google.colab.kernel.accessAllowed ? 'block' : 'none';\n",
              "\n",
              "        async function convertToInteractive(key) {\n",
              "          const element = document.querySelector('#df-440ac86e-ec99-4140-b793-b4f3b44740d0');\n",
              "          const dataTable =\n",
              "            await google.colab.kernel.invokeFunction('convertToInteractive',\n",
              "                                                     [key], {});\n",
              "          if (!dataTable) return;\n",
              "\n",
              "          const docLinkHtml = 'Like what you see? Visit the ' +\n",
              "            '<a target=\"_blank\" href=https://colab.research.google.com/notebooks/data_table.ipynb>data table notebook</a>'\n",
              "            + ' to learn more about interactive tables.';\n",
              "          element.innerHTML = '';\n",
              "          dataTable['output_type'] = 'display_data';\n",
              "          await google.colab.output.renderOutput(dataTable, element);\n",
              "          const docLink = document.createElement('div');\n",
              "          docLink.innerHTML = docLinkHtml;\n",
              "          element.appendChild(docLink);\n",
              "        }\n",
              "      </script>\n",
              "    </div>\n",
              "  </div>\n",
              "  "
            ]
          },
          "metadata": {},
          "execution_count": 4
        }
      ]
    },
    {
      "cell_type": "markdown",
      "metadata": {
        "id": "ZrvZrNteEcZ_"
      },
      "source": [
        "## 1. Load and clean the dataset.\n",
        "\n",
        "a. Create a \"full name\" column\n",
        "b. Do not include transactions made by agencies (customer name = agency)\n",
        "c. Check for outliers (negative amount, refunds?)"
      ]
    },
    {
      "cell_type": "code",
      "execution_count": 44,
      "metadata": {
        "id": "xpJtZsq4UrHz"
      },
      "outputs": [],
      "source": [
        "# full name column\n",
        "df['full_name'] = df['Cardholder Last Name'] + ', ' + df['Cardholder First Initial']"
      ]
    },
    {
      "cell_type": "code",
      "execution_count": 45,
      "metadata": {
        "id": "gZCB0HBbERrB"
      },
      "outputs": [],
      "source": [
        "# remove agency (Do not include transactions made by agencies (customer name = agency))\n",
        "df = df[df['Agency Number'].astype(str)!=df['Cardholder Last Name']]"
      ]
    },
    {
      "cell_type": "code",
      "execution_count": 46,
      "metadata": {
        "id": "zBzRbKYsD1yp"
      },
      "outputs": [],
      "source": [
        "# remove negative amounts\n",
        "df = df[df['Amount']>0]"
      ]
    },
    {
      "cell_type": "markdown",
      "metadata": {
        "id": "H6PwR3aVVe2v"
      },
      "source": [
        "# RFM Analysis"
      ]
    },
    {
      "cell_type": "code",
      "execution_count": 48,
      "metadata": {
        "id": "ONiVdUit7CDM",
        "colab": {
          "base_uri": "https://localhost:8080/"
        },
        "outputId": "c6d376a3-968a-4bb5-d776-108ceff911c1"
      },
      "outputs": [
        {
          "output_type": "execute_result",
          "data": {
            "text/plain": [
              "datetime.datetime(2014, 7, 1, 0, 0)"
            ]
          },
          "metadata": {},
          "execution_count": 48
        }
      ],
      "source": [
        "import datetime\n",
        "\n",
        "current_date = datetime.datetime(2014, 7, 1)\n",
        "current_date"
      ]
    },
    {
      "cell_type": "markdown",
      "metadata": {
        "id": "EZSoFehNccwl"
      },
      "source": [
        "### Recency"
      ]
    },
    {
      "cell_type": "code",
      "execution_count": 15,
      "metadata": {
        "id": "Pk4nLy1q9YJ_",
        "colab": {
          "base_uri": "https://localhost:8080/"
        },
        "outputId": "c3df6124-b874-48a7-f4eb-4892f373954b"
      },
      "outputs": [
        {
          "output_type": "execute_result",
          "data": {
            "text/plain": [
              "full_name\n",
              "15000, 1   2014-03-10\n",
              "24100, 2   2014-03-14\n",
              "42000, 4   2014-06-04\n",
              "44600, 4   2013-07-08\n",
              "48000, 4   2014-06-30\n",
              "Name: Transaction Date, dtype: datetime64[ns]"
            ]
          },
          "metadata": {},
          "execution_count": 15
        }
      ],
      "source": [
        "# get max transaction date per customer\n",
        "df_latest_invoice = df.groupby('full_name')['Transaction Date'].max()\n",
        "df_latest_invoice.head()"
      ]
    },
    {
      "cell_type": "code",
      "execution_count": 49,
      "metadata": {
        "id": "hKbfwzsH_UGu",
        "colab": {
          "base_uri": "https://localhost:8080/"
        },
        "outputId": "fc414b98-dc73-414a-969a-3a00c3fd14db"
      },
      "outputs": [
        {
          "output_type": "execute_result",
          "data": {
            "text/plain": [
              "full_name\n",
              "15000, 1    113\n",
              "24100, 2    109\n",
              "42000, 4     27\n",
              "44600, 4    358\n",
              "48000, 4      1\n",
              "Name: Transaction Date, dtype: int64"
            ]
          },
          "metadata": {},
          "execution_count": 49
        }
      ],
      "source": [
        "# get number of days between latest invoice date and current date\n",
        "# .dt.days means that we only get the actual days (not decimal)\n",
        "df_recency = (current_date - df_latest_invoice).dt.days\n",
        "df_recency.head()"
      ]
    },
    {
      "cell_type": "markdown",
      "metadata": {
        "id": "7kyL1NcSfkZb"
      },
      "source": [
        "### Frequency"
      ]
    },
    {
      "cell_type": "code",
      "execution_count": 50,
      "metadata": {
        "id": "mkHPmxMCJqrq"
      },
      "outputs": [],
      "source": [
        "# get frequency (count)\n",
        "df_frequency = df.groupby('full_name')['full_name'].count()"
      ]
    },
    {
      "cell_type": "markdown",
      "metadata": {
        "id": "kYwf1j_if45l"
      },
      "source": [
        "### Monetary"
      ]
    },
    {
      "cell_type": "code",
      "execution_count": 51,
      "metadata": {
        "id": "7VB61EJk-Epy"
      },
      "outputs": [],
      "source": [
        "# get the total amount (sum of all amounts)\n",
        "df_monetary = df.groupby('full_name')['Amount'].sum()"
      ]
    },
    {
      "cell_type": "markdown",
      "metadata": {
        "id": "xcZdztMdgcne"
      },
      "source": [
        "## RFM Scores"
      ]
    },
    {
      "cell_type": "markdown",
      "metadata": {
        "id": "DQi2ST1R_urm"
      },
      "source": [
        "We now merge these tables into a single dataframe. We put each series together in a dictionary and use `pd.DataFrame`"
      ]
    },
    {
      "cell_type": "code",
      "execution_count": 52,
      "metadata": {
        "id": "POXLvGls-zVg"
      },
      "outputs": [],
      "source": [
        "df_rfm = pd.DataFrame({'recency':df_recency, 'frequency':df_frequency, 'monetary':df_monetary})"
      ]
    },
    {
      "cell_type": "markdown",
      "metadata": {
        "id": "CDazhdReEcaI"
      },
      "source": [
        "#### Calculate RFM scores. Use quantiles (0.25, 0.50, 0.75) to map the scores from 1 to 4"
      ]
    },
    {
      "cell_type": "code",
      "execution_count": 53,
      "metadata": {
        "id": "p_RwU_3YEcaJ",
        "colab": {
          "base_uri": "https://localhost:8080/",
          "height": 143
        },
        "outputId": "826ef537-3932-420e-bba7-52db0196e080"
      },
      "outputs": [
        {
          "output_type": "execute_result",
          "data": {
            "text/plain": [
              "      recency  frequency   monetary\n",
              "0.25     5.00       12.0   2229.170\n",
              "0.50    14.00       34.0   7874.830\n",
              "0.75    54.25       89.0  24446.665"
            ],
            "text/html": [
              "\n",
              "  <div id=\"df-d0767c37-3400-4993-8688-6b8735adf71f\">\n",
              "    <div class=\"colab-df-container\">\n",
              "      <div>\n",
              "<style scoped>\n",
              "    .dataframe tbody tr th:only-of-type {\n",
              "        vertical-align: middle;\n",
              "    }\n",
              "\n",
              "    .dataframe tbody tr th {\n",
              "        vertical-align: top;\n",
              "    }\n",
              "\n",
              "    .dataframe thead th {\n",
              "        text-align: right;\n",
              "    }\n",
              "</style>\n",
              "<table border=\"1\" class=\"dataframe\">\n",
              "  <thead>\n",
              "    <tr style=\"text-align: right;\">\n",
              "      <th></th>\n",
              "      <th>recency</th>\n",
              "      <th>frequency</th>\n",
              "      <th>monetary</th>\n",
              "    </tr>\n",
              "  </thead>\n",
              "  <tbody>\n",
              "    <tr>\n",
              "      <th>0.25</th>\n",
              "      <td>5.00</td>\n",
              "      <td>12.0</td>\n",
              "      <td>2229.170</td>\n",
              "    </tr>\n",
              "    <tr>\n",
              "      <th>0.50</th>\n",
              "      <td>14.00</td>\n",
              "      <td>34.0</td>\n",
              "      <td>7874.830</td>\n",
              "    </tr>\n",
              "    <tr>\n",
              "      <th>0.75</th>\n",
              "      <td>54.25</td>\n",
              "      <td>89.0</td>\n",
              "      <td>24446.665</td>\n",
              "    </tr>\n",
              "  </tbody>\n",
              "</table>\n",
              "</div>\n",
              "      <button class=\"colab-df-convert\" onclick=\"convertToInteractive('df-d0767c37-3400-4993-8688-6b8735adf71f')\"\n",
              "              title=\"Convert this dataframe to an interactive table.\"\n",
              "              style=\"display:none;\">\n",
              "        \n",
              "  <svg xmlns=\"http://www.w3.org/2000/svg\" height=\"24px\"viewBox=\"0 0 24 24\"\n",
              "       width=\"24px\">\n",
              "    <path d=\"M0 0h24v24H0V0z\" fill=\"none\"/>\n",
              "    <path d=\"M18.56 5.44l.94 2.06.94-2.06 2.06-.94-2.06-.94-.94-2.06-.94 2.06-2.06.94zm-11 1L8.5 8.5l.94-2.06 2.06-.94-2.06-.94L8.5 2.5l-.94 2.06-2.06.94zm10 10l.94 2.06.94-2.06 2.06-.94-2.06-.94-.94-2.06-.94 2.06-2.06.94z\"/><path d=\"M17.41 7.96l-1.37-1.37c-.4-.4-.92-.59-1.43-.59-.52 0-1.04.2-1.43.59L10.3 9.45l-7.72 7.72c-.78.78-.78 2.05 0 2.83L4 21.41c.39.39.9.59 1.41.59.51 0 1.02-.2 1.41-.59l7.78-7.78 2.81-2.81c.8-.78.8-2.07 0-2.86zM5.41 20L4 18.59l7.72-7.72 1.47 1.35L5.41 20z\"/>\n",
              "  </svg>\n",
              "      </button>\n",
              "      \n",
              "  <style>\n",
              "    .colab-df-container {\n",
              "      display:flex;\n",
              "      flex-wrap:wrap;\n",
              "      gap: 12px;\n",
              "    }\n",
              "\n",
              "    .colab-df-convert {\n",
              "      background-color: #E8F0FE;\n",
              "      border: none;\n",
              "      border-radius: 50%;\n",
              "      cursor: pointer;\n",
              "      display: none;\n",
              "      fill: #1967D2;\n",
              "      height: 32px;\n",
              "      padding: 0 0 0 0;\n",
              "      width: 32px;\n",
              "    }\n",
              "\n",
              "    .colab-df-convert:hover {\n",
              "      background-color: #E2EBFA;\n",
              "      box-shadow: 0px 1px 2px rgba(60, 64, 67, 0.3), 0px 1px 3px 1px rgba(60, 64, 67, 0.15);\n",
              "      fill: #174EA6;\n",
              "    }\n",
              "\n",
              "    [theme=dark] .colab-df-convert {\n",
              "      background-color: #3B4455;\n",
              "      fill: #D2E3FC;\n",
              "    }\n",
              "\n",
              "    [theme=dark] .colab-df-convert:hover {\n",
              "      background-color: #434B5C;\n",
              "      box-shadow: 0px 1px 3px 1px rgba(0, 0, 0, 0.15);\n",
              "      filter: drop-shadow(0px 1px 2px rgba(0, 0, 0, 0.3));\n",
              "      fill: #FFFFFF;\n",
              "    }\n",
              "  </style>\n",
              "\n",
              "      <script>\n",
              "        const buttonEl =\n",
              "          document.querySelector('#df-d0767c37-3400-4993-8688-6b8735adf71f button.colab-df-convert');\n",
              "        buttonEl.style.display =\n",
              "          google.colab.kernel.accessAllowed ? 'block' : 'none';\n",
              "\n",
              "        async function convertToInteractive(key) {\n",
              "          const element = document.querySelector('#df-d0767c37-3400-4993-8688-6b8735adf71f');\n",
              "          const dataTable =\n",
              "            await google.colab.kernel.invokeFunction('convertToInteractive',\n",
              "                                                     [key], {});\n",
              "          if (!dataTable) return;\n",
              "\n",
              "          const docLinkHtml = 'Like what you see? Visit the ' +\n",
              "            '<a target=\"_blank\" href=https://colab.research.google.com/notebooks/data_table.ipynb>data table notebook</a>'\n",
              "            + ' to learn more about interactive tables.';\n",
              "          element.innerHTML = '';\n",
              "          dataTable['output_type'] = 'display_data';\n",
              "          await google.colab.output.renderOutput(dataTable, element);\n",
              "          const docLink = document.createElement('div');\n",
              "          docLink.innerHTML = docLinkHtml;\n",
              "          element.appendChild(docLink);\n",
              "        }\n",
              "      </script>\n",
              "    </div>\n",
              "  </div>\n",
              "  "
            ]
          },
          "metadata": {},
          "execution_count": 53
        }
      ],
      "source": [
        "quantiles = df_rfm.quantile(q=[0.25, 0.50, 0.75])\n",
        "quantiles"
      ]
    },
    {
      "cell_type": "markdown",
      "source": [
        "Using the quantiles function, we can get our thresholds for segmentation.\n",
        "\n",
        "1. For recency score (lower is better):\n",
        "- Score = 1; quantile between 0-0.25\n",
        "- Score = 2; quantile between 0.25-0.5\n",
        "- Score = 3; quantile between 0.5-0.75\n",
        "- Score = 4; quantile between 0.75 - 1\n",
        "\n",
        "<br>\n",
        "2. For frequency and monetary score (higher is better):\n",
        "- Score = 1; quantile between 0.75 - 1\n",
        "- Score = 2; quantile between 0.5-0.75\n",
        "- Score = 3; quantile between 0.25-0.5\n",
        "- Score = 4; quantile between 0-0.25\n",
        "\n",
        "<br>"
      ],
      "metadata": {
        "id": "_Y-Lshn6HbeC"
      }
    },
    {
      "cell_type": "markdown",
      "source": [
        "#### Recency Score"
      ],
      "metadata": {
        "id": "ZcPJW09SHjfq"
      }
    },
    {
      "cell_type": "code",
      "source": [
        "# create a dictionary with the recency quantiles\n",
        "recency_dict = quantiles['recency'].to_dict()\n",
        "recency_dict"
      ],
      "metadata": {
        "id": "6tlxixSMHbOd",
        "colab": {
          "base_uri": "https://localhost:8080/"
        },
        "outputId": "95d3218e-1ee2-4179-dc6a-82a91e532cba"
      },
      "execution_count": 54,
      "outputs": [
        {
          "output_type": "execute_result",
          "data": {
            "text/plain": [
              "{0.25: 5.0, 0.5: 14.0, 0.75: 54.25}"
            ]
          },
          "metadata": {},
          "execution_count": 54
        }
      ]
    },
    {
      "cell_type": "code",
      "source": [
        "# create a function to calculate recency score\n",
        "def recency_score(recency, recency_dict):\n",
        "    if recency <= recency_dict[0.25]:\n",
        "        # recency_score = 1 if recency is between 0-0.25 quantile\n",
        "        return '1'\n",
        "    elif recency <= recency_dict[0.5]:\n",
        "        # recency_score = 2 if recency is between 0.25-0.5 quantile\n",
        "        return '2'\n",
        "    elif recency <= recency_dict[0.75]:\n",
        "        # recency_score = 3 if recency is between 0.5-0.75 quantile\n",
        "        return '3'\n",
        "    else:\n",
        "        # recency_score = 4 if recency is between 0.75-1 quantile\n",
        "        return '4'\n",
        "\n",
        "df_rfm['recency_score'] = df_rfm['recency'].apply(recency_score, args=(recency_dict,))\n",
        "df_rfm.head()"
      ],
      "metadata": {
        "id": "MuIjqr1-H7Wr",
        "colab": {
          "base_uri": "https://localhost:8080/",
          "height": 238
        },
        "outputId": "74d58915-ce79-4974-eb47-3c90431a706e"
      },
      "execution_count": 55,
      "outputs": [
        {
          "output_type": "execute_result",
          "data": {
            "text/plain": [
              "           recency  frequency  monetary recency_score\n",
              "full_name                                            \n",
              "15000, 1       113        NaN       NaN             4\n",
              "24100, 2       109        NaN       NaN             4\n",
              "42000, 4        27        NaN       NaN             3\n",
              "44600, 4       358        NaN       NaN             4\n",
              "48000, 4         1        NaN       NaN             1"
            ],
            "text/html": [
              "\n",
              "  <div id=\"df-029ba66b-0ea7-4e14-9162-e5e4641146fc\">\n",
              "    <div class=\"colab-df-container\">\n",
              "      <div>\n",
              "<style scoped>\n",
              "    .dataframe tbody tr th:only-of-type {\n",
              "        vertical-align: middle;\n",
              "    }\n",
              "\n",
              "    .dataframe tbody tr th {\n",
              "        vertical-align: top;\n",
              "    }\n",
              "\n",
              "    .dataframe thead th {\n",
              "        text-align: right;\n",
              "    }\n",
              "</style>\n",
              "<table border=\"1\" class=\"dataframe\">\n",
              "  <thead>\n",
              "    <tr style=\"text-align: right;\">\n",
              "      <th></th>\n",
              "      <th>recency</th>\n",
              "      <th>frequency</th>\n",
              "      <th>monetary</th>\n",
              "      <th>recency_score</th>\n",
              "    </tr>\n",
              "    <tr>\n",
              "      <th>full_name</th>\n",
              "      <th></th>\n",
              "      <th></th>\n",
              "      <th></th>\n",
              "      <th></th>\n",
              "    </tr>\n",
              "  </thead>\n",
              "  <tbody>\n",
              "    <tr>\n",
              "      <th>15000, 1</th>\n",
              "      <td>113</td>\n",
              "      <td>NaN</td>\n",
              "      <td>NaN</td>\n",
              "      <td>4</td>\n",
              "    </tr>\n",
              "    <tr>\n",
              "      <th>24100, 2</th>\n",
              "      <td>109</td>\n",
              "      <td>NaN</td>\n",
              "      <td>NaN</td>\n",
              "      <td>4</td>\n",
              "    </tr>\n",
              "    <tr>\n",
              "      <th>42000, 4</th>\n",
              "      <td>27</td>\n",
              "      <td>NaN</td>\n",
              "      <td>NaN</td>\n",
              "      <td>3</td>\n",
              "    </tr>\n",
              "    <tr>\n",
              "      <th>44600, 4</th>\n",
              "      <td>358</td>\n",
              "      <td>NaN</td>\n",
              "      <td>NaN</td>\n",
              "      <td>4</td>\n",
              "    </tr>\n",
              "    <tr>\n",
              "      <th>48000, 4</th>\n",
              "      <td>1</td>\n",
              "      <td>NaN</td>\n",
              "      <td>NaN</td>\n",
              "      <td>1</td>\n",
              "    </tr>\n",
              "  </tbody>\n",
              "</table>\n",
              "</div>\n",
              "      <button class=\"colab-df-convert\" onclick=\"convertToInteractive('df-029ba66b-0ea7-4e14-9162-e5e4641146fc')\"\n",
              "              title=\"Convert this dataframe to an interactive table.\"\n",
              "              style=\"display:none;\">\n",
              "        \n",
              "  <svg xmlns=\"http://www.w3.org/2000/svg\" height=\"24px\"viewBox=\"0 0 24 24\"\n",
              "       width=\"24px\">\n",
              "    <path d=\"M0 0h24v24H0V0z\" fill=\"none\"/>\n",
              "    <path d=\"M18.56 5.44l.94 2.06.94-2.06 2.06-.94-2.06-.94-.94-2.06-.94 2.06-2.06.94zm-11 1L8.5 8.5l.94-2.06 2.06-.94-2.06-.94L8.5 2.5l-.94 2.06-2.06.94zm10 10l.94 2.06.94-2.06 2.06-.94-2.06-.94-.94-2.06-.94 2.06-2.06.94z\"/><path d=\"M17.41 7.96l-1.37-1.37c-.4-.4-.92-.59-1.43-.59-.52 0-1.04.2-1.43.59L10.3 9.45l-7.72 7.72c-.78.78-.78 2.05 0 2.83L4 21.41c.39.39.9.59 1.41.59.51 0 1.02-.2 1.41-.59l7.78-7.78 2.81-2.81c.8-.78.8-2.07 0-2.86zM5.41 20L4 18.59l7.72-7.72 1.47 1.35L5.41 20z\"/>\n",
              "  </svg>\n",
              "      </button>\n",
              "      \n",
              "  <style>\n",
              "    .colab-df-container {\n",
              "      display:flex;\n",
              "      flex-wrap:wrap;\n",
              "      gap: 12px;\n",
              "    }\n",
              "\n",
              "    .colab-df-convert {\n",
              "      background-color: #E8F0FE;\n",
              "      border: none;\n",
              "      border-radius: 50%;\n",
              "      cursor: pointer;\n",
              "      display: none;\n",
              "      fill: #1967D2;\n",
              "      height: 32px;\n",
              "      padding: 0 0 0 0;\n",
              "      width: 32px;\n",
              "    }\n",
              "\n",
              "    .colab-df-convert:hover {\n",
              "      background-color: #E2EBFA;\n",
              "      box-shadow: 0px 1px 2px rgba(60, 64, 67, 0.3), 0px 1px 3px 1px rgba(60, 64, 67, 0.15);\n",
              "      fill: #174EA6;\n",
              "    }\n",
              "\n",
              "    [theme=dark] .colab-df-convert {\n",
              "      background-color: #3B4455;\n",
              "      fill: #D2E3FC;\n",
              "    }\n",
              "\n",
              "    [theme=dark] .colab-df-convert:hover {\n",
              "      background-color: #434B5C;\n",
              "      box-shadow: 0px 1px 3px 1px rgba(0, 0, 0, 0.15);\n",
              "      filter: drop-shadow(0px 1px 2px rgba(0, 0, 0, 0.3));\n",
              "      fill: #FFFFFF;\n",
              "    }\n",
              "  </style>\n",
              "\n",
              "      <script>\n",
              "        const buttonEl =\n",
              "          document.querySelector('#df-029ba66b-0ea7-4e14-9162-e5e4641146fc button.colab-df-convert');\n",
              "        buttonEl.style.display =\n",
              "          google.colab.kernel.accessAllowed ? 'block' : 'none';\n",
              "\n",
              "        async function convertToInteractive(key) {\n",
              "          const element = document.querySelector('#df-029ba66b-0ea7-4e14-9162-e5e4641146fc');\n",
              "          const dataTable =\n",
              "            await google.colab.kernel.invokeFunction('convertToInteractive',\n",
              "                                                     [key], {});\n",
              "          if (!dataTable) return;\n",
              "\n",
              "          const docLinkHtml = 'Like what you see? Visit the ' +\n",
              "            '<a target=\"_blank\" href=https://colab.research.google.com/notebooks/data_table.ipynb>data table notebook</a>'\n",
              "            + ' to learn more about interactive tables.';\n",
              "          element.innerHTML = '';\n",
              "          dataTable['output_type'] = 'display_data';\n",
              "          await google.colab.output.renderOutput(dataTable, element);\n",
              "          const docLink = document.createElement('div');\n",
              "          docLink.innerHTML = docLinkHtml;\n",
              "          element.appendChild(docLink);\n",
              "        }\n",
              "      </script>\n",
              "    </div>\n",
              "  </div>\n",
              "  "
            ]
          },
          "metadata": {},
          "execution_count": 55
        }
      ]
    },
    {
      "cell_type": "markdown",
      "source": [
        "### Frequency Score"
      ],
      "metadata": {
        "id": "Mn7vXbbAHmxw"
      }
    },
    {
      "cell_type": "code",
      "source": [
        "# create a dictionary with the frequency quantiles\n",
        "frequency_dict = quantiles['frequency'].to_dict()\n",
        "frequency_dict"
      ],
      "metadata": {
        "id": "ezcLpGn1HpQq",
        "colab": {
          "base_uri": "https://localhost:8080/"
        },
        "outputId": "7f57dd30-0032-4c8a-d8b8-8592a567bfa7"
      },
      "execution_count": 56,
      "outputs": [
        {
          "output_type": "execute_result",
          "data": {
            "text/plain": [
              "{0.25: 12.0, 0.5: 34.0, 0.75: 89.0}"
            ]
          },
          "metadata": {},
          "execution_count": 56
        }
      ]
    },
    {
      "cell_type": "code",
      "source": [
        "# create a function to calculate frequency score\n",
        "def frequency_score(frequency, frequency_dict):\n",
        "    if frequency <= frequency_dict[0.25]:\n",
        "        # frequency_score = 4 if frequency is between 0-0.25 quantile\n",
        "        return '4'\n",
        "    elif frequency <= frequency_dict[0.5]:\n",
        "        # frequency_score = 3 if frequency is between 0.25-0.5 quantile\n",
        "        return '3'\n",
        "    elif frequency <= frequency_dict[0.75]:\n",
        "        # frequency_score = 2 if frequency is between 0.5-0.75 quantile\n",
        "        return '2'\n",
        "    else:\n",
        "        # frequency_score = 1 if frequency is between 0.75-1 quantile\n",
        "        return '1'\n",
        "\n",
        "df_rfm['frequency_score'] = df_rfm['frequency'].apply(frequency_score, args=(frequency_dict,))\n",
        "df_rfm.head()"
      ],
      "metadata": {
        "id": "iVLyaz2-IJCV",
        "colab": {
          "base_uri": "https://localhost:8080/",
          "height": 238
        },
        "outputId": "c17e2bc6-6a4e-40ed-b8ff-866ae4024854"
      },
      "execution_count": 57,
      "outputs": [
        {
          "output_type": "execute_result",
          "data": {
            "text/plain": [
              "           recency  frequency  monetary recency_score frequency_score\n",
              "full_name                                                            \n",
              "15000, 1       113        NaN       NaN             4               1\n",
              "24100, 2       109        NaN       NaN             4               1\n",
              "42000, 4        27        NaN       NaN             3               1\n",
              "44600, 4       358        NaN       NaN             4               1\n",
              "48000, 4         1        NaN       NaN             1               1"
            ],
            "text/html": [
              "\n",
              "  <div id=\"df-a1a5c338-5e8f-453e-991a-b857477383db\">\n",
              "    <div class=\"colab-df-container\">\n",
              "      <div>\n",
              "<style scoped>\n",
              "    .dataframe tbody tr th:only-of-type {\n",
              "        vertical-align: middle;\n",
              "    }\n",
              "\n",
              "    .dataframe tbody tr th {\n",
              "        vertical-align: top;\n",
              "    }\n",
              "\n",
              "    .dataframe thead th {\n",
              "        text-align: right;\n",
              "    }\n",
              "</style>\n",
              "<table border=\"1\" class=\"dataframe\">\n",
              "  <thead>\n",
              "    <tr style=\"text-align: right;\">\n",
              "      <th></th>\n",
              "      <th>recency</th>\n",
              "      <th>frequency</th>\n",
              "      <th>monetary</th>\n",
              "      <th>recency_score</th>\n",
              "      <th>frequency_score</th>\n",
              "    </tr>\n",
              "    <tr>\n",
              "      <th>full_name</th>\n",
              "      <th></th>\n",
              "      <th></th>\n",
              "      <th></th>\n",
              "      <th></th>\n",
              "      <th></th>\n",
              "    </tr>\n",
              "  </thead>\n",
              "  <tbody>\n",
              "    <tr>\n",
              "      <th>15000, 1</th>\n",
              "      <td>113</td>\n",
              "      <td>NaN</td>\n",
              "      <td>NaN</td>\n",
              "      <td>4</td>\n",
              "      <td>1</td>\n",
              "    </tr>\n",
              "    <tr>\n",
              "      <th>24100, 2</th>\n",
              "      <td>109</td>\n",
              "      <td>NaN</td>\n",
              "      <td>NaN</td>\n",
              "      <td>4</td>\n",
              "      <td>1</td>\n",
              "    </tr>\n",
              "    <tr>\n",
              "      <th>42000, 4</th>\n",
              "      <td>27</td>\n",
              "      <td>NaN</td>\n",
              "      <td>NaN</td>\n",
              "      <td>3</td>\n",
              "      <td>1</td>\n",
              "    </tr>\n",
              "    <tr>\n",
              "      <th>44600, 4</th>\n",
              "      <td>358</td>\n",
              "      <td>NaN</td>\n",
              "      <td>NaN</td>\n",
              "      <td>4</td>\n",
              "      <td>1</td>\n",
              "    </tr>\n",
              "    <tr>\n",
              "      <th>48000, 4</th>\n",
              "      <td>1</td>\n",
              "      <td>NaN</td>\n",
              "      <td>NaN</td>\n",
              "      <td>1</td>\n",
              "      <td>1</td>\n",
              "    </tr>\n",
              "  </tbody>\n",
              "</table>\n",
              "</div>\n",
              "      <button class=\"colab-df-convert\" onclick=\"convertToInteractive('df-a1a5c338-5e8f-453e-991a-b857477383db')\"\n",
              "              title=\"Convert this dataframe to an interactive table.\"\n",
              "              style=\"display:none;\">\n",
              "        \n",
              "  <svg xmlns=\"http://www.w3.org/2000/svg\" height=\"24px\"viewBox=\"0 0 24 24\"\n",
              "       width=\"24px\">\n",
              "    <path d=\"M0 0h24v24H0V0z\" fill=\"none\"/>\n",
              "    <path d=\"M18.56 5.44l.94 2.06.94-2.06 2.06-.94-2.06-.94-.94-2.06-.94 2.06-2.06.94zm-11 1L8.5 8.5l.94-2.06 2.06-.94-2.06-.94L8.5 2.5l-.94 2.06-2.06.94zm10 10l.94 2.06.94-2.06 2.06-.94-2.06-.94-.94-2.06-.94 2.06-2.06.94z\"/><path d=\"M17.41 7.96l-1.37-1.37c-.4-.4-.92-.59-1.43-.59-.52 0-1.04.2-1.43.59L10.3 9.45l-7.72 7.72c-.78.78-.78 2.05 0 2.83L4 21.41c.39.39.9.59 1.41.59.51 0 1.02-.2 1.41-.59l7.78-7.78 2.81-2.81c.8-.78.8-2.07 0-2.86zM5.41 20L4 18.59l7.72-7.72 1.47 1.35L5.41 20z\"/>\n",
              "  </svg>\n",
              "      </button>\n",
              "      \n",
              "  <style>\n",
              "    .colab-df-container {\n",
              "      display:flex;\n",
              "      flex-wrap:wrap;\n",
              "      gap: 12px;\n",
              "    }\n",
              "\n",
              "    .colab-df-convert {\n",
              "      background-color: #E8F0FE;\n",
              "      border: none;\n",
              "      border-radius: 50%;\n",
              "      cursor: pointer;\n",
              "      display: none;\n",
              "      fill: #1967D2;\n",
              "      height: 32px;\n",
              "      padding: 0 0 0 0;\n",
              "      width: 32px;\n",
              "    }\n",
              "\n",
              "    .colab-df-convert:hover {\n",
              "      background-color: #E2EBFA;\n",
              "      box-shadow: 0px 1px 2px rgba(60, 64, 67, 0.3), 0px 1px 3px 1px rgba(60, 64, 67, 0.15);\n",
              "      fill: #174EA6;\n",
              "    }\n",
              "\n",
              "    [theme=dark] .colab-df-convert {\n",
              "      background-color: #3B4455;\n",
              "      fill: #D2E3FC;\n",
              "    }\n",
              "\n",
              "    [theme=dark] .colab-df-convert:hover {\n",
              "      background-color: #434B5C;\n",
              "      box-shadow: 0px 1px 3px 1px rgba(0, 0, 0, 0.15);\n",
              "      filter: drop-shadow(0px 1px 2px rgba(0, 0, 0, 0.3));\n",
              "      fill: #FFFFFF;\n",
              "    }\n",
              "  </style>\n",
              "\n",
              "      <script>\n",
              "        const buttonEl =\n",
              "          document.querySelector('#df-a1a5c338-5e8f-453e-991a-b857477383db button.colab-df-convert');\n",
              "        buttonEl.style.display =\n",
              "          google.colab.kernel.accessAllowed ? 'block' : 'none';\n",
              "\n",
              "        async function convertToInteractive(key) {\n",
              "          const element = document.querySelector('#df-a1a5c338-5e8f-453e-991a-b857477383db');\n",
              "          const dataTable =\n",
              "            await google.colab.kernel.invokeFunction('convertToInteractive',\n",
              "                                                     [key], {});\n",
              "          if (!dataTable) return;\n",
              "\n",
              "          const docLinkHtml = 'Like what you see? Visit the ' +\n",
              "            '<a target=\"_blank\" href=https://colab.research.google.com/notebooks/data_table.ipynb>data table notebook</a>'\n",
              "            + ' to learn more about interactive tables.';\n",
              "          element.innerHTML = '';\n",
              "          dataTable['output_type'] = 'display_data';\n",
              "          await google.colab.output.renderOutput(dataTable, element);\n",
              "          const docLink = document.createElement('div');\n",
              "          docLink.innerHTML = docLinkHtml;\n",
              "          element.appendChild(docLink);\n",
              "        }\n",
              "      </script>\n",
              "    </div>\n",
              "  </div>\n",
              "  "
            ]
          },
          "metadata": {},
          "execution_count": 57
        }
      ]
    },
    {
      "cell_type": "markdown",
      "source": [
        "### Monetary Score"
      ],
      "metadata": {
        "id": "xmF-hBPLITF3"
      }
    },
    {
      "cell_type": "code",
      "source": [
        "# create a dictionary with the monetary quantiles\n",
        "monetary_dict = quantiles['monetary'].to_dict()\n",
        "monetary_dict"
      ],
      "metadata": {
        "id": "IvfD3uZ4ITZB",
        "colab": {
          "base_uri": "https://localhost:8080/"
        },
        "outputId": "011892a4-d116-46d3-ddf8-4dfc41cde299"
      },
      "execution_count": 58,
      "outputs": [
        {
          "output_type": "execute_result",
          "data": {
            "text/plain": [
              "{0.25: 2229.17, 0.5: 7874.830000000001, 0.75: 24446.665}"
            ]
          },
          "metadata": {},
          "execution_count": 58
        }
      ]
    },
    {
      "cell_type": "code",
      "source": [
        "# create a function to calculate monetary score\n",
        "def monetary_score(monetary, monetary_dict):\n",
        "    if monetary <= monetary_dict[0.25]:\n",
        "        # monetary_score = 4 if monetary is between 0-0.25 quantile\n",
        "        return '4'\n",
        "    elif monetary <= monetary_dict[0.5]:\n",
        "        # monetary_score = 3 if monetary is between 0.25-0.5 quantile\n",
        "        return '3'\n",
        "    elif monetary <= monetary_dict[0.75]:\n",
        "        # monetary_score = 2 if monetary is between 0.5-0.75 quantile\n",
        "        return '2'\n",
        "    else:\n",
        "        # monetary_score = 1 if monetary is between 0.75-1 quantile\n",
        "        return '1'\n",
        "\n",
        "df_rfm['monetary_score'] = df_rfm['monetary'].apply(monetary_score, args=(monetary_dict,))\n",
        "df_rfm.head()"
      ],
      "metadata": {
        "id": "0F2WGW11IUFo",
        "colab": {
          "base_uri": "https://localhost:8080/",
          "height": 238
        },
        "outputId": "24356eb3-d531-4868-969a-0b4ea79d3fad"
      },
      "execution_count": 59,
      "outputs": [
        {
          "output_type": "execute_result",
          "data": {
            "text/plain": [
              "           recency  frequency  monetary recency_score frequency_score  \\\n",
              "full_name                                                               \n",
              "15000, 1       113        NaN       NaN             4               1   \n",
              "24100, 2       109        NaN       NaN             4               1   \n",
              "42000, 4        27        NaN       NaN             3               1   \n",
              "44600, 4       358        NaN       NaN             4               1   \n",
              "48000, 4         1        NaN       NaN             1               1   \n",
              "\n",
              "          monetary_score  \n",
              "full_name                 \n",
              "15000, 1               1  \n",
              "24100, 2               1  \n",
              "42000, 4               1  \n",
              "44600, 4               1  \n",
              "48000, 4               1  "
            ],
            "text/html": [
              "\n",
              "  <div id=\"df-573a6934-1117-422d-953c-f976d0c6b2f3\">\n",
              "    <div class=\"colab-df-container\">\n",
              "      <div>\n",
              "<style scoped>\n",
              "    .dataframe tbody tr th:only-of-type {\n",
              "        vertical-align: middle;\n",
              "    }\n",
              "\n",
              "    .dataframe tbody tr th {\n",
              "        vertical-align: top;\n",
              "    }\n",
              "\n",
              "    .dataframe thead th {\n",
              "        text-align: right;\n",
              "    }\n",
              "</style>\n",
              "<table border=\"1\" class=\"dataframe\">\n",
              "  <thead>\n",
              "    <tr style=\"text-align: right;\">\n",
              "      <th></th>\n",
              "      <th>recency</th>\n",
              "      <th>frequency</th>\n",
              "      <th>monetary</th>\n",
              "      <th>recency_score</th>\n",
              "      <th>frequency_score</th>\n",
              "      <th>monetary_score</th>\n",
              "    </tr>\n",
              "    <tr>\n",
              "      <th>full_name</th>\n",
              "      <th></th>\n",
              "      <th></th>\n",
              "      <th></th>\n",
              "      <th></th>\n",
              "      <th></th>\n",
              "      <th></th>\n",
              "    </tr>\n",
              "  </thead>\n",
              "  <tbody>\n",
              "    <tr>\n",
              "      <th>15000, 1</th>\n",
              "      <td>113</td>\n",
              "      <td>NaN</td>\n",
              "      <td>NaN</td>\n",
              "      <td>4</td>\n",
              "      <td>1</td>\n",
              "      <td>1</td>\n",
              "    </tr>\n",
              "    <tr>\n",
              "      <th>24100, 2</th>\n",
              "      <td>109</td>\n",
              "      <td>NaN</td>\n",
              "      <td>NaN</td>\n",
              "      <td>4</td>\n",
              "      <td>1</td>\n",
              "      <td>1</td>\n",
              "    </tr>\n",
              "    <tr>\n",
              "      <th>42000, 4</th>\n",
              "      <td>27</td>\n",
              "      <td>NaN</td>\n",
              "      <td>NaN</td>\n",
              "      <td>3</td>\n",
              "      <td>1</td>\n",
              "      <td>1</td>\n",
              "    </tr>\n",
              "    <tr>\n",
              "      <th>44600, 4</th>\n",
              "      <td>358</td>\n",
              "      <td>NaN</td>\n",
              "      <td>NaN</td>\n",
              "      <td>4</td>\n",
              "      <td>1</td>\n",
              "      <td>1</td>\n",
              "    </tr>\n",
              "    <tr>\n",
              "      <th>48000, 4</th>\n",
              "      <td>1</td>\n",
              "      <td>NaN</td>\n",
              "      <td>NaN</td>\n",
              "      <td>1</td>\n",
              "      <td>1</td>\n",
              "      <td>1</td>\n",
              "    </tr>\n",
              "  </tbody>\n",
              "</table>\n",
              "</div>\n",
              "      <button class=\"colab-df-convert\" onclick=\"convertToInteractive('df-573a6934-1117-422d-953c-f976d0c6b2f3')\"\n",
              "              title=\"Convert this dataframe to an interactive table.\"\n",
              "              style=\"display:none;\">\n",
              "        \n",
              "  <svg xmlns=\"http://www.w3.org/2000/svg\" height=\"24px\"viewBox=\"0 0 24 24\"\n",
              "       width=\"24px\">\n",
              "    <path d=\"M0 0h24v24H0V0z\" fill=\"none\"/>\n",
              "    <path d=\"M18.56 5.44l.94 2.06.94-2.06 2.06-.94-2.06-.94-.94-2.06-.94 2.06-2.06.94zm-11 1L8.5 8.5l.94-2.06 2.06-.94-2.06-.94L8.5 2.5l-.94 2.06-2.06.94zm10 10l.94 2.06.94-2.06 2.06-.94-2.06-.94-.94-2.06-.94 2.06-2.06.94z\"/><path d=\"M17.41 7.96l-1.37-1.37c-.4-.4-.92-.59-1.43-.59-.52 0-1.04.2-1.43.59L10.3 9.45l-7.72 7.72c-.78.78-.78 2.05 0 2.83L4 21.41c.39.39.9.59 1.41.59.51 0 1.02-.2 1.41-.59l7.78-7.78 2.81-2.81c.8-.78.8-2.07 0-2.86zM5.41 20L4 18.59l7.72-7.72 1.47 1.35L5.41 20z\"/>\n",
              "  </svg>\n",
              "      </button>\n",
              "      \n",
              "  <style>\n",
              "    .colab-df-container {\n",
              "      display:flex;\n",
              "      flex-wrap:wrap;\n",
              "      gap: 12px;\n",
              "    }\n",
              "\n",
              "    .colab-df-convert {\n",
              "      background-color: #E8F0FE;\n",
              "      border: none;\n",
              "      border-radius: 50%;\n",
              "      cursor: pointer;\n",
              "      display: none;\n",
              "      fill: #1967D2;\n",
              "      height: 32px;\n",
              "      padding: 0 0 0 0;\n",
              "      width: 32px;\n",
              "    }\n",
              "\n",
              "    .colab-df-convert:hover {\n",
              "      background-color: #E2EBFA;\n",
              "      box-shadow: 0px 1px 2px rgba(60, 64, 67, 0.3), 0px 1px 3px 1px rgba(60, 64, 67, 0.15);\n",
              "      fill: #174EA6;\n",
              "    }\n",
              "\n",
              "    [theme=dark] .colab-df-convert {\n",
              "      background-color: #3B4455;\n",
              "      fill: #D2E3FC;\n",
              "    }\n",
              "\n",
              "    [theme=dark] .colab-df-convert:hover {\n",
              "      background-color: #434B5C;\n",
              "      box-shadow: 0px 1px 3px 1px rgba(0, 0, 0, 0.15);\n",
              "      filter: drop-shadow(0px 1px 2px rgba(0, 0, 0, 0.3));\n",
              "      fill: #FFFFFF;\n",
              "    }\n",
              "  </style>\n",
              "\n",
              "      <script>\n",
              "        const buttonEl =\n",
              "          document.querySelector('#df-573a6934-1117-422d-953c-f976d0c6b2f3 button.colab-df-convert');\n",
              "        buttonEl.style.display =\n",
              "          google.colab.kernel.accessAllowed ? 'block' : 'none';\n",
              "\n",
              "        async function convertToInteractive(key) {\n",
              "          const element = document.querySelector('#df-573a6934-1117-422d-953c-f976d0c6b2f3');\n",
              "          const dataTable =\n",
              "            await google.colab.kernel.invokeFunction('convertToInteractive',\n",
              "                                                     [key], {});\n",
              "          if (!dataTable) return;\n",
              "\n",
              "          const docLinkHtml = 'Like what you see? Visit the ' +\n",
              "            '<a target=\"_blank\" href=https://colab.research.google.com/notebooks/data_table.ipynb>data table notebook</a>'\n",
              "            + ' to learn more about interactive tables.';\n",
              "          element.innerHTML = '';\n",
              "          dataTable['output_type'] = 'display_data';\n",
              "          await google.colab.output.renderOutput(dataTable, element);\n",
              "          const docLink = document.createElement('div');\n",
              "          docLink.innerHTML = docLinkHtml;\n",
              "          element.appendChild(docLink);\n",
              "        }\n",
              "      </script>\n",
              "    </div>\n",
              "  </div>\n",
              "  "
            ]
          },
          "metadata": {},
          "execution_count": 59
        }
      ]
    },
    {
      "cell_type": "markdown",
      "source": [
        "#### Concatenate the RFM Scores"
      ],
      "metadata": {
        "id": "5b_VwaQsIhwB"
      }
    },
    {
      "cell_type": "code",
      "source": [
        "# Concatenate the three created columns earlier\n",
        "df_rfm['rfm_score'] = df_rfm['recency_score'] + df_rfm['frequency_score'] + df_rfm['monetary_score']\n",
        "df_rfm.head(10)"
      ],
      "metadata": {
        "id": "JraNf90eIkNW",
        "colab": {
          "base_uri": "https://localhost:8080/",
          "height": 394
        },
        "outputId": "81e8146e-7ca3-4d2e-e909-a917e5936348"
      },
      "execution_count": 60,
      "outputs": [
        {
          "output_type": "execute_result",
          "data": {
            "text/plain": [
              "           recency  frequency  monetary recency_score frequency_score  \\\n",
              "full_name                                                               \n",
              "15000, 1       113        NaN       NaN             4               1   \n",
              "24100, 2       109        NaN       NaN             4               1   \n",
              "42000, 4        27        NaN       NaN             3               1   \n",
              "44600, 4       358        NaN       NaN             4               1   \n",
              "48000, 4         1        NaN       NaN             1               1   \n",
              "53000, 5       264        NaN       NaN             4               1   \n",
              "53100, 5        32        NaN       NaN             3               1   \n",
              "60500, 6        32        NaN       NaN             3               1   \n",
              "75000, 7       320        NaN       NaN             4               1   \n",
              "77000, 7        53        NaN       NaN             3               1   \n",
              "\n",
              "          monetary_score rfm_score  \n",
              "full_name                           \n",
              "15000, 1               1       411  \n",
              "24100, 2               1       411  \n",
              "42000, 4               1       311  \n",
              "44600, 4               1       411  \n",
              "48000, 4               1       111  \n",
              "53000, 5               1       411  \n",
              "53100, 5               1       311  \n",
              "60500, 6               1       311  \n",
              "75000, 7               1       411  \n",
              "77000, 7               1       311  "
            ],
            "text/html": [
              "\n",
              "  <div id=\"df-9e3488fc-a114-4825-a76e-a46d1a8c267e\">\n",
              "    <div class=\"colab-df-container\">\n",
              "      <div>\n",
              "<style scoped>\n",
              "    .dataframe tbody tr th:only-of-type {\n",
              "        vertical-align: middle;\n",
              "    }\n",
              "\n",
              "    .dataframe tbody tr th {\n",
              "        vertical-align: top;\n",
              "    }\n",
              "\n",
              "    .dataframe thead th {\n",
              "        text-align: right;\n",
              "    }\n",
              "</style>\n",
              "<table border=\"1\" class=\"dataframe\">\n",
              "  <thead>\n",
              "    <tr style=\"text-align: right;\">\n",
              "      <th></th>\n",
              "      <th>recency</th>\n",
              "      <th>frequency</th>\n",
              "      <th>monetary</th>\n",
              "      <th>recency_score</th>\n",
              "      <th>frequency_score</th>\n",
              "      <th>monetary_score</th>\n",
              "      <th>rfm_score</th>\n",
              "    </tr>\n",
              "    <tr>\n",
              "      <th>full_name</th>\n",
              "      <th></th>\n",
              "      <th></th>\n",
              "      <th></th>\n",
              "      <th></th>\n",
              "      <th></th>\n",
              "      <th></th>\n",
              "      <th></th>\n",
              "    </tr>\n",
              "  </thead>\n",
              "  <tbody>\n",
              "    <tr>\n",
              "      <th>15000, 1</th>\n",
              "      <td>113</td>\n",
              "      <td>NaN</td>\n",
              "      <td>NaN</td>\n",
              "      <td>4</td>\n",
              "      <td>1</td>\n",
              "      <td>1</td>\n",
              "      <td>411</td>\n",
              "    </tr>\n",
              "    <tr>\n",
              "      <th>24100, 2</th>\n",
              "      <td>109</td>\n",
              "      <td>NaN</td>\n",
              "      <td>NaN</td>\n",
              "      <td>4</td>\n",
              "      <td>1</td>\n",
              "      <td>1</td>\n",
              "      <td>411</td>\n",
              "    </tr>\n",
              "    <tr>\n",
              "      <th>42000, 4</th>\n",
              "      <td>27</td>\n",
              "      <td>NaN</td>\n",
              "      <td>NaN</td>\n",
              "      <td>3</td>\n",
              "      <td>1</td>\n",
              "      <td>1</td>\n",
              "      <td>311</td>\n",
              "    </tr>\n",
              "    <tr>\n",
              "      <th>44600, 4</th>\n",
              "      <td>358</td>\n",
              "      <td>NaN</td>\n",
              "      <td>NaN</td>\n",
              "      <td>4</td>\n",
              "      <td>1</td>\n",
              "      <td>1</td>\n",
              "      <td>411</td>\n",
              "    </tr>\n",
              "    <tr>\n",
              "      <th>48000, 4</th>\n",
              "      <td>1</td>\n",
              "      <td>NaN</td>\n",
              "      <td>NaN</td>\n",
              "      <td>1</td>\n",
              "      <td>1</td>\n",
              "      <td>1</td>\n",
              "      <td>111</td>\n",
              "    </tr>\n",
              "    <tr>\n",
              "      <th>53000, 5</th>\n",
              "      <td>264</td>\n",
              "      <td>NaN</td>\n",
              "      <td>NaN</td>\n",
              "      <td>4</td>\n",
              "      <td>1</td>\n",
              "      <td>1</td>\n",
              "      <td>411</td>\n",
              "    </tr>\n",
              "    <tr>\n",
              "      <th>53100, 5</th>\n",
              "      <td>32</td>\n",
              "      <td>NaN</td>\n",
              "      <td>NaN</td>\n",
              "      <td>3</td>\n",
              "      <td>1</td>\n",
              "      <td>1</td>\n",
              "      <td>311</td>\n",
              "    </tr>\n",
              "    <tr>\n",
              "      <th>60500, 6</th>\n",
              "      <td>32</td>\n",
              "      <td>NaN</td>\n",
              "      <td>NaN</td>\n",
              "      <td>3</td>\n",
              "      <td>1</td>\n",
              "      <td>1</td>\n",
              "      <td>311</td>\n",
              "    </tr>\n",
              "    <tr>\n",
              "      <th>75000, 7</th>\n",
              "      <td>320</td>\n",
              "      <td>NaN</td>\n",
              "      <td>NaN</td>\n",
              "      <td>4</td>\n",
              "      <td>1</td>\n",
              "      <td>1</td>\n",
              "      <td>411</td>\n",
              "    </tr>\n",
              "    <tr>\n",
              "      <th>77000, 7</th>\n",
              "      <td>53</td>\n",
              "      <td>NaN</td>\n",
              "      <td>NaN</td>\n",
              "      <td>3</td>\n",
              "      <td>1</td>\n",
              "      <td>1</td>\n",
              "      <td>311</td>\n",
              "    </tr>\n",
              "  </tbody>\n",
              "</table>\n",
              "</div>\n",
              "      <button class=\"colab-df-convert\" onclick=\"convertToInteractive('df-9e3488fc-a114-4825-a76e-a46d1a8c267e')\"\n",
              "              title=\"Convert this dataframe to an interactive table.\"\n",
              "              style=\"display:none;\">\n",
              "        \n",
              "  <svg xmlns=\"http://www.w3.org/2000/svg\" height=\"24px\"viewBox=\"0 0 24 24\"\n",
              "       width=\"24px\">\n",
              "    <path d=\"M0 0h24v24H0V0z\" fill=\"none\"/>\n",
              "    <path d=\"M18.56 5.44l.94 2.06.94-2.06 2.06-.94-2.06-.94-.94-2.06-.94 2.06-2.06.94zm-11 1L8.5 8.5l.94-2.06 2.06-.94-2.06-.94L8.5 2.5l-.94 2.06-2.06.94zm10 10l.94 2.06.94-2.06 2.06-.94-2.06-.94-.94-2.06-.94 2.06-2.06.94z\"/><path d=\"M17.41 7.96l-1.37-1.37c-.4-.4-.92-.59-1.43-.59-.52 0-1.04.2-1.43.59L10.3 9.45l-7.72 7.72c-.78.78-.78 2.05 0 2.83L4 21.41c.39.39.9.59 1.41.59.51 0 1.02-.2 1.41-.59l7.78-7.78 2.81-2.81c.8-.78.8-2.07 0-2.86zM5.41 20L4 18.59l7.72-7.72 1.47 1.35L5.41 20z\"/>\n",
              "  </svg>\n",
              "      </button>\n",
              "      \n",
              "  <style>\n",
              "    .colab-df-container {\n",
              "      display:flex;\n",
              "      flex-wrap:wrap;\n",
              "      gap: 12px;\n",
              "    }\n",
              "\n",
              "    .colab-df-convert {\n",
              "      background-color: #E8F0FE;\n",
              "      border: none;\n",
              "      border-radius: 50%;\n",
              "      cursor: pointer;\n",
              "      display: none;\n",
              "      fill: #1967D2;\n",
              "      height: 32px;\n",
              "      padding: 0 0 0 0;\n",
              "      width: 32px;\n",
              "    }\n",
              "\n",
              "    .colab-df-convert:hover {\n",
              "      background-color: #E2EBFA;\n",
              "      box-shadow: 0px 1px 2px rgba(60, 64, 67, 0.3), 0px 1px 3px 1px rgba(60, 64, 67, 0.15);\n",
              "      fill: #174EA6;\n",
              "    }\n",
              "\n",
              "    [theme=dark] .colab-df-convert {\n",
              "      background-color: #3B4455;\n",
              "      fill: #D2E3FC;\n",
              "    }\n",
              "\n",
              "    [theme=dark] .colab-df-convert:hover {\n",
              "      background-color: #434B5C;\n",
              "      box-shadow: 0px 1px 3px 1px rgba(0, 0, 0, 0.15);\n",
              "      filter: drop-shadow(0px 1px 2px rgba(0, 0, 0, 0.3));\n",
              "      fill: #FFFFFF;\n",
              "    }\n",
              "  </style>\n",
              "\n",
              "      <script>\n",
              "        const buttonEl =\n",
              "          document.querySelector('#df-9e3488fc-a114-4825-a76e-a46d1a8c267e button.colab-df-convert');\n",
              "        buttonEl.style.display =\n",
              "          google.colab.kernel.accessAllowed ? 'block' : 'none';\n",
              "\n",
              "        async function convertToInteractive(key) {\n",
              "          const element = document.querySelector('#df-9e3488fc-a114-4825-a76e-a46d1a8c267e');\n",
              "          const dataTable =\n",
              "            await google.colab.kernel.invokeFunction('convertToInteractive',\n",
              "                                                     [key], {});\n",
              "          if (!dataTable) return;\n",
              "\n",
              "          const docLinkHtml = 'Like what you see? Visit the ' +\n",
              "            '<a target=\"_blank\" href=https://colab.research.google.com/notebooks/data_table.ipynb>data table notebook</a>'\n",
              "            + ' to learn more about interactive tables.';\n",
              "          element.innerHTML = '';\n",
              "          dataTable['output_type'] = 'display_data';\n",
              "          await google.colab.output.renderOutput(dataTable, element);\n",
              "          const docLink = document.createElement('div');\n",
              "          docLink.innerHTML = docLinkHtml;\n",
              "          element.appendChild(docLink);\n",
              "        }\n",
              "      </script>\n",
              "    </div>\n",
              "  </div>\n",
              "  "
            ]
          },
          "metadata": {},
          "execution_count": 60
        }
      ]
    },
    {
      "cell_type": "markdown",
      "metadata": {
        "id": "VjmxOPCBEcaJ"
      },
      "source": [
        "#### Provide insights, recommendations, analysis. Use visualizations if necessary."
      ]
    },
    {
      "cell_type": "markdown",
      "source": [
        "\n",
        "\n",
        "# To provide insights and recommendations based on the RFM analysis, we can analyze the different customer segments based on their RFM scores. Let's examine the segments and make recommendations accordingly.\n",
        "\n",
        "Segment Analysis:\n",
        "\n",
        "Potential Loyalists (RFM Score: X1X): This segment consists of customers who have made high monetary value purchases but have not been very frequent recently. They show potential to become loyal customers. Recommendations for this segment include implementing customer retention strategies such as personalized follow-ups, special offers for their next purchase, and product recommendations based on their previous purchases.\n",
        "\n",
        "\n",
        "Recent Customers (RFM Score: XX1): These are customers who have made frequent purchases recently but with a lower monetary value. They are showing engagement but haven't spent significantly. Recommendations for this segment include upselling and cross-selling strategies to increase the average transaction value, providing product bundles or incentives for larger purchases, and offering loyalty program incentives to encourage repeat purchases.\n",
        "\n",
        "\n",
        "At-Risk Customers (RFM Score: X4X or 4XX): This segment includes customers who haven't made recent purchases or have low frequency and monetary value. They are at risk of churn or becoming inactive. Recommendations for this segment include targeted re-engagement campaigns, personalized win-back offers, and surveys to understand the reasons behind their decreased activity.\n",
        "\n",
        "\n",
        "Low-Value Customers (RFM Score: 444): These customers have low recency, frequency, and monetary value. They have not engaged much and haven't spent significantly. Recommendations for this segment include focusing on acquisition strategies to attract new customers, improving product offerings to meet their needs, and exploring partnerships to expand the customer base."
      ],
      "metadata": {
        "id": "FgshinAfggGP"
      }
    },
    {
      "cell_type": "code",
      "execution_count": 61,
      "metadata": {
        "id": "_G6oUTbcEcaJ",
        "colab": {
          "base_uri": "https://localhost:8080/"
        },
        "outputId": "c23a0de7-a073-438e-8f17-fa8a247a7462"
      },
      "outputs": [
        {
          "output_type": "stream",
          "name": "stdout",
          "text": [
            "Best Customers\n"
          ]
        },
        {
          "output_type": "execute_result",
          "data": {
            "text/plain": [
              "576"
            ]
          },
          "metadata": {},
          "execution_count": 61
        }
      ],
      "source": [
        "print(\"Best Customers\")\n",
        "len(df_rfm[df_rfm['rfm_score']=='111'])"
      ]
    },
    {
      "cell_type": "markdown",
      "source": [
        "# High-Value Customers (RFM Score: 111):\n",
        "These are the most valuable customers who have recently made frequent purchases with high monetary value. They are highly engaged and loyal. Recommendations for this segment include offering personalized rewards, exclusive discounts, and targeted promotions to maintain their loyalty and encourage them to spend even more."
      ],
      "metadata": {
        "id": "NBdwjDZ_hVpg"
      }
    },
    {
      "cell_type": "code",
      "source": [
        " segment_counts = {'best_customers (111)': len(df_rfm[df_rfm['rfm_score']=='111']),\n",
        "                  'loyal_customers (X1X)': len(df_rfm[df_rfm['frequency_score']=='1']),\n",
        "                  'big_spenders (XX1)': len(df_rfm[df_rfm['monetary_score']=='1']),\n",
        "                  'almost_lost (311)': len(df_rfm[df_rfm['rfm_score']=='311']),\n",
        "                  'lost_good_customers (411)': len(df_rfm[df_rfm['rfm_score']=='411']),\n",
        "                  'lost_cheap_customers (444)': len(df_rfm[df_rfm['rfm_score']=='444'])}"
      ],
      "metadata": {
        "id": "5faRHnHFpBmO"
      },
      "execution_count": 62,
      "outputs": []
    },
    {
      "cell_type": "markdown",
      "source": [
        "# Recommendations:\n",
        "\n",
        "# Personalization:\n",
        "Use the insights from RFM analysis to personalize marketing campaigns, offers, and communications based on each customer segment's characteristics. This will enhance the customer experience and increase engagement.\n",
        "\n",
        "# Loyalty Programs:\n",
        "Implement a tiered loyalty program that offers exclusive benefits and rewards based on customer RFM scores. This will incentivize customers to move up the loyalty ladder and increase their spending.\n",
        "\n",
        "# Cross-Selling and Upselling:\n",
        "Leverage the RFM analysis to identify opportunities for cross-selling and upselling. Recommend relevant products or services to customers based on their previous purchase"
      ],
      "metadata": {
        "id": "Kr86dBBriUGd"
      }
    },
    {
      "cell_type": "code",
      "source": [
        "df_counts = pd.DataFrame(segment_counts.values(), index=segment_counts.keys(), columns=['counts'])\n",
        "df_counts"
      ],
      "metadata": {
        "colab": {
          "base_uri": "https://localhost:8080/",
          "height": 238
        },
        "id": "KzUznTe3pF9o",
        "outputId": "211c0efb-72f1-4695-8982-0b64e983a570"
      },
      "execution_count": 41,
      "outputs": [
        {
          "output_type": "execute_result",
          "data": {
            "text/plain": [
              "                            counts\n",
              "best_customers (111)           575\n",
              "loyal_customers (X1X)         1282\n",
              "big_spenders (XX1)            1301\n",
              "almost_lost (311)               86\n",
              "lost_good_customers (411)       44\n",
              "lost_cheap_customers (444)     622"
            ],
            "text/html": [
              "\n",
              "  <div id=\"df-e0844dda-7be0-4ba5-ae2e-3483151adedf\">\n",
              "    <div class=\"colab-df-container\">\n",
              "      <div>\n",
              "<style scoped>\n",
              "    .dataframe tbody tr th:only-of-type {\n",
              "        vertical-align: middle;\n",
              "    }\n",
              "\n",
              "    .dataframe tbody tr th {\n",
              "        vertical-align: top;\n",
              "    }\n",
              "\n",
              "    .dataframe thead th {\n",
              "        text-align: right;\n",
              "    }\n",
              "</style>\n",
              "<table border=\"1\" class=\"dataframe\">\n",
              "  <thead>\n",
              "    <tr style=\"text-align: right;\">\n",
              "      <th></th>\n",
              "      <th>counts</th>\n",
              "    </tr>\n",
              "  </thead>\n",
              "  <tbody>\n",
              "    <tr>\n",
              "      <th>best_customers (111)</th>\n",
              "      <td>575</td>\n",
              "    </tr>\n",
              "    <tr>\n",
              "      <th>loyal_customers (X1X)</th>\n",
              "      <td>1282</td>\n",
              "    </tr>\n",
              "    <tr>\n",
              "      <th>big_spenders (XX1)</th>\n",
              "      <td>1301</td>\n",
              "    </tr>\n",
              "    <tr>\n",
              "      <th>almost_lost (311)</th>\n",
              "      <td>86</td>\n",
              "    </tr>\n",
              "    <tr>\n",
              "      <th>lost_good_customers (411)</th>\n",
              "      <td>44</td>\n",
              "    </tr>\n",
              "    <tr>\n",
              "      <th>lost_cheap_customers (444)</th>\n",
              "      <td>622</td>\n",
              "    </tr>\n",
              "  </tbody>\n",
              "</table>\n",
              "</div>\n",
              "      <button class=\"colab-df-convert\" onclick=\"convertToInteractive('df-e0844dda-7be0-4ba5-ae2e-3483151adedf')\"\n",
              "              title=\"Convert this dataframe to an interactive table.\"\n",
              "              style=\"display:none;\">\n",
              "        \n",
              "  <svg xmlns=\"http://www.w3.org/2000/svg\" height=\"24px\"viewBox=\"0 0 24 24\"\n",
              "       width=\"24px\">\n",
              "    <path d=\"M0 0h24v24H0V0z\" fill=\"none\"/>\n",
              "    <path d=\"M18.56 5.44l.94 2.06.94-2.06 2.06-.94-2.06-.94-.94-2.06-.94 2.06-2.06.94zm-11 1L8.5 8.5l.94-2.06 2.06-.94-2.06-.94L8.5 2.5l-.94 2.06-2.06.94zm10 10l.94 2.06.94-2.06 2.06-.94-2.06-.94-.94-2.06-.94 2.06-2.06.94z\"/><path d=\"M17.41 7.96l-1.37-1.37c-.4-.4-.92-.59-1.43-.59-.52 0-1.04.2-1.43.59L10.3 9.45l-7.72 7.72c-.78.78-.78 2.05 0 2.83L4 21.41c.39.39.9.59 1.41.59.51 0 1.02-.2 1.41-.59l7.78-7.78 2.81-2.81c.8-.78.8-2.07 0-2.86zM5.41 20L4 18.59l7.72-7.72 1.47 1.35L5.41 20z\"/>\n",
              "  </svg>\n",
              "      </button>\n",
              "      \n",
              "  <style>\n",
              "    .colab-df-container {\n",
              "      display:flex;\n",
              "      flex-wrap:wrap;\n",
              "      gap: 12px;\n",
              "    }\n",
              "\n",
              "    .colab-df-convert {\n",
              "      background-color: #E8F0FE;\n",
              "      border: none;\n",
              "      border-radius: 50%;\n",
              "      cursor: pointer;\n",
              "      display: none;\n",
              "      fill: #1967D2;\n",
              "      height: 32px;\n",
              "      padding: 0 0 0 0;\n",
              "      width: 32px;\n",
              "    }\n",
              "\n",
              "    .colab-df-convert:hover {\n",
              "      background-color: #E2EBFA;\n",
              "      box-shadow: 0px 1px 2px rgba(60, 64, 67, 0.3), 0px 1px 3px 1px rgba(60, 64, 67, 0.15);\n",
              "      fill: #174EA6;\n",
              "    }\n",
              "\n",
              "    [theme=dark] .colab-df-convert {\n",
              "      background-color: #3B4455;\n",
              "      fill: #D2E3FC;\n",
              "    }\n",
              "\n",
              "    [theme=dark] .colab-df-convert:hover {\n",
              "      background-color: #434B5C;\n",
              "      box-shadow: 0px 1px 3px 1px rgba(0, 0, 0, 0.15);\n",
              "      filter: drop-shadow(0px 1px 2px rgba(0, 0, 0, 0.3));\n",
              "      fill: #FFFFFF;\n",
              "    }\n",
              "  </style>\n",
              "\n",
              "      <script>\n",
              "        const buttonEl =\n",
              "          document.querySelector('#df-e0844dda-7be0-4ba5-ae2e-3483151adedf button.colab-df-convert');\n",
              "        buttonEl.style.display =\n",
              "          google.colab.kernel.accessAllowed ? 'block' : 'none';\n",
              "\n",
              "        async function convertToInteractive(key) {\n",
              "          const element = document.querySelector('#df-e0844dda-7be0-4ba5-ae2e-3483151adedf');\n",
              "          const dataTable =\n",
              "            await google.colab.kernel.invokeFunction('convertToInteractive',\n",
              "                                                     [key], {});\n",
              "          if (!dataTable) return;\n",
              "\n",
              "          const docLinkHtml = 'Like what you see? Visit the ' +\n",
              "            '<a target=\"_blank\" href=https://colab.research.google.com/notebooks/data_table.ipynb>data table notebook</a>'\n",
              "            + ' to learn more about interactive tables.';\n",
              "          element.innerHTML = '';\n",
              "          dataTable['output_type'] = 'display_data';\n",
              "          await google.colab.output.renderOutput(dataTable, element);\n",
              "          const docLink = document.createElement('div');\n",
              "          docLink.innerHTML = docLinkHtml;\n",
              "          element.appendChild(docLink);\n",
              "        }\n",
              "      </script>\n",
              "    </div>\n",
              "  </div>\n",
              "  "
            ]
          },
          "metadata": {},
          "execution_count": 41
        }
      ]
    },
    {
      "cell_type": "code",
      "source": [
        "fig, ax = plt.subplots(figsize=(12,7))\n",
        "df_counts.plot(kind='barh', ax=ax, legend=False)\n",
        "ax.set_title('RFM Customer Segments')\n",
        "ax.set_ylabel('# Customers per Segment')"
      ],
      "metadata": {
        "colab": {
          "base_uri": "https://localhost:8080/",
          "height": 639
        },
        "id": "9bum89JZpI_6",
        "outputId": "728c6a25-4139-4b5d-84ea-c33679c231b0"
      },
      "execution_count": 63,
      "outputs": [
        {
          "output_type": "execute_result",
          "data": {
            "text/plain": [
              "Text(0, 0.5, '# Customers per Segment')"
            ]
          },
          "metadata": {},
          "execution_count": 63
        },
        {
          "output_type": "display_data",
          "data": {
            "text/plain": [
              "<Figure size 1200x700 with 1 Axes>"
            ],
            "image/png": "[encoded data removed]"
          },
          "metadata": {}
        }
      ]
    },
    {
      "cell_type": "markdown",
      "source": [
        "# Visualizations:\n",
        "\n",
        "To visualize the RFM segments, you can use various charts and graphs such as bar plots, pie charts, or scatter plots. Here are a few examples:\n",
        "\n",
        "# RFM Segment Distribution:\n",
        "Create a bar plot or pie chart to visualize the distribution of customers across different RFM segments. This will provide an overview of the customer composition and highlight the dominant segments.\n",
        "\n",
        "# RFM Chart:\n",
        "Create a Chart to visualize the average monetary value or frequency for each RFM segment. This will help identify the segments that contribute the most revenue or have the highest engagement.\n",
        "\n",
        "# Customer Journey Analysis:\n",
        "Plot a line chart or scatter plot to show the average recency, frequency, and monetary value of customers over time. This will help identify trends and patterns in customer behavior.\n",
        "\n",
        "# Comparison with Previous Period:\n",
        "Create a line chart or stacked bar plot to compare the RFM segments and their distribution with the previous period. This will show whether customer engagement and value have improved or declined over time.\n",
        "\n",
        "# Customer Persona Analysis:\n",
        "Analyze the characteristics and demographics of customers in each RFM segment. This can be done through demographic profiling, clustering analysis, or customer persona creation. It will help tailor marketing strategies and communication to specific customer segments."
      ],
      "metadata": {
        "id": "QQKi1KCdiq7v"
      }
    }
  ],
  "metadata": {
    "colab": {
      "provenance": [],
      "include_colab_link": true
    },
    "kernelspec": {
      "display_name": "Python 3 (ipykernel)",
      "language": "python",
      "name": "python3"
    },
    "language_info": {
      "codemirror_mode": {
        "name": "ipython",
        "version": 3
      },
      "file_extension": ".py",
      "mimetype": "text/x-python",
      "name": "python",
      "nbconvert_exporter": "python",
      "pygments_lexer": "ipython3",
      "version": "3.8.10"
    }
  },
  "nbformat": 4,
  "nbformat_minor": 0
}