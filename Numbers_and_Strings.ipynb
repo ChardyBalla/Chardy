{
  "nbformat": 4,
  "nbformat_minor": 0,
  "metadata": {
    "colab": {
      "provenance": [],
      "include_colab_link": true
    },
    "kernelspec": {
      "name": "python3",
      "display_name": "Python 3"
    },
    "language_info": {
      "name": "python"
    }
  },
  "cells": [
    {
      "cell_type": "markdown",
      "metadata": {
        "id": "view-in-github",
        "colab_type": "text"
      },
      "source": [
        "<a href=\"https://colab.research.google.com/github/ChardyBalla/Chardy/blob/main/Numbers_and_Strings.ipynb\" target=\"_parent\"><img src=\"https://colab.research.google.com/assets/colab-badge.svg\" alt=\"Open In Colab\"/></a>"
      ]
    },
    {
      "cell_type": "markdown",
      "source": [
        "#Numbers and Strings\n",
        "\n",
        "This notebook contains additional practice on numbers and strings. You will have 6 tasks for self-assessment. For each task, see if you can predict the answer instead of just running the code. \n"
      ],
      "metadata": {
        "id": "lPdt47MO7ZfF"
      }
    },
    {
      "cell_type": "markdown",
      "source": [
        "# Task 1\n",
        "\n",
        "What is the result to the following expression?\n",
        "\n",
        "3-6/3 \n",
        "\n",
        "Is it positive 1 or negative 1?"
      ],
      "metadata": {
        "id": "n-MSZz2K_4hA"
      }
    },
    {
      "cell_type": "code",
      "execution_count": 1,
      "metadata": {
        "id": "OovIaKtU9bLv",
        "outputId": "90883815-5010-4809-d803-a955d4798411",
        "colab": {
          "base_uri": "https://localhost:8080/"
        }
      },
      "outputs": [
        {
          "output_type": "execute_result",
          "data": {
            "text/plain": [
              "1.0"
            ]
          },
          "metadata": {},
          "execution_count": 1
        }
      ],
      "source": [
        "3-6/3"
      ]
    },
    {
      "cell_type": "markdown",
      "source": [
        "# Task 2\n",
        "\n",
        "What is the result to the following expression?\n",
        "\n",
        "5**2//4\n",
        "\n",
        "Choices:\n",
        "\n",
        "a.) 1.25\n",
        "\n",
        "b.) 2.5\n",
        "\n",
        "c.) 6\n",
        "\n",
        "d.) 6.25"
      ],
      "metadata": {
        "id": "BUcJ1dEmB-vG"
      }
    },
    {
      "cell_type": "code",
      "source": [
        "5**2//4"
      ],
      "metadata": {
        "id": "YHG3oxByCH9i",
        "outputId": "3d9dee9e-d0f4-48c8-e527-7ee132c96304",
        "colab": {
          "base_uri": "https://localhost:8080/"
        }
      },
      "execution_count": 2,
      "outputs": [
        {
          "output_type": "execute_result",
          "data": {
            "text/plain": [
              "6"
            ]
          },
          "metadata": {},
          "execution_count": 2
        }
      ]
    },
    {
      "cell_type": "markdown",
      "source": [
        "# Task 3\n",
        "\n",
        "What is the result to the following expression?\n",
        "\n",
        "10 % 3\n",
        "\n",
        "Choices:\n",
        "\n",
        "a.) 0\n",
        "\n",
        "b.) 1\n",
        "\n",
        "c.) 2\n",
        "\n",
        "d.) 3"
      ],
      "metadata": {
        "id": "Jak8Jk5hEimT"
      }
    },
    {
      "cell_type": "code",
      "source": [
        "10 % 3"
      ],
      "metadata": {
        "id": "sxaq9LpXGHvl",
        "outputId": "5e19bcc3-925b-4283-9b49-f5574b2553e5",
        "colab": {
          "base_uri": "https://localhost:8080/"
        }
      },
      "execution_count": 3,
      "outputs": [
        {
          "output_type": "execute_result",
          "data": {
            "text/plain": [
              "1"
            ]
          },
          "metadata": {},
          "execution_count": 3
        }
      ]
    },
    {
      "cell_type": "markdown",
      "source": [
        "# Task 4\n",
        "\n",
        "You have only 3 lines of code. Which line will throw an error and why?\n",
        "\n",
        "print(“string”)\n",
        "\n",
        "print(‘string’)\n",
        "\n",
        "print(string)\n",
        "\n"
      ],
      "metadata": {
        "id": "LDy3YMFHEsm_"
      }
    },
    {
      "cell_type": "code",
      "source": [
        "print(\"string\")\n",
        "print('string')\n",
        "print(string)"
      ],
      "metadata": {
        "id": "flXPitJlGQ7w"
      },
      "execution_count": null,
      "outputs": []
    },
    {
      "cell_type": "markdown",
      "source": [
        "The third line will throw an error because string is not defined or assigned to any value before it is used."
      ],
      "metadata": {
        "id": "TG4itSAibF7F"
      }
    },
    {
      "cell_type": "markdown",
      "source": [
        "# Task 5\n",
        "\n",
        "You have two string variables a and b:\n",
        "\n",
        "a = “Hello, I am a ”\n",
        "\n",
        "b = “Data Analyst”\n",
        "\n",
        "How do you join these two together in variable c without copy-pasting/retyping the words?\n"
      ],
      "metadata": {
        "id": "ha61bGytEtBu"
      }
    },
    {
      "cell_type": "code",
      "source": [
        "a = \"Hello, I am a \"\n",
        "b = \"Data Analyst\""
      ],
      "metadata": {
        "id": "OKThGJS_IcV7"
      },
      "execution_count": 5,
      "outputs": []
    },
    {
      "cell_type": "code",
      "source": [
        "c = a+b"
      ],
      "metadata": {
        "id": "K2aF1MIRIduz"
      },
      "execution_count": 8,
      "outputs": []
    },
    {
      "cell_type": "code",
      "source": [
        "print(c)"
      ],
      "metadata": {
        "id": "sFQ33IedIban",
        "outputId": "5099fa4e-f193-4865-98c4-7b44a25f3c1f",
        "colab": {
          "base_uri": "https://localhost:8080/"
        }
      },
      "execution_count": 9,
      "outputs": [
        {
          "output_type": "stream",
          "name": "stdout",
          "text": [
            "Hello, I am a Data Analyst\n"
          ]
        }
      ]
    },
    {
      "cell_type": "markdown",
      "source": [
        "#Answer to Task 5\n",
        "\n",
        "Type a + b and assign it to c\n",
        "\n",
        "c = a + b"
      ],
      "metadata": {
        "id": "ubHTUJo7JEOf"
      }
    },
    {
      "cell_type": "markdown",
      "source": [
        "# Task 6\n",
        "\n",
        "You have one string variable a and one numerical variable b:\n",
        "\n",
        "a = “I studied Data Analytics in the year ”\n",
        "\n",
        "b = 2021\n",
        "\n",
        "How do you join these two together in variable c without copy-pasting/retyping the words?\n"
      ],
      "metadata": {
        "id": "PaPqT3gme4HQ"
      }
    },
    {
      "cell_type": "code",
      "source": [
        "a = 'I studied Data Analytics in the year'\n",
        "\n",
        "b = 2022"
      ],
      "metadata": {
        "id": "zWFK-oshexFV"
      },
      "execution_count": 13,
      "outputs": []
    },
    {
      "cell_type": "code",
      "source": [
        "c = f\"{a}{b}\""
      ],
      "metadata": {
        "id": "aak_moCPgR34"
      },
      "execution_count": 15,
      "outputs": []
    },
    {
      "cell_type": "code",
      "source": [
        "print(c)"
      ],
      "metadata": {
        "id": "GTEJl6lhgRQ-",
        "outputId": "138157c1-f785-44aa-afb0-1847b4d39e8c",
        "colab": {
          "base_uri": "https://localhost:8080/"
        }
      },
      "execution_count": 16,
      "outputs": [
        {
          "output_type": "stream",
          "name": "stdout",
          "text": [
            "I studied Data Analytics in the year2022\n"
          ]
        }
      ]
    },
    {
      "cell_type": "markdown",
      "source": [
        "#Answer to Task 6\n",
        "\n",
        "\n",
        "Type a + b and assign it to c\n",
        "\n",
        "c = a + str(b)"
      ],
      "metadata": {
        "id": "QjaH2UGeiAiY"
      }
    }
  ]
}