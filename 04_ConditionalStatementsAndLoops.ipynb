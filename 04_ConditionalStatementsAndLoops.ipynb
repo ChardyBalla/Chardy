{
  "nbformat": 4,
  "nbformat_minor": 0,
  "metadata": {
    "colab": {
      "provenance": [],
      "include_colab_link": true
    },
    "kernelspec": {
      "name": "python3",
      "display_name": "Python 3"
    },
    "language_info": {
      "name": "python"
    }
  },
  "cells": [
    {
      "cell_type": "markdown",
      "metadata": {
        "id": "view-in-github",
        "colab_type": "text"
      },
      "source": [
        "<a href=\"https://colab.research.google.com/github/ChardyBalla/Chardy/blob/main/04_ConditionalStatementsAndLoops.ipynb\" target=\"_parent\"><img src=\"https://colab.research.google.com/assets/colab-badge.svg\" alt=\"Open In Colab\"/></a>"
      ]
    },
    {
      "cell_type": "markdown",
      "source": [
        "# Introduction to Python\n",
        "\n",
        "**Outline**:\n",
        "- How to use Google Colaboratory (aka Google Colab) to run Jupyter Notebooks\n",
        "- Basics of Python Programming\n",
        "- Understanding Python Data Types\n",
        "\n",
        "**The following references were used to build this notebook's content:**\n",
        "- *Lutz, M. (2013). Learning python: Powerful object-oriented programming. \" O'Reilly Media, Inc.\".*\n",
        "- *Zelle, J. M. (2004). Python programming: an introduction to computer science. Franklin, Beedle & Associates, Inc..*"
      ],
      "metadata": {
        "id": "3OpepD22jRWe"
      }
    },
    {
      "cell_type": "markdown",
      "source": [
        "---"
      ],
      "metadata": {
        "id": "FKLzh3KulrGS"
      }
    },
    {
      "cell_type": "markdown",
      "source": [
        "# Conditional Statements\n",
        "\n",
        "Many algorithms make use of rules to decide whether a specific command should be performed or not. This is where **conditional statements** come in. The *truth value* (`True` or `False`) of a given condition determines if a specific task is to be performed or not.\n",
        "\n",
        "Reserved words `if`, `else` and `elif` are used in conditional statements. "
      ],
      "metadata": {
        "id": "6QnNIpD5s3Dh"
      }
    },
    {
      "cell_type": "code",
      "source": [
        "condition = False\n",
        "\n",
        "if condition == True:\n",
        "    print(\"Condition is satisfied.\")\n",
        "else:\n",
        "    print(\"Condition is NOT satisfied.\")"
      ],
      "metadata": {
        "id": "tOkuvCaDs-xy",
        "colab": {
          "base_uri": "https://localhost:8080/"
        },
        "outputId": "df849487-79b3-4ad0-d3f6-0156d5437c6a"
      },
      "execution_count": 1,
      "outputs": [
        {
          "output_type": "stream",
          "name": "stdout",
          "text": [
            "Condition is NOT satisfied.\n"
          ]
        }
      ]
    },
    {
      "cell_type": "markdown",
      "source": [
        "#### EXAMPLE:"
      ],
      "metadata": {
        "id": "tr3VlNixKVmg"
      }
    },
    {
      "cell_type": "markdown",
      "source": [
        "Determine if a given number is less than, greater than or equal to 10."
      ],
      "metadata": {
        "id": "AtuSkGZ7Kw1Y"
      }
    },
    {
      "cell_type": "code",
      "source": [
        "number = 9\n",
        "\n",
        "if number > 10:\n",
        "    print(\"Number is greater than 10.\")\n",
        "elif number == 10:\n",
        "    print(\"Number is equal to 10.\")\n",
        "else:\n",
        "    print(\"Number is less than 10.\")"
      ],
      "metadata": {
        "colab": {
          "base_uri": "https://localhost:8080/"
        },
        "id": "PGZjk0w8mnED",
        "outputId": "2f63a7da-a76d-41ec-dcdd-3440ad709b20"
      },
      "execution_count": 2,
      "outputs": [
        {
          "output_type": "stream",
          "name": "stdout",
          "text": [
            "Number is less than 10.\n"
          ]
        }
      ]
    },
    {
      "cell_type": "markdown",
      "source": [
        "#### EXAMPLE:"
      ],
      "metadata": {
        "id": "qrRxupRu423-"
      }
    },
    {
      "cell_type": "markdown",
      "source": [
        "Determine if a given word is in a list or not."
      ],
      "metadata": {
        "id": "-txzcVh8LILY"
      }
    },
    {
      "cell_type": "code",
      "source": [
        "word = 'apples'\n",
        "list1 = ['apple', 'orange', 'banana', 'pineapple']\n",
        "\n",
        "if word in list1:\n",
        "    print(\"The word is in the list.\")\n",
        "else:\n",
        "    print(\"The word is NOT in the list.\")"
      ],
      "metadata": {
        "colab": {
          "base_uri": "https://localhost:8080/"
        },
        "id": "1MFkryp6LO0g",
        "outputId": "651df0b3-ae4e-44eb-a581-fe2a550428e6"
      },
      "execution_count": 3,
      "outputs": [
        {
          "output_type": "stream",
          "name": "stdout",
          "text": [
            "The word is NOT in the list.\n"
          ]
        }
      ]
    },
    {
      "cell_type": "markdown",
      "source": [
        "**TRY THIS!**\n",
        "> Write a Python program that can check if a given positive whole number is an odd or even number. If the integer is an even number, the string `Even` is printed. Otherwise, the string `Odd` is printed. \n",
        "\n",
        "**HINT:** Let $x$ be a number. If $x$ modulo $2$ is $0$, then $x$ is even. Otherwise, $x$ is odd."
      ],
      "metadata": {
        "id": "vGC3A1NM32FD"
      }
    },
    {
      "cell_type": "code",
      "source": [
        "# Write your code here\n",
        "number = 25\n",
        "\n",
        "if number % 2 == 0:\n",
        "  print(\"Even\")\n",
        "else:\n",
        "  print(\"Odd\")"
      ],
      "metadata": {
        "id": "F4nJRDeK4GWC",
        "colab": {
          "base_uri": "https://localhost:8080/"
        },
        "outputId": "6481b93c-3a29-4e9c-9a5c-81125510e35f"
      },
      "execution_count": 7,
      "outputs": [
        {
          "output_type": "stream",
          "name": "stdout",
          "text": [
            "Odd\n"
          ]
        }
      ]
    },
    {
      "cell_type": "markdown",
      "source": [
        "---"
      ],
      "metadata": {
        "id": "qVoNSpihIQuy"
      }
    },
    {
      "cell_type": "markdown",
      "source": [
        "# Loops\n",
        "\n",
        "*Loops* are common in programming when you want to perform a task over and over again until a certain condition is not anymore satisfied. In Python, there are two ways to perform a loop - the `for` loop and the `while` loop."
      ],
      "metadata": {
        "id": "cQz_Lr3Ns_Iy"
      }
    },
    {
      "cell_type": "markdown",
      "source": [
        "**`while` loop**"
      ],
      "metadata": {
        "id": "DiVnQqbr1jPv"
      }
    },
    {
      "cell_type": "markdown",
      "source": [
        "![picture](https://drive.google.com/uc?export=view&id=1cBo0ulSNPs81FkO-0KI45KQFfX3F_5sx)"
      ],
      "metadata": {
        "id": "GuRlsesnAidj"
      }
    },
    {
      "cell_type": "markdown",
      "source": [
        "#### EXAMPLE:"
      ],
      "metadata": {
        "id": "y5tTLKw99ow1"
      }
    },
    {
      "cell_type": "markdown",
      "source": [
        "The following program shows how a `while` loop is implemented."
      ],
      "metadata": {
        "id": "vuwlOjHv7g1k"
      }
    },
    {
      "cell_type": "code",
      "source": [
        "x = 0\n",
        "\n",
        "while (x < 10):\n",
        "    print(\"Condition satisfied at x={}\".format(x))\n",
        "    \n",
        "    # new_x = current_x + 1\n",
        "    x = x + 1\n",
        "\n",
        "# Below is already outside the loop\n",
        "print(\"Condition NOT anymore satisfied at x = {}\".format(x))"
      ],
      "metadata": {
        "id": "CSq0CLGbtGgz",
        "colab": {
          "base_uri": "https://localhost:8080/"
        },
        "outputId": "86f31fe6-40af-4a82-b6b8-eb2dcff712e2"
      },
      "execution_count": 8,
      "outputs": [
        {
          "output_type": "stream",
          "name": "stdout",
          "text": [
            "Condition satisfied at x=0\n",
            "Condition satisfied at x=1\n",
            "Condition satisfied at x=2\n",
            "Condition satisfied at x=3\n",
            "Condition satisfied at x=4\n",
            "Condition satisfied at x=5\n",
            "Condition satisfied at x=6\n",
            "Condition satisfied at x=7\n",
            "Condition satisfied at x=8\n",
            "Condition satisfied at x=9\n",
            "Condition NOT anymore satisfied at x = 10\n"
          ]
        }
      ]
    },
    {
      "cell_type": "markdown",
      "source": [
        "**`for` loop**"
      ],
      "metadata": {
        "id": "thFbt0WE1otb"
      }
    },
    {
      "cell_type": "markdown",
      "source": [
        "![picture](https://drive.google.com/uc?export=view&id=1CwyIUFMd96aNViY6UqIOpK6B0cMcRZeU)"
      ],
      "metadata": {
        "id": "rTnA_Tt1_Q7b"
      }
    },
    {
      "cell_type": "markdown",
      "source": [
        "#### EXAMPLE:"
      ],
      "metadata": {
        "id": "yykkbBgO9stq"
      }
    },
    {
      "cell_type": "markdown",
      "source": [
        "The following program shows how a `for` loop works."
      ],
      "metadata": {
        "id": "OgkDTv2L8IeS"
      }
    },
    {
      "cell_type": "code",
      "source": [
        "for fruit in ['apple', 'orange', 'banana', 'grape']:\n",
        "    print(fruit)\n"
      ],
      "metadata": {
        "colab": {
          "base_uri": "https://localhost:8080/"
        },
        "id": "_C5THvoO1rdn",
        "outputId": "7f4ec3cc-6390-4a53-81a2-b9ee3901e8db"
      },
      "execution_count": 9,
      "outputs": [
        {
          "output_type": "stream",
          "name": "stdout",
          "text": [
            "apple\n",
            "orange\n",
            "banana\n",
            "grape\n"
          ]
        }
      ]
    },
    {
      "cell_type": "markdown",
      "source": [
        "**TRY THIS!**\n",
        "> Write a Python program that goes through the list `lst = [1, 2, 3, 4, 5, 6, 7, 8, 9, 10, ..., 40]` using a loop and checks whether each element is a multiple of 2, 3, or both.\n",
        "- If the number is a multiple of 2 only, `Multiple of 2` is printed.\n",
        "- If the number is a multiple of 3 only, `Multiple of 3` is printed.\n",
        "- If the number is a multiple of both 2 and 3, `Multiple of 2 and 3` is printed.\n",
        "\n",
        "**Hints:**\n",
        "- Check first if the number is a multiple of both 2 and 3.\n",
        "- Let $x$ be a number. \n",
        "    - If $x$ modulo $6$ is $0$, then $x$ is a multiple of 6.\n",
        "    - If $x$ modulo $3$ is $0$, then $x$ is a multiple of 3.\n",
        "    - If $x$ modulo $2$ is $0$, then $x$ is a multiple of 2."
      ],
      "metadata": {
        "id": "vpn9DL9b933T"
      }
    },
    {
      "cell_type": "code",
      "source": [
        "# Write code here\n",
        "for num in range(1, 41):\n",
        "    if num % 6 == 0:\n",
        "      print(\"Multiple of 2 and 3\")\n",
        "    elif num % 2 == 0:\n",
        "      print(\"Multiple of 2\")\n",
        "    elif num % 3 == 0:\n",
        "      print(\"Multiple of 3\")\n",
        "    else:\n",
        "      print(\"Not a Multiple of 2 and 3\")"
      ],
      "metadata": {
        "id": "7fTcpUTOBtEt",
        "colab": {
          "base_uri": "https://localhost:8080/"
        },
        "outputId": "8f4ce94a-c824-4661-ff6b-da25bf4460d8"
      },
      "execution_count": 10,
      "outputs": [
        {
          "output_type": "stream",
          "name": "stdout",
          "text": [
            "Not a Multiple of 2 and 3\n",
            "Multiple of 2\n",
            "Multiple of 3\n",
            "Multiple of 2\n",
            "Not a Multiple of 2 and 3\n",
            "Multiple of 2 and 3\n",
            "Not a Multiple of 2 and 3\n",
            "Multiple of 2\n",
            "Multiple of 3\n",
            "Multiple of 2\n",
            "Not a Multiple of 2 and 3\n",
            "Multiple of 2 and 3\n",
            "Not a Multiple of 2 and 3\n",
            "Multiple of 2\n",
            "Multiple of 3\n",
            "Multiple of 2\n",
            "Not a Multiple of 2 and 3\n",
            "Multiple of 2 and 3\n",
            "Not a Multiple of 2 and 3\n",
            "Multiple of 2\n",
            "Multiple of 3\n",
            "Multiple of 2\n",
            "Not a Multiple of 2 and 3\n",
            "Multiple of 2 and 3\n",
            "Not a Multiple of 2 and 3\n",
            "Multiple of 2\n",
            "Multiple of 3\n",
            "Multiple of 2\n",
            "Not a Multiple of 2 and 3\n",
            "Multiple of 2 and 3\n",
            "Not a Multiple of 2 and 3\n",
            "Multiple of 2\n",
            "Multiple of 3\n",
            "Multiple of 2\n",
            "Not a Multiple of 2 and 3\n",
            "Multiple of 2 and 3\n",
            "Not a Multiple of 2 and 3\n",
            "Multiple of 2\n",
            "Multiple of 3\n",
            "Multiple of 2\n"
          ]
        }
      ]
    },
    {
      "cell_type": "markdown",
      "source": [
        "---"
      ],
      "metadata": {
        "id": "l86trVvML4vo"
      }
    },
    {
      "cell_type": "markdown",
      "source": [
        "END OF FILE"
      ],
      "metadata": {
        "id": "y-r8aYY2MDKl"
      }
    }
  ]
}